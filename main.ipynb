{
 "cells": [
  {
   "cell_type": "markdown",
   "metadata": {
    "id": "4MpRz48IHcdf"
   },
   "source": [
    "# Information Retrieval project\n",
    "**Authors:** Arduini L., Menchini L., Namaki Ghaneh D., Petruzzella C.\n",
    "\n",
    "**Dataset:** The chosen dataset is MSMARCO Passage dataset ()\n",
    "\n",
    "**Evaluation:** For evaluation the trec-2020-dl dataset has been used "
   ]
  },
  {
   "cell_type": "markdown",
   "metadata": {},
   "source": [
    "# 0. Setup environment and dependencies\n",
    "This section ensures that all necessary packages are installed and loaded.\n",
    "\n",
    "**Note:** The project uses `ir_datasets`, `nltk`, and `ir_measures`, along with several utilities for processing."
   ]
  },
  {
   "cell_type": "code",
   "execution_count": 1,
   "metadata": {
    "colab": {
     "base_uri": "https://localhost:8080/"
    },
    "executionInfo": {
     "elapsed": 14506,
     "status": "ok",
     "timestamp": 1729868591658,
     "user": {
      "displayName": "DANIEL NAMAKI GHANEH",
      "userId": "00865735165124121752"
     },
     "user_tz": -120
    },
    "id": "vpWABC3lHcdg",
    "outputId": "81d13858-5942-4e0b-a3bc-ed65856f81bf"
   },
   "outputs": [
    {
     "name": "stdout",
     "output_type": "stream",
     "text": [
      "Requirement already satisfied: ir_datasets in /Users/krys/.pyenv/versions/3.12.0/lib/python3.12/site-packages (0.5.9)\n",
      "Requirement already satisfied: beautifulsoup4>=4.4.1 in /Users/krys/.pyenv/versions/3.12.0/lib/python3.12/site-packages (from ir_datasets) (4.12.3)\n",
      "Requirement already satisfied: inscriptis>=2.2.0 in /Users/krys/.pyenv/versions/3.12.0/lib/python3.12/site-packages (from ir_datasets) (2.5.0)\n",
      "Requirement already satisfied: lxml>=4.5.2 in /Users/krys/.pyenv/versions/3.12.0/lib/python3.12/site-packages (from ir_datasets) (5.3.0)\n",
      "Requirement already satisfied: numpy>=1.18.1 in /Users/krys/.pyenv/versions/3.12.0/lib/python3.12/site-packages (from ir_datasets) (2.1.3)\n",
      "Requirement already satisfied: pyyaml>=5.3.1 in /Users/krys/.pyenv/versions/3.12.0/lib/python3.12/site-packages (from ir_datasets) (6.0.2)\n",
      "Requirement already satisfied: requests>=2.22.0 in /Users/krys/.pyenv/versions/3.12.0/lib/python3.12/site-packages (from ir_datasets) (2.32.3)\n",
      "Requirement already satisfied: tqdm>=4.38.0 in /Users/krys/.pyenv/versions/3.12.0/lib/python3.12/site-packages (from ir_datasets) (4.67.0)\n",
      "Requirement already satisfied: trec-car-tools>=2.5.4 in /Users/krys/.pyenv/versions/3.12.0/lib/python3.12/site-packages (from ir_datasets) (2.6)\n",
      "Requirement already satisfied: lz4>=3.1.10 in /Users/krys/.pyenv/versions/3.12.0/lib/python3.12/site-packages (from ir_datasets) (4.3.3)\n",
      "Requirement already satisfied: warc3-wet>=0.2.3 in /Users/krys/.pyenv/versions/3.12.0/lib/python3.12/site-packages (from ir_datasets) (0.2.5)\n",
      "Requirement already satisfied: warc3-wet-clueweb09>=0.2.5 in /Users/krys/.pyenv/versions/3.12.0/lib/python3.12/site-packages (from ir_datasets) (0.2.5)\n",
      "Requirement already satisfied: zlib-state>=0.1.3 in /Users/krys/.pyenv/versions/3.12.0/lib/python3.12/site-packages (from ir_datasets) (0.1.9)\n",
      "Requirement already satisfied: ijson>=3.1.3 in /Users/krys/.pyenv/versions/3.12.0/lib/python3.12/site-packages (from ir_datasets) (3.3.0)\n",
      "Requirement already satisfied: unlzw3>=0.2.1 in /Users/krys/.pyenv/versions/3.12.0/lib/python3.12/site-packages (from ir_datasets) (0.2.2)\n",
      "Requirement already satisfied: soupsieve>1.2 in /Users/krys/.pyenv/versions/3.12.0/lib/python3.12/site-packages (from beautifulsoup4>=4.4.1->ir_datasets) (2.6)\n",
      "Requirement already satisfied: charset-normalizer<4,>=2 in /Users/krys/.pyenv/versions/3.12.0/lib/python3.12/site-packages (from requests>=2.22.0->ir_datasets) (3.4.0)\n",
      "Requirement already satisfied: idna<4,>=2.5 in /Users/krys/.pyenv/versions/3.12.0/lib/python3.12/site-packages (from requests>=2.22.0->ir_datasets) (3.10)\n",
      "Requirement already satisfied: urllib3<3,>=1.21.1 in /Users/krys/.pyenv/versions/3.12.0/lib/python3.12/site-packages (from requests>=2.22.0->ir_datasets) (2.2.3)\n",
      "Requirement already satisfied: certifi>=2017.4.17 in /Users/krys/.pyenv/versions/3.12.0/lib/python3.12/site-packages (from requests>=2.22.0->ir_datasets) (2024.8.30)\n",
      "Requirement already satisfied: cbor>=1.0.0 in /Users/krys/.pyenv/versions/3.12.0/lib/python3.12/site-packages (from trec-car-tools>=2.5.4->ir_datasets) (1.0.0)\n",
      "\n",
      "\u001b[1m[\u001b[0m\u001b[34;49mnotice\u001b[0m\u001b[1;39;49m]\u001b[0m\u001b[39;49m A new release of pip is available: \u001b[0m\u001b[31;49m23.2.1\u001b[0m\u001b[39;49m -> \u001b[0m\u001b[32;49m24.3.1\u001b[0m\n",
      "\u001b[1m[\u001b[0m\u001b[34;49mnotice\u001b[0m\u001b[1;39;49m]\u001b[0m\u001b[39;49m To update, run: \u001b[0m\u001b[32;49mpip install --upgrade pip\u001b[0m\n",
      "Requirement already satisfied: nltk in /Users/krys/.pyenv/versions/3.12.0/lib/python3.12/site-packages (3.9.1)\n",
      "Requirement already satisfied: click in /Users/krys/.pyenv/versions/3.12.0/lib/python3.12/site-packages (from nltk) (8.1.7)\n",
      "Requirement already satisfied: joblib in /Users/krys/.pyenv/versions/3.12.0/lib/python3.12/site-packages (from nltk) (1.4.2)\n",
      "Requirement already satisfied: regex>=2021.8.3 in /Users/krys/.pyenv/versions/3.12.0/lib/python3.12/site-packages (from nltk) (2024.11.6)\n",
      "Requirement already satisfied: tqdm in /Users/krys/.pyenv/versions/3.12.0/lib/python3.12/site-packages (from nltk) (4.67.0)\n",
      "\n",
      "\u001b[1m[\u001b[0m\u001b[34;49mnotice\u001b[0m\u001b[1;39;49m]\u001b[0m\u001b[39;49m A new release of pip is available: \u001b[0m\u001b[31;49m23.2.1\u001b[0m\u001b[39;49m -> \u001b[0m\u001b[32;49m24.3.1\u001b[0m\n",
      "\u001b[1m[\u001b[0m\u001b[34;49mnotice\u001b[0m\u001b[1;39;49m]\u001b[0m\u001b[39;49m To update, run: \u001b[0m\u001b[32;49mpip install --upgrade pip\u001b[0m\n",
      "Requirement already satisfied: ir_measures in /Users/krys/.pyenv/versions/3.12.0/lib/python3.12/site-packages (0.3.4)\n",
      "Requirement already satisfied: pytrec-eval-terrier>=0.5.5 in /Users/krys/.pyenv/versions/3.12.0/lib/python3.12/site-packages (from ir_measures) (0.5.6)\n",
      "\n",
      "\u001b[1m[\u001b[0m\u001b[34;49mnotice\u001b[0m\u001b[1;39;49m]\u001b[0m\u001b[39;49m A new release of pip is available: \u001b[0m\u001b[31;49m23.2.1\u001b[0m\u001b[39;49m -> \u001b[0m\u001b[32;49m24.3.1\u001b[0m\n",
      "\u001b[1m[\u001b[0m\u001b[34;49mnotice\u001b[0m\u001b[1;39;49m]\u001b[0m\u001b[39;49m To update, run: \u001b[0m\u001b[32;49mpip install --upgrade pip\u001b[0m\n",
      "Requirement already satisfied: snowballstemmer in /Users/krys/.pyenv/versions/3.12.0/lib/python3.12/site-packages (2.2.0)\n",
      "\n",
      "\u001b[1m[\u001b[0m\u001b[34;49mnotice\u001b[0m\u001b[1;39;49m]\u001b[0m\u001b[39;49m A new release of pip is available: \u001b[0m\u001b[31;49m23.2.1\u001b[0m\u001b[39;49m -> \u001b[0m\u001b[32;49m24.3.1\u001b[0m\n",
      "\u001b[1m[\u001b[0m\u001b[34;49mnotice\u001b[0m\u001b[1;39;49m]\u001b[0m\u001b[39;49m To update, run: \u001b[0m\u001b[32;49mpip install --upgrade pip\u001b[0m\n"
     ]
    }
   ],
   "source": [
    "!pip install ir_datasets\n",
    "!pip install nltk\n",
    "!pip install ir_measures\n",
    "!pip install snowballstemmer"
   ]
  },
  {
   "cell_type": "code",
   "execution_count": 2,
   "metadata": {},
   "outputs": [
    {
     "name": "stderr",
     "output_type": "stream",
     "text": [
      "/Users/krys/.pyenv/versions/3.12.0/lib/python3.12/site-packages/tqdm/auto.py:21: TqdmWarning: IProgress not found. Please update jupyter and ipywidgets. See https://ipywidgets.readthedocs.io/en/stable/user_install.html\n",
      "  from .autonotebook import tqdm as notebook_tqdm\n"
     ]
    }
   ],
   "source": [
    "import ir_datasets\n",
    "import ir_measures\n",
    "from ir_measures import *\n",
    "import random\n",
    "import re\n",
    "import string\n",
    "import nltk\n",
    "import time\n",
    "from collections import Counter, defaultdict\n",
    "from tqdm.auto import tqdm\n",
    "import gzip\n",
    "import pickle\n",
    "import os\n",
    "import heapq\n",
    "import math"
   ]
  },
  {
   "cell_type": "markdown",
   "metadata": {},
   "source": [
    "# 1. Loading the dataset\n",
    "\n",
    "This notebook will load the MS MARCO Passage dataset, a standard dataset for Information Retrieval tasks.\n",
    "It contains passages from various sources and is used to train and evaluate retrieval models.\n",
    "\n",
    "For testing purposes, also the Vaswani dataset will be used in a development environment."
   ]
  },
  {
   "cell_type": "code",
   "execution_count": null,
   "metadata": {
    "executionInfo": {
     "elapsed": 9,
     "status": "ok",
     "timestamp": 1729868591658,
     "user": {
      "displayName": "DANIEL NAMAKI GHANEH",
      "userId": "00865735165124121752"
     },
     "user_tz": -120
    },
    "id": "U79MpmqyHcdi"
   },
   "outputs": [],
   "source": [
    "# ------- Production Environment -------\n",
    "dataset = ir_datasets.load(\"msmarco-passage\")\n",
    "# ---------------------------------------\n",
    "\n",
    "# ------- Development Environment -------\n",
    "# dataset = ir_datasets.load(\"vaswani\")\n",
    "# ---------------------------------------"
   ]
  },
  {
   "cell_type": "markdown",
   "metadata": {},
   "source": [
    "# 2. Preprocessing text data\n",
    "This section defines functions for text preprocessing. Preprocessing steps include:\n",
    "- Lowercasing\n",
    "- Replacing symbols and punctuations\n",
    "- Removing stopwords\n",
    "- Stemming tokens\n",
    "\n",
    "The goal is to normalize text data for effective retrieval"
   ]
  },
  {
   "cell_type": "code",
   "execution_count": 4,
   "metadata": {
    "executionInfo": {
     "elapsed": 8,
     "status": "ok",
     "timestamp": 1729868591658,
     "user": {
      "displayName": "DANIEL NAMAKI GHANEH",
      "userId": "00865735165124121752"
     },
     "user_tz": -120
    },
    "id": "Q1Hq10LVHcdj"
   },
   "outputs": [],
   "source": [
    "from functools import lru_cache\n",
    "import snowballstemmer\n",
    "nltk.download(\"stopwords\", quiet=True)\n",
    "\n",
    "# ------- Pre Initialization -------\n",
    "# 1. Compile regex patterns once globally\n",
    "# 2. Preload stopwords set\n",
    "# 3. Initialize stemmer\n",
    "\n",
    "ACRONYM_REGEX = re.compile(r\"(?<!\\w)\\.(?!\\d)\")\n",
    "PUNCTUATION_TRANS = str.maketrans(\"\", \"\", string.punctuation)\n",
    "STOPWORDS = set(nltk.corpus.stopwords.words('english'))\n",
    "STEMMER = snowballstemmer.stemmer('english')\n",
    "\n",
    "# Define a cached function to stem individual words\n",
    "@lru_cache(maxsize=1000)\n",
    "def stem(word):\n",
    "    return STEMMER.stemWord(word)\n",
    "\n",
    "# ----------------------------------\n",
    "\n",
    "def preprocess(s):\n",
    "    \"\"\"\n",
    "    Preprocess a string for indexing or querying.\n",
    "\n",
    "    Args:\n",
    "        s: The input string.\n",
    "\n",
    "    Returns:\n",
    "        A list of preprocessed tokens.    \n",
    "    \"\"\"\n",
    "\n",
    "    s = s.lower()\n",
    "    s = s.replace(\"&\", \" and \")\n",
    "    # normalize quotes and dashes\n",
    "    s = s.translate(str.maketrans(\"‘’´“”–-\", \"'''\\\"\\\"--\"))\n",
    "    # remove unnecessary dots in acronyms (but not decimals)\n",
    "    s = ACRONYM_REGEX.sub(\"\", s)\n",
    "    # remove punctuation\n",
    "    s = s.translate(PUNCTUATION_TRANS)\n",
    "    # strip and remove extra spaces\n",
    "    s = \" \".join(s.split())\n",
    "\n",
    "    tokens = s.split()\n",
    "    tokens = [t for t in tokens if t not in STOPWORDS]\n",
    "    # Apply cached stemming function\n",
    "    tokens = [stem(t) for t in tokens]\n",
    "\n",
    "    return tokens"
   ]
  },
  {
   "cell_type": "code",
   "execution_count": 5,
   "metadata": {
    "executionInfo": {
     "elapsed": 8,
     "status": "ok",
     "timestamp": 1729868591658,
     "user": {
      "displayName": "DANIEL NAMAKI GHANEH",
      "userId": "00865735165124121752"
     },
     "user_tz": -120
    },
    "id": "Bkuc9p8MHcdk"
   },
   "outputs": [],
   "source": [
    "def profile(f):\n",
    "    \"\"\"\n",
    "    A decorator that prints the runtime of the decorated function.\n",
    "\n",
    "    Args:\n",
    "        f: The function to profile.\n",
    "\n",
    "    Returns:\n",
    "        The profiled function.\n",
    "    \"\"\"\n",
    "    def f_timer(*args, **kwargs):\n",
    "        \"\"\"\n",
    "        The profiled function.\n",
    "        \n",
    "        Args:\n",
    "            *args: The arguments to the function.\n",
    "            **kwargs: The keyword arguments to the function.\n",
    "            \n",
    "        Returns:\n",
    "            The result of the function.\n",
    "        \"\"\"\n",
    "        start = time.time()\n",
    "        result = f(*args, **kwargs)\n",
    "        end = time.time()\n",
    "        ms = (end - start) * 1000\n",
    "        print(f\"{f.__name__} ({ms:.3f} ms)\")\n",
    "        return result\n",
    "    return f_timer"
   ]
  },
  {
   "cell_type": "markdown",
   "metadata": {},
   "source": [
    "# 3. Building the inverted index\n",
    "We create an inverted index to store terms with their respective document IDs and term frequencies.\n",
    "The `build_index` function processes the dataset and constructs a structure that enables efficient term-based searching across documents"
   ]
  },
  {
   "cell_type": "code",
   "execution_count": 6,
   "metadata": {
    "executionInfo": {
     "elapsed": 8,
     "status": "ok",
     "timestamp": 1729868591658,
     "user": {
      "displayName": "DANIEL NAMAKI GHANEH",
      "userId": "00865735165124121752"
     },
     "user_tz": -120
    },
    "id": "-Ugz6FpdHcdl"
   },
   "outputs": [],
   "source": [
    "@profile\n",
    "def build_index(dataset):\n",
    "    \"\"\"\n",
    "    Build an inverted index from a dataset.\n",
    "\n",
    "    Args:\n",
    "        dataset: The dataset to index.\n",
    "\n",
    "    Returns:\n",
    "        A tuple of:\n",
    "        - The lexicon, a dictionary mapping terms to term IDs and document frequencies.\n",
    "        - The inverted index, a dictionary mapping term IDs to lists of document IDs and frequencies.\n",
    "        - The document index, a list of document IDs and document lengths.\n",
    "        - The index statistics, a dictionary of statistics.\n",
    "    \"\"\"\n",
    "    lexicon = {}\n",
    "    doc_index = []\n",
    "    inv_d, inv_f = {}, {}\n",
    "    termid = 0\n",
    "\n",
    "    num_docs = 0\n",
    "    total_dl = 0\n",
    "    total_toks = 0\n",
    "    for docid, doc in tqdm(enumerate(dataset.docs_iter()), desc='Indexing', total=dataset.docs_count()):\n",
    "        tokens = preprocess(doc.text)\n",
    "        token_tf = Counter(tokens)\n",
    "        for token, tf in token_tf.items():\n",
    "            if token not in lexicon:\n",
    "                lexicon[token] = [termid, 0, 0]\n",
    "                inv_d[termid], inv_f[termid] =  [], []\n",
    "                termid += 1\n",
    "            token_id = lexicon[token][0]\n",
    "            inv_d[token_id].append(docid)\n",
    "            inv_f[token_id].append(tf)\n",
    "            lexicon[token][1] += 1\n",
    "            lexicon[token][2] += tf\n",
    "        doclen = len(tokens)\n",
    "        doc_index.append((str(doc.doc_id), doclen))\n",
    "        total_dl += doclen\n",
    "        num_docs += 1\n",
    "\n",
    "\n",
    "    stats = {\n",
    "        'num_docs': 1 + docid,\n",
    "        'num_terms': len(lexicon),\n",
    "        'num_tokens': total_dl,\n",
    "    }\n",
    "    return lexicon, {'docids': inv_d, 'freqs': inv_f}, doc_index, stats"
   ]
  },
  {
   "cell_type": "code",
   "execution_count": 7,
   "metadata": {
    "colab": {
     "base_uri": "https://localhost:8080/"
    },
    "executionInfo": {
     "elapsed": 7,
     "status": "ok",
     "timestamp": 1729868591658,
     "user": {
      "displayName": "DANIEL NAMAKI GHANEH",
      "userId": "00865735165124121752"
     },
     "user_tz": -120
    },
    "id": "JhOE3PCeHcdl",
    "outputId": "e1ec7df6-a039-4979-a829-3d541ec5ab21"
   },
   "outputs": [
    {
     "name": "stderr",
     "output_type": "stream",
     "text": [
      "Indexing: 100%|██████████| 11429/11429 [00:01<00:00, 6530.89it/s]\n"
     ]
    },
    {
     "name": "stdout",
     "output_type": "stream",
     "text": [
      "build_index (1844.108 ms)\n",
      "Saving lexicon.pickle.gz...\n",
      "Saving inverted_file.pickle.gz...\n",
      "Saving document_index.pickle.gz...\n",
      "Saving stats.pickle.gz...\n"
     ]
    }
   ],
   "source": [
    "lex, inv, doc, stats = None, None, None, None\n",
    "\n",
    "files = ['lexicon.pickle.gz', 'inverted_file.pickle.gz', 'document_index.pickle.gz', 'stats.pickle.gz']\n",
    "if all(os.path.exists(file) for file in files):\n",
    "    print(\"All files already exist.\")\n",
    "    \n",
    "    for file, var_name in zip(files, ['lex', 'inv', 'doc', 'stats']):\n",
    "        try:\n",
    "            if os.path.getsize(file) > 0:  # Verifica se il file non è vuoto\n",
    "                with gzip.open(file, 'rb') as f:\n",
    "                    globals()[var_name] = pickle.load(f)\n",
    "            else:\n",
    "                print(f\"Warning: {file} is empty.\")\n",
    "        except EOFError:\n",
    "            print(f\"Error: {file} is corrupted or incomplete. Rebuilding the index.\")\n",
    "            lex, inv, doc, stats = build_index(dataset)\n",
    "            break\n",
    "else:\n",
    "    # Se i file non esistono o sono corrotti, ricostruisci l'indice\n",
    "    lex, inv, doc, stats = build_index(dataset)\n",
    "\n",
    "    # Salva nuovamente i dati nei file compressi solo se necessario\n",
    "    for data, file in zip([lex, inv, doc, stats], files):\n",
    "      with gzip.open(file, 'wb') as f:\n",
    "        print(f\"Saving {file}...\")\n",
    "        pickle.dump(data, f)\n"
   ]
  },
  {
   "cell_type": "code",
   "execution_count": 8,
   "metadata": {
    "executionInfo": {
     "elapsed": 6,
     "status": "ok",
     "timestamp": 1729868591658,
     "user": {
      "displayName": "DANIEL NAMAKI GHANEH",
      "userId": "00865735165124121752"
     },
     "user_tz": -120
    },
    "id": "4BRtzyxlHcdm"
   },
   "outputs": [],
   "source": [
    "class InvertedIndex:\n",
    "    \"\"\"\n",
    "    A simple inverted index class.\n",
    "    \n",
    "    Attributes:\n",
    "        lexicon: The lexicon.\n",
    "        inv: The inverted index.\n",
    "        doc: The document index.\n",
    "        stats: The index statistics.\n",
    "        \n",
    "    Methods:\n",
    "        num_docs: Get the number of documents in the index.\n",
    "        get_posting: Get a posting list iterator for a term.\n",
    "        get_termids: Get the term IDs for a list of tokens.\n",
    "        get_postings: Get the posting list iterators for a list of term IDs.\n",
    "        \n",
    "    Inner class:\n",
    "        PostingListIterator: An iterator over a posting list.\n",
    "    \"\"\"\n",
    "\n",
    "    class PostingListIterator:\n",
    "        \"\"\"\n",
    "        An iterator over a posting list.\n",
    "\n",
    "        Attributes:\n",
    "            docids: The list of document IDs.\n",
    "            freqs: The list of term frequencies.\n",
    "            pos: The current position in the posting list.\n",
    "            doc: The document index.\n",
    "\n",
    "        Methods:\n",
    "            docid: Get the current document ID.\n",
    "            score: Get the current document score.\n",
    "            next: Move to the next document.\n",
    "            is_end_list: Check if the iterator is at the end of the list.\n",
    "            len: Get the length of the posting list.\n",
    "        \"\"\"\n",
    "        def __init__(self, docids, freqs, doc):\n",
    "            self.docids = docids\n",
    "            self.freqs = freqs\n",
    "            self.pos = 0\n",
    "            self.doc = doc\n",
    "\n",
    "        def docid(self):\n",
    "            if self.is_end_list():\n",
    "                return math.inf\n",
    "            return self.docids[self.pos]\n",
    "\n",
    "        def score(self):\n",
    "            if self.is_end_list():\n",
    "                return math.inf\n",
    "            return self.freqs[self.pos]/self.doc[self.docid()][1]\n",
    "\n",
    "        def next(self, target = None):\n",
    "            if not target:\n",
    "                if not self.is_end_list():\n",
    "                    self.pos += 1\n",
    "            else:\n",
    "                if target > self.docid():\n",
    "                    try:\n",
    "                        self.pos = self.docids.index(target, self.pos)\n",
    "                    except ValueError:\n",
    "                        self.pos = len(self.docids)\n",
    "\n",
    "        def is_end_list(self):\n",
    "            return self.pos == len(self.docids)\n",
    "\n",
    "\n",
    "        def len(self):\n",
    "            return len(self.docids)\n",
    "\n",
    "\n",
    "    def __init__(self, lex, inv, doc, stats):\n",
    "        self.lexicon = lex\n",
    "        self.inv = inv\n",
    "        self.doc = doc\n",
    "        self.stat = stats\n",
    "\n",
    "    def num_docs(self):\n",
    "        return self.stats['num_docs']\n",
    "\n",
    "    def get_posting(self, termid):\n",
    "        return InvertedIndex.PostingListIterator(self.inv['docids'][termid], self.inv['freqs'][termid], self.doc)\n",
    "\n",
    "    def get_termids(self, tokens):\n",
    "        return [self.lexicon[token][0] for token in tokens if token in self.lexicon]\n",
    "\n",
    "    def get_postings(self, termids):\n",
    "        return [self.get_posting(termid) for termid in termids]\n",
    "    \n",
    "inv_index = InvertedIndex(lex, inv, doc, stats)"
   ]
  },
  {
   "cell_type": "markdown",
   "metadata": {
    "id": "XA-LFkjhHcdm"
   },
   "source": [
    "# 4. Query processing\n",
    "This section implements the Query Processing task, aiming to rank documents by relevance to a given query using the BM25 and TF-IDF scoring algorithm with Document-at-a-Time (DAAT) and Term-at-a-Time (TAAT) approaches."
   ]
  },
  {
   "cell_type": "code",
   "execution_count": null,
   "metadata": {
    "executionInfo": {
     "elapsed": 7,
     "status": "ok",
     "timestamp": 1729868591659,
     "user": {
      "displayName": "DANIEL NAMAKI GHANEH",
      "userId": "00865735165124121752"
     },
     "user_tz": -120
    },
    "id": "Edu7ZtPfHcdn"
   },
   "outputs": [],
   "source": [
    "# ------- Production Environment --------\n",
    "trec_dl_2020 = ir_datasets.load(\"msmarco-passage/trec-dl-2020\")\n",
    "# ---------------------------------------\n",
    "\n",
    "# ------- Development Environment -------\n",
    "# trec_dl_2020 = ir_datasets.load(\"vaswani\")\n",
    "# ---------------------------------------"
   ]
  },
  {
   "cell_type": "code",
   "execution_count": 10,
   "metadata": {
    "executionInfo": {
     "elapsed": 6,
     "status": "ok",
     "timestamp": 1729868591659,
     "user": {
      "displayName": "DANIEL NAMAKI GHANEH",
      "userId": "00865735165124121752"
     },
     "user_tz": -120
    },
    "id": "ywDp7MMVHcdn"
   },
   "outputs": [],
   "source": [
    "class TopQueue:\n",
    "    \"\"\"\n",
    "    A simple top-k queue class.\n",
    "    \n",
    "    Attributes:\n",
    "        queue: The priority queue.\n",
    "        k: The maximum number of items in the queue.\n",
    "        threshold: The minimum score threshold.\n",
    "        \n",
    "    Methods:\n",
    "        size: Get the number of items in the queue.\n",
    "        would_enter: Check if a score would enter the queue.\n",
    "        clear: Clear the queue.\n",
    "        insert: Insert a document into the queue.\n",
    "    \"\"\"\n",
    "    def __init__(self, k=10, threshold=0.0):\n",
    "        self.queue = []\n",
    "        self.k = k\n",
    "        self.threshold = threshold\n",
    "\n",
    "    def size(self):\n",
    "        return len(self.queue)\n",
    "\n",
    "    def would_enter(self, score):\n",
    "        return score > self.threshold\n",
    "\n",
    "    def clear(self, new_threshold=None):\n",
    "        self.queue = []\n",
    "        if new_threshold:\n",
    "            self.threshold = new_threshold\n",
    "\n",
    "    def __repr__(self):\n",
    "        return f'<{self.size()} items, th={self.threshold} {self.queue}'\n",
    "\n",
    "    def insert(self, docid, score):\n",
    "        if score > self.threshold:\n",
    "            if self.size() >= self.k:\n",
    "                heapq.heapreplace(self.queue, (score, docid))\n",
    "            else:\n",
    "                heapq.heappush(self.queue, (score, docid))\n",
    "            if self.size() >= self.k:\n",
    "                self.threshold = max(self.threshold, self.queue[0][0])\n",
    "            return True\n",
    "        return False"
   ]
  },
  {
   "cell_type": "markdown",
   "metadata": {},
   "source": [
    "## 4.1. BM25"
   ]
  },
  {
   "cell_type": "code",
   "execution_count": 11,
   "metadata": {
    "executionInfo": {
     "elapsed": 6,
     "status": "ok",
     "timestamp": 1729868591659,
     "user": {
      "displayName": "DANIEL NAMAKI GHANEH",
      "userId": "00865735165124121752"
     },
     "user_tz": -120
    },
    "id": "l6naDw7fHcdn"
   },
   "outputs": [],
   "source": [
    "# Average document length\n",
    "avg_dl = inv_index.stat['num_tokens'] / inv_index.stat['num_docs']\n",
    "# Number of documents\n",
    "N = inv_index.stat['num_docs']\n",
    "\n",
    "def bm25(tf, df, dl, k1=1.5, b=0.75):\n",
    "    \"\"\"\n",
    "    Compute the BM25 score.\n",
    "\n",
    "    Args:\n",
    "        tf: The term frequency.\n",
    "        df: The document frequency.\n",
    "        dl: The document length.\n",
    "        k1: The k1 parameter.\n",
    "        b: The b parameter.\n",
    "\n",
    "    Returns:\n",
    "        The BM25 score.\n",
    "    \"\"\"\n",
    "    idf = math.log(1 + (N - df + 0.5) / (df + 0.5))\n",
    "    term_frequency_component = (tf * (k1 + 1)) / (tf + k1 * (1 - b + b * (dl / avg_dl)))\n",
    "    return idf * term_frequency_component"
   ]
  },
  {
   "cell_type": "markdown",
   "metadata": {},
   "source": [
    "### 4.1.1 DAAT with BM25"
   ]
  },
  {
   "cell_type": "code",
   "execution_count": 12,
   "metadata": {
    "executionInfo": {
     "elapsed": 6,
     "status": "ok",
     "timestamp": 1729868591659,
     "user": {
      "displayName": "DANIEL NAMAKI GHANEH",
      "userId": "00865735165124121752"
     },
     "user_tz": -120
    },
    "id": "K3NbYKX2Hcdn"
   },
   "outputs": [],
   "source": [
    "# Calculate document lengths\n",
    "doc_lengths = defaultdict(int)\n",
    "for docid, doc_len in inv_index.doc:\n",
    "    doc_lengths[docid] = doc_len\n",
    "\n",
    "def min_docid(postings):\n",
    "    \"\"\"\n",
    "    Get the minimum document ID from a list of posting list iterators.\n",
    "    \n",
    "    Args:\n",
    "        postings: The list of posting list iterators.\n",
    "        \n",
    "    Returns:\n",
    "        The minimum document ID.\n",
    "    \"\"\"\n",
    "    min_docid = math.inf\n",
    "    for p in postings:\n",
    "        if not p.is_end_list():\n",
    "            min_docid = min(p.docid(), min_docid)\n",
    "    return min_docid\n",
    "\n",
    "def daat_bm25(postings, k=10):\n",
    "    \"\"\"\n",
    "    Perform a document-at-a-time (DAAT) scoring using BM25.\n",
    "\n",
    "    Args:\n",
    "        postings: The list of posting list iterators.\n",
    "        k: The maximum number of documents to retrieve.\n",
    "    \n",
    "    Returns:\n",
    "        A list of (docid, score) tuples.\n",
    "    \"\"\"\n",
    "    top = TopQueue(k)\n",
    "    current_docid = min_docid(postings)\n",
    "\n",
    "    while current_docid != math.inf:\n",
    "        score = 0\n",
    "        next_docid = math.inf\n",
    "\n",
    "        for posting in postings:\n",
    "            if posting.docid() == current_docid:\n",
    "                tf = posting.freqs[posting.pos]\n",
    "                df = posting.len()\n",
    "                dl = doc_lengths[current_docid]\n",
    "\n",
    "                score += bm25(tf, df, dl)\n",
    "\n",
    "                posting.next()\n",
    "            if not posting.is_end_list():\n",
    "                next_docid = min(next_docid, posting.docid())\n",
    "\n",
    "        top.insert(current_docid, score)\n",
    "        current_docid = next_docid\n",
    "\n",
    "    return sorted(top.queue, reverse=True)"
   ]
  },
  {
   "cell_type": "markdown",
   "metadata": {
    "id": "E9Eub_uGHcdo"
   },
   "source": [
    "### 4.1.2 TAAT with BM25"
   ]
  },
  {
   "cell_type": "code",
   "execution_count": 13,
   "metadata": {
    "executionInfo": {
     "elapsed": 6,
     "status": "ok",
     "timestamp": 1729868591659,
     "user": {
      "displayName": "DANIEL NAMAKI GHANEH",
      "userId": "00865735165124121752"
     },
     "user_tz": -120
    },
    "id": "P85FZGrxHcdo"
   },
   "outputs": [],
   "source": [
    "def taat_bm25(postings, k=10):\n",
    "    \"\"\"\n",
    "    Perform a term-at-a-time (TAAT) scoring using BM25.\n",
    "\n",
    "    Args:\n",
    "        postings: The list of posting list iterators.\n",
    "        k: The maximum number of documents to retrieve.\n",
    "    \n",
    "    Returns:\n",
    "        A list of (docid, score) tuples.\n",
    "    \"\"\"\n",
    "    A = defaultdict(float)\n",
    "\n",
    "    for posting in postings:\n",
    "        current_docid = posting.docid()\n",
    "\n",
    "        df = posting.len()\n",
    "\n",
    "        while current_docid != math.inf:\n",
    "            tf = posting.freqs[posting.pos]\n",
    "            dl = doc_lengths[current_docid]\n",
    "\n",
    "            score = bm25(tf, df, dl)\n",
    "            A[current_docid] += score\n",
    "\n",
    "            posting.next()\n",
    "            current_docid = posting.docid()\n",
    "\n",
    "    top = TopQueue(k)\n",
    "    for docid, score in A.items():\n",
    "        top.insert(docid, score)\n",
    "\n",
    "    return sorted(top.queue, reverse=True)"
   ]
  },
  {
   "cell_type": "markdown",
   "metadata": {},
   "source": [
    "## 4.2 TF-IDF"
   ]
  },
  {
   "cell_type": "code",
   "execution_count": 14,
   "metadata": {},
   "outputs": [],
   "source": [
    "def tfidf_score(tf, df, N):\n",
    "    \"\"\"\n",
    "    Compute the TF-IDF score.\n",
    "    \n",
    "    Args:\n",
    "        tf: The term frequency.\n",
    "        df: The document frequency.\n",
    "        N: The number of documents.\n",
    "        \n",
    "    Returns:\n",
    "        The TF-IDF score.\n",
    "    \"\"\"\n",
    "    idf = math.log(N / df)\n",
    "    return tf * idf"
   ]
  },
  {
   "cell_type": "markdown",
   "metadata": {},
   "source": [
    "### 4.2.1 DAAT with TF-IDF"
   ]
  },
  {
   "cell_type": "code",
   "execution_count": 15,
   "metadata": {},
   "outputs": [],
   "source": [
    "def daat_tfidf(postings, k=10):\n",
    "    \"\"\"\n",
    "    Perform a document-at-a-time (DAAT) scoring using TF-IDF.\n",
    "\n",
    "    Args:\n",
    "        postings: The list of posting list iterators.\n",
    "        k: The maximum number of documents to retrieve.\n",
    "    \n",
    "    Returns:\n",
    "        A list of (docid, score) tuples.\n",
    "    \"\"\"\n",
    "    top = TopQueue(k)\n",
    "    current_docid = min_docid(postings)\n",
    "\n",
    "    while current_docid != math.inf:\n",
    "        score = 0\n",
    "        next_docid = math.inf\n",
    "\n",
    "        for posting in postings:\n",
    "            if posting.docid() == current_docid:\n",
    "                tf = posting.freqs[posting.pos]\n",
    "                df = posting.len() \n",
    "                \n",
    "                score += tfidf_score(tf, df, N)\n",
    "                \n",
    "                posting.next()\n",
    "            if not posting.is_end_list():\n",
    "                next_docid = min(next_docid, posting.docid())\n",
    "\n",
    "        top.insert(current_docid, score)\n",
    "        current_docid = next_docid\n",
    "\n",
    "    return sorted(top.queue, reverse=True)\n"
   ]
  },
  {
   "cell_type": "markdown",
   "metadata": {},
   "source": [
    "### 4.2.2 TAAT with TF-IDF"
   ]
  },
  {
   "cell_type": "code",
   "execution_count": 16,
   "metadata": {},
   "outputs": [],
   "source": [
    "def taat_tfidf(postings, k=10):\n",
    "    \"\"\"\n",
    "    Perform a term-at-a-time (TAAT) scoring using TF-IDF.\n",
    "\n",
    "    Args:\n",
    "        postings: The list of posting list iterators.\n",
    "        k: The maximum number of documents to retrieve.\n",
    "    \n",
    "    Returns:\n",
    "        A list of (docid, score) tuples.\n",
    "    \"\"\"\n",
    "    A = defaultdict(float)\n",
    "    \n",
    "    for posting in postings:\n",
    "        current_docid = posting.docid()\n",
    "        \n",
    "        df = posting.len()\n",
    "        \n",
    "        while current_docid != math.inf:\n",
    "            tf = posting.freqs[posting.pos]\n",
    "            \n",
    "            score = tfidf_score(tf, df, N)\n",
    "            A[current_docid] += score\n",
    "            \n",
    "            posting.next()\n",
    "            current_docid = posting.docid()\n",
    "    \n",
    "    top = TopQueue(k)\n",
    "    for docid, score in A.items():\n",
    "        top.insert(docid, score)\n",
    "\n",
    "    return sorted(top.queue, reverse=True)\n"
   ]
  },
  {
   "cell_type": "markdown",
   "metadata": {},
   "source": [
    "## 4.3 Results"
   ]
  },
  {
   "cell_type": "code",
   "execution_count": 17,
   "metadata": {
    "executionInfo": {
     "elapsed": 6,
     "status": "ok",
     "timestamp": 1729868591659,
     "user": {
      "displayName": "DANIEL NAMAKI GHANEH",
      "userId": "00865735165124121752"
     },
     "user_tz": -120
    },
    "id": "EmKXPJvBHcdo"
   },
   "outputs": [],
   "source": [
    "@profile\n",
    "def query_processing(queries_iter, fn):\n",
    "    \"\"\"\n",
    "    Process a list of queries using a scoring function.\n",
    "\n",
    "    Args:\n",
    "        queries_iter: The list of queries.\n",
    "        fn: The scoring function.\n",
    "    \n",
    "    Returns:\n",
    "        A list of query results.\n",
    "    \"\"\"\n",
    "    \n",
    "    res = []\n",
    "    for q in queries_iter:\n",
    "        query = preprocess(q.text)\n",
    "        termids = inv_index.get_termids(query)\n",
    "        postings = inv_index.get_postings(termids)\n",
    "        res.append({'query_id': q.query_id, 'scores': fn(postings)})\n",
    "    return res"
   ]
  },
  {
   "cell_type": "code",
   "execution_count": 18,
   "metadata": {
    "colab": {
     "base_uri": "https://localhost:8080/"
    },
    "executionInfo": {
     "elapsed": 5432,
     "status": "ok",
     "timestamp": 1729868597085,
     "user": {
      "displayName": "DANIEL NAMAKI GHANEH",
      "userId": "00865735165124121752"
     },
     "user_tz": -120
    },
    "id": "om92ICN-Hcdo",
    "outputId": "328f5039-947c-4ca1-e91f-c042989a9d89"
   },
   "outputs": [
    {
     "name": "stdout",
     "output_type": "stream",
     "text": [
      "query_processing (3797.972 ms)\n",
      "[{'query_id': '1', 'scores': [(28.57672857738475, 5501), (28.366170176908092, 7233), (27.18674124075531, 8171), (25.547677818495405, 6823), (24.759597953363038, 9858), (24.426051614774867, 4568), (22.938509185266778, 719), (22.856011517307113, 7922), (22.350366336092655, 2235), (21.864580447315486, 7733)]}, {'query_id': '2', 'scores': [(26.882886822105817, 8252), (25.190452775793243, 4340), (24.64283112962301, 8240), (24.22332191639271, 5638), (22.201849094099728, 5123), (21.497673270474923, 2283), (20.513925176734382, 7112), (20.513925176734382, 1373), (20.18305091333257, 2728), (20.18305091333257, 2217)]}, {'query_id': '3', 'scores': [(47.40019567209051, 6347), (47.07774749796472, 7085), (42.83499514919195, 6535), (41.450461861928815, 5044), (40.11492511651749, 6973), (39.81561685529442, 5975), (39.39303404401454, 9288), (38.06872302348601, 8135), (37.35269069056093, 4724), (37.27322919502089, 8023)]}, {'query_id': '4', 'scores': [(27.337301259114952, 4595), (24.253504161125612, 3594), (22.830567119161934, 4056), (21.228953254078995, 7526), (19.082461580707566, 6232), (18.661634154396285, 10456), (18.661634154396285, 6421), (18.661634154396285, 2174), (18.125597389675548, 5436), (17.846830660810276, 8204)]}, {'query_id': '5', 'scores': [(25.799438467351443, 1585), (25.54793570878617, 5428), (25.142456657500524, 11428), (22.79418066577485, 9164), (20.52710700713321, 4306), (19.607467197970692, 7987), (19.437603517312073, 4708), (19.351722622459324, 3558), (19.24926076214335, 3038), (18.86361007195019, 1712)]}, {'query_id': '6', 'scores': [(26.479236777203823, 5439), (19.293807914995597, 4593), (17.914084856480507, 11167), (17.914084856480507, 4315), (17.865507352195372, 5262), (17.27426364705128, 2681), (16.539568801945425, 5436), (16.36126768142653, 6044), (16.36126768142653, 3599), (16.323566749502582, 5434)]}, {'query_id': '7', 'scores': [(42.56199188806893, 2095), (41.08716284093056, 5291), (40.04776482495467, 6568), (39.80849930299438, 6016), (38.119251703203524, 5902), (32.950642188477964, 8862), (32.74169104486167, 6730), (31.928074607125197, 5506), (31.059760991095473, 10108), (30.878986486281256, 6385)]}, {'query_id': '8', 'scores': [(37.79350786963101, 11349), (31.290156575670114, 3773), (27.15594727890588, 10911), (27.02082939277702, 5897), (26.12336257635705, 10787), (25.338366533953558, 7930), (25.228051737458976, 9587), (25.12944873883447, 1357), (24.079643564807643, 9208), (23.8185819398848, 2719)]}, {'query_id': '9', 'scores': [(36.29423930811565, 7013), (35.30788064303399, 5682), (34.667220772847365, 5299), (33.34798602669671, 9718), (32.90276614881214, 4752), (32.43758519519904, 9974), (31.804895848855892, 6380), (31.415491341371055, 3088), (30.79933720112931, 7930), (30.11904656144378, 4753)]}, {'query_id': '10', 'scores': [(26.475768768317764, 10616), (26.47225783678012, 2668), (26.3150314770747, 7088), (25.690453092200457, 6965), (24.211247201150872, 630), (23.73956253358351, 1303), (23.665410553081188, 6519), (23.657430814063055, 6704), (23.378978042307487, 9529), (22.86864680120934, 7293)]}, {'query_id': '11', 'scores': [(21.445646864735437, 1097), (21.378902418468094, 7454), (19.54151876543041, 826), (19.54151876543041, 514), (19.176735931156806, 4138), (17.06728184084943, 7653), (16.52861963518604, 8105), (15.804471524672858, 6524), (15.40020344366852, 7205), (15.265809319009469, 7487)]}, {'query_id': '12', 'scores': [(32.69949117463905, 7099), (31.830971247091433, 3614), (31.311605981414246, 6168), (30.779403458915283, 7683), (30.51240300229297, 11317), (29.596466211323197, 8250), (29.401085213891783, 7494), (28.584476649498406, 5683), (28.161780401083554, 6353), (27.180090263962132, 9732)]}, {'query_id': '13', 'scores': [(38.91183527499635, 8135), (31.27795031101985, 5988), (31.265214759313466, 3630), (31.168515037906722, 3397), (30.776905927763, 5872), (30.553456716872798, 11036), (29.88728120431845, 6548), (29.88728120431845, 6547), (27.682870734904817, 5982), (27.25309152433096, 8345)]}, {'query_id': '14', 'scores': [(29.001230883151226, 4436), (27.78178471488616, 5978), (27.11957145497851, 5649), (27.054272249526335, 8202), (26.333047334900055, 5748), (25.51689150479218, 7082), (24.42307585808643, 5560), (23.964151248903388, 6535), (23.86488344369286, 8023), (23.605082967930592, 5535)]}, {'query_id': '15', 'scores': [(34.214407276638504, 4814), (32.68437422663573, 3732), (27.02783361863479, 6987), (26.75643133665521, 259), (26.142972136097416, 9852), (25.860605227588223, 6762), (23.998823104072084, 4820), (23.725882620418684, 8328), (23.61584503578298, 1847), (23.33325673070975, 10024)]}, {'query_id': '16', 'scores': [(39.71425719818302, 5022), (36.048195241497794, 4929), (35.408370838738044, 6095), (34.79709190666567, 2090), (34.19421991551214, 5043), (33.48784486701382, 5878), (33.068805523081004, 6883), (32.53014331741761, 5258), (31.143065292218502, 7371), (30.9136938689468, 4833)]}, {'query_id': '17', 'scores': [(49.1296192612161, 11129), (44.993490073455085, 10980), (44.52418363414895, 495), (43.479944055089526, 11393), (38.61634678205788, 4150), (36.834819285987834, 11127), (36.17245878051369, 2160), (34.72557056757022, 589), (34.14716291037108, 93), (34.098113784056075, 10303)]}, {'query_id': '18', 'scores': [(26.844361968866316, 2121), (26.33281850044892, 8512), (24.957261770462182, 6211), (24.957261770462182, 2139), (24.957261770462182, 742), (24.87330453674052, 3445), (24.862262945197752, 2120), (24.100116989186173, 9740), (23.62497077423075, 11393), (23.596007669572074, 738)]}, {'query_id': '19', 'scores': [(26.298363930399717, 1907), (26.112633544529327, 7614), (24.994109256996985, 1669), (24.436376830953606, 1003), (23.5733321192361, 10692), (23.5733321192361, 9052), (22.08511594498671, 4409), (21.81680500561079, 8756), (20.76571799061647, 1406), (19.277501816367085, 89)]}, {'query_id': '20', 'scores': [(28.048490866409743, 7425), (26.05930311043018, 6490), (24.29407437153027, 6585), (23.99750172564684, 6217), (23.936478665540363, 4796), (21.01074234702448, 2031), (20.09195852075475, 607), (20.073075491580312, 7059), (20.032415570449214, 5314), (19.937294334406964, 5944)]}, {'query_id': '21', 'scores': [(52.96089442163273, 2899), (46.425617424511294, 7863), (45.76819909916648, 3017), (34.85103291243762, 10715), (34.70151834720421, 119), (34.12765129777966, 2108), (33.41321460655276, 10712), (33.09064045654601, 11153), (33.00937637793964, 5945), (32.65823742743647, 3917)]}, {'query_id': '22', 'scores': [(32.46942005155128, 6220), (31.41096541974494, 3445), (28.785837791865276, 11393), (26.707048106946488, 7059), (26.198910004174607, 6490), (26.13317032291195, 90), (25.601923423201008, 2031), (24.999871380116865, 10987), (24.45202209671145, 751), (23.754799017327567, 8620)]}, {'query_id': '23', 'scores': [(36.14798573161523, 7146), (36.01190627226688, 8190), (35.96825956756692, 80), (34.624158017608096, 4881), (30.431253689045327, 5396), (30.37345768538855, 5409), (29.764548207450005, 9734), (29.292415997924763, 5328), (29.019391588813598, 10017), (28.754824212558486, 5683)]}, {'query_id': '24', 'scores': [(29.87393569792235, 6662), (27.935702426368415, 9134), (26.99427424778714, 3333), (25.181947383357098, 3436), (25.168753655735266, 3553), (24.786945894925243, 6484), (23.995047817607222, 2379), (22.6553994743499, 4784), (22.600576080160973, 3560), (21.567541822287946, 8757)]}, {'query_id': '25', 'scores': [(41.15741503326249, 1432), (33.659000406643614, 3350), (29.597096218772037, 11129), (27.74969950585603, 8057), (26.887137236401045, 589), (26.736195220277935, 4868), (26.386779050465076, 118), (26.09351843375022, 4034), (26.055426282027902, 8385), (25.362805336314025, 8755)]}, {'query_id': '26', 'scores': [(38.2105691740469, 7225), (37.4141943827885, 5799), (30.696464870847173, 8178), (28.274106399900298, 3806), (26.482822477272585, 1649), (25.518497154918624, 583), (24.238033441493297, 6841), (23.82553087433609, 10715), (23.82553087433609, 7432), (23.05157305908125, 3917)]}, {'query_id': '27', 'scores': [(29.330224938531924, 7773), (26.352266311547496, 123), (23.97433675010938, 8518), (23.517504615877606, 9869), (23.517504615877606, 7652), (23.02623561784837, 3131), (22.004618116851177, 10455), (22.004618116851177, 2778), (19.555528193093984, 9159), (19.31032190279068, 9847)]}, {'query_id': '28', 'scores': [(32.42177670086968, 8229), (29.0627485048145, 3615), (26.11521269840007, 7481), (25.419349586350403, 7185), (25.30254546138976, 5471), (24.94884626282728, 3060), (23.802941316694515, 8441), (23.481470912150925, 5849), (21.446062114033367, 8440), (21.20916704043153, 7092)]}, {'query_id': '29', 'scores': [(31.471021382542165, 5393), (27.13755623723254, 3566), (23.2155766480636, 9132), (22.835445433728808, 6411), (22.45297876475486, 9022), (21.469471447525333, 3003), (21.207993014336264, 10006), (20.245917542478118, 11123), (20.014222150194634, 5800), (19.69391683697674, 9738)]}, {'query_id': '30', 'scores': [(37.923118025144596, 9510), (28.897927643474393, 4168), (28.78438260090556, 9509), (28.260080365103413, 5998), (27.903704142645374, 3821), (27.725320801838965, 1283), (26.714572155150822, 2733), (26.65996353939101, 8784), (26.62823582370588, 7522), (26.577192248529077, 5796)]}, {'query_id': '31', 'scores': [(49.306751946615854, 8614), (37.460082566718405, 8392), (36.01067486926058, 3103), (35.76996941656097, 4134), (33.5103750652613, 3333), (32.700909944536306, 2109), (32.11205454855569, 2741), (29.89448013921787, 10958), (29.414599039226793, 3552), (28.35686976256121, 9127)]}, {'query_id': '32', 'scores': [(35.16975953274842, 1821), (32.91380448960757, 913), (30.77044230547191, 9159), (30.56528769617698, 10455), (27.214891724909364, 1702), (26.19743393274694, 1447), (23.744507820033526, 3929), (23.522307551077176, 5012), (22.60009271605055, 8415), (21.445326974905665, 8789)]}, {'query_id': '33', 'scores': [(43.45778985678068, 6133), (39.6889190317988, 7052), (38.10582401858194, 5404), (35.20244934827997, 5098), (32.10959415697939, 7051), (32.033201370349374, 10411), (31.73323244659688, 10829), (31.644181040558433, 2899), (31.623841193984383, 9049), (31.38672461614417, 9919)]}, {'query_id': '34', 'scores': [(45.57761009127948, 9209), (38.03894639088111, 5524), (36.47933266297157, 9842), (36.25894263328575, 5498), (35.45220713774887, 11262), (34.2338766707956, 241), (33.999187720322674, 2728), (33.78252222590534, 4664), (32.38981147727159, 6755), (32.11782634205783, 7055)]}, {'query_id': '35', 'scores': [(29.426861189580553, 2143), (25.389565281394667, 6325), (25.009086226902976, 5114), (24.72775194096937, 3702), (24.60359204552541, 6591), (23.203423569474296, 5939), (23.10841923204121, 10296), (22.5013216723892, 7054), (20.78060634584743, 3921), (20.139818721036814, 1557)]}, {'query_id': '36', 'scores': [(22.95288702289451, 5149), (22.524023680233245, 3452), (20.208662314781723, 7059), (20.19913197988319, 8524), (19.695864537117288, 9908), (19.58579474483445, 10006), (19.582389908973916, 6884), (19.33546520937803, 5324), (19.33492760371584, 2673), (18.862920169588364, 773)]}, {'query_id': '37', 'scores': [(39.414940081600534, 9483), (34.87263627617678, 3797), (34.2554601919305, 85), (33.68305452313935, 10270), (32.884987151252346, 9131), (32.41929623694367, 1251), (31.541555944078265, 4024), (30.99338615767931, 2255), (29.858962373577338, 8783), (29.643957527864643, 9484)]}, {'query_id': '38', 'scores': [(55.99913138391213, 331), (47.78380823791546, 9622), (40.87049800176322, 475), (39.05770040046702, 10102), (37.739340266631, 4043), (37.02769128819742, 10827), (34.44943806318676, 11279), (33.95963072101247, 3017), (33.934373397102306, 2647), (33.9167928352227, 212)]}, {'query_id': '39', 'scores': [(23.326679757782138, 908), (22.26842380927475, 8294), (16.339399593787036, 9053), (16.12419123000334, 2156), (15.83218317694983, 4512), (15.76368192453003, 11245), (15.76368192453003, 8089), (15.76368192453003, 118), (15.616974813166134, 11393), (15.616974813166134, 6221)]}, {'query_id': '40', 'scores': [(34.52890110425271, 2743), (33.14297063980082, 9481), (32.256489349502566, 10565), (32.256489349502566, 10111), (31.158535902154064, 732), (30.54536823022101, 11239), (30.080580727861395, 9482), (30.080580727861395, 8396), (30.080580727861395, 862), (29.55718590057017, 1782)]}, {'query_id': '41', 'scores': [(24.117441223848516, 9855), (23.91441856187483, 4708), (21.910502207804672, 4185), (17.516378360448773, 5732), (16.933817175419474, 5734), (16.059590691074604, 5458), (16.059590691074604, 5435), (16.059590691074604, 4571), (16.05655562484481, 4306), (16.054583196570547, 7985)]}, {'query_id': '42', 'scores': [(26.68434066028942, 5685), (26.33616176023048, 7788), (25.927717490571247, 4308), (25.8597214568702, 6513), (25.715444314108716, 5149), (25.569511054743906, 262), (25.514896279314197, 3718), (24.69027707589498, 6514), (24.69027707589498, 5136), (24.69027707589498, 2449)]}, {'query_id': '43', 'scores': [(49.25864531837785, 6231), (43.17043172080192, 4308), (37.21549723693807, 3718), (37.01100902767359, 6441), (35.177580005716266, 140), (34.38340727343032, 5831), (33.187525856269936, 5850), (32.7081230930443, 11023), (32.7081230930443, 2932), (32.39517598866475, 5149)]}, {'query_id': '44', 'scores': [(32.6251782626712, 6511), (28.673405628303847, 5452), (24.544761063966355, 5209), (23.92015950447979, 8424), (23.297820947231372, 8098), (23.297820947231372, 7988), (22.02007005508393, 6421), (21.324047086597393, 5429), (20.781212951825413, 3573), (20.21673781855063, 2040)]}, {'query_id': '45', 'scores': [(37.418037570493254, 6708), (30.247663827643517, 5430), (28.593666863786204, 273), (27.103226588195998, 3968), (24.702655272544458, 6157), (24.674995263317562, 3940), (24.160681989702983, 5843), (23.48470751740487, 10323), (23.3486599037541, 4194), (23.29854839477839, 3483)]}, {'query_id': '46', 'scores': [(53.1344946268948, 3598), (46.11276835595043, 3142), (42.194898383701336, 6236), (39.51561873155674, 3484), (37.21376462684663, 6336), (36.209050229750204, 3938), (36.059780172854644, 4311), (34.32429349671254, 4053), (33.493333021777005, 8425), (33.23943705448196, 11167)]}, {'query_id': '47', 'scores': [(24.397772174357627, 10635), (24.279461963119175, 1625), (23.69359635073282, 6271), (22.623231496456587, 6907), (22.291733913489992, 11326), (22.12710438565579, 10364), (21.63308380331677, 11325), (21.63308380331677, 10504), (21.46443794158988, 1486), (21.46443794158988, 1298)]}, {'query_id': '48', 'scores': [(22.374486686522786, 10023), (22.374486686522786, 3484), (21.74388197325615, 4301), (21.282229484379737, 2177), (20.809335197608345, 3140), (19.527325132724787, 3408), (19.402602555099392, 6247), (18.823988053057654, 150), (18.37899437811049, 775), (18.369754519704664, 5759)]}, {'query_id': '49', 'scores': [(32.29568544472036, 4208), (31.26618507846641, 5348), (29.978581989599768, 3535), (22.54629606792235, 1158), (21.82376242677771, 2974), (21.82376242677771, 2955), (19.763373656793092, 8239), (19.763373656793092, 2431), (19.134768765387555, 4594), (19.03856998257185, 5228)]}, {'query_id': '50', 'scores': [(21.059358896981507, 11098), (20.404520212122264, 7675), (20.35373818859136, 5726), (18.931147819681073, 6783), (18.773322828187673, 1606), (18.720493892716355, 7686), (18.60680055559576, 8468), (17.968436172093693, 6961), (17.968436172093693, 5887), (17.968436172093693, 5467)]}, {'query_id': '51', 'scores': [(47.989715000869424, 8222), (45.43264843914447, 6877), (41.64060990393575, 7716), (40.687075363985144, 7073), (35.16304046112502, 5029), (31.631306286054674, 5550), (31.239289110895903, 7795), (31.239289110895903, 3162), (30.94915337548133, 6614), (30.772431896815974, 8435)]}, {'query_id': '52', 'scores': [(31.966987317161188, 5457), (28.532748307368458, 3140), (27.072767958054797, 4595), (26.8065939198153, 5556), (26.375888151916573, 5451), (26.21662689153332, 4571), (26.07607741818883, 8410), (25.336455697756907, 11169), (25.336455697756907, 9402), (25.336455697756907, 9069)]}, {'query_id': '53', 'scores': [(30.753155632194165, 2578), (23.558511627212148, 2410), (23.557877063459376, 2079), (23.55622845409127, 3445), (22.539370902459908, 729), (21.694148878894445, 6715), (21.683088082983502, 2976), (20.875189035091115, 5044), (20.875189035091115, 4343), (20.86529568656328, 6636)]}, {'query_id': '54', 'scores': [(25.548505595938103, 10023), (25.430547906899065, 811), (25.40549521828185, 6876), (25.389312071433505, 3140), (25.2784552308954, 5435), (24.61130662454604, 6247), (24.528609156411747, 2445), (23.9167254605195, 1938), (23.844418379469737, 8651), (23.78791776603382, 7789)]}, {'query_id': '55', 'scores': [(23.596008636257945, 2075), (23.39290021003858, 29), (23.194045786997293, 10630), (23.06224150072607, 3977), (22.06488492771488, 8555), (21.718924747277555, 948), (19.46142972835905, 9879), (17.72468664904367, 2697), (17.550239498436774, 6768), (17.4593114610283, 4523)]}, {'query_id': '56', 'scores': [(21.231349971619753, 1496), (20.950452748833328, 3987), (20.087359618409877, 8972), (19.82855029384752, 4099), (19.67584073965379, 9090), (19.67584073965379, 3530), (19.390932608601048, 2081), (18.820221285618626, 5759), (18.478517520395748, 10371), (18.44536225021777, 5487)]}, {'query_id': '57', 'scores': [(35.02788181767157, 7694), (31.746834534931097, 10335), (31.535089805351962, 7172), (31.18511995065983, 9793), (31.04199657306865, 7759), (30.839280284012332, 3848), (30.72228448674027, 6969), (30.55709406190534, 4203), (30.192724562245687, 6781), (29.90547953591459, 9795)]}, {'query_id': '58', 'scores': [(29.535504387967258, 8197), (25.69757917672643, 6856), (25.069377100041486, 9557), (23.513859330915686, 4929), (22.486724905300225, 6708), (21.82773617181867, 7759), (20.155781422473034, 6143), (19.889180655041383, 4887), (19.437993429412135, 6337), (19.23790980773248, 8102)]}, {'query_id': '59', 'scores': [(28.804138909930693, 5440), (25.750535020723095, 5452), (24.921162263673533, 10367), (23.801874048057627, 5058), (23.590446499346513, 9787), (23.05780189551943, 1661), (22.87873362182402, 4708), (22.790039696667716, 4709), (22.76163012632769, 5734), (22.30474017646214, 8951)]}, {'query_id': '60', 'scores': [(29.629905825883228, 9703), (28.48951110922794, 4443), (27.10916237300698, 6089), (27.02440715074552, 9704), (26.61266046442434, 3277), (26.402492832603627, 7904), (25.7428154088145, 10181), (25.465177108221294, 1076), (24.335534874173902, 5568), (24.131104034349015, 2320)]}, {'query_id': '61', 'scores': [(22.637663285397494, 8293), (22.01479571545022, 2279), (21.502552599073358, 4147), (21.24879173724299, 8294), (20.616965272895513, 9209), (20.175704962768798, 11393), (19.850961294688286, 6476), (19.800661506688712, 6190), (19.56180275616554, 6221), (18.31681700574694, 2154)]}, {'query_id': '62', 'scores': [(23.626816548121184, 10356), (23.500475660912663, 8340), (22.33613318194213, 8961), (18.38727539275379, 11320), (18.38727539275379, 532), (17.096592026574733, 9774), (15.624002727871883, 8425), (15.531848479247248, 9297), (15.531848479247248, 6775), (15.531848479247248, 4734)]}, {'query_id': '63', 'scores': [(31.591927735273924, 9950), (28.622136889853145, 9697), (22.900918018091822, 4337), (22.184540866780495, 654), (21.88081564417629, 7085), (21.35570207716512, 10338), (21.35570207716512, 6347), (21.328982274742515, 7374), (21.12253425618119, 6349), (21.121810797152833, 6973)]}, {'query_id': '64', 'scores': [(25.303807977672438, 7604), (25.189774769432667, 6467), (25.028678153833138, 66), (25.013027697032296, 200), (24.899097427078743, 8395), (24.326255204480137, 5581), (24.325049364237564, 2160), (24.051125380640837, 7605), (24.051125380640837, 6576), (24.051125380640837, 5696)]}, {'query_id': '65', 'scores': [(30.10866746806336, 6763), (28.444686007822153, 5469), (27.75169736484103, 6782), (24.103758625062706, 8117), (21.74610302181143, 4835), (21.23335158447034, 7077), (21.233007784779325, 20), (20.172226711421022, 7561), (19.86096616222518, 4827), (19.480264794783224, 6789)]}, {'query_id': '66', 'scores': [(23.89235710683002, 8597), (23.876539951685338, 1510), (22.625199307579738, 8589), (22.562867884864076, 7508), (22.433071663327325, 1881), (22.379876136065697, 3129), (22.326044452811264, 5781), (22.042930669672273, 11082), (22.003710497084057, 6639), (21.982028913555464, 8872)]}, {'query_id': '67', 'scores': [(29.268533181726358, 6640), (28.21357115970665, 8035), (28.12907686581702, 10380), (26.90044960451849, 4901), (23.462265642511618, 9156), (23.462265642511618, 4123), (23.261308589219684, 1378), (22.866972865544813, 2988), (22.226361420901824, 4977), (22.118196028402146, 3570)]}, {'query_id': '68', 'scores': [(23.69508433701312, 4189), (19.545127849389267, 3064), (18.956935723193407, 7261), (18.50739682821024, 6601), (18.179480042394175, 6816), (18.01723691217736, 6460), (17.89427964688026, 5225), (17.875738503562147, 7836), (17.701629188896128, 6902), (17.69386050571765, 7546)]}, {'query_id': '69', 'scores': [(39.541881510196596, 4611), (36.32333975894991, 9182), (35.79856836644391, 4437), (33.83033282547303, 4204), (32.94010811539969, 5043), (27.83078794185362, 1953), (27.217859702334533, 3503), (26.932605191272604, 7474), (24.630352112996356, 10042), (23.094521127715566, 6714)]}, {'query_id': '70', 'scores': [(26.345466641390704, 6876), (25.814889794192574, 1743), (21.848370595378853, 8193), (21.848370595378853, 3522), (20.728270420422, 4340), (19.55525062223559, 5649), (19.02619345217833, 11075), (19.02619345217833, 5376), (18.719119291771293, 6080), (18.5321011410824, 5299)]}, {'query_id': '71', 'scores': [(18.376504285454473, 6816), (18.336280208340604, 6894), (18.202833115367888, 4413), (18.19673001805538, 7295), (17.424274500393125, 6358), (17.074799875457906, 6060), (16.665265646062515, 11043), (16.665265646062515, 3471), (16.601501828922572, 6946), (16.251875724873987, 1458)]}, {'query_id': '72', 'scores': [(20.714990475951126, 10064), (20.052324031885217, 540), (19.94231053237722, 2212), (19.595540653004935, 3987), (19.357659645116563, 1606), (19.00966887035853, 9196), (18.82286070943103, 10639), (18.82286070943103, 10511), (18.82286070943103, 4107), (18.55288549147825, 10062)]}, {'query_id': '73', 'scores': [(19.135582951145572, 8557), (17.550422679215536, 6898), (17.550422679215536, 4597), (16.91152458985444, 8016), (16.91152458985444, 7195), (15.970170685666574, 9706), (15.970170685666574, 9201), (15.247803781177476, 7579), (12.97009909131187, 4208), (12.97009909131187, 4176)]}, {'query_id': '74', 'scores': [(21.470372764168218, 10762), (21.470372764168218, 4107), (20.53773110214953, 2792), (17.538166842323463, 9315), (14.558800156674447, 11062), (14.397697764248363, 9314), (14.397697764248363, 1199), (14.270126391039149, 6816), (14.127722546295583, 10201), (14.127722546295583, 2090)]}, {'query_id': '75', 'scores': [(14.116699319458004, 8117), (13.871721340988024, 9800), (13.678484868508157, 6789), (13.615916970681319, 3391), (13.429590330581373, 9694), (13.429590330581373, 9541), (13.429590330581373, 7170), (13.086357046186734, 9082), (13.086357046186734, 7914), (13.086357046186734, 7698)]}, {'query_id': '76', 'scores': [(20.194788554214313, 960), (19.036679938669952, 1190), (19.036679938669952, 429), (16.51813835023834, 3065), (16.36397284029604, 10318), (16.02692633322562, 2982), (16.00964933185625, 7673), (15.625152636135159, 9788), (15.199630361325507, 5258), (15.199630361325507, 3628)]}, {'query_id': '77', 'scores': [(29.936523312099784, 7601), (28.841162296765198, 7836), (28.67404053829608, 9974), (28.3204352206325, 3317), (27.31979787103144, 6923), (27.237311777312055, 9804), (26.71316197017948, 4748), (26.166393747738276, 7837), (25.94121663848839, 2095), (24.771830643126986, 5569)]}, {'query_id': '78', 'scores': [(41.976797200164775, 4423), (41.948507855348815, 3271), (41.88618203348784, 9417), (41.03947126302658, 6973), (40.548556343646844, 7085), (40.502258258341634, 6087), (40.01129305071692, 5855), (39.1656376614987, 654), (38.067778905064664, 5975), (37.634957875361984, 9422)]}, {'query_id': '79', 'scores': [(31.03575712991735, 4137), (28.10216952312708, 8189), (24.092036036985185, 6414), (23.76314610426908, 7489), (23.287371416057525, 5620), (23.13125479732913, 2307), (22.419830619968035, 4704), (21.968747315872925, 10723), (20.80578966328833, 806), (20.639471988543605, 10018)]}, {'query_id': '80', 'scores': [(22.217484763829475, 8417), (21.611650092306313, 6367), (21.235569636106874, 1155), (20.80076620826298, 9199), (20.272057404564595, 7664), (19.833214487523318, 5505), (19.304505683824935, 3251), (19.143816285710205, 73), (18.242191837076284, 8332), (17.96988410618863, 6462)]}, {'query_id': '81', 'scores': [(38.906824308319926, 2947), (36.87203270105445, 9935), (31.759824688169196, 5641), (31.300392777004447, 7999), (30.054565428270255, 11029), (29.702375485483678, 6698), (28.695808391142492, 3960), (28.37248801100842, 6063), (26.92891713904384, 7165), (26.1484555526296, 4119)]}, {'query_id': '82', 'scores': [(26.034777687475014, 3706), (25.195412621489425, 4929), (24.707981337729535, 5149), (24.449318344863514, 9934), (23.915331754133163, 7379), (23.556332630760338, 6739), (23.17008791009266, 6415), (22.246037756462318, 1075), (22.140902230068235, 5848), (21.64592917677956, 6599)]}, {'query_id': '83', 'scores': [(35.68616450373739, 1084), (35.472945863045254, 9806), (33.98343314162573, 4628), (33.344948805847245, 6715), (32.4293358803036, 10191), (32.33111422598615, 4623), (31.797959348860537, 8569), (29.589403235308673, 2981), (28.834147008556446, 6098), (28.807730920525778, 8843)]}, {'query_id': '84', 'scores': [(31.244059303845454, 4413), (27.424826284612294, 6946), (25.399297639798665, 8958), (24.475406767433128, 7341), (24.475406767433128, 7179), (24.39923747280663, 6050), (23.746329758129182, 6331), (22.79201297348947, 6461), (22.79201297348947, 6137), (22.79201297348947, 4411)]}, {'query_id': '85', 'scores': [(24.40382555994222, 6176), (22.792222357012268, 5916), (22.543570935982395, 3042), (22.480902221231982, 9818), (22.469030168562362, 1661), (21.935309174121237, 9238), (21.40054069890858, 6853), (21.31125293659482, 4994), (21.06072848462612, 113), (20.864868253719457, 10385)]}, {'query_id': '86', 'scores': [(40.00475030192071, 8024), (33.7858301304223, 4450), (33.67778814462712, 3529), (33.22363890574415, 8327), (32.74514648260843, 11051), (28.88304139377996, 3981), (28.236241044198362, 8843), (28.176032760989752, 7193), (27.946317934165265, 9877), (27.642892652840615, 6713)]}, {'query_id': '87', 'scores': [(30.345263019295942, 3313), (28.63026510476573, 6930), (27.744524752321738, 4969), (25.684632608429094, 4100), (24.80240698718022, 9101), (24.174730441724215, 3376), (24.133743195671457, 2476), (23.863116088680293, 6556), (23.32008334028257, 5233), (22.75144073770554, 9641)]}, {'query_id': '88', 'scores': [(38.25272122803551, 3547), (33.67440497256652, 8578), (32.296777807701886, 5998), (32.06445333658378, 7830), (27.928115483372025, 5379), (26.572538234408963, 8861), (26.338307185012034, 6734), (26.23989200303801, 9218), (26.044940732783154, 6481), (25.955844005263394, 5694)]}, {'query_id': '89', 'scores': [(24.453054049898792, 2286), (23.87205548390424, 11177), (23.529585357817602, 11335), (23.51188072701515, 11290), (23.442679122309357, 3936), (23.117951128058944, 11205), (23.117951128058944, 10901), (23.117951128058944, 10349), (23.117951128058944, 943), (22.97837475122338, 10343)]}, {'query_id': '90', 'scores': [(27.261723518773724, 7010), (25.928718534473994, 3885), (25.76405734745044, 4759), (25.352849688411347, 6189), (23.496703127068884, 2717), (23.027083345108437, 6580), (22.973977363031068, 3309), (21.897730473676773, 4114), (21.320500120272428, 1347), (20.97296023267996, 4754)]}, {'query_id': '91', 'scores': [(37.76590408245383, 4750), (34.404941731500784, 6580), (33.847799341228665, 4642), (32.3331160514061, 7602), (31.761282080328503, 9863), (30.883955035161808, 8384), (30.36947675820098, 1991), (29.84813764614711, 9990), (29.219701320552474, 7735), (28.513872677973488, 7593)]}, {'query_id': '92', 'scores': [(40.2047957594721, 8380), (38.23769645510018, 4977), (38.20528151405591, 1378), (35.59038128589504, 3570), (34.57714702088281, 8723), (34.15539377102618, 83), (32.108076992663534, 6483), (31.240401656935383, 3684), (31.14098953047543, 4236), (30.963696754707158, 8713)]}, {'query_id': '93', 'scores': [(39.28814778454994, 2963), (32.50258261765618, 532), (30.917342365007286, 10468), (30.7614495897135, 3858), (29.567656895080354, 2695), (29.41594416454069, 4343), (29.181634918258208, 8115), (29.062815043916984, 3536), (27.984200307628463, 9706), (27.016827131856864, 6365)]}]\n"
     ]
    }
   ],
   "source": [
    "print(query_processing(trec_dl_2020.queries_iter(), daat_bm25))"
   ]
  },
  {
   "cell_type": "code",
   "execution_count": 19,
   "metadata": {
    "colab": {
     "base_uri": "https://localhost:8080/"
    },
    "executionInfo": {
     "elapsed": 2638,
     "status": "ok",
     "timestamp": 1729868599720,
     "user": {
      "displayName": "DANIEL NAMAKI GHANEH",
      "userId": "00865735165124121752"
     },
     "user_tz": -120
    },
    "id": "UIn-FsL5Hcdo",
    "outputId": "67721fdd-d506-42d1-e831-019385d56f93"
   },
   "outputs": [
    {
     "name": "stdout",
     "output_type": "stream",
     "text": [
      "query_processing (909.090 ms)\n",
      "[{'query_id': '1', 'scores': [(28.57672857738475, 5501), (28.366170176908092, 7233), (27.18674124075531, 8171), (25.547677818495405, 6823), (24.759597953363038, 9858), (24.426051614774867, 4568), (22.938509185266778, 719), (22.856011517307113, 7922), (22.350366336092655, 2235), (21.864580447315486, 7733)]}, {'query_id': '2', 'scores': [(26.882886822105817, 8252), (25.190452775793243, 4340), (24.64283112962301, 8240), (24.22332191639271, 5638), (22.201849094099728, 5123), (21.497673270474923, 2283), (20.513925176734382, 7112), (20.513925176734382, 1373), (20.18305091333257, 2728), (20.18305091333257, 2217)]}, {'query_id': '3', 'scores': [(47.40019567209051, 6347), (47.07774749796472, 7085), (42.83499514919195, 6535), (41.450461861928815, 5044), (40.11492511651749, 6973), (39.81561685529442, 5975), (39.39303404401454, 9288), (38.06872302348601, 8135), (37.35269069056093, 4724), (37.27322919502089, 8023)]}, {'query_id': '4', 'scores': [(27.337301259114952, 4595), (24.253504161125612, 3594), (22.830567119161934, 4056), (21.228953254078995, 7526), (19.082461580707566, 6232), (18.661634154396285, 10456), (18.661634154396285, 6421), (18.661634154396285, 2174), (18.125597389675548, 5436), (17.846830660810276, 8204)]}, {'query_id': '5', 'scores': [(25.799438467351443, 1585), (25.54793570878617, 5428), (25.142456657500524, 11428), (22.79418066577485, 9164), (20.52710700713321, 4306), (19.607467197970692, 7987), (19.437603517312073, 4708), (19.351722622459324, 3558), (19.24926076214335, 3038), (18.86361007195019, 1712)]}, {'query_id': '6', 'scores': [(26.479236777203823, 5439), (19.293807914995597, 4593), (17.914084856480507, 11167), (17.914084856480507, 4315), (17.865507352195372, 5262), (17.27426364705128, 2681), (16.539568801945425, 5436), (16.36126768142653, 6044), (16.36126768142653, 3599), (16.323566749502582, 10161)]}, {'query_id': '7', 'scores': [(42.56199188806893, 2095), (41.08716284093056, 5291), (40.04776482495467, 6568), (39.80849930299438, 6016), (38.119251703203524, 5902), (32.950642188477964, 8862), (32.74169104486167, 6730), (31.928074607125197, 5506), (31.059760991095473, 10108), (30.878986486281256, 6385)]}, {'query_id': '8', 'scores': [(37.79350786963101, 11349), (31.290156575670114, 3773), (27.15594727890588, 10911), (27.02082939277702, 5897), (26.12336257635705, 10787), (25.338366533953558, 7930), (25.228051737458976, 9587), (25.12944873883447, 1357), (24.079643564807643, 9208), (23.8185819398848, 2719)]}, {'query_id': '9', 'scores': [(36.29423930811565, 7013), (35.30788064303399, 5682), (34.667220772847365, 5299), (33.34798602669671, 9718), (32.90276614881214, 4752), (32.43758519519904, 9974), (31.804895848855892, 6380), (31.415491341371055, 3088), (30.79933720112931, 7930), (30.11904656144378, 4753)]}, {'query_id': '10', 'scores': [(26.475768768317764, 10616), (26.47225783678012, 2668), (26.3150314770747, 7088), (25.690453092200457, 6965), (24.211247201150872, 630), (23.73956253358351, 1303), (23.665410553081188, 6519), (23.657430814063055, 6704), (23.378978042307487, 9529), (22.86864680120934, 7293)]}, {'query_id': '11', 'scores': [(21.445646864735437, 1097), (21.378902418468094, 7454), (19.54151876543041, 826), (19.54151876543041, 514), (19.176735931156806, 4138), (17.06728184084943, 7653), (16.52861963518604, 8105), (15.804471524672858, 6524), (15.40020344366852, 7205), (15.265809319009469, 7676)]}, {'query_id': '12', 'scores': [(32.69949117463905, 7099), (31.830971247091433, 3614), (31.311605981414246, 6168), (30.779403458915283, 7683), (30.51240300229297, 11317), (29.596466211323197, 8250), (29.401085213891783, 7494), (28.584476649498406, 5683), (28.161780401083554, 6353), (27.180090263962132, 9732)]}, {'query_id': '13', 'scores': [(38.91183527499635, 8135), (31.27795031101985, 5988), (31.265214759313466, 3630), (31.168515037906722, 3397), (30.776905927763, 5872), (30.553456716872798, 11036), (29.88728120431845, 6548), (29.88728120431845, 6547), (27.682870734904817, 5982), (27.25309152433096, 8345)]}, {'query_id': '14', 'scores': [(29.001230883151226, 4436), (27.78178471488616, 5978), (27.11957145497851, 5649), (27.054272249526335, 8202), (26.333047334900055, 5748), (25.51689150479218, 7082), (24.42307585808643, 5560), (23.964151248903388, 6535), (23.86488344369286, 8023), (23.605082967930592, 5535)]}, {'query_id': '15', 'scores': [(34.214407276638504, 4814), (32.68437422663573, 3732), (27.02783361863479, 6987), (26.75643133665521, 259), (26.142972136097416, 9852), (25.860605227588223, 6762), (23.998823104072084, 4820), (23.725882620418684, 8328), (23.61584503578298, 1847), (23.33325673070975, 10024)]}, {'query_id': '16', 'scores': [(39.71425719818302, 5022), (36.048195241497794, 4929), (35.408370838738044, 6095), (34.79709190666567, 2090), (34.19421991551214, 5043), (33.48784486701382, 5878), (33.068805523081004, 6883), (32.53014331741761, 5258), (31.143065292218502, 7371), (30.9136938689468, 4833)]}, {'query_id': '17', 'scores': [(49.1296192612161, 11129), (44.993490073455085, 10980), (44.52418363414895, 495), (43.479944055089526, 11393), (38.61634678205788, 4150), (36.834819285987834, 11127), (36.17245878051369, 2160), (34.72557056757022, 589), (34.14716291037108, 93), (34.098113784056075, 10303)]}, {'query_id': '18', 'scores': [(26.844361968866316, 2121), (26.33281850044892, 8512), (24.957261770462182, 6211), (24.957261770462182, 2139), (24.957261770462182, 742), (24.87330453674052, 3445), (24.862262945197752, 2120), (24.100116989186173, 9740), (23.62497077423075, 11393), (23.596007669572074, 738)]}, {'query_id': '19', 'scores': [(26.298363930399717, 1907), (26.112633544529327, 7614), (24.994109256996985, 1669), (24.436376830953606, 1003), (23.5733321192361, 10692), (23.5733321192361, 9052), (22.08511594498671, 4409), (21.81680500561079, 8756), (20.76571799061647, 1406), (19.277501816367085, 89)]}, {'query_id': '20', 'scores': [(28.048490866409743, 7425), (26.05930311043018, 6490), (24.29407437153027, 6585), (23.99750172564684, 6217), (23.936478665540363, 4796), (21.01074234702448, 2031), (20.09195852075475, 607), (20.073075491580312, 7059), (20.032415570449214, 5314), (19.937294334406964, 5944)]}, {'query_id': '21', 'scores': [(52.96089442163273, 2899), (46.425617424511294, 7863), (45.76819909916648, 3017), (34.85103291243762, 10715), (34.70151834720421, 119), (34.12765129777966, 2108), (33.41321460655276, 10712), (33.09064045654601, 11153), (33.00937637793964, 5945), (32.65823742743647, 3917)]}, {'query_id': '22', 'scores': [(32.46942005155128, 6220), (31.41096541974494, 3445), (28.785837791865276, 11393), (26.707048106946488, 7059), (26.198910004174607, 6490), (26.13317032291195, 90), (25.601923423201008, 2031), (24.999871380116865, 10987), (24.45202209671145, 751), (23.754799017327567, 8620)]}, {'query_id': '23', 'scores': [(36.14798573161523, 7146), (36.01190627226688, 8190), (35.96825956756692, 80), (34.624158017608096, 4881), (30.431253689045327, 5396), (30.37345768538855, 5409), (29.764548207450005, 9734), (29.292415997924763, 5328), (29.019391588813598, 10017), (28.754824212558486, 5683)]}, {'query_id': '24', 'scores': [(29.87393569792235, 6662), (27.935702426368415, 9134), (26.99427424778714, 3333), (25.181947383357098, 3436), (25.168753655735266, 3553), (24.786945894925243, 6484), (23.995047817607222, 2379), (22.6553994743499, 4784), (22.600576080160973, 3560), (21.567541822287946, 8757)]}, {'query_id': '25', 'scores': [(41.15741503326249, 1432), (33.659000406643614, 3350), (29.597096218772037, 11129), (27.74969950585603, 8057), (26.887137236401045, 589), (26.736195220277935, 4868), (26.386779050465076, 118), (26.09351843375022, 4034), (26.055426282027902, 8385), (25.362805336314025, 8755)]}, {'query_id': '26', 'scores': [(38.2105691740469, 7225), (37.4141943827885, 5799), (30.696464870847173, 8178), (28.274106399900298, 3806), (26.482822477272585, 1649), (25.518497154918624, 583), (24.238033441493297, 6841), (23.82553087433609, 10715), (23.82553087433609, 7432), (23.05157305908125, 3917)]}, {'query_id': '27', 'scores': [(29.330224938531924, 7773), (26.352266311547496, 123), (23.97433675010938, 8518), (23.517504615877606, 9869), (23.517504615877606, 7652), (23.02623561784837, 3131), (22.004618116851177, 10455), (22.004618116851177, 2778), (19.555528193093984, 9159), (19.31032190279068, 9847)]}, {'query_id': '28', 'scores': [(32.42177670086968, 8229), (29.0627485048145, 3615), (26.11521269840007, 7481), (25.419349586350403, 7185), (25.30254546138976, 5471), (24.94884626282728, 3060), (23.802941316694515, 8441), (23.481470912150925, 5849), (21.446062114033367, 8440), (21.20916704043153, 7092)]}, {'query_id': '29', 'scores': [(31.471021382542165, 5393), (27.13755623723254, 3566), (23.2155766480636, 9132), (22.835445433728808, 6411), (22.45297876475486, 9022), (21.469471447525333, 3003), (21.207993014336264, 10006), (20.245917542478118, 11123), (20.014222150194634, 5800), (19.69391683697674, 9738)]}, {'query_id': '30', 'scores': [(37.923118025144596, 9510), (28.897927643474393, 4168), (28.78438260090556, 9509), (28.260080365103413, 5998), (27.903704142645374, 3821), (27.725320801838965, 1283), (26.714572155150822, 2733), (26.65996353939101, 8784), (26.62823582370588, 7522), (26.577192248529077, 5796)]}, {'query_id': '31', 'scores': [(49.306751946615854, 8614), (37.460082566718405, 8392), (36.01067486926058, 3103), (35.76996941656097, 4134), (33.5103750652613, 3333), (32.700909944536306, 2109), (32.11205454855569, 2741), (29.89448013921787, 10958), (29.414599039226793, 3552), (28.35686976256121, 9127)]}, {'query_id': '32', 'scores': [(35.16975953274842, 1821), (32.91380448960757, 913), (30.77044230547191, 9159), (30.56528769617698, 10455), (27.214891724909364, 1702), (26.19743393274694, 1447), (23.744507820033526, 3929), (23.522307551077176, 5012), (22.60009271605055, 8415), (21.445326974905665, 8789)]}, {'query_id': '33', 'scores': [(43.45778985678068, 6133), (39.6889190317988, 7052), (38.10582401858194, 5404), (35.20244934827997, 5098), (32.10959415697939, 7051), (32.033201370349374, 10411), (31.73323244659688, 10829), (31.644181040558433, 2899), (31.623841193984383, 9049), (31.38672461614417, 9919)]}, {'query_id': '34', 'scores': [(45.57761009127948, 9209), (38.03894639088111, 5524), (36.47933266297157, 9842), (36.25894263328575, 5498), (35.45220713774887, 11262), (34.2338766707956, 241), (33.999187720322674, 2728), (33.78252222590534, 4664), (32.38981147727159, 6755), (32.11782634205783, 7055)]}, {'query_id': '35', 'scores': [(29.426861189580553, 2143), (25.389565281394667, 6325), (25.009086226902976, 5114), (24.72775194096937, 3702), (24.60359204552541, 6591), (23.203423569474296, 5939), (23.10841923204121, 10296), (22.5013216723892, 7054), (20.78060634584743, 3921), (20.139818721036814, 1557)]}, {'query_id': '36', 'scores': [(22.95288702289451, 5149), (22.524023680233245, 3452), (20.208662314781723, 7059), (20.19913197988319, 8524), (19.695864537117288, 9908), (19.58579474483445, 10006), (19.582389908973916, 6884), (19.33546520937803, 5324), (19.33492760371584, 2673), (18.862920169588364, 773)]}, {'query_id': '37', 'scores': [(39.414940081600534, 9483), (34.87263627617678, 3797), (34.2554601919305, 85), (33.68305452313935, 10270), (32.884987151252346, 9131), (32.41929623694367, 1251), (31.541555944078265, 4024), (30.99338615767931, 2255), (29.858962373577338, 8783), (29.643957527864643, 9484)]}, {'query_id': '38', 'scores': [(55.99913138391213, 331), (47.78380823791546, 9622), (40.87049800176322, 475), (39.05770040046702, 10102), (37.739340266631, 4043), (37.02769128819742, 10827), (34.44943806318676, 11279), (33.95963072101247, 3017), (33.934373397102306, 2647), (33.9167928352227, 212)]}, {'query_id': '39', 'scores': [(23.326679757782138, 908), (22.26842380927475, 8294), (16.339399593787036, 9053), (16.12419123000334, 2156), (15.83218317694983, 4512), (15.76368192453003, 11245), (15.76368192453003, 8089), (15.76368192453003, 118), (15.616974813166134, 11393), (15.616974813166134, 6221)]}, {'query_id': '40', 'scores': [(34.52890110425271, 2743), (33.14297063980082, 9481), (32.256489349502566, 10565), (32.256489349502566, 10111), (31.158535902154064, 732), (30.54536823022101, 11239), (30.080580727861395, 9482), (30.080580727861395, 8396), (30.080580727861395, 862), (29.55718590057017, 1782)]}, {'query_id': '41', 'scores': [(24.117441223848516, 9855), (23.91441856187483, 4708), (21.910502207804672, 4185), (17.516378360448773, 5732), (16.933817175419474, 5734), (16.059590691074604, 5458), (16.059590691074604, 5435), (16.059590691074604, 4571), (16.05655562484481, 4306), (16.054583196570547, 3484)]}, {'query_id': '42', 'scores': [(26.68434066028942, 5685), (26.33616176023048, 7788), (25.927717490571247, 4308), (25.8597214568702, 6513), (25.715444314108716, 5149), (25.569511054743906, 262), (25.514896279314197, 3718), (24.69027707589498, 6514), (24.69027707589498, 5136), (24.69027707589498, 2449)]}, {'query_id': '43', 'scores': [(49.25864531837785, 6231), (43.17043172080192, 4308), (37.21549723693807, 3718), (37.01100902767359, 6441), (35.177580005716266, 140), (34.38340727343032, 5831), (33.187525856269936, 5850), (32.7081230930443, 11023), (32.7081230930443, 2932), (32.39517598866475, 5149)]}, {'query_id': '44', 'scores': [(32.6251782626712, 6511), (28.673405628303847, 5452), (24.544761063966355, 5209), (23.92015950447979, 8424), (23.297820947231372, 8098), (23.297820947231372, 7988), (22.02007005508393, 6421), (21.324047086597393, 5429), (20.781212951825413, 3573), (20.21673781855063, 2040)]}, {'query_id': '45', 'scores': [(37.418037570493254, 6708), (30.247663827643517, 5430), (28.593666863786204, 273), (27.103226588195998, 3968), (24.702655272544458, 6157), (24.674995263317562, 3940), (24.160681989702983, 5843), (23.48470751740487, 10323), (23.3486599037541, 4194), (23.29854839477839, 3483)]}, {'query_id': '46', 'scores': [(53.1344946268948, 3598), (46.11276835595043, 3142), (42.194898383701336, 6236), (39.51561873155674, 3484), (37.21376462684663, 6336), (36.209050229750204, 3938), (36.059780172854644, 4311), (34.32429349671254, 4053), (33.493333021777005, 8425), (33.23943705448196, 11167)]}, {'query_id': '47', 'scores': [(24.397772174357627, 10635), (24.279461963119175, 1625), (23.69359635073282, 6271), (22.623231496456587, 6907), (22.291733913489992, 11326), (22.12710438565579, 10364), (21.63308380331677, 11325), (21.63308380331677, 10504), (21.46443794158988, 1486), (21.46443794158988, 1298)]}, {'query_id': '48', 'scores': [(22.374486686522786, 10023), (22.374486686522786, 3484), (21.74388197325615, 4301), (21.282229484379737, 2177), (20.809335197608345, 3140), (19.527325132724787, 3408), (19.402602555099392, 6247), (18.823988053057654, 150), (18.37899437811049, 775), (18.369754519704664, 5759)]}, {'query_id': '49', 'scores': [(32.29568544472036, 4208), (31.26618507846641, 5348), (29.978581989599768, 3535), (22.54629606792235, 1158), (21.82376242677771, 2974), (21.82376242677771, 2955), (19.763373656793092, 8239), (19.763373656793092, 2431), (19.134768765387555, 4594), (19.03856998257185, 5228)]}, {'query_id': '50', 'scores': [(21.059358896981507, 11098), (20.404520212122264, 7675), (20.35373818859136, 5726), (18.931147819681073, 6783), (18.773322828187673, 1606), (18.720493892716355, 7686), (18.60680055559576, 8468), (17.968436172093693, 6961), (17.968436172093693, 5887), (17.968436172093693, 5467)]}, {'query_id': '51', 'scores': [(47.989715000869424, 8222), (45.43264843914447, 6877), (41.64060990393575, 7716), (40.687075363985144, 7073), (35.16304046112502, 5029), (31.631306286054674, 5550), (31.239289110895903, 7795), (31.239289110895903, 3162), (30.94915337548133, 6614), (30.772431896815974, 8435)]}, {'query_id': '52', 'scores': [(31.966987317161188, 5457), (28.532748307368458, 3140), (27.072767958054797, 4595), (26.8065939198153, 5556), (26.375888151916573, 5451), (26.21662689153332, 4571), (26.07607741818883, 8410), (25.336455697756907, 11169), (25.336455697756907, 9402), (25.336455697756907, 9069)]}, {'query_id': '53', 'scores': [(30.753155632194165, 2578), (23.558511627212148, 2410), (23.557877063459376, 2079), (23.55622845409127, 3445), (22.539370902459908, 729), (21.694148878894445, 6715), (21.683088082983502, 2976), (20.875189035091115, 5044), (20.875189035091115, 4343), (20.86529568656328, 6636)]}, {'query_id': '54', 'scores': [(25.548505595938103, 10023), (25.430547906899065, 811), (25.40549521828185, 6876), (25.389312071433505, 3140), (25.2784552308954, 5435), (24.61130662454604, 6247), (24.528609156411747, 2445), (23.9167254605195, 1938), (23.844418379469737, 8651), (23.78791776603382, 7789)]}, {'query_id': '55', 'scores': [(23.596008636257945, 2075), (23.39290021003858, 29), (23.194045786997293, 10630), (23.06224150072607, 3977), (22.06488492771488, 8555), (21.718924747277555, 948), (19.46142972835905, 9879), (17.72468664904367, 2697), (17.550239498436774, 6768), (17.4593114610283, 4523)]}, {'query_id': '56', 'scores': [(21.231349971619753, 1496), (20.950452748833328, 3987), (20.087359618409877, 8972), (19.82855029384752, 4099), (19.67584073965379, 9090), (19.67584073965379, 3530), (19.390932608601048, 2081), (18.820221285618626, 5759), (18.478517520395748, 10371), (18.44536225021777, 5487)]}, {'query_id': '57', 'scores': [(35.02788181767157, 7694), (31.746834534931097, 10335), (31.535089805351962, 7172), (31.18511995065983, 9793), (31.04199657306865, 7759), (30.839280284012332, 3848), (30.72228448674027, 6969), (30.55709406190534, 4203), (30.192724562245687, 6781), (29.90547953591459, 9795)]}, {'query_id': '58', 'scores': [(29.535504387967258, 8197), (25.69757917672643, 6856), (25.069377100041486, 9557), (23.513859330915686, 4929), (22.486724905300225, 6708), (21.82773617181867, 7759), (20.155781422473034, 6143), (19.889180655041383, 4887), (19.437993429412135, 6337), (19.23790980773248, 8102)]}, {'query_id': '59', 'scores': [(28.804138909930693, 5440), (25.750535020723095, 5452), (24.921162263673533, 10367), (23.801874048057627, 5058), (23.590446499346513, 9787), (23.05780189551943, 1661), (22.87873362182402, 4708), (22.790039696667716, 4709), (22.76163012632769, 5734), (22.30474017646214, 8951)]}, {'query_id': '60', 'scores': [(29.629905825883228, 9703), (28.48951110922794, 4443), (27.10916237300698, 6089), (27.02440715074552, 9704), (26.61266046442434, 3277), (26.402492832603627, 7904), (25.7428154088145, 10181), (25.465177108221294, 1076), (24.335534874173902, 5568), (24.131104034349015, 2320)]}, {'query_id': '61', 'scores': [(22.637663285397494, 8293), (22.01479571545022, 2279), (21.502552599073358, 4147), (21.24879173724299, 8294), (20.616965272895513, 9209), (20.175704962768798, 11393), (19.850961294688286, 6476), (19.800661506688712, 6190), (19.56180275616554, 6221), (18.31681700574694, 2154)]}, {'query_id': '62', 'scores': [(23.626816548121184, 10356), (23.500475660912663, 8340), (22.33613318194213, 8961), (18.38727539275379, 11320), (18.38727539275379, 532), (17.096592026574733, 9774), (15.624002727871883, 8425), (15.531848479247248, 9297), (15.531848479247248, 6775), (15.531848479247248, 4734)]}, {'query_id': '63', 'scores': [(31.591927735273924, 9950), (28.622136889853145, 9697), (22.900918018091822, 4337), (22.184540866780495, 654), (21.88081564417629, 7085), (21.35570207716512, 10338), (21.35570207716512, 6347), (21.328982274742515, 7374), (21.12253425618119, 6349), (21.121810797152833, 6973)]}, {'query_id': '64', 'scores': [(25.303807977672438, 7604), (25.189774769432667, 6467), (25.028678153833138, 66), (25.013027697032296, 200), (24.899097427078743, 8395), (24.326255204480137, 5581), (24.325049364237564, 2160), (24.051125380640837, 7605), (24.051125380640837, 6576), (24.051125380640837, 5696)]}, {'query_id': '65', 'scores': [(30.10866746806336, 6763), (28.444686007822153, 5469), (27.75169736484103, 6782), (24.103758625062706, 8117), (21.74610302181143, 4835), (21.23335158447034, 7077), (21.233007784779325, 20), (20.172226711421022, 7561), (19.86096616222518, 4827), (19.480264794783224, 6789)]}, {'query_id': '66', 'scores': [(23.89235710683002, 8597), (23.876539951685338, 1510), (22.625199307579738, 8589), (22.562867884864076, 7508), (22.433071663327325, 1881), (22.379876136065697, 3129), (22.326044452811264, 5781), (22.042930669672273, 11082), (22.003710497084057, 6639), (21.982028913555464, 8872)]}, {'query_id': '67', 'scores': [(29.268533181726358, 6640), (28.21357115970665, 8035), (28.12907686581702, 10380), (26.90044960451849, 4901), (23.462265642511618, 9156), (23.462265642511618, 4123), (23.261308589219684, 1378), (22.866972865544813, 2988), (22.226361420901824, 4977), (22.118196028402146, 3570)]}, {'query_id': '68', 'scores': [(23.69508433701312, 4189), (19.545127849389267, 3064), (18.956935723193407, 7261), (18.50739682821024, 6601), (18.179480042394175, 6816), (18.01723691217736, 6460), (17.89427964688026, 5225), (17.875738503562147, 7836), (17.701629188896128, 6902), (17.69386050571765, 7546)]}, {'query_id': '69', 'scores': [(39.541881510196596, 4611), (36.32333975894991, 9182), (35.79856836644391, 4437), (33.83033282547303, 4204), (32.94010811539969, 5043), (27.83078794185362, 1953), (27.217859702334533, 3503), (26.932605191272604, 7474), (24.630352112996356, 10042), (23.094521127715566, 6714)]}, {'query_id': '70', 'scores': [(26.345466641390704, 6876), (25.814889794192574, 1743), (21.848370595378853, 8193), (21.848370595378853, 3522), (20.728270420422, 4340), (19.55525062223559, 5649), (19.02619345217833, 11075), (19.02619345217833, 5376), (18.719119291771293, 6080), (18.5321011410824, 2112)]}, {'query_id': '71', 'scores': [(18.376504285454473, 6816), (18.336280208340604, 6894), (18.202833115367888, 4413), (18.19673001805538, 7295), (17.424274500393125, 6358), (17.074799875457906, 6060), (16.665265646062515, 11043), (16.665265646062515, 3471), (16.601501828922572, 6946), (16.251875724873987, 1458)]}, {'query_id': '72', 'scores': [(20.714990475951126, 10064), (20.052324031885217, 540), (19.94231053237722, 2212), (19.595540653004935, 3987), (19.357659645116563, 1606), (19.00966887035853, 9196), (18.82286070943103, 10639), (18.82286070943103, 10511), (18.82286070943103, 4107), (18.55288549147825, 10062)]}, {'query_id': '73', 'scores': [(19.135582951145572, 8557), (17.550422679215536, 6898), (17.550422679215536, 4597), (16.91152458985444, 8016), (16.91152458985444, 7195), (15.970170685666574, 9706), (15.970170685666574, 9201), (15.247803781177476, 7579), (12.97009909131187, 11043), (12.97009909131187, 4208)]}, {'query_id': '74', 'scores': [(21.470372764168218, 10762), (21.470372764168218, 4107), (20.53773110214953, 2792), (17.538166842323463, 9315), (14.558800156674447, 11062), (14.397697764248363, 9314), (14.397697764248363, 1199), (14.270126391039149, 6816), (14.127722546295583, 10201), (14.127722546295583, 2090)]}, {'query_id': '75', 'scores': [(14.116699319458004, 8117), (13.871721340988024, 9800), (13.678484868508157, 6789), (13.615916970681319, 3391), (13.429590330581373, 9694), (13.429590330581373, 9541), (13.429590330581373, 7170), (13.086357046186734, 9082), (13.086357046186734, 7914), (13.086357046186734, 7698)]}, {'query_id': '76', 'scores': [(20.194788554214313, 960), (19.036679938669952, 1190), (19.036679938669952, 429), (16.51813835023834, 3065), (16.36397284029604, 10318), (16.02692633322562, 2982), (16.00964933185625, 7673), (15.625152636135159, 9788), (15.199630361325507, 5258), (15.199630361325507, 3628)]}, {'query_id': '77', 'scores': [(29.936523312099784, 7601), (28.841162296765198, 7836), (28.67404053829608, 9974), (28.3204352206325, 3317), (27.31979787103144, 6923), (27.237311777312055, 9804), (26.71316197017948, 4748), (26.166393747738276, 7837), (25.94121663848839, 2095), (24.771830643126986, 5569)]}, {'query_id': '78', 'scores': [(41.976797200164775, 4423), (41.948507855348815, 3271), (41.88618203348784, 9417), (41.03947126302658, 6973), (40.548556343646844, 7085), (40.502258258341634, 6087), (40.01129305071692, 5855), (39.1656376614987, 654), (38.067778905064664, 5975), (37.634957875361984, 9422)]}, {'query_id': '79', 'scores': [(31.03575712991735, 4137), (28.10216952312708, 8189), (24.092036036985185, 6414), (23.76314610426908, 7489), (23.287371416057525, 5620), (23.13125479732913, 2307), (22.419830619968035, 4704), (21.968747315872925, 10723), (20.80578966328833, 806), (20.639471988543605, 10018)]}, {'query_id': '80', 'scores': [(22.217484763829475, 8417), (21.611650092306313, 6367), (21.235569636106874, 1155), (20.80076620826298, 9199), (20.272057404564595, 7664), (19.833214487523318, 5505), (19.304505683824935, 3251), (19.143816285710205, 73), (18.242191837076284, 8332), (17.96988410618863, 6462)]}, {'query_id': '81', 'scores': [(38.906824308319926, 2947), (36.87203270105445, 9935), (31.759824688169196, 5641), (31.300392777004447, 7999), (30.054565428270255, 11029), (29.702375485483678, 6698), (28.695808391142492, 3960), (28.37248801100842, 6063), (26.92891713904384, 7165), (26.1484555526296, 4119)]}, {'query_id': '82', 'scores': [(26.034777687475014, 3706), (25.195412621489425, 4929), (24.707981337729535, 5149), (24.449318344863514, 9934), (23.915331754133163, 7379), (23.556332630760338, 6739), (23.17008791009266, 6415), (22.246037756462318, 1075), (22.140902230068235, 5848), (21.64592917677956, 6599)]}, {'query_id': '83', 'scores': [(35.68616450373739, 1084), (35.472945863045254, 9806), (33.98343314162573, 4628), (33.344948805847245, 6715), (32.4293358803036, 10191), (32.33111422598615, 4623), (31.797959348860537, 8569), (29.589403235308673, 2981), (28.834147008556446, 6098), (28.807730920525778, 8843)]}, {'query_id': '84', 'scores': [(31.244059303845454, 4413), (27.424826284612294, 6946), (25.399297639798665, 8958), (24.475406767433128, 7341), (24.475406767433128, 7179), (24.39923747280663, 6050), (23.746329758129182, 6331), (22.79201297348947, 6461), (22.79201297348947, 6137), (22.79201297348947, 4411)]}, {'query_id': '85', 'scores': [(24.40382555994222, 6176), (22.792222357012268, 5916), (22.543570935982395, 3042), (22.480902221231982, 9818), (22.469030168562362, 1661), (21.935309174121237, 9238), (21.40054069890858, 6853), (21.31125293659482, 4994), (21.06072848462612, 113), (20.864868253719457, 10385)]}, {'query_id': '86', 'scores': [(40.00475030192071, 8024), (33.7858301304223, 4450), (33.67778814462712, 3529), (33.22363890574415, 8327), (32.74514648260843, 11051), (28.88304139377996, 3981), (28.236241044198362, 8843), (28.176032760989752, 7193), (27.946317934165265, 9877), (27.642892652840615, 6713)]}, {'query_id': '87', 'scores': [(30.345263019295942, 3313), (28.63026510476573, 6930), (27.744524752321738, 4969), (25.684632608429094, 4100), (24.80240698718022, 9101), (24.174730441724215, 3376), (24.133743195671457, 2476), (23.863116088680293, 6556), (23.32008334028257, 5233), (22.75144073770554, 9641)]}, {'query_id': '88', 'scores': [(38.25272122803551, 3547), (33.67440497256652, 8578), (32.296777807701886, 5998), (32.06445333658378, 7830), (27.928115483372025, 5379), (26.572538234408963, 8861), (26.338307185012034, 6734), (26.23989200303801, 9218), (26.044940732783154, 6481), (25.955844005263394, 5694)]}, {'query_id': '89', 'scores': [(24.453054049898792, 2286), (23.87205548390424, 11177), (23.529585357817602, 11335), (23.51188072701515, 11290), (23.442679122309357, 3936), (23.117951128058944, 11205), (23.117951128058944, 10901), (23.117951128058944, 10349), (23.117951128058944, 943), (22.97837475122338, 10343)]}, {'query_id': '90', 'scores': [(27.261723518773724, 7010), (25.928718534473994, 3885), (25.76405734745044, 4759), (25.352849688411347, 6189), (23.496703127068884, 2717), (23.027083345108437, 6580), (22.973977363031068, 3309), (21.897730473676773, 4114), (21.320500120272428, 1347), (20.97296023267996, 4754)]}, {'query_id': '91', 'scores': [(37.76590408245383, 4750), (34.404941731500784, 6580), (33.847799341228665, 4642), (32.3331160514061, 7602), (31.761282080328503, 9863), (30.883955035161808, 8384), (30.36947675820098, 1991), (29.84813764614711, 9990), (29.219701320552474, 7735), (28.513872677973488, 7593)]}, {'query_id': '92', 'scores': [(40.2047957594721, 8380), (38.23769645510018, 4977), (38.20528151405591, 1378), (35.59038128589504, 3570), (34.57714702088281, 8723), (34.15539377102618, 83), (32.108076992663534, 6483), (31.240401656935383, 3684), (31.14098953047543, 4236), (30.963696754707158, 8713)]}, {'query_id': '93', 'scores': [(39.28814778454994, 2963), (32.50258261765618, 532), (30.917342365007286, 10468), (30.7614495897135, 3858), (29.567656895080354, 2695), (29.41594416454069, 4343), (29.181634918258208, 8115), (29.062815043916984, 3536), (27.984200307628463, 9706), (27.016827131856864, 6365)]}]\n"
     ]
    }
   ],
   "source": [
    "bm25_results = query_processing(trec_dl_2020.queries_iter(), taat_bm25)\n",
    "print(bm25_results)"
   ]
  },
  {
   "cell_type": "code",
   "execution_count": 20,
   "metadata": {},
   "outputs": [
    {
     "name": "stdout",
     "output_type": "stream",
     "text": [
      "query_processing (2586.144 ms)\n",
      "[{'query_id': '1', 'scores': [(30.223860516119117, 3692), (29.691583309945827, 7233), (25.41315778137699, 5501), (24.32090058992211, 9858), (23.273173682113566, 7922), (21.529062765292075, 4570), (20.233390332013307, 7733), (19.616342494992008, 2235), (19.225903771406433, 6823), (19.07435886632644, 4571)]}, {'query_id': '2', 'scores': [(27.31887911071231, 3333), (22.43881142618663, 4570), (20.862578575260166, 8252), (20.723962639433328, 8996), (20.490238869696903, 7777), (18.537348166556495, 10234), (17.67696990561112, 4340), (17.56306188831163, 8380), (17.56306188831163, 4135), (17.098382867181424, 8382)]}, {'query_id': '3', 'scores': [(57.71381165880253, 7085), (55.462490065018585, 6347), (54.61231741908634, 5649), (51.397655071546964, 6973), (48.01943578981415, 6535), (46.66208107908988, 5978), (44.449523170986595, 5249), (40.374052284394494, 8345), (40.10101534683967, 9179), (36.008923306134974, 4708)]}, {'query_id': '4', 'scores': [(62.94518851425234, 7526), (26.066981963602732, 3594), (22.54116523416173, 7345), (20.617767194096363, 7653), (20.242254120455737, 4704), (19.513302452748817, 5436), (18.516551604540908, 4595), (18.417611795342456, 6946), (18.40935123460032, 3445), (17.828135646706325, 396)]}, {'query_id': '5', 'scores': [(37.274212534449525, 4708), (26.56899553328331, 4053), (24.017533543546598, 4306), (22.148987096509114, 2372), (20.73613260950705, 11428), (20.441968683408504, 9666), (17.378455258471103, 139), (16.788675182723576, 1585), (16.375829967317788, 7874), (16.375829967317788, 4307)]}, {'query_id': '6', 'scores': [(21.504709605253296, 5439), (21.262569553248433, 5262), (20.21379929099683, 9666), (18.468590252775154, 5436), (14.942478726279337, 7327), (14.67606936423789, 4593), (13.657280482030814, 11303), (13.036939661996387, 10161), (13.036939661996387, 8642), (13.036939661996387, 5434)]}, {'query_id': '7', 'scores': [(61.57833638931638, 6568), (49.942901642170554, 6924), (47.31562319423365, 6385), (43.038941624777244, 5902), (40.3196785645886, 6564), (38.45060142212087, 6016), (37.6347736521828, 5291), (36.72898312045865, 2095), (36.68690945634068, 7601), (36.14442812687122, 6186)]}, {'query_id': '8', 'scores': [(42.73845380318143, 3773), (37.78789577789901, 5505), (35.81340453257085, 11349), (28.8424663384841, 4752), (28.476312282494547, 6299), (27.190647191893987, 299), (25.498731718245633, 7415), (24.56491650438535, 11129), (24.24350023173521, 707), (23.879523935320268, 9593)]}, {'query_id': '9', 'scores': [(43.263584215158254, 6380), (37.23505655143399, 5505), (34.86367780206128, 4752), (34.13579748956046, 3088), (31.277384534550194, 5682), (29.779091190570618, 7013), (28.189020042485815, 5504), (28.189020042485815, 5070), (26.19092414025993, 6110), (25.24875186839235, 9718)]}, {'query_id': '10', 'scores': [(23.83086860556803, 10616), (23.14570370713085, 7088), (22.10263563030396, 6965), (20.154315654385147, 6704), (19.48455143145985, 7269), (18.896157704301757, 6976), (18.74841884326834, 7458), (18.51147762543095, 7497), (18.352542257712777, 6629), (17.61062310012116, 6988)]}, {'query_id': '11', 'scores': [(28.534944292805186, 9932), (26.41360104772976, 8218), (26.41360104772976, 6725), (25.285818669139207, 1097), (24.132677451516894, 5503), (22.011334206441468, 7655), (22.011334206441468, 7654), (20.063762864456816, 5452), (19.7304106102286, 3472), (19.485605562133212, 4323)]}, {'query_id': '12', 'scores': [(38.38216308888022, 6708), (34.21120268522709, 7099), (32.29157976009621, 6168), (30.891539915692793, 7186), (30.62387184409052, 9428), (29.885275491264782, 3857), (28.340686443336548, 5667), (27.979598343572242, 5048), (25.809052781574245, 5479), (25.004927186904226, 9732)]}, {'query_id': '13', 'scores': [(46.53112338051086, 8345), (36.89643964218835, 5249), (35.45861936192303, 8135), (35.02926922553827, 6973), (30.931203880537907, 5988), (28.325752447088913, 5982), (26.169263072170978, 7110), (25.55395222531442, 8023), (25.25714145648192, 3630), (25.22791239995368, 7571)]}, {'query_id': '14', 'scores': [(35.20165534343912, 5649), (31.900708926755716, 7376), (29.488305717582577, 6627), (28.390843352183722, 3393), (27.39121631965593, 5978), (26.84543389060576, 6165), (26.28490199802664, 7283), (26.240709910546258, 6347), (25.5948641077192, 6535), (25.35923434570121, 7568)]}, {'query_id': '15', 'scores': [(42.16961035812594, 6987), (39.23121197160191, 3732), (32.93198867226964, 4814), (32.26722945655072, 5479), (30.665605582188107, 9800), (28.16749206061904, 8117), (27.307332024094034, 9852), (26.89731712421264, 6762), (26.63856181096839, 7694), (25.87399644006749, 6626)]}, {'query_id': '16', 'scores': [(49.92675704592564, 9860), (41.29865285817099, 4929), (39.14449907573861, 5043), (34.33814884778552, 9696), (34.33814884778552, 5640), (32.61690353521152, 9663), (31.723137419109328, 6143), (31.55189958729386, 6095), (28.886628865709078, 2090), (28.24734383118879, 6766)]}, {'query_id': '17', 'scores': [(49.21448607814496, 11129), (44.26538385136281, 11393), (39.03807527673321, 10980), (38.15358981409619, 495), (37.16613811952898, 4150), (36.282066312736745, 2160), (33.63392071274438, 9485), (33.31435237048512, 4769), (31.967344666875498, 8784), (30.38831084221302, 1432)]}, {'query_id': '18', 'scores': [(32.32676955872279, 3445), (31.504396398665204, 11393), (29.836457790601315, 7636), (26.521762102237144, 9740), (25.32795372358779, 6592), (24.82958346674809, 11269), (23.97600286318139, 8079), (23.947991767535203, 4507), (23.89384695978668, 5504), (23.86565075203702, 3319)]}, {'query_id': '19', 'scores': [(27.43348669333135, 11393), (23.89384695978668, 5504), (23.86565075203702, 3319), (23.45822791863765, 10104), (23.43708076282541, 5100), (21.463549479353386, 2894), (20.893200442196253, 9766), (20.653450319208954, 11126), (19.925307446641867, 980), (19.58605184970977, 7614)]}, {'query_id': '20', 'scores': [(29.184044251561968, 7425), (26.769253663932133, 6585), (22.483406599668317, 6490), (22.30408408512967, 7852), (22.25209231004114, 7058), (21.586299549715957, 6177), (21.273531329355407, 9908), (20.902428681621583, 6217), (20.313129899033775, 6598), (19.861827252710146, 5314)]}, {'query_id': '21', 'scores': [(79.96067740819758, 3333), (71.23239297641884, 7863), (69.37422263161149, 2899), (56.304509799479845, 3917), (46.26565194807714, 3017), (42.19387041179375, 5945), (40.61845260424539, 7150), (40.22114228129549, 7111), (36.55048782645477, 2148), (36.352421699611405, 10714)]}, {'query_id': '22', 'scores': [(48.13881570165542, 3445), (42.74024159019585, 11393), (35.413096245455066, 6220), (29.90217156313156, 5527), (26.6978472512556, 10446), (24.725304584758298, 7144), (24.25697836883297, 8622), (24.23202233310787, 4760), (23.464827386972335, 5942), (23.311459124859002, 751)]}, {'query_id': '23', 'scores': [(43.94983134032671, 5409), (41.28376107274005, 8190), (36.21867048482916, 9734), (35.73096340827175, 7146), (35.315322980046304, 5396), (32.98856435051819, 4881), (31.176731406652376, 5113), (26.577400307548785, 7608), (25.614155494464228, 4403), (25.390117288650625, 4681)]}, {'query_id': '24', 'scores': [(60.82889515569924, 3333), (31.668959990596115, 3560), (22.70621571649737, 6411), (22.1293622092374, 6662), (20.790517156160348, 2899), (20.73941970350634, 3553), (20.436366079308893, 4777), (19.921538302323448, 9734), (19.40057465042929, 5089), (19.35982692448451, 5396)]}, {'query_id': '25', 'scores': [(42.146235116165414, 1432), (35.1253641598565, 4868), (35.10273261247182, 11129), (30.0709555084274, 8385), (27.719334603369287, 707), (27.116905577746657, 7225), (26.43177023307615, 5799), (26.370789899560577, 8178), (25.886979609931508, 9046), (25.68565455489007, 7612)]}, {'query_id': '26', 'scores': [(46.25541578575185, 5799), (44.804337673948346, 7225), (33.58132050277669, 8178), (28.70520485640636, 7612), (27.05704551050739, 6841), (26.929931263663406, 7966), (24.375404825447454, 10015), (21.273293627162243, 5938), (21.021700874240512, 5404), (20.111768263879064, 2899)]}, {'query_id': '27', 'scores': [(29.807907589945348, 8415), (28.480672652542882, 5505), (28.299549811190296, 9847), (27.89773085549998, 7773), (26.428946349730076, 9159), (21.360504489407163, 4752), (20.55686657802653, 2011), (19.48990102794694, 3824), (19.48990102794694, 1124), (19.308778186594353, 4292)]}, {'query_id': '28', 'scores': [(34.52062104848745, 8229), (28.247884852941816, 3615), (27.919114736929043, 9282), (27.47362272545798, 7481), (26.98921835299911, 8053), (26.98921835299911, 4719), (22.86700280341486, 4432), (22.79912882055665, 3965), (22.694008814001798, 7185), (22.629668097236348, 5471)]}, {'query_id': '29', 'scores': [(50.46216737999703, 3333), (33.572410341047025, 5796), (29.403624375335774, 11123), (27.147411310445907, 5393), (26.653705678961597, 9738), (24.053793822663543, 9132), (22.38160689403135, 4270), (22.11009157460407, 3554), (21.595215790954995, 3229), (19.870729362919953, 2113)]}, {'query_id': '30', 'scores': [(57.58700555366929, 3333), (36.303315994301144, 615), (35.70729013565197, 6924), (34.63333034664234, 4868), (32.968784884505375, 9509), (32.93358452727233, 3572), (29.52772753435461, 3821), (28.605992061535904, 9112), (28.112391071880268, 2899), (28.033922317356016, 9510)]}, {'query_id': '31', 'scores': [(72.95313985494806, 3333), (36.776961563516046, 8392), (36.327357420056, 8614), (33.3191563310686, 3103), (29.196879912520842, 2001), (29.07171888008376, 4874), (27.615197002604734, 4868), (26.65351062836524, 2109), (25.87604821415589, 3552), (25.772150669009115, 5392)]}, {'query_id': '32', 'scores': [(41.58929581797769, 9159), (39.506857935948155, 1821), (38.31127096925636, 913), (31.9755623218258, 8415), (28.480672652542882, 5505), (28.299549811190296, 9847), (23.96999825149098, 1702), (23.758163830921664, 5012), (21.360504489407163, 4752), (21.084203160622227, 10455)]}, {'query_id': '33', 'scores': [(46.91704087257916, 3333), (39.778384586960215, 6411), (39.01559617429075, 5114), (37.9218203075319, 6133), (34.81692142324438, 7052), (31.710442775840477, 2622), (30.586097584686552, 336), (28.98650376529453, 6815), (28.845800204238714, 4992), (28.748095514944865, 11261)]}, {'query_id': '34', 'scores': [(49.00862042175376, 5498), (48.003223649865106, 615), (36.05837157892664, 7634), (33.836849395719014, 10927), (33.117314252146016, 5614), (32.92422266026129, 5404), (32.590294104197966, 11262), (30.992056876036017, 9389), (29.99398286956639, 3653), (29.40503027609558, 7958)]}, {'query_id': '35', 'scores': [(31.521572359214733, 615), (29.415272707570768, 7058), (28.864562396110763, 3567), (25.45553094687725, 5939), (24.9907943749505, 2143), (24.19688791054973, 3566), (23.80094046686555, 6325), (23.311217922848407, 4408), (20.921947523831797, 2031), (20.69977233794362, 4509)]}, {'query_id': '36', 'scores': [(32.14981097572804, 4708), (23.443482273496212, 9908), (22.78258481132636, 4308), (21.44459397456182, 4053), (20.313129899033775, 6598), (20.305632239856376, 139), (19.719071386388958, 6515), (19.309196422511008, 6028), (18.76241878565603, 11393), (18.75679554127298, 3042)]}, {'query_id': '37', 'scores': [(61.82616738366198, 3333), (39.59568087380127, 5114), (31.85650293690438, 9483), (29.011178926322845, 9484), (28.95557274341305, 10113), (28.923557027832256, 10270), (28.398491670604024, 8383), (27.40360236815126, 6735), (26.754970662544316, 3797), (26.164199787950068, 4024)]}, {'query_id': '38', 'scores': [(34.68960025135627, 9622), (33.85801690412638, 10827), (30.973000566795257, 9910), (30.83137837199588, 331), (30.332467891720952, 2148), (30.262672129785415, 204), (29.25670182977113, 2743), (26.89615426629723, 3017), (25.77598110566727, 11279), (25.058746482445123, 2647)]}, {'query_id': '39', 'scores': [(19.016152114297427, 908), (18.439587265388727, 3014), (17.359851831808555, 9918), (17.359851831808555, 5533), (17.359851831808555, 5003), (17.359851831808555, 4407), (17.359851831808555, 1700), (16.70780632693416, 9053), (16.589246592209605, 2156), (15.32823466121968, 8294)]}, {'query_id': '40', 'scores': [(36.55535301037302, 2743), (35.095721887166164, 204), (31.72230325299227, 9481), (30.332467891720952, 2148), (28.58899406611932, 476), (24.139186280062027, 10565), (24.139186280062027, 10111), (23.755944308738574, 2253), (23.446039099502084, 11237), (23.194724671221177, 11239)]}, {'query_id': '41', 'scores': [(43.93728722798929, 4708), (30.543407115572876, 9855), (21.44459397456182, 4053), (21.088628161498825, 5732), (17.998888709756027, 8992), (17.998888709756027, 3319), (17.50549281621946, 4185), (17.241254136957618, 4306), (16.10142772429082, 5734), (15.317567124687015, 9666)]}, {'query_id': '42', 'scores': [(30.63513424937403, 4708), (22.713426426829418, 6896), (21.737244640322793, 7788), (21.572741360747187, 6028), (21.44459397456182, 4053), (21.239033428019596, 9789), (20.53967504736701, 11041), (20.534303295603515, 5685), (20.34389963078111, 8331), (20.34389963078111, 7183)]}, {'query_id': '43', 'scores': [(71.73668993439537, 4708), (57.770179492964644, 4053), (45.052795713986214, 4308), (41.41367204704102, 6231), (38.924477183362306, 1307), (36.279082456446254, 140), (32.559685939605984, 139), (32.22633206031311, 3719), (32.10636481032019, 6028), (30.63513424937403, 9666)]}, {'query_id': '44', 'scores': [(34.49424657978097, 4708), (33.021930965782644, 4053), (30.872898643255542, 1307), (22.94471558156419, 6511), (22.788757966527513, 5209), (22.70220845396011, 6421), (21.56347617150258, 5734), (21.56347617150258, 5436), (20.76787726603304, 2293), (20.16816002462445, 5452)]}, {'query_id': '45', 'scores': [(41.35228736265272, 5430), (24.19107148128015, 273), (22.41631489840423, 6708), (22.36575291879805, 10323), (20.298549658239466, 11024), (19.897845645722306, 1160), (19.668534797070492, 6157), (19.11122883061553, 6905), (18.204937813523042, 4807), (18.180991363719865, 6789)]}, {'query_id': '46', 'scores': [(54.35754699341086, 6336), (43.52108067738767, 3598), (43.20990594049672, 4053), (41.85644560091586, 4708), (38.2821495849561, 5236), (37.388687193340246, 6236), (34.64869398605232, 7286), (34.00342763905483, 3142), (30.872898643255542, 1307), (30.70213787415735, 3484)]}, {'query_id': '47', 'scores': [(28.40694688939878, 1625), (25.37648536591215, 6907), (24.943217022860335, 3753), (23.906026904785783, 5678), (23.79142757531934, 6098), (23.2218157540782, 3288), (23.217627152391962, 3640), (21.755484692210196, 6715), (21.48697551238908, 2083), (21.05034621252844, 3754)]}, {'query_id': '48', 'scores': [(26.240251172414737, 6247), (22.60078049822135, 7677), (21.68594197087434, 6629), (20.72620547460282, 4301), (20.067048253268826, 135), (19.5512350879918, 150), (19.488965309612624, 6815), (19.145461282253105, 6098), (19.030217107482933, 5845), (18.68671308012341, 3754)]}, {'query_id': '49', 'scores': [(26.60132212952731, 6884), (24.611910452466567, 4208), (21.0157403964569, 5348), (19.408982017507974, 4413), (17.46471684181455, 5228), (16.898608876325703, 7463), (16.742591416151487, 7073), (16.52988459555221, 3535), (16.066885006638714, 3286), (15.655905623547898, 1328)]}, {'query_id': '50', 'scores': [(35.693173170458806, 2947), (25.094506077716296, 6416), (22.29018276943637, 9939), (21.815960325862218, 7798), (21.63634878942411, 5726), (20.10448560153365, 6989), (19.011637017582288, 5030), (18.393010877205082, 9863), (18.31385784930553, 10033), (16.74678682178002, 6762)]}, {'query_id': '51', 'scores': [(53.86157613934726, 7073), (45.14271841869564, 1328), (42.24182684074105, 6877), (35.80859264186376, 3165), (30.37274666971859, 7055), (28.943459276363708, 7716), (28.48899883578957, 8222), (28.2509842208626, 9297), (27.36007802074065, 7332), (26.951207970652955, 5550)]}, {'query_id': '52', 'scores': [(33.99982277338451, 6627), (33.87041330063292, 3376), (27.639300862426804, 5457), (25.337402533806948, 9315), (23.206274925943266, 3445), (21.157242274375815, 3140), (20.952033277636378, 9277), (20.735101102629404, 7566), (20.108651854438158, 7210), (19.876293873468494, 3319)]}, {'query_id': '53', 'scores': [(25.084398610346746, 6907), (24.83875306774334, 6816), (24.249249127700928, 6715), (23.921639113400687, 9808), (22.857738529927584, 729), (21.964037964838205, 9706), (21.597539186042496, 3319), (19.278640118085434, 9966), (18.593541513260845, 2578), (18.424954340148023, 3445)]}, {'query_id': '54', 'scores': [(26.59857924593555, 6337), (26.11226918784694, 1454), (23.985605781380116, 6247), (20.753118605045014, 6876), (20.72620547460282, 4301), (19.178033614791058, 7678), (19.032874984395306, 6629), (18.59205757707386, 811), (18.546378142860263, 10023), (18.362385823052225, 3484)]}, {'query_id': '55', 'scores': [(30.229967029618958, 9704), (29.56210200149471, 29), (27.91407054533932, 6453), (24.955355680439446, 6710), (23.867815823009174, 2075), (23.644672271694965, 10630), (21.675231625229458, 9301), (21.35382243491934, 6525), (21.032413244609224, 7813), (20.043139026174856, 6102)]}, {'query_id': '56', 'scores': [(26.999084399884236, 11062), (22.475551253135855, 9314), (21.681587314873354, 2090), (21.616148744568648, 1199), (21.498478769640023, 6816), (21.127351146204013, 1496), (19.678112990154716, 3987), (19.258534278433128, 2081), (17.13755713581134, 10201), (16.88119744040702, 6907)]}, {'query_id': '57', 'scores': [(41.52198660950788, 7172), (40.796049606124946, 7694), (38.48042223685675, 9793), (37.50461707050164, 3848), (34.915903338913225, 4073), (34.56923659766353, 6969), (34.01931489554552, 9795), (33.38106363168236, 7279), (31.472799247898543, 10335), (30.427913498848607, 4203)]}, {'query_id': '58', 'scores': [(41.64496804979865, 8197), (25.84431509596844, 8102), (25.607695142295412, 6331), (25.28800136646609, 1296), (24.239485511411324, 3707), (23.76122014521367, 4343), (21.44151935621287, 920), (21.370124381276565, 9557), (21.18138182386892, 7342), (20.576183266707133, 6950)]}, {'query_id': '59', 'scores': [(39.16251716417943, 4708), (35.9217089729798, 4053), (30.872898643255542, 1307), (27.283207771431112, 5440), (26.963195868588045, 5734), (24.191712423398634, 4704), (23.230375226288103, 2293), (23.00163181327151, 3719), (21.94269822224496, 7554), (21.653556604609626, 6421)]}, {'query_id': '60', 'scores': [(45.46973315123546, 9704), (29.790608742319357, 6453), (26.831893877419486, 6710), (26.581407783694317, 6089), (26.123020720313555, 6525), (25.84602734558782, 5568), (25.708147036697078, 2551), (25.151646841812116, 7073), (25.01994502310773, 4929), (24.312537299819216, 29)]}, {'query_id': '61', 'scores': [(24.194003312630038, 8602), (24.194003312630038, 6585), (21.525153594244834, 7604), (20.796228176800113, 4361), (20.22799739139452, 11393), (19.52980277594936, 5533), (19.35446920142229, 4513), (18.35746617128576, 8293), (17.535796715676305, 6557), (17.359851831808555, 5003)]}, {'query_id': '62', 'scores': [(22.498610887195035, 5262), (19.65236986021714, 4000), (19.325297902773688, 8425), (18.060137905124932, 8340), (17.998888709756027, 8112), (17.998888709756027, 4907), (17.294646525263282, 7677), (17.294646525263282, 6803), (16.79497790747618, 10356), (14.764326529965775, 6775)]}, {'query_id': '63', 'scores': [(42.695248022497104, 9950), (35.88202173208905, 7085), (33.68428055314819, 5978), (30.747109988083125, 5249), (30.32568102898595, 6973), (29.90425206988877, 10338), (29.90425206988877, 6347), (29.482823110791593, 7374), (29.273394436379096, 7376), (27.600510748605572, 8345)]}, {'query_id': '64', 'scores': [(33.27343512818519, 4868), (32.40329528261379, 11393), (29.62969201896268, 5694), (28.14781889158949, 7604), (27.50616666854852, 5589), (26.22790489967534, 8385), (25.85775609487634, 7136), (25.7950865148131, 66), (25.553495773091125, 5998), (24.88367258603474, 4659)]}, {'query_id': '65', 'scores': [(31.50113511181391, 6782), (24.91218437492303, 7279), (24.185363979256493, 8117), (23.487262205571867, 7559), (21.801513210946307, 1239), (21.296910507523407, 5146), (21.18265575140573, 5469), (21.101219062477135, 7561), (20.64585471260368, 7172), (20.64163628973661, 6626)]}, {'query_id': '66', 'scores': [(29.16504935658831, 8385), (28.047438163518287, 2717), (25.77252470955951, 8597), (25.51097126813637, 7337), (24.761618001310502, 2221), (21.757738102933658, 9939), (21.701979423333945, 10783), (21.502896096098503, 8589), (21.49618466151052, 6639), (21.48947322692253, 1502)]}, {'query_id': '67', 'scores': [(30.853225817867685, 2988), (30.381973508822956, 5682), (28.116952284132417, 10380), (27.865323578686084, 3319), (24.881075408892375, 6640), (24.390567021932547, 7210), (23.89384695978668, 5504), (23.844784976763748, 8380), (22.90154877462871, 4977), (22.402382087137894, 11072)]}, {'query_id': '68', 'scores': [(24.322286455346767, 4945), (22.659579422022553, 3830), (22.56642906676808, 4189), (21.186136426561312, 6089), (20.35031150574067, 6989), (20.17738506209905, 6763), (19.50709601961515, 6972), (18.909154924345106, 6460), (18.201801031336093, 8003), (17.9816122910585, 1084)]}, {'query_id': '69', 'scores': [(37.854376425028676, 4611), (30.284408787042338, 9182), (29.273394436379096, 7376), (26.53235474029116, 4437), (26.163433940758523, 7085), (26.09211449765886, 6165), (25.455781851774695, 4204), (25.203954357590177, 1953), (24.679332228641407, 3393), (23.885214196942623, 5043)]}, {'query_id': '70', 'scores': [(23.202046756702984, 4340), (22.556664147010135, 5649), (20.644427213061412, 9952), (20.644427213061412, 7377), (19.573822779093568, 6708), (18.923181900487407, 3063), (16.21301684265983, 1743), (15.87319105591547, 5256), (15.87319105591547, 1187), (15.86793278700216, 10757)]}, {'query_id': '71', 'scores': [(24.520311739123564, 4413), (21.453529608622954, 4629), (19.89540966193337, 6894), (17.87794134051913, 8197), (17.25100073819745, 8351), (15.945400012160777, 27), (15.86645354241552, 6103), (15.655905623547898, 6884), (15.655905623547898, 1328), (15.318459409839098, 6816)]}, {'query_id': '72', 'scores': [(20.93903731859342, 7197), (19.687228929030066, 10064), (18.46912531693201, 6816), (18.362387347123843, 2212), (17.378588264413565, 540), (17.11057895756049, 1606), (16.321755989360415, 8135), (16.321755989360415, 6095), (15.785737375654264, 3987), (15.605966213503217, 10327)]}, {'query_id': '73', 'scores': [(23.10605171264549, 8557), (22.061071469634012, 9694), (17.692329492929392, 8425), (17.294646525263282, 7677), (17.294646525263282, 6803), (14.412205437719404, 7678), (14.412205437719404, 6098), (14.310659790026996, 6898), (14.310659790026996, 4597), (13.120496220839959, 6710)]}, {'query_id': '74', 'scores': [(25.48440767353023, 11062), (23.291246003780568, 6816), (19.44619780042784, 9314), (19.44619780042784, 1199), (17.13755713581134, 10201), (17.13755713581134, 2090), (16.365324009931065, 3288), (15.921467949557508, 10762), (15.921467949557508, 4107), (15.272772531568396, 9311)]}, {'query_id': '75', 'scores': [(27.11256799980586, 9800), (24.524259399099243, 8117), (20.89473518199818, 5146), (19.000570325554524, 6789), (18.30642658129156, 3391), (17.612282837028598, 7559), (17.612282837028598, 6626), (17.612282837028598, 5479), (15.371046108453461, 9694), (15.371046108453461, 9541)]}, {'query_id': '76', 'scores': [(24.800799313183436, 7677), (21.828535974288492, 6874), (21.047722919223357, 6803), (20.912455335075713, 9857), (20.04182002865952, 7678), (18.66876748408245, 5649), (18.03001424753183, 7463), (17.159378941115637, 7681), (17.159378941115637, 5168), (16.74678395430583, 10318)]}, {'query_id': '77', 'scores': [(42.10642080713931, 7601), (36.05213385207429, 8266), (35.703408274229524, 6923), (33.95963677883815, 7836), (31.4469636660862, 6189), (30.0851838707299, 6385), (29.480249768832586, 9974), (29.459510602729015, 3317), (28.14508247357309, 6568), (28.14508247357309, 6186)]}, {'query_id': '78', 'scores': [(62.53192418414008, 6973), (62.193209069510715, 5249), (58.74419398897989, 8345), (55.66359588610419, 7085), (54.95445072613771, 5978), (53.23145307039391, 6347), (49.60842364323689, 9179), (49.60842364323689, 6535), (46.00779556816462, 7571), (45.53536769530737, 5855)]}, {'query_id': '79', 'scores': [(32.775081533896895, 5527), (31.687560594170662, 8189), (22.430337039124844, 10723), (22.367019755618365, 2307), (21.240358403097474, 8183), (20.93450057933836, 9683), (20.7181036834471, 5524), (20.589239421260785, 6816), (19.49855667690077, 6884), (18.558117615253014, 6379)]}, {'query_id': '80', 'scores': [(21.13944699222204, 6559), (16.075183883319593, 4750), (15.699033162880204, 8594), (14.972225570827645, 8417), (14.756814955734283, 7809), (14.560507156965587, 8255), (14.560507156965587, 7601), (14.184356436526198, 9114), (13.949733820432202, 7009), (13.7699301311001, 73)]}, {'query_id': '81', 'scores': [(38.30852184951403, 6062), (37.74252736383827, 7684), (35.886373383491005, 2947), (32.127256834378436, 9935), (31.75394601797596, 7712), (25.63600982304431, 3653), (24.769523619300653, 2551), (24.350837704508663, 5379), (24.05190400103374, 11029), (23.886594160899133, 6063)]}, {'query_id': '82', 'scores': [(27.44217422215151, 7379), (27.370558078442535, 6331), (25.695624813746704, 4345), (24.83842349994665, 8197), (24.160618897045524, 5649), (24.08788934650573, 3706), (21.83113331578344, 9787), (21.788086745378457, 7502), (21.073620179141333, 4929), (20.68000897313557, 6987)]}, {'query_id': '83', 'scores': [(47.980344311495735, 1084), (44.838423610528494, 7111), (38.41878145855765, 4089), (37.86552889796984, 6715), (35.97315116137803, 6714), (35.163287435640754, 8843), (34.47055919072695, 3640), (32.554326517507896, 6551), (32.09414458754129, 4628), (31.862630259165282, 9808)]}, {'query_id': '84', 'scores': [(37.61047385471324, 6050), (35.10816965971947, 6946), (33.213890255425724, 8197), (32.53326753985263, 6331), (28.321097489765584, 4413), (27.488337115432884, 9787), (21.18138182386892, 7342), (19.147559821141, 7774), (18.3147994468083, 3707), (18.154615644057348, 9536)]}, {'query_id': '85', 'scores': [(24.82813069714185, 4994), (24.27468788025282, 9981), (21.94269822224496, 7554), (21.60207493474094, 113), (20.506844003555308, 2773), (20.377457488384827, 6129), (19.898609733071257, 7777), (18.876074428278066, 8907), (18.19315328137323, 705), (18.00709124400737, 5331)]}, {'query_id': '86', 'scores': [(34.84854534333001, 8843), (32.936315808359986, 8327), (32.35137682450594, 6095), (28.839699167476468, 8024), (28.285072520643602, 7193), (28.25798282799694, 3529), (27.445711631758794, 3981), (27.26561476998695, 4450), (27.084774429337788, 6713), (26.555242052921756, 9808)]}, {'query_id': '87', 'scores': [(27.19279459768551, 2529), (27.045425752803915, 2476), (26.658033614411732, 3313), (24.366509632751963, 8066), (23.596558143845076, 2355), (22.08024482584908, 5404), (21.85801508612936, 6930), (21.307367968176695, 5240), (21.09726074755503, 7966), (20.32724544304392, 9836)]}, {'query_id': '88', 'scores': [(29.847246728546857, 3547), (28.351828345343996, 7830), (26.505473315099927, 5065), (24.80509250271387, 6481), (24.712907516376628, 3993), (24.109473201701455, 4642), (24.065519014676134, 9939), (23.306893705217334, 9981), (23.19226672097161, 9218), (23.173389103233873, 5998)]}, {'query_id': '89', 'scores': [(26.164913717761934, 1089), (23.59145367063249, 11335), (22.697904792594528, 11177), (20.96413918025587, 10515), (20.96413918025587, 10214), (20.96413918025587, 10046), (20.96413918025587, 9439), (20.287398035083033, 11290), (20.07059030221791, 11205), (20.07059030221791, 10901)]}, {'query_id': '90', 'scores': [(30.734645644395975, 4114), (30.036754667244075, 7010), (28.13018475815661, 5283), (27.811262311144837, 6189), (26.140636303922385, 3910), (24.288739767124753, 9308), (23.729396453961613, 8229), (23.189450581935823, 4044), (22.981945924506064, 5404), (21.47633527241924, 4759)]}, {'query_id': '91', 'scores': [(45.28186140207706, 6580), (33.78888065869275, 4750), (31.999510670334672, 7602), (31.776953451406555, 9863), (28.913175358208328, 6559), (27.2879515895092, 6286), (25.62309172569895, 2853), (25.58581619909165, 7735), (25.258839924970662, 9315), (24.823176569713297, 8384)]}, {'query_id': '92', 'scores': [(66.10042482213987, 8380), (36.4283070922722, 4977), (34.785396020745026, 8873), (32.90962474158534, 11393), (32.506736522380606, 7777), (30.35576119757764, 1378), (30.156891474670587, 8602), (30.04278989493557, 11208), (29.449944453139924, 3568), (28.04106240371389, 8268)]}, {'query_id': '93', 'scores': [(32.64986836324205, 5048), (32.171311339921616, 9428), (32.07261316935622, 6803), (31.74343638168312, 6708), (31.332038514111098, 5667), (29.83040685764498, 5986), (29.28986631535581, 2963), (28.542192260710706, 7487), (28.44554527934865, 5484), (27.830152765891448, 7677)]}]\n"
     ]
    }
   ],
   "source": [
    "print(query_processing(trec_dl_2020.queries_iter(), daat_tfidf))"
   ]
  },
  {
   "cell_type": "code",
   "execution_count": 21,
   "metadata": {},
   "outputs": [
    {
     "name": "stdout",
     "output_type": "stream",
     "text": [
      "query_processing (674.054 ms)\n",
      "[{'query_id': '1', 'scores': [(30.223860516119117, 3692), (29.691583309945827, 7233), (25.41315778137699, 5501), (24.32090058992211, 9858), (23.273173682113566, 7922), (21.529062765292075, 4570), (20.233390332013307, 7733), (19.616342494992008, 2235), (19.225903771406433, 6823), (19.07435886632644, 4571)]}, {'query_id': '2', 'scores': [(27.31887911071231, 3333), (22.43881142618663, 4570), (20.862578575260166, 8252), (20.723962639433328, 8996), (20.490238869696903, 7777), (18.537348166556495, 10234), (17.67696990561112, 4340), (17.56306188831163, 8380), (17.56306188831163, 4135), (17.098382867181424, 8382)]}, {'query_id': '3', 'scores': [(57.71381165880253, 7085), (55.462490065018585, 6347), (54.61231741908634, 5649), (51.397655071546964, 6973), (48.01943578981415, 6535), (46.66208107908988, 5978), (44.449523170986595, 5249), (40.374052284394494, 8345), (40.10101534683967, 9179), (36.008923306134974, 4708)]}, {'query_id': '4', 'scores': [(62.94518851425234, 7526), (26.066981963602732, 3594), (22.54116523416173, 7345), (20.617767194096363, 7653), (20.242254120455737, 4704), (19.513302452748817, 5436), (18.516551604540908, 4595), (18.417611795342456, 6946), (18.40935123460032, 3445), (17.828135646706325, 396)]}, {'query_id': '5', 'scores': [(37.274212534449525, 4708), (26.56899553328331, 4053), (24.017533543546598, 4306), (22.148987096509114, 2372), (20.73613260950705, 11428), (20.441968683408504, 9666), (17.378455258471103, 139), (16.788675182723576, 1585), (16.375829967317788, 7874), (16.375829967317788, 4307)]}, {'query_id': '6', 'scores': [(21.504709605253296, 5439), (21.262569553248433, 5262), (20.21379929099683, 9666), (18.468590252775154, 5436), (14.942478726279337, 7327), (14.67606936423789, 4593), (13.657280482030814, 11303), (13.036939661996387, 10161), (13.036939661996387, 8642), (13.036939661996387, 5434)]}, {'query_id': '7', 'scores': [(61.57833638931638, 6568), (49.942901642170554, 6924), (47.31562319423365, 6385), (43.038941624777244, 5902), (40.3196785645886, 6564), (38.45060142212087, 6016), (37.6347736521828, 5291), (36.72898312045865, 2095), (36.68690945634068, 7601), (36.14442812687122, 6186)]}, {'query_id': '8', 'scores': [(42.73845380318143, 3773), (37.78789577789901, 5505), (35.81340453257085, 11349), (28.8424663384841, 4752), (28.476312282494547, 6299), (27.190647191893987, 299), (25.498731718245633, 7415), (24.56491650438535, 11129), (24.24350023173521, 707), (23.879523935320268, 9593)]}, {'query_id': '9', 'scores': [(43.263584215158254, 6380), (37.23505655143399, 5505), (34.86367780206128, 4752), (34.13579748956046, 3088), (31.277384534550194, 5682), (29.779091190570618, 7013), (28.189020042485815, 5504), (28.189020042485815, 5070), (26.19092414025993, 6110), (25.24875186839235, 9718)]}, {'query_id': '10', 'scores': [(23.83086860556803, 10616), (23.14570370713085, 7088), (22.10263563030396, 6965), (20.154315654385147, 6704), (19.48455143145985, 7269), (18.896157704301757, 6976), (18.74841884326834, 7458), (18.51147762543095, 7497), (18.352542257712777, 6629), (17.61062310012116, 6988)]}, {'query_id': '11', 'scores': [(28.534944292805186, 9932), (26.41360104772976, 8218), (26.41360104772976, 6725), (25.285818669139207, 1097), (24.132677451516894, 5503), (22.011334206441468, 7655), (22.011334206441468, 7654), (20.063762864456816, 5452), (19.7304106102286, 3472), (19.485605562133212, 4323)]}, {'query_id': '12', 'scores': [(38.38216308888022, 6708), (34.21120268522709, 7099), (32.29157976009621, 6168), (30.891539915692793, 7186), (30.62387184409052, 9428), (29.885275491264782, 3857), (28.340686443336548, 5667), (27.979598343572242, 5048), (25.809052781574245, 5479), (25.004927186904226, 9732)]}, {'query_id': '13', 'scores': [(46.53112338051086, 8345), (36.89643964218835, 5249), (35.45861936192303, 8135), (35.02926922553827, 6973), (30.931203880537907, 5988), (28.325752447088913, 5982), (26.169263072170978, 7110), (25.55395222531442, 8023), (25.25714145648192, 3630), (25.22791239995368, 7571)]}, {'query_id': '14', 'scores': [(35.20165534343912, 5649), (31.900708926755716, 7376), (29.488305717582577, 6627), (28.390843352183722, 3393), (27.39121631965593, 5978), (26.84543389060576, 6165), (26.28490199802664, 7283), (26.240709910546258, 6347), (25.5948641077192, 6535), (25.35923434570121, 7568)]}, {'query_id': '15', 'scores': [(42.16961035812594, 6987), (39.23121197160191, 3732), (32.93198867226964, 4814), (32.26722945655072, 5479), (30.665605582188107, 9800), (28.16749206061904, 8117), (27.307332024094034, 9852), (26.89731712421264, 6762), (26.63856181096839, 7694), (25.87399644006749, 6626)]}, {'query_id': '16', 'scores': [(49.92675704592564, 9860), (41.29865285817099, 4929), (39.14449907573861, 5043), (34.33814884778552, 9696), (34.33814884778552, 5640), (32.61690353521152, 9663), (31.723137419109328, 6143), (31.55189958729386, 6095), (28.886628865709078, 2090), (28.24734383118879, 6766)]}, {'query_id': '17', 'scores': [(49.21448607814496, 11129), (44.26538385136281, 11393), (39.03807527673321, 10980), (38.15358981409619, 495), (37.16613811952898, 4150), (36.282066312736745, 2160), (33.63392071274438, 9485), (33.31435237048512, 4769), (31.967344666875498, 8784), (30.38831084221302, 1432)]}, {'query_id': '18', 'scores': [(32.32676955872279, 3445), (31.504396398665204, 11393), (29.836457790601315, 7636), (26.521762102237144, 9740), (25.32795372358779, 6592), (24.82958346674809, 11269), (23.97600286318139, 8079), (23.947991767535203, 4507), (23.89384695978668, 5504), (23.86565075203702, 3319)]}, {'query_id': '19', 'scores': [(27.43348669333135, 11393), (23.89384695978668, 5504), (23.86565075203702, 3319), (23.45822791863765, 10104), (23.43708076282541, 5100), (21.463549479353386, 2894), (20.893200442196253, 9766), (20.653450319208954, 11126), (19.925307446641867, 980), (19.58605184970977, 7614)]}, {'query_id': '20', 'scores': [(29.184044251561968, 7425), (26.769253663932133, 6585), (22.483406599668317, 6490), (22.30408408512967, 7852), (22.25209231004114, 7058), (21.586299549715957, 6177), (21.273531329355407, 9908), (20.902428681621583, 6217), (20.313129899033775, 6598), (19.861827252710146, 5314)]}, {'query_id': '21', 'scores': [(79.96067740819758, 3333), (71.23239297641884, 7863), (69.37422263161149, 2899), (56.304509799479845, 3917), (46.26565194807714, 3017), (42.19387041179375, 5945), (40.61845260424539, 7150), (40.22114228129549, 7111), (36.55048782645477, 2148), (36.352421699611405, 10714)]}, {'query_id': '22', 'scores': [(48.13881570165542, 3445), (42.74024159019585, 11393), (35.413096245455066, 6220), (29.90217156313156, 5527), (26.6978472512556, 10446), (24.725304584758298, 7144), (24.25697836883297, 8622), (24.23202233310787, 4760), (23.464827386972335, 5942), (23.311459124859002, 751)]}, {'query_id': '23', 'scores': [(43.94983134032671, 5409), (41.28376107274005, 8190), (36.21867048482916, 9734), (35.73096340827175, 7146), (35.315322980046304, 5396), (32.98856435051819, 4881), (31.176731406652376, 5113), (26.577400307548785, 7608), (25.614155494464228, 4403), (25.390117288650625, 4681)]}, {'query_id': '24', 'scores': [(60.82889515569924, 3333), (31.668959990596115, 3560), (22.70621571649737, 6411), (22.1293622092374, 6662), (20.790517156160348, 2899), (20.73941970350634, 3553), (20.436366079308893, 4777), (19.921538302323448, 9734), (19.40057465042929, 5089), (19.35982692448451, 5396)]}, {'query_id': '25', 'scores': [(42.146235116165414, 1432), (35.1253641598565, 4868), (35.10273261247182, 11129), (30.0709555084274, 8385), (27.719334603369287, 707), (27.116905577746657, 7225), (26.43177023307615, 5799), (26.370789899560577, 8178), (25.886979609931508, 9046), (25.68565455489007, 7612)]}, {'query_id': '26', 'scores': [(46.25541578575185, 5799), (44.804337673948346, 7225), (33.58132050277669, 8178), (28.70520485640636, 7612), (27.05704551050739, 6841), (26.929931263663406, 7966), (24.375404825447454, 10015), (21.273293627162243, 5938), (21.021700874240512, 5404), (20.111768263879064, 2899)]}, {'query_id': '27', 'scores': [(29.807907589945348, 8415), (28.480672652542882, 5505), (28.299549811190296, 9847), (27.89773085549998, 7773), (26.428946349730076, 9159), (21.360504489407163, 4752), (20.55686657802653, 2011), (19.48990102794694, 3824), (19.48990102794694, 1124), (19.308778186594353, 4292)]}, {'query_id': '28', 'scores': [(34.52062104848745, 8229), (28.247884852941816, 3615), (27.919114736929043, 9282), (27.47362272545798, 7481), (26.98921835299911, 8053), (26.98921835299911, 4719), (22.86700280341486, 4432), (22.79912882055665, 3965), (22.694008814001798, 7185), (22.629668097236348, 5471)]}, {'query_id': '29', 'scores': [(50.46216737999703, 3333), (33.572410341047025, 5796), (29.403624375335774, 11123), (27.147411310445907, 5393), (26.653705678961597, 9738), (24.053793822663543, 9132), (22.38160689403135, 4270), (22.11009157460407, 3554), (21.595215790954995, 3229), (19.870729362919953, 2113)]}, {'query_id': '30', 'scores': [(57.58700555366929, 3333), (36.303315994301144, 615), (35.70729013565197, 6924), (34.63333034664234, 4868), (32.968784884505375, 9509), (32.93358452727233, 3572), (29.52772753435461, 3821), (28.605992061535904, 9112), (28.112391071880268, 2899), (28.033922317356016, 9510)]}, {'query_id': '31', 'scores': [(72.95313985494806, 3333), (36.776961563516046, 8392), (36.327357420056, 8614), (33.3191563310686, 3103), (29.196879912520842, 2001), (29.07171888008376, 4874), (27.615197002604734, 4868), (26.65351062836524, 2109), (25.87604821415589, 3552), (25.772150669009115, 5392)]}, {'query_id': '32', 'scores': [(41.58929581797769, 9159), (39.506857935948155, 1821), (38.31127096925636, 913), (31.9755623218258, 8415), (28.480672652542882, 5505), (28.299549811190296, 9847), (23.96999825149098, 1702), (23.758163830921664, 5012), (21.360504489407163, 4752), (21.084203160622227, 10455)]}, {'query_id': '33', 'scores': [(46.91704087257916, 3333), (39.778384586960215, 6411), (39.01559617429075, 5114), (37.9218203075319, 6133), (34.81692142324438, 7052), (31.710442775840477, 2622), (30.586097584686552, 336), (28.98650376529453, 6815), (28.845800204238714, 4992), (28.748095514944865, 11261)]}, {'query_id': '34', 'scores': [(49.00862042175376, 5498), (48.003223649865106, 615), (36.05837157892664, 7634), (33.836849395719014, 10927), (33.117314252146016, 5614), (32.92422266026129, 5404), (32.590294104197966, 11262), (30.992056876036017, 9389), (29.99398286956639, 3653), (29.40503027609558, 7958)]}, {'query_id': '35', 'scores': [(31.521572359214733, 615), (29.415272707570768, 7058), (28.864562396110763, 3567), (25.45553094687725, 5939), (24.9907943749505, 2143), (24.19688791054973, 3566), (23.80094046686555, 6325), (23.311217922848407, 4408), (20.921947523831797, 2031), (20.69977233794362, 4509)]}, {'query_id': '36', 'scores': [(32.14981097572804, 4708), (23.443482273496212, 9908), (22.78258481132636, 4308), (21.44459397456182, 4053), (20.313129899033775, 6598), (20.305632239856376, 139), (19.719071386388958, 6515), (19.309196422511008, 6028), (18.76241878565603, 11393), (18.75679554127298, 3042)]}, {'query_id': '37', 'scores': [(61.82616738366198, 3333), (39.59568087380127, 5114), (31.85650293690438, 9483), (29.011178926322845, 9484), (28.95557274341305, 10113), (28.923557027832256, 10270), (28.398491670604024, 8383), (27.40360236815126, 6735), (26.754970662544316, 3797), (26.164199787950068, 4024)]}, {'query_id': '38', 'scores': [(34.68960025135627, 9622), (33.85801690412638, 10827), (30.973000566795257, 9910), (30.83137837199588, 331), (30.332467891720952, 2148), (30.262672129785415, 204), (29.25670182977113, 2743), (26.89615426629723, 3017), (25.77598110566727, 11279), (25.058746482445123, 2647)]}, {'query_id': '39', 'scores': [(19.016152114297427, 908), (18.439587265388727, 3014), (17.359851831808555, 9918), (17.359851831808555, 5533), (17.359851831808555, 5003), (17.359851831808555, 4407), (17.359851831808555, 1700), (16.70780632693416, 9053), (16.589246592209605, 2156), (15.32823466121968, 8294)]}, {'query_id': '40', 'scores': [(36.55535301037302, 2743), (35.095721887166164, 204), (31.72230325299227, 9481), (30.332467891720952, 2148), (28.58899406611932, 476), (24.139186280062027, 10565), (24.139186280062027, 10111), (23.755944308738574, 2253), (23.446039099502084, 11237), (23.194724671221177, 11239)]}, {'query_id': '41', 'scores': [(43.93728722798929, 4708), (30.543407115572876, 9855), (21.44459397456182, 4053), (21.088628161498825, 5732), (17.998888709756027, 8992), (17.998888709756027, 3319), (17.50549281621946, 4185), (17.241254136957618, 4306), (16.10142772429082, 5734), (15.317567124687015, 9666)]}, {'query_id': '42', 'scores': [(30.63513424937403, 4708), (22.713426426829418, 6896), (21.737244640322793, 7788), (21.572741360747187, 6028), (21.44459397456182, 4053), (21.239033428019596, 9789), (20.53967504736701, 11041), (20.534303295603515, 5685), (20.34389963078111, 8331), (20.34389963078111, 7183)]}, {'query_id': '43', 'scores': [(71.73668993439537, 4708), (57.770179492964644, 4053), (45.052795713986214, 4308), (41.41367204704102, 6231), (38.924477183362306, 1307), (36.279082456446254, 140), (32.559685939605984, 139), (32.22633206031311, 3719), (32.10636481032019, 6028), (30.63513424937403, 9666)]}, {'query_id': '44', 'scores': [(34.49424657978097, 4708), (33.021930965782644, 4053), (30.872898643255542, 1307), (22.94471558156419, 6511), (22.788757966527513, 5209), (22.70220845396011, 6421), (21.56347617150258, 5734), (21.56347617150258, 5436), (20.76787726603304, 2293), (20.16816002462445, 5452)]}, {'query_id': '45', 'scores': [(41.35228736265272, 5430), (24.19107148128015, 273), (22.41631489840423, 6708), (22.36575291879805, 10323), (20.298549658239466, 11024), (19.897845645722306, 1160), (19.668534797070492, 6157), (19.11122883061553, 6905), (18.204937813523042, 4807), (18.180991363719865, 6789)]}, {'query_id': '46', 'scores': [(54.35754699341086, 6336), (43.52108067738767, 3598), (43.20990594049672, 4053), (41.85644560091586, 4708), (38.2821495849561, 5236), (37.388687193340246, 6236), (34.64869398605232, 7286), (34.00342763905483, 3142), (30.872898643255542, 1307), (30.70213787415735, 3484)]}, {'query_id': '47', 'scores': [(28.40694688939878, 1625), (25.37648536591215, 6907), (24.943217022860335, 3753), (23.906026904785783, 5678), (23.79142757531934, 6098), (23.2218157540782, 3288), (23.217627152391962, 3640), (21.755484692210196, 6715), (21.48697551238908, 2083), (21.05034621252844, 3754)]}, {'query_id': '48', 'scores': [(26.240251172414737, 6247), (22.60078049822135, 7677), (21.68594197087434, 6629), (20.72620547460282, 4301), (20.067048253268826, 135), (19.5512350879918, 150), (19.488965309612624, 6815), (19.145461282253105, 6098), (19.030217107482933, 5845), (18.68671308012341, 3754)]}, {'query_id': '49', 'scores': [(26.60132212952731, 6884), (24.611910452466567, 4208), (21.0157403964569, 5348), (19.408982017507974, 4413), (17.46471684181455, 5228), (16.898608876325703, 7463), (16.742591416151487, 7073), (16.52988459555221, 3535), (16.066885006638714, 3286), (15.655905623547898, 1328)]}, {'query_id': '50', 'scores': [(35.693173170458806, 2947), (25.094506077716296, 6416), (22.29018276943637, 9939), (21.815960325862218, 7798), (21.63634878942411, 5726), (20.10448560153365, 6989), (19.011637017582288, 5030), (18.393010877205082, 9863), (18.31385784930553, 10033), (16.74678682178002, 6762)]}, {'query_id': '51', 'scores': [(53.86157613934726, 7073), (45.14271841869564, 1328), (42.24182684074105, 6877), (35.80859264186376, 3165), (30.37274666971859, 7055), (28.943459276363708, 7716), (28.48899883578957, 8222), (28.2509842208626, 9297), (27.36007802074065, 7332), (26.951207970652955, 5550)]}, {'query_id': '52', 'scores': [(33.99982277338451, 6627), (33.87041330063292, 3376), (27.639300862426804, 5457), (25.337402533806948, 9315), (23.206274925943266, 3445), (21.157242274375815, 3140), (20.952033277636378, 9277), (20.735101102629404, 7566), (20.108651854438158, 7210), (19.876293873468494, 3319)]}, {'query_id': '53', 'scores': [(25.084398610346746, 6907), (24.83875306774334, 6816), (24.249249127700928, 6715), (23.921639113400687, 9808), (22.857738529927584, 729), (21.964037964838205, 9706), (21.597539186042496, 3319), (19.278640118085434, 9966), (18.593541513260845, 2578), (18.424954340148023, 3445)]}, {'query_id': '54', 'scores': [(26.59857924593555, 6337), (26.11226918784694, 1454), (23.985605781380116, 6247), (20.753118605045014, 6876), (20.72620547460282, 4301), (19.178033614791058, 7678), (19.032874984395306, 6629), (18.59205757707386, 811), (18.546378142860263, 10023), (18.362385823052225, 3484)]}, {'query_id': '55', 'scores': [(30.229967029618958, 9704), (29.56210200149471, 29), (27.91407054533932, 6453), (24.955355680439446, 6710), (23.867815823009174, 2075), (23.644672271694965, 10630), (21.675231625229458, 9301), (21.35382243491934, 6525), (21.032413244609224, 7813), (20.043139026174856, 6102)]}, {'query_id': '56', 'scores': [(26.999084399884236, 11062), (22.475551253135855, 9314), (21.681587314873354, 2090), (21.616148744568648, 1199), (21.498478769640023, 6816), (21.127351146204013, 1496), (19.678112990154716, 3987), (19.258534278433128, 2081), (17.13755713581134, 10201), (16.88119744040702, 6907)]}, {'query_id': '57', 'scores': [(41.52198660950788, 7172), (40.796049606124946, 7694), (38.48042223685675, 9793), (37.50461707050164, 3848), (34.915903338913225, 4073), (34.56923659766353, 6969), (34.01931489554552, 9795), (33.38106363168236, 7279), (31.472799247898543, 10335), (30.427913498848607, 4203)]}, {'query_id': '58', 'scores': [(41.64496804979865, 8197), (25.84431509596844, 8102), (25.607695142295412, 6331), (25.28800136646609, 1296), (24.239485511411324, 3707), (23.76122014521367, 4343), (21.44151935621287, 920), (21.370124381276565, 9557), (21.18138182386892, 7342), (20.576183266707133, 6950)]}, {'query_id': '59', 'scores': [(39.16251716417943, 4708), (35.9217089729798, 4053), (30.872898643255542, 1307), (27.283207771431112, 5440), (26.963195868588045, 5734), (24.191712423398634, 4704), (23.230375226288103, 2293), (23.00163181327151, 3719), (21.94269822224496, 7554), (21.653556604609626, 6421)]}, {'query_id': '60', 'scores': [(45.46973315123546, 9704), (29.790608742319357, 6453), (26.831893877419486, 6710), (26.581407783694317, 6089), (26.123020720313555, 6525), (25.84602734558782, 5568), (25.708147036697078, 2551), (25.151646841812116, 7073), (25.01994502310773, 4929), (24.312537299819216, 29)]}, {'query_id': '61', 'scores': [(24.194003312630038, 8602), (24.194003312630038, 6585), (21.525153594244834, 7604), (20.796228176800113, 4361), (20.22799739139452, 11393), (19.52980277594936, 5533), (19.35446920142229, 4513), (18.35746617128576, 8293), (17.535796715676305, 6557), (17.359851831808555, 1700)]}, {'query_id': '62', 'scores': [(22.498610887195035, 5262), (19.65236986021714, 4000), (19.325297902773688, 8425), (18.060137905124932, 8340), (17.998888709756027, 8112), (17.998888709756027, 4907), (17.294646525263282, 7677), (17.294646525263282, 6803), (16.79497790747618, 10356), (14.764326529965775, 9297)]}, {'query_id': '63', 'scores': [(42.695248022497104, 9950), (35.88202173208905, 7085), (33.68428055314819, 5978), (30.747109988083125, 5249), (30.32568102898595, 6973), (29.90425206988877, 10338), (29.90425206988877, 6347), (29.482823110791593, 7374), (29.273394436379096, 7376), (27.600510748605572, 8345)]}, {'query_id': '64', 'scores': [(33.27343512818519, 4868), (32.40329528261379, 11393), (29.62969201896268, 5694), (28.14781889158949, 7604), (27.50616666854852, 5589), (26.22790489967534, 8385), (25.85775609487634, 7136), (25.7950865148131, 66), (25.553495773091125, 5998), (24.88367258603474, 4659)]}, {'query_id': '65', 'scores': [(31.50113511181391, 6782), (24.91218437492303, 7279), (24.185363979256493, 8117), (23.487262205571867, 7559), (21.801513210946307, 1239), (21.296910507523407, 5146), (21.18265575140573, 5469), (21.101219062477135, 7561), (20.64585471260368, 7172), (20.64163628973661, 6626)]}, {'query_id': '66', 'scores': [(29.16504935658831, 8385), (28.047438163518287, 2717), (25.77252470955951, 8597), (25.51097126813637, 7337), (24.761618001310502, 2221), (21.757738102933658, 9939), (21.701979423333945, 10783), (21.502896096098503, 8589), (21.49618466151052, 6639), (21.48947322692253, 1502)]}, {'query_id': '67', 'scores': [(30.853225817867685, 2988), (30.381973508822956, 5682), (28.116952284132417, 10380), (27.865323578686084, 3319), (24.881075408892375, 6640), (24.390567021932547, 7210), (23.89384695978668, 5504), (23.844784976763748, 8380), (22.90154877462871, 4977), (22.402382087137894, 11072)]}, {'query_id': '68', 'scores': [(24.322286455346767, 4945), (22.659579422022553, 3830), (22.56642906676808, 4189), (21.186136426561312, 6089), (20.35031150574067, 6989), (20.17738506209905, 6763), (19.50709601961515, 6972), (18.909154924345106, 6460), (18.201801031336093, 8003), (17.9816122910585, 1084)]}, {'query_id': '69', 'scores': [(37.854376425028676, 4611), (30.284408787042338, 9182), (29.273394436379096, 7376), (26.53235474029116, 4437), (26.163433940758523, 7085), (26.09211449765886, 6165), (25.455781851774695, 4204), (25.203954357590177, 1953), (24.679332228641407, 3393), (23.885214196942623, 5043)]}, {'query_id': '70', 'scores': [(23.202046756702984, 4340), (22.556664147010135, 5649), (20.644427213061412, 9952), (20.644427213061412, 7377), (19.573822779093568, 6708), (18.923181900487407, 3063), (16.21301684265983, 1743), (15.87319105591547, 5256), (15.87319105591547, 1187), (15.86793278700216, 10757)]}, {'query_id': '71', 'scores': [(24.520311739123564, 4413), (21.453529608622954, 4629), (19.89540966193337, 6894), (17.87794134051913, 8197), (17.25100073819745, 8351), (15.945400012160777, 27), (15.86645354241552, 6103), (15.655905623547898, 6884), (15.655905623547898, 1328), (15.318459409839098, 6816)]}, {'query_id': '72', 'scores': [(20.93903731859342, 7197), (19.687228929030066, 10064), (18.46912531693201, 6816), (18.362387347123843, 2212), (17.378588264413565, 540), (17.11057895756049, 1606), (16.321755989360415, 8135), (16.321755989360415, 6095), (15.785737375654264, 3987), (15.605966213503217, 10327)]}, {'query_id': '73', 'scores': [(23.10605171264549, 8557), (22.061071469634012, 9694), (17.692329492929392, 8425), (17.294646525263282, 7677), (17.294646525263282, 6803), (14.412205437719404, 7678), (14.412205437719404, 6098), (14.310659790026996, 6898), (14.310659790026996, 4597), (13.120496220839959, 6453)]}, {'query_id': '74', 'scores': [(25.48440767353023, 11062), (23.291246003780568, 6816), (19.44619780042784, 9314), (19.44619780042784, 1199), (17.13755713581134, 10201), (17.13755713581134, 2090), (16.365324009931065, 3288), (15.921467949557508, 10762), (15.921467949557508, 4107), (15.272772531568396, 9311)]}, {'query_id': '75', 'scores': [(27.11256799980586, 9800), (24.524259399099243, 8117), (20.89473518199818, 5146), (19.000570325554524, 6789), (18.30642658129156, 3391), (17.612282837028598, 7559), (17.612282837028598, 6626), (17.612282837028598, 5479), (15.371046108453461, 9694), (15.371046108453461, 9541)]}, {'query_id': '76', 'scores': [(24.800799313183436, 7677), (21.828535974288492, 6874), (21.047722919223357, 6803), (20.912455335075713, 9857), (20.04182002865952, 7678), (18.66876748408245, 5649), (18.03001424753183, 7463), (17.159378941115637, 7681), (17.159378941115637, 5168), (16.74678395430583, 10318)]}, {'query_id': '77', 'scores': [(42.10642080713931, 7601), (36.05213385207429, 8266), (35.703408274229524, 6923), (33.95963677883815, 7836), (31.4469636660862, 6189), (30.0851838707299, 6385), (29.480249768832586, 9974), (29.459510602729015, 3317), (28.14508247357309, 6568), (28.14508247357309, 6186)]}, {'query_id': '78', 'scores': [(62.53192418414008, 6973), (62.193209069510715, 5249), (58.74419398897989, 8345), (55.66359588610419, 7085), (54.95445072613771, 5978), (53.23145307039391, 6347), (49.60842364323689, 9179), (49.60842364323689, 6535), (46.00779556816462, 7571), (45.53536769530737, 5855)]}, {'query_id': '79', 'scores': [(32.775081533896895, 5527), (31.687560594170662, 8189), (22.430337039124844, 10723), (22.367019755618365, 2307), (21.240358403097474, 8183), (20.93450057933836, 9683), (20.7181036834471, 5524), (20.589239421260785, 6816), (19.49855667690077, 6884), (18.558117615253014, 6379)]}, {'query_id': '80', 'scores': [(21.13944699222204, 6559), (16.075183883319593, 4750), (15.699033162880204, 8594), (14.972225570827645, 8417), (14.756814955734283, 7809), (14.560507156965587, 8255), (14.560507156965587, 7601), (14.184356436526198, 9114), (13.949733820432202, 7009), (13.7699301311001, 73)]}, {'query_id': '81', 'scores': [(38.30852184951403, 6062), (37.74252736383827, 7684), (35.886373383491005, 2947), (32.127256834378436, 9935), (31.75394601797596, 7712), (25.63600982304431, 3653), (24.769523619300653, 2551), (24.350837704508663, 5379), (24.05190400103374, 11029), (23.886594160899133, 6063)]}, {'query_id': '82', 'scores': [(27.44217422215151, 7379), (27.370558078442535, 6331), (25.695624813746704, 4345), (24.83842349994665, 8197), (24.160618897045524, 5649), (24.08788934650573, 3706), (21.83113331578344, 9787), (21.788086745378457, 7502), (21.073620179141333, 4929), (20.68000897313557, 6987)]}, {'query_id': '83', 'scores': [(47.980344311495735, 1084), (44.838423610528494, 7111), (38.41878145855765, 4089), (37.86552889796984, 6715), (35.97315116137803, 6714), (35.163287435640754, 8843), (34.47055919072695, 3640), (32.554326517507896, 6551), (32.09414458754129, 4628), (31.862630259165282, 9808)]}, {'query_id': '84', 'scores': [(37.61047385471324, 6050), (35.10816965971947, 6946), (33.213890255425724, 8197), (32.53326753985263, 6331), (28.321097489765584, 4413), (27.488337115432884, 9787), (21.18138182386892, 7342), (19.147559821141, 7774), (18.3147994468083, 3707), (18.154615644057348, 9536)]}, {'query_id': '85', 'scores': [(24.82813069714185, 4994), (24.27468788025282, 9981), (21.94269822224496, 7554), (21.60207493474094, 113), (20.506844003555308, 2773), (20.377457488384827, 6129), (19.898609733071257, 7777), (18.876074428278066, 8907), (18.19315328137323, 705), (18.00709124400737, 5331)]}, {'query_id': '86', 'scores': [(34.84854534333001, 8843), (32.936315808359986, 8327), (32.35137682450594, 6095), (28.839699167476468, 8024), (28.285072520643602, 7193), (28.25798282799694, 3529), (27.445711631758794, 3981), (27.26561476998695, 4450), (27.084774429337788, 6713), (26.555242052921756, 9808)]}, {'query_id': '87', 'scores': [(27.19279459768551, 2529), (27.045425752803915, 2476), (26.658033614411732, 3313), (24.366509632751963, 8066), (23.596558143845076, 2355), (22.08024482584908, 5404), (21.85801508612936, 6930), (21.307367968176695, 5240), (21.09726074755503, 7966), (20.32724544304392, 9836)]}, {'query_id': '88', 'scores': [(29.847246728546857, 3547), (28.351828345343996, 7830), (26.505473315099927, 5065), (24.80509250271387, 6481), (24.712907516376628, 3993), (24.109473201701455, 4642), (24.065519014676134, 9939), (23.306893705217334, 9981), (23.19226672097161, 9218), (23.173389103233873, 5998)]}, {'query_id': '89', 'scores': [(26.164913717761934, 1089), (23.59145367063249, 11335), (22.697904792594528, 11177), (20.96413918025587, 10515), (20.96413918025587, 10214), (20.96413918025587, 10046), (20.96413918025587, 9439), (20.287398035083033, 11290), (20.07059030221791, 11205), (20.07059030221791, 10901)]}, {'query_id': '90', 'scores': [(30.734645644395975, 4114), (30.036754667244075, 7010), (28.13018475815661, 5283), (27.811262311144837, 6189), (26.140636303922385, 3910), (24.288739767124753, 9308), (23.729396453961613, 8229), (23.189450581935823, 4044), (22.981945924506064, 5404), (21.47633527241924, 4759)]}, {'query_id': '91', 'scores': [(45.28186140207706, 6580), (33.78888065869275, 4750), (31.999510670334672, 7602), (31.776953451406555, 9863), (28.913175358208328, 6559), (27.2879515895092, 6286), (25.62309172569895, 2853), (25.58581619909165, 7735), (25.258839924970662, 9315), (24.823176569713297, 8384)]}, {'query_id': '92', 'scores': [(66.10042482213987, 8380), (36.4283070922722, 4977), (34.785396020745026, 8873), (32.90962474158534, 11393), (32.506736522380606, 7777), (30.35576119757764, 1378), (30.156891474670587, 8602), (30.04278989493557, 11208), (29.449944453139924, 3568), (28.04106240371389, 8268)]}, {'query_id': '93', 'scores': [(32.64986836324205, 5048), (32.171311339921616, 9428), (32.07261316935622, 6803), (31.74343638168312, 6708), (31.332038514111098, 5667), (29.83040685764498, 5986), (29.28986631535581, 2963), (28.542192260710706, 7487), (28.44554527934865, 5484), (27.830152765891448, 7677)]}]\n"
     ]
    }
   ],
   "source": [
    "tfidf_results = query_processing(trec_dl_2020.queries_iter(), taat_tfidf)\n",
    "print(tfidf_results)"
   ]
  },
  {
   "cell_type": "markdown",
   "metadata": {
    "id": "bpb3m8ELHcdo"
   },
   "source": [
    "# 5. Evaluation with TREC-style measures\n",
    "To evaluate retrieval performance, we use the TREC evaluation method with `ir_measures`.\n",
    "\n",
    "This section generates a run file and QRELs for the TREC evaluation tool."
   ]
  },
  {
   "cell_type": "code",
   "execution_count": 23,
   "metadata": {
    "colab": {
     "base_uri": "https://localhost:8080/"
    },
    "executionInfo": {
     "elapsed": 14,
     "status": "ok",
     "timestamp": 1729868599720,
     "user": {
      "displayName": "DANIEL NAMAKI GHANEH",
      "userId": "00865735165124121752"
     },
     "user_tz": -120
    },
    "id": "i_cJcwV1Hcdo",
    "outputId": "99944a67-52d8-4ae2-9a7e-8dfce6280e7a"
   },
   "outputs": [
    {
     "name": "stdout",
     "output_type": "stream",
     "text": [
      "GenericQuery(query_id='1', text='MEASUREMENT OF DIELECTRIC CONSTANT OF LIQUIDS BY THE USE OF MICROWAVE TECHNIQUES\\n')\n",
      "GenericQuery(query_id='2', text='MATHEMATICAL ANALYSIS AND DESIGN DETAILS OF WAVEGUIDE FED MICROWAVE RADIATIONS\\n')\n",
      "GenericQuery(query_id='3', text='USE OF DIGITAL COMPUTERS IN THE DESIGN OF BAND PASS FILTERS HAVING GIVEN PHASE AND ATTENUATION CHARACTERISTICS\\n')\n"
     ]
    }
   ],
   "source": [
    "for query in list(trec_dl_2020.queries_iter())[:3]:\n",
    "    print(query)"
   ]
  },
  {
   "cell_type": "code",
   "execution_count": 24,
   "metadata": {
    "colab": {
     "base_uri": "https://localhost:8080/"
    },
    "executionInfo": {
     "elapsed": 10,
     "status": "ok",
     "timestamp": 1729868599720,
     "user": {
      "displayName": "DANIEL NAMAKI GHANEH",
      "userId": "00865735165124121752"
     },
     "user_tz": -120
    },
    "id": "GhrquNSbHcdp",
    "outputId": "3a88f667-f2c1-424f-99cd-796a92e6d75c"
   },
   "outputs": [
    {
     "name": "stdout",
     "output_type": "stream",
     "text": [
      "TrecQrel(query_id='1', doc_id='1239', relevance=1, iteration='0')\n",
      "TrecQrel(query_id='1', doc_id='1502', relevance=1, iteration='0')\n",
      "TrecQrel(query_id='1', doc_id='4462', relevance=1, iteration='0')\n"
     ]
    }
   ],
   "source": [
    "for ass in list(trec_dl_2020.qrels_iter())[:3]:\n",
    "  print(ass)"
   ]
  },
  {
   "cell_type": "markdown",
   "metadata": {},
   "source": [
    "## 5.1 Run File generation"
   ]
  },
  {
   "cell_type": "code",
   "execution_count": 25,
   "metadata": {
    "colab": {
     "base_uri": "https://localhost:8080/"
    },
    "executionInfo": {
     "elapsed": 642,
     "status": "ok",
     "timestamp": 1729868790072,
     "user": {
      "displayName": "DANIEL NAMAKI GHANEH",
      "userId": "00865735165124121752"
     },
     "user_tz": -120
    },
    "id": "HT-n8O0aHcdp",
    "outputId": "75f42b92-deab-47c9-fd38-7353d01e5324"
   },
   "outputs": [],
   "source": [
    "def generate_run(results):\n",
    "    trec_run_list = []\n",
    "    for doc_scores in results:\n",
    "        rank = 1\n",
    "        query_id = doc_scores['query_id']\n",
    "        scores = doc_scores['scores']\n",
    "\n",
    "        for score, doc_id in scores:\n",
    "            line = f\"{query_id} Q0 {doc_id} {rank} {score} GOODFELLAS\"\n",
    "            trec_run_list.append(line)\n",
    "            rank += 1\n",
    "    \n",
    "    return trec_run_list\n",
    "\n",
    "trec_bm25_run_list = generate_run(bm25_results)\n",
    "trec_tfidf_run_list = generate_run(tfidf_results)\n",
    "\n",
    "with open(\"trec_eval_bm25_run_file.txt\", \"w\") as f:\n",
    "    for line in trec_bm25_run_list:\n",
    "        f.write(line + \"\\n\")\n",
    "\n",
    "with open(\"trec_eval_tfidf_run_file.txt\", \"w\") as f:\n",
    "    for line in trec_tfidf_run_list:\n",
    "        f.write(line + \"\\n\")"
   ]
  },
  {
   "cell_type": "markdown",
   "metadata": {},
   "source": [
    "## 5.2 Qrels File generation"
   ]
  },
  {
   "cell_type": "code",
   "execution_count": 26,
   "metadata": {
    "executionInfo": {
     "elapsed": 519,
     "status": "ok",
     "timestamp": 1729868804818,
     "user": {
      "displayName": "DANIEL NAMAKI GHANEH",
      "userId": "00865735165124121752"
     },
     "user_tz": -120
    },
    "id": "BbLdcjrCHcdp"
   },
   "outputs": [],
   "source": [
    "# Create format for Trec_Eval\n",
    "qrels_file = []\n",
    "for qrel in trec_dl_2020.qrels_iter():\n",
    "    line = f\"{qrel.query_id} 0 {qrel.doc_id} {qrel.relevance}\"\n",
    "    qrels_file.append(line)\n",
    "\n",
    "with open(\"trec_eval_qrels_file.txt\", \"w\") as f:\n",
    "    for line in qrels_file:\n",
    "        f.write(line + \"\\n\")"
   ]
  },
  {
   "cell_type": "markdown",
   "metadata": {},
   "source": [
    "## 5.3 Results"
   ]
  },
  {
   "cell_type": "code",
   "execution_count": 27,
   "metadata": {
    "colab": {
     "base_uri": "https://localhost:8080/"
    },
    "executionInfo": {
     "elapsed": 3,
     "status": "ok",
     "timestamp": 1729868809424,
     "user": {
      "displayName": "DANIEL NAMAKI GHANEH",
      "userId": "00865735165124121752"
     },
     "user_tz": -120
    },
    "id": "zWWbnIHvHcdp",
    "outputId": "f0371710-d52c-4f93-92b6-dff784e0a672"
   },
   "outputs": [],
   "source": [
    "measures = [P@5, P(rel=2)@5, nDCG@10, AP, AP(rel=2), Bpref, Bpref(rel=2), Judged@10]\n",
    "\n",
    "qrels = ir_measures.read_trec_qrels('trec_eval_qrels_file.txt')\n",
    "bm25_run = ir_measures.read_trec_run(('trec_eval_bm25_run_file.txt'))\n",
    "bm25_results = ir_measures.calc_aggregate(measures, qrels, bm25_run)\n",
    "\n",
    "qrels = ir_measures.read_trec_qrels('trec_eval_qrels_file.txt')\n",
    "tfidf_run = ir_measures.read_trec_run(('trec_eval_tfidf_run_file.txt'))\n",
    "tfidf_results = ir_measures.calc_aggregate(measures, qrels, tfidf_run)"
   ]
  },
  {
   "cell_type": "code",
   "execution_count": 28,
   "metadata": {},
   "outputs": [
    {
     "name": "stdout",
     "output_type": "stream",
     "text": [
      "                  BM25    TF-IDF\n",
      "Judged@10     0.033333  0.019355\n",
      "P@5           0.027957  0.025806\n",
      "AP(rel=2)     0.000000  0.000000\n",
      "Bpref         0.012495  0.008701\n",
      "AP            0.004410  0.002152\n",
      "Bpref(rel=2)  0.000000  0.000000\n",
      "P(rel=2)@5    0.000000  0.000000\n",
      "nDCG@10       0.031989  0.021158\n"
     ]
    }
   ],
   "source": [
    "import pandas as pd\n",
    "\n",
    "# Create DataFrame for comparison\n",
    "df = pd.DataFrame({\n",
    "    \"BM25\": bm25_results,\n",
    "    \"TF-IDF\": tfidf_results\n",
    "})\n",
    "\n",
    "print(df)"
   ]
  }
 ],
 "metadata": {
  "colab": {
   "provenance": []
  },
  "kernelspec": {
   "display_name": "Python 3",
   "language": "python",
   "name": "python3"
  },
  "language_info": {
   "codemirror_mode": {
    "name": "ipython",
    "version": 3
   },
   "file_extension": ".py",
   "mimetype": "text/x-python",
   "name": "python",
   "nbconvert_exporter": "python",
   "pygments_lexer": "ipython3",
   "version": "3.12.0"
  }
 },
 "nbformat": 4,
 "nbformat_minor": 0
}
