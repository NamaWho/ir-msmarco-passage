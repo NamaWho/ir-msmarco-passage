{
 "cells": [
  {
   "cell_type": "markdown",
   "metadata": {
    "id": "4MpRz48IHcdf"
   },
   "source": [
    "# Information Retrieval project\n",
    "**Authors:** Arduini L., Menchini L., Namaki Ghaneh D., Petruzzella C.\n",
    "\n",
    "**Dataset:** The chosen dataset is MSMARCO Passage dataset ()\n",
    "\n",
    "**Evaluation:** For evaluation the trec-2020-dl dataset has been used "
   ]
  },
  {
   "cell_type": "markdown",
   "metadata": {},
   "source": [
    "# 0. Setup environment and dependencies\n",
    "This section ensures that all necessary packages are installed and loaded.\n",
    "\n",
    "**Note:** The project uses `ir_datasets`, `nltk`, and `ir_measures`, along with several utilities for processing."
   ]
  },
  {
   "cell_type": "code",
   "execution_count": null,
   "metadata": {
    "colab": {
     "base_uri": "https://localhost:8080/"
    },
    "executionInfo": {
     "elapsed": 14506,
     "status": "ok",
     "timestamp": 1729868591658,
     "user": {
      "displayName": "DANIEL NAMAKI GHANEH",
      "userId": "00865735165124121752"
     },
     "user_tz": -120
    },
    "id": "vpWABC3lHcdg",
    "outputId": "81d13858-5942-4e0b-a3bc-ed65856f81bf"
   },
   "outputs": [
    {
     "name": "stdout",
     "output_type": "stream",
     "text": [
      "Requirement already satisfied: ir_datasets in ./mircv_env/lib/python3.12/site-packages (0.5.8)\n",
      "Requirement already satisfied: beautifulsoup4>=4.4.1 in ./mircv_env/lib/python3.12/site-packages (from ir_datasets) (4.12.3)\n",
      "Requirement already satisfied: inscriptis>=2.2.0 in ./mircv_env/lib/python3.12/site-packages (from ir_datasets) (2.5.0)\n",
      "Requirement already satisfied: lxml>=4.5.2 in ./mircv_env/lib/python3.12/site-packages (from ir_datasets) (5.3.0)\n",
      "Requirement already satisfied: numpy>=1.18.1 in ./mircv_env/lib/python3.12/site-packages (from ir_datasets) (2.1.2)\n",
      "Requirement already satisfied: pyyaml>=5.3.1 in ./mircv_env/lib/python3.12/site-packages (from ir_datasets) (6.0.2)\n",
      "Requirement already satisfied: requests>=2.22.0 in ./mircv_env/lib/python3.12/site-packages (from ir_datasets) (2.32.3)\n",
      "Requirement already satisfied: tqdm>=4.38.0 in ./mircv_env/lib/python3.12/site-packages (from ir_datasets) (4.66.5)\n",
      "Requirement already satisfied: trec-car-tools>=2.5.4 in ./mircv_env/lib/python3.12/site-packages (from ir_datasets) (2.6)\n",
      "Requirement already satisfied: lz4>=3.1.10 in ./mircv_env/lib/python3.12/site-packages (from ir_datasets) (4.3.3)\n",
      "Requirement already satisfied: warc3-wet>=0.2.3 in ./mircv_env/lib/python3.12/site-packages (from ir_datasets) (0.2.5)\n",
      "Requirement already satisfied: warc3-wet-clueweb09>=0.2.5 in ./mircv_env/lib/python3.12/site-packages (from ir_datasets) (0.2.5)\n",
      "Requirement already satisfied: zlib-state>=0.1.3 in ./mircv_env/lib/python3.12/site-packages (from ir_datasets) (0.1.9)\n",
      "Requirement already satisfied: ijson>=3.1.3 in ./mircv_env/lib/python3.12/site-packages (from ir_datasets) (3.3.0)\n",
      "Requirement already satisfied: unlzw3>=0.2.1 in ./mircv_env/lib/python3.12/site-packages (from ir_datasets) (0.2.2)\n",
      "Requirement already satisfied: soupsieve>1.2 in ./mircv_env/lib/python3.12/site-packages (from beautifulsoup4>=4.4.1->ir_datasets) (2.6)\n",
      "Requirement already satisfied: charset-normalizer<4,>=2 in ./mircv_env/lib/python3.12/site-packages (from requests>=2.22.0->ir_datasets) (3.4.0)\n",
      "Requirement already satisfied: idna<4,>=2.5 in ./mircv_env/lib/python3.12/site-packages (from requests>=2.22.0->ir_datasets) (3.10)\n",
      "Requirement already satisfied: urllib3<3,>=1.21.1 in ./mircv_env/lib/python3.12/site-packages (from requests>=2.22.0->ir_datasets) (2.2.3)\n",
      "Requirement already satisfied: certifi>=2017.4.17 in ./mircv_env/lib/python3.12/site-packages (from requests>=2.22.0->ir_datasets) (2024.8.30)\n",
      "Requirement already satisfied: cbor>=1.0.0 in ./mircv_env/lib/python3.12/site-packages (from trec-car-tools>=2.5.4->ir_datasets) (1.0.0)\n",
      "\n",
      "\u001b[1m[\u001b[0m\u001b[34;49mnotice\u001b[0m\u001b[1;39;49m]\u001b[0m\u001b[39;49m A new release of pip is available: \u001b[0m\u001b[31;49m24.0\u001b[0m\u001b[39;49m -> \u001b[0m\u001b[32;49m24.3.1\u001b[0m\n",
      "\u001b[1m[\u001b[0m\u001b[34;49mnotice\u001b[0m\u001b[1;39;49m]\u001b[0m\u001b[39;49m To update, run: \u001b[0m\u001b[32;49mpip install --upgrade pip\u001b[0m\n",
      "Requirement already satisfied: nltk in ./mircv_env/lib/python3.12/site-packages (3.9.1)\n",
      "Requirement already satisfied: click in ./mircv_env/lib/python3.12/site-packages (from nltk) (8.1.7)\n",
      "Requirement already satisfied: joblib in ./mircv_env/lib/python3.12/site-packages (from nltk) (1.4.2)\n",
      "Requirement already satisfied: regex>=2021.8.3 in ./mircv_env/lib/python3.12/site-packages (from nltk) (2024.9.11)\n",
      "Requirement already satisfied: tqdm in ./mircv_env/lib/python3.12/site-packages (from nltk) (4.66.5)\n",
      "\n",
      "\u001b[1m[\u001b[0m\u001b[34;49mnotice\u001b[0m\u001b[1;39;49m]\u001b[0m\u001b[39;49m A new release of pip is available: \u001b[0m\u001b[31;49m24.0\u001b[0m\u001b[39;49m -> \u001b[0m\u001b[32;49m24.3.1\u001b[0m\n",
      "\u001b[1m[\u001b[0m\u001b[34;49mnotice\u001b[0m\u001b[1;39;49m]\u001b[0m\u001b[39;49m To update, run: \u001b[0m\u001b[32;49mpip install --upgrade pip\u001b[0m\n",
      "Requirement already satisfied: ir_measures in ./mircv_env/lib/python3.12/site-packages (0.3.4)\n",
      "Requirement already satisfied: pytrec-eval-terrier>=0.5.5 in ./mircv_env/lib/python3.12/site-packages (from ir_measures) (0.5.6)\n",
      "\n",
      "\u001b[1m[\u001b[0m\u001b[34;49mnotice\u001b[0m\u001b[1;39;49m]\u001b[0m\u001b[39;49m A new release of pip is available: \u001b[0m\u001b[31;49m24.0\u001b[0m\u001b[39;49m -> \u001b[0m\u001b[32;49m24.3.1\u001b[0m\n",
      "\u001b[1m[\u001b[0m\u001b[34;49mnotice\u001b[0m\u001b[1;39;49m]\u001b[0m\u001b[39;49m To update, run: \u001b[0m\u001b[32;49mpip install --upgrade pip\u001b[0m\n"
     ]
    }
   ],
   "source": [
    "!pip install ir_datasets\n",
    "!pip install nltk\n",
    "!pip install ir_measures\n",
    "!pip install PyStemmer"
   ]
  },
  {
   "cell_type": "code",
   "execution_count": null,
   "metadata": {},
   "outputs": [
    {
     "name": "stderr",
     "output_type": "stream",
     "text": [
      "/Users/danielnamaki/Documents/University/ir-project/mircv_env/lib/python3.12/site-packages/tqdm/auto.py:21: TqdmWarning: IProgress not found. Please update jupyter and ipywidgets. See https://ipywidgets.readthedocs.io/en/stable/user_install.html\n",
      "  from .autonotebook import tqdm as notebook_tqdm\n"
     ]
    }
   ],
   "source": [
    "import ir_datasets\n",
    "import ir_measures\n",
    "from ir_measures import *\n",
    "import random\n",
    "import re\n",
    "import string\n",
    "import nltk\n",
    "import time\n",
    "from collections import Counter, defaultdict\n",
    "from tqdm.auto import tqdm\n",
    "import gzip\n",
    "import pickle\n",
    "import os\n",
    "import heapq\n",
    "import math"
   ]
  },
  {
   "cell_type": "markdown",
   "metadata": {},
   "source": [
    "# 1. Loading the dataset\n",
    "\n",
    "This notebook will load the MS MARCO Passage dataset, a standard dataset for Information Retrieval tasks.\n",
    "It contains passages from various sources and is used to train and evaluate retrieval models.\n",
    "\n",
    "For testing purposes, also the Vaswani dataset will be used in a development environment."
   ]
  },
  {
   "cell_type": "code",
   "execution_count": null,
   "metadata": {
    "executionInfo": {
     "elapsed": 9,
     "status": "ok",
     "timestamp": 1729868591658,
     "user": {
      "displayName": "DANIEL NAMAKI GHANEH",
      "userId": "00865735165124121752"
     },
     "user_tz": -120
    },
    "id": "U79MpmqyHcdi"
   },
   "outputs": [],
   "source": [
    "# ------- Production Environment -------\n",
    "dataset = ir_datasets.load(\"msmarco-passage\")\n",
    "# ---------------------------------------\n",
    "\n",
    "# ------- Development Environment -------\n",
    "# dataset = ir_datasets.load(\"vaswani\")\n",
    "# ---------------------------------------"
   ]
  },
  {
   "cell_type": "markdown",
   "metadata": {},
   "source": [
    "# 2. Preprocessing text data\n",
    "This section defines functions for text preprocessing. Preprocessing steps include:\n",
    "- Lowercasing\n",
    "- Replacing symbols and punctuations\n",
    "- Removing stopwords\n",
    "- Stemming tokens\n",
    "\n",
    "The goal is to normalize text data for effective retrieval"
   ]
  },
  {
   "cell_type": "code",
   "execution_count": 4,
   "metadata": {
    "executionInfo": {
     "elapsed": 8,
     "status": "ok",
     "timestamp": 1729868591658,
     "user": {
      "displayName": "DANIEL NAMAKI GHANEH",
      "userId": "00865735165124121752"
     },
     "user_tz": -120
    },
    "id": "Q1Hq10LVHcdj"
   },
   "outputs": [],
   "source": [
    "from functools import lru_cache\n",
    "import Stemmer\n",
    "nltk.download(\"stopwords\", quiet=True)\n",
    "\n",
    "# ------- Pre Initialization -------\n",
    "# 1. Compile regex patterns once globally\n",
    "# 2. Preload stopwords set\n",
    "# 3. Initialize stemmer\n",
    "\n",
    "ACRONYM_REGEX = re.compile(r\"(?<!\\w)\\.(?!\\d)\")\n",
    "PUNCTUATION_TRANS = str.maketrans(\"\", \"\", string.punctuation)\n",
    "STOPWORDS = set(nltk.corpus.stopwords.words('english'))\n",
    "STEMMER = Stemmer.Stemmer('english')\n",
    "\n",
    "# Define a cached function to stem individual words\n",
    "@lru_cache(maxsize=1000)\n",
    "def stem(word):\n",
    "    return STEMMER.stemWord(word)\n",
    "\n",
    "# ----------------------------------\n",
    "\n",
    "def preprocess(s):\n",
    "    \"\"\"\n",
    "    Preprocess a string for indexing or querying.\n",
    "\n",
    "    Args:\n",
    "        s: The input string.\n",
    "\n",
    "    Returns:\n",
    "        A list of preprocessed tokens.    \n",
    "    \"\"\"\n",
    "\n",
    "    s = s.lower()\n",
    "    s = s.replace(\"&\", \" and \")\n",
    "    # normalize quotes and dashes\n",
    "    s = s.translate(str.maketrans(\"‘’´“”–-\", \"'''\\\"\\\"--\"))\n",
    "    # remove unnecessary dots in acronyms (but not decimals)\n",
    "    s = ACRONYM_REGEX.sub(\"\", s)\n",
    "    # remove punctuation\n",
    "    s = s.translate(PUNCTUATION_TRANS)\n",
    "    # strip and remove extra spaces\n",
    "    s = \" \".join(s.split())\n",
    "\n",
    "    tokens = s.split()\n",
    "    tokens = [t for t in tokens if t not in STOPWORDS]\n",
    "    # Apply cached stemming function\n",
    "    # tokens = [stem(t) for t in tokens]\n",
    "    tokens = STEMMER.stemWords(tokens)\n",
    "    return tokens"
   ]
  },
  {
   "cell_type": "code",
   "execution_count": null,
   "metadata": {
    "executionInfo": {
     "elapsed": 8,
     "status": "ok",
     "timestamp": 1729868591658,
     "user": {
      "displayName": "DANIEL NAMAKI GHANEH",
      "userId": "00865735165124121752"
     },
     "user_tz": -120
    },
    "id": "Bkuc9p8MHcdk"
   },
   "outputs": [],
   "source": [
    "def profile(f):\n",
    "    \"\"\"\n",
    "    A decorator that prints the runtime of the decorated function.\n",
    "\n",
    "    Args:\n",
    "        f: The function to profile.\n",
    "\n",
    "    Returns:\n",
    "        The profiled function.\n",
    "    \"\"\"\n",
    "    def f_timer(*args, **kwargs):\n",
    "        \"\"\"\n",
    "        The profiled function.\n",
    "        \n",
    "        Args:\n",
    "            *args: The arguments to the function.\n",
    "            **kwargs: The keyword arguments to the function.\n",
    "            \n",
    "        Returns:\n",
    "            The result of the function.\n",
    "        \"\"\"\n",
    "        start = time.time()\n",
    "        result = f(*args, **kwargs)\n",
    "        end = time.time()\n",
    "        ms = (end - start) * 1000\n",
    "        print(f\"{f.__name__} ({ms:.3f} ms)\")\n",
    "        return result\n",
    "    return f_timer"
   ]
  },
  {
   "cell_type": "markdown",
   "metadata": {},
   "source": [
    "# 3. Building the inverted index\n",
    "We create an inverted index to store terms with their respective document IDs and term frequencies.\n",
    "The `build_index` function processes the dataset and constructs a structure that enables efficient term-based searching across documents"
   ]
  },
  {
   "cell_type": "code",
   "execution_count": null,
   "metadata": {
    "executionInfo": {
     "elapsed": 8,
     "status": "ok",
     "timestamp": 1729868591658,
     "user": {
      "displayName": "DANIEL NAMAKI GHANEH",
      "userId": "00865735165124121752"
     },
     "user_tz": -120
    },
    "id": "-Ugz6FpdHcdl"
   },
   "outputs": [],
   "source": [
    "@profile\n",
    "def build_index(dataset):\n",
    "    \"\"\"\n",
    "    Build an inverted index from a dataset.\n",
    "\n",
    "    Args:\n",
    "        dataset: The dataset to index.\n",
    "\n",
    "    Returns:\n",
    "        A tuple of:\n",
    "        - The lexicon, a dictionary mapping terms to term IDs and document frequencies.\n",
    "        - The inverted index, a dictionary mapping term IDs to lists of document IDs and frequencies.\n",
    "        - The document index, a list of document IDs and document lengths.\n",
    "        - The index statistics, a dictionary of statistics.\n",
    "    \"\"\"\n",
    "    lexicon = {}\n",
    "    doc_index = []\n",
    "    inv_d, inv_f = {}, {}\n",
    "    termid = 0\n",
    "\n",
    "    num_docs = 0\n",
    "    total_dl = 0\n",
    "    total_toks = 0\n",
    "    for docid, doc in tqdm(enumerate(dataset.docs_iter()), desc='Indexing', total=dataset.docs_count()):\n",
    "        tokens = preprocess(doc.text)\n",
    "        token_tf = Counter(tokens)\n",
    "        for token, tf in token_tf.items():\n",
    "            if token not in lexicon:\n",
    "                lexicon[token] = [termid, 0, 0]\n",
    "                inv_d[termid], inv_f[termid] =  [], []\n",
    "                termid += 1\n",
    "            token_id = lexicon[token][0]\n",
    "            inv_d[token_id].append(docid)\n",
    "            inv_f[token_id].append(tf)\n",
    "            lexicon[token][1] += 1\n",
    "            lexicon[token][2] += tf\n",
    "        doclen = len(tokens)\n",
    "        doc_index.append((str(doc.doc_id), doclen))\n",
    "        total_dl += doclen\n",
    "        num_docs += 1\n",
    "\n",
    "\n",
    "    stats = {\n",
    "        'num_docs': 1 + docid,\n",
    "        'num_terms': len(lexicon),\n",
    "        'num_tokens': total_dl,\n",
    "    }\n",
    "    return lexicon, {'docids': inv_d, 'freqs': inv_f}, doc_index, stats"
   ]
  },
  {
   "cell_type": "code",
   "execution_count": null,
   "metadata": {
    "colab": {
     "base_uri": "https://localhost:8080/"
    },
    "executionInfo": {
     "elapsed": 7,
     "status": "ok",
     "timestamp": 1729868591658,
     "user": {
      "displayName": "DANIEL NAMAKI GHANEH",
      "userId": "00865735165124121752"
     },
     "user_tz": -120
    },
    "id": "JhOE3PCeHcdl",
    "outputId": "e1ec7df6-a039-4979-a829-3d541ec5ab21"
   },
   "outputs": [
    {
     "name": "stdout",
     "output_type": "stream",
     "text": [
      "All files already exist.\n"
     ]
    }
   ],
   "source": [
    "lex, inv, doc, stats = None, None, None, None\n",
    "\n",
    "files = ['lexicon.pickle.gz', 'inverted_file.pickle.gz', 'document_index.pickle.gz', 'stats.pickle.gz']\n",
    "if all(os.path.exists(file) for file in files):\n",
    "    print(\"All files already exist.\")\n",
    "    \n",
    "    for file, var_name in zip(files, ['lex', 'inv', 'doc', 'stats']):\n",
    "        try:\n",
    "            if os.path.getsize(file) > 0:  # Verifica se il file non è vuoto\n",
    "                with gzip.open(file, 'rb') as f:\n",
    "                    globals()[var_name] = pickle.load(f)\n",
    "            else:\n",
    "                print(f\"Warning: {file} is empty.\")\n",
    "        except EOFError:\n",
    "            print(f\"Error: {file} is corrupted or incomplete. Rebuilding the index.\")\n",
    "            lex, inv, doc, stats = build_index(dataset)\n",
    "            break\n",
    "else:\n",
    "    # Se i file non esistono o sono corrotti, ricostruisci l'indice\n",
    "    lex, inv, doc, stats = build_index(dataset)\n",
    "\n",
    "    # Salva nuovamente i dati nei file compressi solo se necessario\n",
    "    for data, file in zip([lex, inv, doc, stats], files):\n",
    "      with gzip.open(file, 'wb') as f:\n",
    "        print(f\"Saving {file}...\")\n",
    "        pickle.dump(data, f)\n"
   ]
  },
  {
   "cell_type": "code",
   "execution_count": null,
   "metadata": {
    "executionInfo": {
     "elapsed": 6,
     "status": "ok",
     "timestamp": 1729868591658,
     "user": {
      "displayName": "DANIEL NAMAKI GHANEH",
      "userId": "00865735165124121752"
     },
     "user_tz": -120
    },
    "id": "4BRtzyxlHcdm"
   },
   "outputs": [],
   "source": [
    "class InvertedIndex:\n",
    "    \"\"\"\n",
    "    A simple inverted index class.\n",
    "    \n",
    "    Attributes:\n",
    "        lexicon: The lexicon.\n",
    "        inv: The inverted index.\n",
    "        doc: The document index.\n",
    "        stats: The index statistics.\n",
    "        \n",
    "    Methods:\n",
    "        num_docs: Get the number of documents in the index.\n",
    "        get_posting: Get a posting list iterator for a term.\n",
    "        get_termids: Get the term IDs for a list of tokens.\n",
    "        get_postings: Get the posting list iterators for a list of term IDs.\n",
    "        \n",
    "    Inner class:\n",
    "        PostingListIterator: An iterator over a posting list.\n",
    "    \"\"\"\n",
    "\n",
    "    class PostingListIterator:\n",
    "        \"\"\"\n",
    "        An iterator over a posting list.\n",
    "\n",
    "        Attributes:\n",
    "            docids: The list of document IDs.\n",
    "            freqs: The list of term frequencies.\n",
    "            pos: The current position in the posting list.\n",
    "            doc: The document index.\n",
    "\n",
    "        Methods:\n",
    "            docid: Get the current document ID.\n",
    "            score: Get the current document score.\n",
    "            next: Move to the next document.\n",
    "            is_end_list: Check if the iterator is at the end of the list.\n",
    "            len: Get the length of the posting list.\n",
    "        \"\"\"\n",
    "        def __init__(self, docids, freqs, doc):\n",
    "            self.docids = docids\n",
    "            self.freqs = freqs\n",
    "            self.pos = 0\n",
    "            self.doc = doc\n",
    "\n",
    "        def docid(self):\n",
    "            if self.is_end_list():\n",
    "                return math.inf\n",
    "            return self.docids[self.pos]\n",
    "\n",
    "        def score(self):\n",
    "            if self.is_end_list():\n",
    "                return math.inf\n",
    "            return self.freqs[self.pos]/self.doc[self.docid()][1]\n",
    "\n",
    "        def next(self, target = None):\n",
    "            if not target:\n",
    "                if not self.is_end_list():\n",
    "                    self.pos += 1\n",
    "            else:\n",
    "                if target > self.docid():\n",
    "                    try:\n",
    "                        self.pos = self.docids.index(target, self.pos)\n",
    "                    except ValueError:\n",
    "                        self.pos = len(self.docids)\n",
    "\n",
    "        def is_end_list(self):\n",
    "            return self.pos == len(self.docids)\n",
    "\n",
    "\n",
    "        def len(self):\n",
    "            return len(self.docids)\n",
    "\n",
    "\n",
    "    def __init__(self, lex, inv, doc, stats):\n",
    "        self.lexicon = lex\n",
    "        self.inv = inv\n",
    "        self.doc = doc\n",
    "        self.stat = stats\n",
    "\n",
    "    def num_docs(self):\n",
    "        return self.stats['num_docs']\n",
    "\n",
    "    def get_posting(self, termid):\n",
    "        return InvertedIndex.PostingListIterator(self.inv['docids'][termid], self.inv['freqs'][termid], self.doc)\n",
    "\n",
    "    def get_termids(self, tokens):\n",
    "        return [self.lexicon[token][0] for token in tokens if token in self.lexicon]\n",
    "\n",
    "    def get_postings(self, termids):\n",
    "        return [self.get_posting(termid) for termid in termids]\n",
    "    \n",
    "inv_index = InvertedIndex(lex, inv, doc, stats)"
   ]
  },
  {
   "cell_type": "markdown",
   "metadata": {
    "id": "XA-LFkjhHcdm"
   },
   "source": [
    "# 4. Query processing\n",
    "This section implements the Query Processing task, aiming to rank documents by relevance to a given query using the BM25 and TF-IDF scoring algorithm with Document-at-a-Time (DAAT) and Term-at-a-Time (TAAT) approaches."
   ]
  },
  {
   "cell_type": "code",
   "execution_count": null,
   "metadata": {
    "executionInfo": {
     "elapsed": 7,
     "status": "ok",
     "timestamp": 1729868591659,
     "user": {
      "displayName": "DANIEL NAMAKI GHANEH",
      "userId": "00865735165124121752"
     },
     "user_tz": -120
    },
    "id": "Edu7ZtPfHcdn"
   },
   "outputs": [],
   "source": [
    "# ------- Production Environment --------\n",
    "# trec_dl_2020 = ir_datasets.load(\"msmarco-passage/trec-dl-2020\")\n",
    "# ---------------------------------------\n",
    "\n",
    "# ------- Development Environment -------\n",
    "trec_dl_2020 = ir_datasets.load(\"vaswani\")\n",
    "# ---------------------------------------"
   ]
  },
  {
   "cell_type": "code",
   "execution_count": null,
   "metadata": {
    "executionInfo": {
     "elapsed": 6,
     "status": "ok",
     "timestamp": 1729868591659,
     "user": {
      "displayName": "DANIEL NAMAKI GHANEH",
      "userId": "00865735165124121752"
     },
     "user_tz": -120
    },
    "id": "ywDp7MMVHcdn"
   },
   "outputs": [],
   "source": [
    "class TopQueue:\n",
    "    \"\"\"\n",
    "    A simple top-k queue class.\n",
    "    \n",
    "    Attributes:\n",
    "        queue: The priority queue.\n",
    "        k: The maximum number of items in the queue.\n",
    "        threshold: The minimum score threshold.\n",
    "        \n",
    "    Methods:\n",
    "        size: Get the number of items in the queue.\n",
    "        would_enter: Check if a score would enter the queue.\n",
    "        clear: Clear the queue.\n",
    "        insert: Insert a document into the queue.\n",
    "    \"\"\"\n",
    "    def __init__(self, k=10, threshold=0.0):\n",
    "        self.queue = []\n",
    "        self.k = k\n",
    "        self.threshold = threshold\n",
    "\n",
    "    def size(self):\n",
    "        return len(self.queue)\n",
    "\n",
    "    def would_enter(self, score):\n",
    "        return score > self.threshold\n",
    "\n",
    "    def clear(self, new_threshold=None):\n",
    "        self.queue = []\n",
    "        if new_threshold:\n",
    "            self.threshold = new_threshold\n",
    "\n",
    "    def __repr__(self):\n",
    "        return f'<{self.size()} items, th={self.threshold} {self.queue}'\n",
    "\n",
    "    def insert(self, docid, score):\n",
    "        if score > self.threshold:\n",
    "            if self.size() >= self.k:\n",
    "                heapq.heapreplace(self.queue, (score, docid))\n",
    "            else:\n",
    "                heapq.heappush(self.queue, (score, docid))\n",
    "            if self.size() >= self.k:\n",
    "                self.threshold = max(self.threshold, self.queue[0][0])\n",
    "            return True\n",
    "        return False"
   ]
  },
  {
   "cell_type": "markdown",
   "metadata": {},
   "source": [
    "## 4.1. BM25"
   ]
  },
  {
   "cell_type": "code",
   "execution_count": 11,
   "metadata": {
    "executionInfo": {
     "elapsed": 6,
     "status": "ok",
     "timestamp": 1729868591659,
     "user": {
      "displayName": "DANIEL NAMAKI GHANEH",
      "userId": "00865735165124121752"
     },
     "user_tz": -120
    },
    "id": "l6naDw7fHcdn"
   },
   "outputs": [],
   "source": [
    "# Average document length\n",
    "avg_dl = inv_index.stat['num_tokens'] / inv_index.stat['num_docs']\n",
    "# Number of documents\n",
    "N = inv_index.stat['num_docs']\n",
    "\n",
    "def bm25(tf, df, dl, k1=1.5, b=0.75):\n",
    "    \"\"\"\n",
    "    Compute the BM25 score.\n",
    "\n",
    "    Args:\n",
    "        tf: The term frequency.\n",
    "        df: The document frequency.\n",
    "        dl: The document length.\n",
    "        k1: The k1 parameter.\n",
    "        b: The b parameter.\n",
    "\n",
    "    Returns:\n",
    "        The BM25 score.\n",
    "    \"\"\"\n",
    "    idf = math.log(1 + (N - df + 0.5) / (df + 0.5))\n",
    "    term_frequency_component = (tf * (k1 + 1)) / (tf + k1 * (1 - b + b * (dl / avg_dl)))\n",
    "    return idf * term_frequency_component"
   ]
  },
  {
   "cell_type": "markdown",
   "metadata": {},
   "source": [
    "### 4.1.1 DAAT with BM25"
   ]
  },
  {
   "cell_type": "code",
   "execution_count": null,
   "metadata": {
    "executionInfo": {
     "elapsed": 6,
     "status": "ok",
     "timestamp": 1729868591659,
     "user": {
      "displayName": "DANIEL NAMAKI GHANEH",
      "userId": "00865735165124121752"
     },
     "user_tz": -120
    },
    "id": "K3NbYKX2Hcdn"
   },
   "outputs": [],
   "source": [
    "# Calculate document lengths\n",
    "doc_lengths = defaultdict(int)\n",
    "for docid, doc_len in inv_index.doc:\n",
    "    doc_lengths[docid] = doc_len\n",
    "\n",
    "def min_docid(postings):\n",
    "    \"\"\"\n",
    "    Get the minimum document ID from a list of posting list iterators.\n",
    "    \n",
    "    Args:\n",
    "        postings: The list of posting list iterators.\n",
    "        \n",
    "    Returns:\n",
    "        The minimum document ID.\n",
    "    \"\"\"\n",
    "    min_docid = math.inf\n",
    "    for p in postings:\n",
    "        if not p.is_end_list():\n",
    "            min_docid = min(p.docid(), min_docid)\n",
    "    return min_docid\n",
    "\n",
    "def daat_bm25(postings, k=10):\n",
    "    \"\"\"\n",
    "    Perform a document-at-a-time (DAAT) scoring using BM25.\n",
    "\n",
    "    Args:\n",
    "        postings: The list of posting list iterators.\n",
    "        k: The maximum number of documents to retrieve.\n",
    "    \n",
    "    Returns:\n",
    "        A list of (docid, score) tuples.\n",
    "    \"\"\"\n",
    "    top = TopQueue(k)\n",
    "    current_docid = min_docid(postings)\n",
    "\n",
    "    while current_docid != math.inf:\n",
    "        score = 0\n",
    "        next_docid = math.inf\n",
    "\n",
    "        for posting in postings:\n",
    "            if posting.docid() == current_docid:\n",
    "                tf = posting.freqs[posting.pos]\n",
    "                df = posting.len()\n",
    "                dl = doc_lengths[current_docid]\n",
    "\n",
    "                score += bm25(tf, df, dl)\n",
    "\n",
    "                posting.next()\n",
    "            if not posting.is_end_list():\n",
    "                next_docid = min(next_docid, posting.docid())\n",
    "\n",
    "        top.insert(current_docid, score)\n",
    "        current_docid = next_docid\n",
    "\n",
    "    return sorted(top.queue, reverse=True)"
   ]
  },
  {
   "cell_type": "markdown",
   "metadata": {
    "id": "E9Eub_uGHcdo"
   },
   "source": [
    "### 4.1.2 TAAT with BM25"
   ]
  },
  {
   "cell_type": "code",
   "execution_count": null,
   "metadata": {
    "executionInfo": {
     "elapsed": 6,
     "status": "ok",
     "timestamp": 1729868591659,
     "user": {
      "displayName": "DANIEL NAMAKI GHANEH",
      "userId": "00865735165124121752"
     },
     "user_tz": -120
    },
    "id": "P85FZGrxHcdo"
   },
   "outputs": [],
   "source": [
    "def taat_bm25(postings, k=10):\n",
    "    \"\"\"\n",
    "    Perform a term-at-a-time (TAAT) scoring using BM25.\n",
    "\n",
    "    Args:\n",
    "        postings: The list of posting list iterators.\n",
    "        k: The maximum number of documents to retrieve.\n",
    "    \n",
    "    Returns:\n",
    "        A list of (docid, score) tuples.\n",
    "    \"\"\"\n",
    "    A = defaultdict(float)\n",
    "\n",
    "    for posting in postings:\n",
    "        current_docid = posting.docid()\n",
    "\n",
    "        df = posting.len()\n",
    "\n",
    "        while current_docid != math.inf:\n",
    "            tf = posting.freqs[posting.pos]\n",
    "            dl = doc_lengths[current_docid]\n",
    "\n",
    "            score = bm25(tf, df, dl)\n",
    "            A[current_docid] += score\n",
    "\n",
    "            posting.next()\n",
    "            current_docid = posting.docid()\n",
    "\n",
    "    top = TopQueue(k)\n",
    "    for docid, score in A.items():\n",
    "        top.insert(docid, score)\n",
    "\n",
    "    return sorted(top.queue, reverse=True)"
   ]
  },
  {
   "cell_type": "markdown",
   "metadata": {},
   "source": [
    "## 4.2 TF-IDF"
   ]
  },
  {
   "cell_type": "code",
   "execution_count": 14,
   "metadata": {},
   "outputs": [],
   "source": [
    "def tfidf_score(tf, df, N):\n",
    "    \"\"\"\n",
    "    Compute the TF-IDF score.\n",
    "    \n",
    "    Args:\n",
    "        tf: The term frequency.\n",
    "        df: The document frequency.\n",
    "        N: The number of documents.\n",
    "        \n",
    "    Returns:\n",
    "        The TF-IDF score.\n",
    "    \"\"\"\n",
    "    idf = math.log(N / df)\n",
    "    return tf * idf"
   ]
  },
  {
   "cell_type": "markdown",
   "metadata": {},
   "source": [
    "### 4.2.1 DAAT with TF-IDF"
   ]
  },
  {
   "cell_type": "code",
   "execution_count": 15,
   "metadata": {},
   "outputs": [],
   "source": [
    "def daat_tfidf(postings, k=10):\n",
    "    \"\"\"\n",
    "    Perform a document-at-a-time (DAAT) scoring using TF-IDF.\n",
    "\n",
    "    Args:\n",
    "        postings: The list of posting list iterators.\n",
    "        k: The maximum number of documents to retrieve.\n",
    "    \n",
    "    Returns:\n",
    "        A list of (docid, score) tuples.\n",
    "    \"\"\"\n",
    "    top = TopQueue(k)\n",
    "    current_docid = min_docid(postings)\n",
    "\n",
    "    while current_docid != math.inf:\n",
    "        score = 0\n",
    "        next_docid = math.inf\n",
    "\n",
    "        for posting in postings:\n",
    "            if posting.docid() == current_docid:\n",
    "                tf = posting.freqs[posting.pos]\n",
    "                df = posting.len() \n",
    "                \n",
    "                score += tfidf_score(tf, df, N)\n",
    "                \n",
    "                posting.next()\n",
    "            if not posting.is_end_list():\n",
    "                next_docid = min(next_docid, posting.docid())\n",
    "\n",
    "        top.insert(current_docid, score)\n",
    "        current_docid = next_docid\n",
    "\n",
    "    return sorted(top.queue, reverse=True)\n"
   ]
  },
  {
   "cell_type": "markdown",
   "metadata": {},
   "source": [
    "### 4.2.2 TAAT with TF-IDF"
   ]
  },
  {
   "cell_type": "code",
   "execution_count": 16,
   "metadata": {},
   "outputs": [],
   "source": [
    "def taat_tfidf(postings, k=10):\n",
    "    \"\"\"\n",
    "    Perform a term-at-a-time (TAAT) scoring using TF-IDF.\n",
    "\n",
    "    Args:\n",
    "        postings: The list of posting list iterators.\n",
    "        k: The maximum number of documents to retrieve.\n",
    "    \n",
    "    Returns:\n",
    "        A list of (docid, score) tuples.\n",
    "    \"\"\"\n",
    "    A = defaultdict(float)\n",
    "    \n",
    "    for posting in postings:\n",
    "        current_docid = posting.docid()\n",
    "        \n",
    "        df = posting.len()\n",
    "        \n",
    "        while current_docid != math.inf:\n",
    "            tf = posting.freqs[posting.pos]\n",
    "            \n",
    "            score = tfidf_score(tf, df, N)\n",
    "            A[current_docid] += score\n",
    "            \n",
    "            posting.next()\n",
    "            current_docid = posting.docid()\n",
    "    \n",
    "    top = TopQueue(k)\n",
    "    for docid, score in A.items():\n",
    "        top.insert(docid, score)\n",
    "\n",
    "    return sorted(top.queue, reverse=True)\n"
   ]
  },
  {
   "cell_type": "markdown",
   "metadata": {},
   "source": [
    "## 4.3 Results"
   ]
  },
  {
   "cell_type": "code",
   "execution_count": 14,
   "metadata": {
    "executionInfo": {
     "elapsed": 6,
     "status": "ok",
     "timestamp": 1729868591659,
     "user": {
      "displayName": "DANIEL NAMAKI GHANEH",
      "userId": "00865735165124121752"
     },
     "user_tz": -120
    },
    "id": "EmKXPJvBHcdo"
   },
   "outputs": [],
   "source": [
    "@profile\n",
    "def query_processing(queries_iter, fn):\n",
    "    \"\"\"\n",
    "    Process a list of queries using a scoring function.\n",
    "\n",
    "    Args:\n",
    "        queries_iter: The list of queries.\n",
    "        fn: The scoring function.\n",
    "    \n",
    "    Returns:\n",
    "        A list of query results.\n",
    "    \"\"\"\n",
    "    \n",
    "    res = []\n",
    "    for q in queries_iter:\n",
    "        query = preprocess(q.text)\n",
    "        termids = inv_index.get_termids(query)\n",
    "        postings = inv_index.get_postings(termids)\n",
    "        res.append({'query_id': q.query_id, 'scores': fn(postings)})\n",
    "    return res"
   ]
  },
  {
   "cell_type": "code",
   "execution_count": 15,
   "metadata": {
    "colab": {
     "base_uri": "https://localhost:8080/"
    },
    "executionInfo": {
     "elapsed": 5432,
     "status": "ok",
     "timestamp": 1729868597085,
     "user": {
      "displayName": "DANIEL NAMAKI GHANEH",
      "userId": "00865735165124121752"
     },
     "user_tz": -120
    },
    "id": "om92ICN-Hcdo",
    "outputId": "328f5039-947c-4ca1-e91f-c042989a9d89"
   },
   "outputs": [
    {
     "name": "stderr",
     "output_type": "stream",
     "text": [
      "[INFO] Please confirm you agree to the MSMARCO data usage agreement found at <http://www.msmarco.org/dataset.aspx>\n",
      "[INFO] [starting] https://msmarco.z22.web.core.windows.net/msmarcoranking/msmarco-test2020-queries.tsv.gz\n",
      "[INFO] [finished] https://msmarco.z22.web.core.windows.net/msmarcoranking/msmarco-test2020-queries.tsv.gz: [00:00] [4.13kB] [15.5MB/s]\n",
      "                                                                                                                    \r"
     ]
    },
    {
     "name": "stdout",
     "output_type": "stream",
     "text": [
      "query_processing (294130.112 ms)\n",
      "[{'query_id': '1030303', 'scores': [(52.67510724707057, 8726436), (45.396526627551914, 8726435), (45.396526627551914, 8726433), (45.396526627551914, 8726429), (41.90065349198796, 8726437), (41.90065349198796, 8726434), (41.90065349198796, 8726430), (41.90065349198796, 7156982), (28.65245040521046, 1305521), (28.65245040521046, 1305520)]}, {'query_id': '1037496', 'scores': [(37.653476406482234, 7766587), (37.653476406482234, 7766585), (37.653476406482234, 5927420), (37.653476406482234, 4760912), (34.31780748978049, 4905511), (34.31780748978049, 4760914), (34.31780748978049, 4174377), (34.31780748978049, 3725937), (26.558278232025287, 4174376), (25.820548281135697, 4174378)]}, {'query_id': '1043135', 'scores': [(51.323680145983545, 8696961), (49.76126512062235, 650642), (48.1854453169104, 3378240), (47.92558720707534, 8696958), (47.08041688425733, 4994428), (46.7362248086448, 650641), (45.60189862377017, 4355523), (45.60189862377017, 2514458), (44.40242485977417, 2664995), (43.34413939726818, 4721484)]}, {'query_id': '1045109', 'scores': [(46.660009626843, 8838896), (42.162907924783475, 8838890), (39.9843159707582, 8838893), (39.75557641248765, 8838892), (38.818491568949064, 8838891), (36.518374225718006, 8838899), (36.518374225718006, 8838898), (36.518374225718006, 8838897), (36.518374225718006, 8838895), (29.547558281167248, 7620329)]}, {'query_id': '1049519', 'scores': [(38.92328362057082, 7105), (38.850771322707814, 5355123), (35.67306486376653, 1316185), (35.31078093791132, 7106), (33.74302029350547, 7668125), (31.997752377201238, 5355121), (31.051791035621505, 5355126), (30.5853668896483, 5355117), (30.56531383456418, 6080565), (29.78885826498282, 6950445)]}, {'query_id': '1051399', 'scores': [(42.10757047767052, 2845499), (41.3434707870476, 7848674), (41.342406578609555, 4426188), (41.342406578609555, 69818), (41.342406578609555, 69813), (41.28022693098491, 3773237), (40.74996148591968, 8712317), (40.40685588507113, 2866972), (39.99974715264694, 3446937), (39.592915614819354, 7848669)]}, {'query_id': '1056416', 'scores': [(59.92865197565817, 8739209), (55.865767079644115, 2308626), (52.17496823849983, 8757245), (52.17496823849983, 2059786), (48.74191591546419, 3790242), (48.57585219226779, 895432), (46.85546831306432, 7321435), (46.68940458986792, 2348501), (46.68940458986792, 1367298), (45.28368772378185, 2348504)]}, {'query_id': '1064670', 'scores': [(46.20822287891298, 8680901), (44.82310894661139, 8680903), (44.18727929689358, 8680905), (43.137645810094455, 8680897), (41.021543511572276, 8680904), (39.00059992955288, 8680902), (34.763289183992356, 7734392), (32.74234560197296, 3807086), (32.368964260811524, 129462), (31.69271211517383, 8337453)]}, {'query_id': '1065636', 'scores': [(45.14857772533488, 4371749), (43.69554135871174, 1062134), (43.500098497809496, 8490752), (37.823324499297186, 7411479), (36.96874822855255, 436583), (36.75811357305094, 3822992), (36.75811357305094, 597867), (36.46666324277047, 6307138), (36.059937059776225, 7411495), (35.93244933639826, 444919)]}, {'query_id': '1071750', 'scores': [(74.14957756211176, 3928913), (71.30340320022496, 8698268), (67.69176157327229, 8698276), (65.68660180248918, 8698274), (65.68660180248918, 8698269), (65.68660180248918, 3575934), (63.32426723684185, 8378390), (56.59889821448215, 8378386), (54.23656364883481, 8378389), (54.23656364883481, 8378385)]}, {'query_id': '1103153', 'scores': [(36.033550526386264, 8226438), (35.53367490762536, 8226436), (34.933873841599336, 8226445), (34.81648804897863, 7570096), (34.27318278243519, 6113506), (33.056120305027555, 8226444), (33.056120305027555, 8226440), (33.056120305027555, 8226439), (31.82915287715988, 8226443), (31.82915287715988, 8226441)]}, {'query_id': '1103791', 'scores': [(24.488043710013066, 8384424), (24.01395393457511, 8384416), (23.811300973607253, 4034845), (23.56620247999482, 8220282), (23.418103017755975, 4034852), (23.21852270997826, 8384417), (23.21852270997826, 8146212), (23.18000281168612, 1512326), (22.937376447799934, 8220278), (22.937376447799934, 8214165)]}, {'query_id': '1104501', 'scores': [(51.22435940131854, 6871582), (50.76604972388639, 6067096), (50.74993924820366, 5286080), (50.014967436517345, 2204057), (49.93528091182409, 2204054), (49.8382068028863, 2090898), (49.720019600594256, 5594847), (49.6036563480898, 7431269), (49.57608749405145, 2283306), (49.57413875451596, 1247973)]}, {'query_id': '1105792', 'scores': [(30.64609242965094, 8201616), (30.64609242965094, 8201611), (30.289742517678253, 8201618), (30.289742517678253, 8201612), (29.770489788803765, 8201613), (28.943531739114775, 8201615), (28.943531739114775, 8201610), (28.943531739114775, 6977017), (27.420187963371887, 8201614), (27.420187963371887, 7102720)]}, {'query_id': '1105860', 'scores': [(40.33084624730899, 3593906), (40.33084624730899, 3593905), (40.33084624730899, 3593904), (39.89625644393996, 8200940), (39.83214215436016, 8282567), (39.83214215436016, 8282566), (39.83214215436016, 8282565), (39.474544312042, 7237676), (39.454669967125525, 3593907), (39.24782415637286, 4866505)]}, {'query_id': '1106928', 'scores': [(45.754381809698984, 4285175), (42.956320860322755, 2168463), (42.26195199927206, 5186636), (41.66521596836259, 7744803), (41.131294256496204, 8190627), (41.131294256496204, 8190624), (40.27190856381118, 2866124), (40.12614349604358, 8190620), (39.880734534845054, 1392371), (38.69642902999614, 6949062)]}, {'query_id': '1106979', 'scores': [(46.40906242826452, 8190140), (46.40906242826452, 8190137), (46.22342136612552, 7674419), (41.95353038081134, 7674423), (40.78025589170834, 5383176), (40.78025589170834, 4219185), (40.78025589170834, 1589841), (39.25144367863475, 8190135), (38.85368068448165, 8190134), (38.18326067752514, 348057)]}, {'query_id': '1107315', 'scores': [(30.36534132347737, 4598318), (28.463057713661602, 8187302), (27.49790378553049, 8817722), (27.49790378553049, 2696421), (27.49790378553049, 2696417), (27.49790378553049, 2696416), (26.77454992130142, 2687026), (26.77454992130142, 2687024), (26.77454992130142, 1708353), (25.43669742531833, 6437724)]}, {'query_id': '1107440', 'scores': [(46.65292960288883, 8186231), (43.44435466080379, 8186223), (34.59166781250444, 789989), (33.25531712905283, 1409567), (29.532580167254554, 3971063), (28.296084775507165, 1879424), (27.70462116771592, 8186227), (27.70462116771592, 5177729), (27.70462116771592, 5177724), (27.005210429537442, 5479288)]}, {'query_id': '1108450', 'scores': [(43.76559717433977, 1629571), (39.815444480183295, 4400204), (25.182926875762128, 1629577), (24.68094162242468, 6285212), (24.68094162242468, 6285210), (24.257839766040252, 8177145), (24.257839766040252, 4747082), (24.257839766040252, 4400207), (24.257839766040252, 4400205), (24.257839766040252, 1629573)]}, {'query_id': '1108466', 'scores': [(45.868545704143884, 8177012), (42.46684128774052, 4944265), (42.46684128774052, 3267306), (42.46684128774052, 753377), (42.079572319585424, 2702004), (41.793318805099524, 841054), (41.441292032321215, 5380573), (41.441292032321215, 3482588), (41.441292032321215, 3267303), (41.39123655779552, 2002688)]}, {'query_id': '1108473', 'scores': [(54.92127748189719, 8176948), (52.21530637024118, 1188068), (51.327632768686776, 1188069), (47.86899816137919, 8176949), (43.457111493773766, 1970473), (43.078999954958846, 3978700), (42.04435413261494, 1188063), (42.023114493022206, 8176947), (40.91051808438279, 609120), (40.85689575313235, 357762)]}, {'query_id': '1108651', 'scores': [(39.5701850167887, 6348741), (39.28020339494553, 8175412), (36.650738680390525, 1371583), (35.0709159416392, 5027435), (33.39823538102992, 6985088), (33.39823538102992, 5997928), (33.04367375206251, 1325612), (32.72805051241106, 6663873), (32.659404363148106, 488271), (32.58633125757085, 6985085)]}, {'query_id': '1108729', 'scores': [(48.6040566231369, 3405694), (43.194115837396055, 7789132), (39.984812220829376, 5449883), (37.24192288742792, 3405688), (34.63765143755876, 8174842), (34.36203324695763, 8322380), (34.10291834454666, 334958), (33.81504719024358, 7993178), (33.76200823090449, 4917651), (33.76200823090449, 2426801)]}, {'query_id': '1109699', 'scores': [(25.47460049312229, 2769074), (25.458148308439768, 4872045), (25.37273623634811, 8394502), (25.260528220070842, 7722707), (25.260528220070842, 7722706), (25.260528220070842, 7471054), (25.260528220070842, 2341119), (25.260528220070842, 737337), (25.120760984031858, 7744060), (25.120760984031858, 178437)]}, {'query_id': '1109707', 'scores': [(49.722107789515846, 1911564), (48.02280664700437, 1719374), (47.819108168686824, 5947139), (47.79842342952465, 4122615), (46.99549708094883, 771002), (46.88843348995837, 4122618), (46.85934083389107, 1719371), (46.541279265135714, 5740304), (46.131559776795505, 4285843), (45.9431933105349, 2510185)]}, {'query_id': '1109850', 'scores': [(45.526385132288716, 8164028), (43.64468342060261, 8164035), (43.64468342060261, 8164030), (42.25534816555877, 8164033), (35.33792659530058, 3633621), (35.33792659530058, 3633617), (33.46295083372313, 8164032), (31.414198741862524, 8164036), (24.98856718102701, 8164029), (21.706810380554224, 5382247)]}, {'query_id': '1110678', 'scores': [(36.46635778828554, 7139329), (34.64542451426846, 8155914), (34.64542451426846, 6632692), (34.64542451426846, 2342590), (34.64542451426846, 2342589), (33.864464633233084, 8155909), (33.864464633233084, 5719597), (31.74848521469584, 2714688), (31.74848521469584, 2126363), (31.74848521469584, 2096160)]}, {'query_id': '1112142', 'scores': [(61.840210241465336, 2542782), (61.03027213689771, 3651292), (61.03027213689771, 3651291), (61.03027213689771, 3651290), (60.60480379759744, 7866090), (54.10776740368307, 2238202), (53.48357394134076, 1946438), (52.291558384937694, 5670185), (52.291558384937694, 4967524), (52.291558384937694, 3974360)]}, {'query_id': '1113042', 'scores': [(39.2250093707903, 7072957), (38.87991792778778, 2410652), (37.83537476554747, 355186), (36.96693929952687, 2499270), (36.5256501044324, 3521102), (35.71274895557416, 7834150), (35.71274895557416, 4931496), (35.71274895557416, 4243566), (35.30257235688116, 2326525), (35.30257235688116, 2326519)]}, {'query_id': '1113256', 'scores': [(71.39956965145197, 7561115), (70.79825055829859, 8130535), (70.79825055829859, 7561120), (68.6300940581209, 7561117), (66.77797290107321, 7561116), (66.28553766269468, 7561114), (65.62808551662538, 8130530), (65.62808551662538, 7561113), (63.17464526642429, 7561111), (57.1525646522944, 8130528)]}, {'query_id': '1114166', 'scores': [(33.312717050794554, 6019023), (32.94501278997479, 3594677), (32.94501278997479, 3142379), (32.94501278997479, 2463783), (31.874277236829997, 8478109), (31.446446443835455, 5989751), (31.24264550949559, 1816877), (31.196970344997894, 5193359), (30.764481682031096, 5005484), (30.764481682031096, 3951381)]}, {'query_id': '1114286', 'scores': [(20.801191617163518, 6846966), (20.801191617163518, 4956824), (20.63780777489588, 2589532), (20.540892633124784, 4956825), (20.115510194073988, 8720406), (20.115510194073988, 3960437), (20.115510194073988, 2177460), (20.04141181629427, 8413644), (20.04141181629427, 6040011), (19.963176841964216, 6269131)]}, {'query_id': '1114993', 'scores': [(24.556063741594386, 4104358), (23.770087920608336, 8113957), (23.240708833285723, 6612208), (23.240708833285723, 6203023), (23.240708833285723, 6011208), (23.240708833285723, 4956693), (23.240708833285723, 3271410), (23.240708833285723, 2086636), (23.240708833285723, 1881796), (23.240708833285723, 1724571)]}, {'query_id': '1115210', 'scores': [(43.679979446659544, 8111887), (39.541876130660214, 8111878), (34.14980211284292, 8111885), (34.14980211284292, 8111884), (34.14980211284292, 8111882), (25.68637601317948, 8390254), (25.68637601317948, 7440361), (24.952479555660066, 7440364), (24.952479555660066, 7440363), (24.2593551235584, 7440366)]}, {'query_id': '1116380', 'scores': [(38.90386491508228, 8100548), (38.79359776022508, 8100546), (38.79359776022508, 8100543), (31.137036800459246, 521341), (26.891077236760257, 4118339), (26.891077236760257, 1422757), (23.473808067398874, 8371014), (23.473808067398874, 5104772), (23.473808067398874, 1645711), (23.473808067398874, 444969)]}, {'query_id': '1117817', 'scores': [(33.82183908447076, 5310910), (33.82183908447076, 3516296), (31.429790982731866, 4486487), (30.241343164835406, 7531176), (28.18588262499199, 6537918), (27.95152351540742, 1005145), (27.211344509468738, 1035058), (26.942742886411786, 109686), (26.59009622410671, 6337358), (26.447950422885828, 5970406)]}, {'query_id': '1117886', 'scores': [(34.85976257009375, 2921720), (33.624027830388926, 556178), (33.32283924867555, 8456607), (31.72935039731931, 7460949), (31.72935039731931, 7460948), (31.72935039731931, 7024723), (31.72935039731931, 5376945), (31.619877592767956, 5094343), (31.442520119624803, 5301093), (30.62372358814505, 8407176)]}, {'query_id': '1118370', 'scores': [(21.870304820863975, 8656398), (21.504239720385684, 7476349), (21.504239720385684, 2951456), (21.248552841898086, 2224024), (21.20741291367391, 8081645), (21.20741291367391, 2224022), (20.84134781319562, 6211291), (20.84134781319562, 3608410), (20.84134781319562, 1284328), (20.45729838711673, 861060)]}, {'query_id': '1118426', 'scores': [(31.9896625105089, 8081194), (31.9896625105089, 8081193), (27.76262273663336, 8081199), (27.76262273663336, 8081196), (27.76262273663336, 2424347), (26.299014130346386, 6622100), (26.299014130346386, 5598458), (26.299014130346386, 2424353), (25.339944391236997, 6208983), (24.884907391238862, 2469356)]}, {'query_id': '1119118', 'scores': [(36.479990131093956, 8074735), (35.64968962213605, 8074733), (29.467435682139005, 6026130), (29.467435682139005, 5472178), (29.467435682139005, 3609036), (29.060517813526825, 8074741), (29.060517813526825, 8074734), (23.77678730197649, 5451461), (23.77678730197649, 5185340), (23.77678730197649, 4246892)]}, {'query_id': '1119543', 'scores': [(55.44129198864542, 8070706), (51.96327930612354, 8070713), (48.69364379941097, 1603603), (48.489345813852765, 405831), (47.79284555442736, 405832), (47.0567622755332, 5052354), (47.04351846999753, 8070707), (43.87638288475312, 4770699), (43.28421923131276, 3612262), (39.02231977912503, 3612261)]}, {'query_id': '1120588', 'scores': [(39.18750720600012, 8060866), (38.56683553452466, 8060864), (37.618989291891936, 8060867), (36.601966569514026, 8060861), (35.66918054270612, 8060862), (35.419927774072555, 8060868), (33.172852042323996, 8060859), (32.54357533684275, 8060863), (32.54357533684275, 8060860), (31.610789310034846, 2313348)]}, {'query_id': '1121353', 'scores': [(44.19818910480587, 8053113), (43.03538594404189, 8053117), (37.1179553467464, 1854970), (34.08452384100804, 4872676), (33.100778161181374, 4210422), (33.100778161181374, 623601), (31.984382163165343, 5606064), (31.27082447840002, 6379159), (31.20903947508451, 5277905), (31.20903947508451, 937044)]}, {'query_id': '1121879', 'scores': [(47.856954470102686, 2603303), (47.81195914366185, 3024534), (46.66278538262643, 1307737), (46.34875386095082, 8048097), (46.34875386095082, 2603307), (46.34875386095082, 1406295), (43.99527512785516, 2193862), (43.79809254447744, 8048100), (43.69083886017258, 4995632), (42.630208343354546, 1025282)]}, {'query_id': '1122138', 'scores': [(21.679909545881927, 4342247), (21.601976154979603, 4342246), (21.55561015518552, 5871298), (20.633961404824458, 5463811), (20.3598211867096, 6283517), (20.111671373773003, 7067825), (20.111671373773003, 6963235), (19.654553297310848, 3967084), (19.654553297310848, 3647404), (19.654553297310848, 3345300)]}, {'query_id': '1122767', 'scores': [(42.02747304795916, 7544609), (42.02747304795916, 1575377), (40.776105853591744, 8039590), (40.776105853591744, 5877496), (39.4947390823005, 5877500), (38.70846042747058, 2019371), (37.7045681946899, 6851717), (37.7045681946899, 6179207), (37.7045681946899, 2859907), (36.90389653545874, 4550504)]}, {'query_id': '1122843', 'scores': [(59.672420769733044, 2332417), (59.65713488668516, 2332424), (57.8889107364359, 225969), (57.52492103193985, 8772747), (55.76157121164017, 4947308), (55.37356113568929, 7998359), (55.107593065815344, 2332416), (54.68083258075163, 3312892), (54.63457222955145, 3880592), (54.63295390737511, 2332425)]}, {'query_id': '1123657', 'scores': [(46.95497722765454, 8032346), (38.16743565888726, 8032342), (35.884539353943, 8032349), (35.26665710529412, 7221025), (34.71406213343246, 5571459), (34.16542570470595, 7988749), (34.11648828438284, 5572500), (33.58539136829921, 6031432), (33.45952468194752, 1979098), (33.17121492750213, 5587952)]}, {'query_id': '1124552', 'scores': [(41.88186087320842, 5782491), (35.76708564261957, 3442729), (33.61382294229751, 4743535), (33.61382294229751, 3442725), (32.466929502356265, 7082651), (32.329937139657055, 8214271), (32.279077472968424, 2601066), (31.99512812614107, 2601070), (31.99512812614107, 1797406), (31.47206353988014, 6263843)]}, {'query_id': '1125632', 'scores': [(49.40246641459344, 7011199), (49.260438290332495, 6721396), (49.021261304640376, 1278069), (48.77131985995806, 7191566), (48.77131985995806, 1475286), (48.77131985995806, 1243662), (48.64788857588212, 6934400), (48.64788857588212, 6543904), (48.04601553895328, 7011204), (48.04601553895328, 5847127)]}, {'query_id': '1125755', 'scores': [(24.883852691598488, 1744931), (23.807275204823313, 7420642), (23.807275204823313, 2206347), (23.095542047186502, 7856574), (23.095542047186502, 3808440), (22.86344458693921, 7254544), (22.018964560411327, 7387332), (22.018964560411327, 7254547), (22.018964560411327, 2938068), (22.018964560411327, 482655)]}, {'query_id': '1126523', 'scores': [(33.113050469514015, 8805840), (32.036472982738836, 8805844), (32.036472982738836, 8805841), (28.597634496398467, 8805837), (25.218148899829387, 8805846), (25.218148899829387, 8556233), (25.218148899829387, 3214173), (25.218148899829387, 3025043), (25.218148899829387, 2841635), (21.779310413489018, 2774244)]}, {'query_id': '1126738', 'scores': [(56.47319228042412, 8790091), (56.47319228042412, 1091656), (55.14332131442351, 1091662), (55.14332131442351, 1091658), (49.76526155185374, 8790089), (49.76526155185374, 1091654), (48.52029970897432, 8790093), (48.52029970897432, 8790090), (48.52029970897432, 8790088), (46.648629460529015, 8790087)]}, {'query_id': '1127004', 'scores': [(39.55002063325449, 6481277), (39.294047420072005, 6531608), (39.14605582149724, 695631), (39.138232421251345, 5224906), (38.89008260831475, 1756214), (38.78701336130328, 3961675), (38.68893774503509, 6011954), (38.53886354836668, 860288), (38.4329645318526, 8033385), (38.4329645318526, 4222667)]}, {'query_id': '1127233', 'scores': [(25.863193466432147, 8100081), (25.55547667698057, 8100077), (25.388545346755212, 8527129), (25.192741165946774, 5400207), (25.098718567620427, 6611628), (24.98880261997901, 124809), (24.903170428211858, 6438836), (24.903170428211858, 3842712), (24.903170428211858, 124808), (24.82574829056685, 7619778)]}, {'query_id': '1127540', 'scores': [(27.25398872821523, 8726963), (27.25398872821523, 8726962), (27.25398872821523, 186476), (27.108199294694842, 8726961), (27.108199294694842, 8726956), (27.108199294694842, 8726954), (24.96807829774525, 2574460), (24.96807829774525, 2044372), (24.96807829774525, 2044369), (24.96807829774525, 2044368)]}, {'query_id': '1128456', 'scores': [(51.59059154483219, 8649622), (43.01716759009071, 1459777), (38.62170365143521, 7526299), (37.3259517059912, 4084616), (36.35637755618825, 8649615), (36.35637755618825, 3721820), (34.63606801002228, 6716075), (34.14546965808316, 4071160), (34.14546965808316, 3121928), (34.14546965808316, 3121927)]}, {'query_id': '1129081', 'scores': [(28.356368639711775, 8599986), (24.489591097932898, 7871513), (24.489591097932898, 6962228), (24.489591097932898, 6794362), (24.489591097932898, 4178203), (24.489591097932898, 3762080), (24.489591097932898, 2770798), (24.489591097932898, 2156392), (24.489591097932898, 1044198), (24.489591097932898, 687772)]}, {'query_id': '1130705', 'scores': [(23.03299738733539, 1468216), (22.89159039042333, 8442374), (22.89159039042333, 1621163), (22.792126146832654, 6762105), (22.792126146832654, 6762102), (22.661457434664506, 6628960), (22.661457434664506, 6233460), (22.661457434664506, 5379660), (22.661457434664506, 3570934), (22.48216780634077, 1910013)]}, {'query_id': '1130734', 'scores': [(49.33236439364671, 2546803), (47.836610178956924, 7212169), (46.9401641613206, 8460898), (46.83390809156418, 8460901), (46.49557623490281, 8460902), (42.13498351462856, 4311761), (42.13498351462856, 2810717), (42.13498351462856, 1081476), (42.106583056358275, 7427232), (41.708888520319746, 3823605)]}, {'query_id': '1130847', 'scores': [(50.7648587633876, 5474954), (49.342979652624706, 4201753), (47.49006638082918, 7332266), (47.49006638082918, 7332262), (46.77254462728955, 6209899), (46.728507612870324, 7332261), (46.29914648501033, 8299223), (45.90849821933756, 8299227), (45.81675625123142, 1458056), (44.9815629300152, 6149589)]}, {'query_id': '1131069', 'scores': [(42.02785615981349, 8432048), (41.25548546142625, 8432050), (39.28236342083819, 8191743), (39.28236342083819, 1780971), (39.28236342083819, 1780963), (35.70512719409017, 6907802), (35.168218186713815, 1780966), (34.34697547221458, 6809701), (34.34697547221458, 6809698), (33.98993434106055, 6809699)]}, {'query_id': '1132044', 'scores': [(40.30089974876542, 5858455), (39.42740196254646, 1014774), (38.81289681951086, 5858453), (38.76080550203648, 2121532), (36.47648979344044, 7645045), (36.19960770977388, 1691946), (36.128410313290146, 1818480), (35.96422305678777, 6166188), (35.81532512438072, 1650397), (35.53434692884508, 6546113)]}, {'query_id': '1132247', 'scores': [(54.67532772062296, 6246993), (53.04939398989154, 1210363), (53.04939398989154, 1210358), (53.04939398989154, 1210357), (51.155201478599324, 7390343), (49.90490916574818, 7390342), (49.90490916574818, 6525827), (49.90001879471892, 8238483), (49.18766596620693, 4623273), (48.60218317580393, 7390347)]}, {'query_id': '1132532', 'scores': [(44.88157540918355, 23966), (42.16191076120166, 6994907), (40.654822461383645, 4893092), (39.75837522398643, 6832793), (39.60298319705512, 8374347), (39.596234578586596, 3299150), (39.596234578586596, 2762578), (39.30218625223827, 5989422), (38.5147193588128, 1976995), (38.12782076098921, 6832795)]}, {'query_id': '1132842', 'scores': [(46.54609364132644, 3158781), (44.215674121585636, 7364932), (43.819953455366246, 834533), (43.256508602749676, 6536692), (43.214249094805396, 6570513), (42.8356030291269, 4874198), (42.768054599194286, 4132635), (42.56588586786578, 2324752), (42.34183803665635, 2941398), (40.703224268917644, 8240962)]}, {'query_id': '1132943', 'scores': [(37.289829539683836, 423711), (36.759089321558406, 5552077), (36.69946962732328, 6253953), (34.584079118124784, 622662), (34.314484990709154, 3437105), (31.753093259442267, 6469809), (31.343174164557155, 5782177), (31.215687316276274, 2107961), (31.20988394907985, 2248898), (31.20988394907985, 2107962)]}, {'query_id': '1132950', 'scores': [(31.076341318161624, 8274826), (29.972185764669153, 8619165), (29.530444639108286, 5867940), (28.704213360232956, 5845390), (28.47768051749102, 8274822), (28.47768051749102, 2303442), (28.110269682525132, 2132514), (28.110269682525132, 261777), (28.033751306910087, 6590922), (27.73360342683185, 6625752)]}, {'query_id': '1133485', 'scores': [(30.11076796276395, 5221748), (29.973213665925357, 8330714), (29.962687771939894, 3156351), (29.92689404856728, 3183897), (29.889124149071137, 2418248), (29.858793583996444, 6195711), (29.842674915950315, 8692792), (29.786737159729995, 5630061), (29.77229438131649, 4090344), (29.592659834716258, 3089617)]}, {'query_id': '1133579', 'scores': [(35.71303380104724, 8220878), (35.22488090333925, 4931644), (34.10968566034692, 1817055), (33.210456638253255, 4931642), (33.210456638253255, 4931641), (31.003258129477906, 670206), (29.983566594009197, 8220879), (29.983566594009197, 5335041), (29.983566594009197, 3691486), (29.983566594009197, 2448461)]}, {'query_id': '1134094', 'scores': [(33.82725764175514, 8172161), (31.508095746864257, 8172166), (31.508095746864257, 7182375), (30.253157005846532, 6426847), (30.253157005846532, 6426846), (30.253157005846532, 3445457), (29.143662452141292, 8172159), (27.172852823348492, 7182378), (27.172852823348492, 6426844), (27.172852823348492, 5357491)]}, {'query_id': '1134207', 'scores': [(21.5116490786156, 1698802), (21.460635843683896, 374550), (21.073043435855343, 7155676), (20.706983939572826, 5592724), (20.586532002789305, 8817805), (20.586532002789305, 853685), (20.499022206688373, 7049025), (20.471269457602123, 3225711), (20.226317260699425, 8246744), (20.032663814841865, 3362951)]}, {'query_id': '1134431', 'scores': [(45.918975491887444, 3128065), (44.64622451342436, 8141222), (43.7273750055023, 8141223), (42.511025350297516, 8141221), (42.44970081946489, 7974008), (40.64045497356164, 8141220), (39.026038816850615, 5010274), (38.77478806482817, 6720464), (38.77478806482817, 3243219), (38.6679570035725, 2444833)]}, {'query_id': '1134680', 'scores': [(62.36835742028786, 8118937), (54.13279238477187, 8118936), (52.28670236674493, 8118930), (44.69419862263125, 8796589), (43.91814829245601, 8307236), (43.6062627174474, 8063270), (43.6062627174474, 3526958), (43.6062627174474, 2456858), (43.6062627174474, 2200409), (43.6062627174474, 1865327)]}, {'query_id': '1134939', 'scores': [(32.991414606577024, 322652), (32.90474362563364, 8093333), (31.58843614900474, 8093330), (27.280922128685912, 6204714), (27.280922128685912, 2090588), (25.72440897183327, 8455233), (25.72440897183327, 8455232), (25.72440897183327, 7543137), (25.009842055949015, 8093327), (25.009842055949015, 7543128)]}, {'query_id': '1134988', 'scores': [(61.58843069497082, 8088407), (59.67316591850516, 8088409), (57.54789569290013, 380755), (55.78463334670407, 8088404), (53.493263848107084, 380753), (53.493263848107084, 380752), (53.386202470648314, 7296294), (53.124278245215436, 380748), (52.62495409907537, 6432242), (51.57799907164143, 380749)]}, {'query_id': '1135268', 'scores': [(33.59722371176314, 8386270), (33.332408586718174, 2966472), (33.07164125151075, 5717144), (33.041895618813506, 6259848), (33.041895618813506, 6087160), (32.66078437902651, 4260), (32.5450231145954, 5225950), (32.5450231145954, 1683963), (32.396013694944685, 8371436), (32.2266478513142, 3622462)]}, {'query_id': '1135283', 'scores': [(27.025614215368932, 8061944), (25.302891179465195, 2582837), (24.19762199789183, 3368379), (24.184223894620942, 4502908), (23.77818972337802, 4361255), (23.6134010286546, 7043720), (23.6134010286546, 6979076), (23.6134010286546, 5959072), (23.6134010286546, 5834915), (23.6134010286546, 3989820)]}, {'query_id': '1135413', 'scores': [(53.529867848236684, 8050662), (50.887130904306474, 8050667), (46.84900315442325, 8050665), (46.55123406657734, 2115732), (45.134206296008884, 6672865), (44.841188733519395, 7522683), (44.49295706104121, 6039815), (44.49295706104121, 5287000), (44.49295706104121, 2061136), (44.41493432467851, 5118096)]}, {'query_id': '1135626', 'scores': [(39.428669094505, 2003615), (39.16784651012496, 4035834), (39.16166802259405, 7676917), (39.12481824791135, 6532689), (38.88566310307544, 2902886), (37.95459038193327, 4619335), (37.15684219188936, 4892864), (36.55629160528607, 7714006), (36.485020628315766, 4079092), (36.275053463457525, 4035841)]}, {'query_id': '1136043', 'scores': [(37.45022182894152, 8728069), (37.39168260192403, 8728071), (35.6367288638877, 8728070), (35.58000940102556, 8728072), (34.76379312531732, 1056540), (33.569151042846244, 8728076), (33.439853945515104, 1056534), (32.88078815703604, 7018326), (32.88078815703604, 5326197), (32.333306528882204, 8728077)]}, {'query_id': '1136047', 'scores': [(45.072404380778835, 8724031), (42.95120433599662, 8724032), (41.698580587229245, 3988779), (41.207909405165275, 7009393), (40.90684887151292, 3597758), (40.90684887151292, 3006066), (40.12768671616482, 8328670), (39.87313656187618, 512482), (39.609820641008056, 2815435), (39.2682088437778, 8724036)]}, {'query_id': '1136769', 'scores': [(58.079182999603475, 8082043), (56.92327180691629, 189017), (55.312473135106885, 129247), (54.34536299964816, 189019), (53.273150464181256, 8082050), (53.265767486312996, 4713242), (52.37084714913304, 189016), (50.61585122630849, 8082046), (50.61585122630849, 5718075), (47.524308243323205, 5508127)]}, {'query_id': '1136962', 'scores': [(86.20772795152511, 7631079), (86.12337407207804, 6185710), (85.3801212413105, 6185711), (84.76616579682037, 6185717), (84.13201279541575, 8336574), (83.3612492603896, 6185714), (83.3612492603896, 6185712), (77.69478130366787, 596001), (76.42476602120436, 6185716), (75.55078361219005, 4601613)]}, {'query_id': '118440', 'scores': [(28.85939321387113, 7035722), (28.85939321387113, 1569786), (27.20642008126417, 8319567), (26.911550857588427, 4737856), (26.911550857588427, 1569787), (25.845071642871503, 8412702), (25.074356550802875, 6750552), (25.074356550802875, 6750548), (24.41834140848536, 6750547), (24.41834140848536, 2975214)]}, {'query_id': '119821', 'scores': [(31.961735246733618, 7093228), (29.99143442645363, 7172227), (29.99143442645363, 6527223), (28.710005458306284, 8012784), (28.710005458306284, 6267963), (28.710005458306284, 3365586), (28.710005458306284, 259724), (25.889962886907128, 8012780), (25.170797251159712, 2212944), (23.846018448467092, 6072161)]}, {'query_id': '121171', 'scores': [(30.6412865060053, 8260192), (25.726616751589567, 7165126), (25.726616751589567, 6930941), (25.726616751589567, 2337570), (23.13073426705116, 451171), (22.983716888235158, 8643275), (22.983716888235158, 451173), (22.52556970773878, 2550811), (22.52556970773878, 451172), (22.52556970773878, 259437)]}, {'query_id': '125659', 'scores': [(33.0395077478765, 6976559), (33.0395077478765, 4522348), (33.0395077478765, 1335471), (31.73797220181112, 829647), (31.47259975055706, 5881859), (30.94234452808598, 8290885), (30.94234452808598, 6635625), (30.94234452808598, 2745708), (30.94234452808598, 1106134), (29.640808982020598, 5693282)]}, {'query_id': '135802', 'scores': [(34.046390465025006, 8692623), (32.969812978249834, 8692626), (32.669996312638666, 8692628), (31.59341882586349, 8692619), (31.59341882586349, 6037338), (31.59341882586349, 6037331), (28.21499681546067, 8731214), (28.21499681546067, 7327478), (28.21499681546067, 5394718), (27.924471193329556, 8692624)]}, {'query_id': '141630', 'scores': [(55.49923685797568, 2473236), (54.28777398794748, 8319991), (54.233552677599796, 6290795), (52.750271419601724, 8319989), (52.055957253594144, 2366121), (52.04344864436681, 7985119), (51.90696060208612, 8319987), (51.689971457086834, 3500851), (51.42065886518571, 3500859), (51.10490130358099, 6496223)]}, {'query_id': '144862', 'scores': [(36.39183362430971, 92239), (36.21874496037, 92237), (35.818856608216244, 92238), (35.71203527285133, 2865950), (35.27006680883899, 92233), (34.528550889113475, 5292762), (34.44033229003897, 6150954), (34.08373040543744, 8320087), (34.08373040543744, 7245936), (34.08373040543744, 92241)]}, {'query_id': '156498', 'scores': [(46.81578976538954, 4273410), (41.32050068779894, 5606985), (40.48043374734077, 8823842), (39.793100805578106, 3288004), (39.50700250196288, 5043014), (39.33748577217251, 7075146), (39.33748577217251, 3397582), (39.18227159385583, 3397578), (39.03531262036184, 3301559), (38.84843796839484, 3288005)]}, {'query_id': '166046', 'scores': [(43.25500162850712, 7947463), (43.25500162850712, 1076792), (43.25500162850712, 1076791), (42.035405481789965, 1076793), (38.57618846224603, 1076795), (38.57618846224603, 1076794), (35.67511887162415, 96920), (35.20034036920742, 7947466), (34.31129655258134, 96927), (34.0153417824937, 96926)]}, {'query_id': '169208', 'scores': [(35.82955169592394, 4859433), (34.99909671615148, 4859432), (34.91990220663036, 4580137), (34.79592353248071, 4762140), (34.44898676108748, 7251639), (34.23450350664965, 4202275), (34.13266649901443, 1395417), (33.96395413940473, 85987), (33.73954814366214, 2888366), (33.73557237123432, 4762142)]}, {'query_id': '174463', 'scores': [(33.663386585840115, 8304456), (33.129059494027096, 4501665), (31.758009742166546, 102528), (30.39174691431399, 6294949), (30.18326052442572, 7089630), (30.18326052442572, 7089629), (29.481162910925995, 8304458), (29.17846684764954, 7402420), (27.436011026100935, 7611683), (27.436011026100935, 5793989)]}, {'query_id': '175920', 'scores': [(70.04107674256923, 8234235), (61.64200289162088, 101345), (55.335171547519536, 8537849), (55.16644565263163, 7615731), (55.16644565263163, 5673665), (54.33654159237453, 8537850), (53.72214576426677, 7348559), (53.72214576426677, 5717845), (53.667756113259564, 7360509), (53.667756113259564, 6815325)]}, {'query_id': '177604', 'scores': [(37.85032373504131, 8451995), (36.548582392922306, 8451992), (32.48041968662462, 5627757), (32.46790297494712, 2226834), (32.26106883252777, 5034647), (31.013947375683415, 3444466), (31.013947375683415, 1308162), (30.575741696667023, 8451989), (30.372092053486483, 8451987), (30.053290340913534, 8451991)]}, {'query_id': '181626', 'scores': [(31.34279739876765, 43641), (30.665365162943207, 436351), (30.299300062464916, 7795335), (30.299300062464916, 4798089), (30.299300062464916, 2183331), (30.078208869842648, 71074), (29.616184730443525, 8069297), (29.41746367589817, 71073), (29.400776634018204, 5427354), (29.400776634018204, 4091013)]}, {'query_id': '197312', 'scores': [(31.97842368999269, 2317108), (31.97842368999269, 2317106), (31.543814788977965, 5823013), (30.89760796711487, 5823008), (30.837342163073057, 1179432), (30.489123614319986, 5823015), (30.489123614319986, 1179433), (30.442403842788465, 1665689), (30.246518646145166, 2317100), (30.246518646145166, 1239571)]}, {'query_id': '206106', 'scores': [(45.50774411728848, 6479522), (44.253211331646554, 75400), (43.693185231582625, 7079997), (43.09458570404778, 1390597), (42.89314794577702, 5093731), (42.55400181043722, 8427974), (42.26631621279307, 8737574), (42.137557175849494, 3217609), (42.137557175849494, 2947646), (41.70270796997077, 7118029)]}, {'query_id': '227873', 'scores': [(44.85345229667833, 7276796), (43.605325931450636, 8453473), (42.544940244596994, 7276798), (42.544940244596994, 3250369), (42.544940244596994, 2054488), (39.5741419390518, 7019128), (38.96000311452724, 3324178), (36.377447227442005, 1900788), (34.09747022290085, 8453475), (33.88813253719913, 8453476)]}, {'query_id': '23849', 'scores': [(31.739964174445806, 4834498), (30.729965256296627, 2674124), (30.60320667556359, 6728787), (30.521893203339715, 4348282), (30.41032355540463, 5888570), (29.559284692078258, 641196), (29.511894285190536, 8246990), (29.511894285190536, 2017213), (29.291671843610054, 5363400), (28.34121372097217, 3425523)]}, {'query_id': '240158', 'scores': [(44.17921636076029, 2043788), (42.63119352516304, 6536692), (42.63091599961278, 991184), (42.069171027415166, 1567595), (41.64656557337344, 4874198), (39.24890088492748, 2819779), (39.23328208263946, 2819781), (38.41134485388214, 3542898), (37.97158040828223, 2819784), (37.84762247571531, 6239283)]}, {'query_id': '245052', 'scores': [(41.05203432100101, 3828386), (37.744686588846534, 5023796), (37.016572593414466, 4205737), (37.016572593414466, 66616), (36.58667293337389, 5666135), (36.42423899966115, 5143412), (36.402382360974855, 5878365), (36.195747402551646, 2839746), (36.08417775461656, 5143409), (36.08417775461656, 4302284)]}, {'query_id': '246883', 'scores': [(44.362489927308616, 3050794), (43.53184092987933, 8699192), (42.17527524344044, 5050393), (40.654035401788505, 4959448), (39.9666871252723, 8699195), (39.37221084480736, 6242496), (39.25243047667959, 6083923), (39.013984948211515, 5683913), (39.013984948211515, 2413876), (38.9287066818586, 3835935)]}, {'query_id': '253749', 'scores': [(34.540235263805464, 6190136), (33.62448657610085, 3516374), (33.25450153760369, 4070966), (30.45516960347757, 3516370), (29.908704931011073, 3516368), (29.377596210116668, 8254833), (27.81742228282939, 8254894), (27.308864927691715, 8521273), (26.865047641784727, 2544493), (26.715324111586867, 6447304)]}, {'query_id': '256942', 'scores': [(46.59655835816896, 2602557), (39.163973707178386, 2364119), (38.53131077729558, 7213042), (38.464208235971725, 4890686), (38.35702441078027, 8327014), (38.087297609794554, 5297913), (38.047263548715215, 3262199), (37.58408795525366, 5717767), (37.26146622936216, 5083782), (37.26146622936216, 4604331)]}, {'query_id': '257119', 'scores': [(41.71941465860647, 4363515), (41.52383366792492, 8499023), (37.78339803987589, 4363509), (36.710740144530995, 8032136), (35.74252503978325, 3818024), (35.63026725358812, 889398), (35.259749110201554, 8276379), (35.13281322595624, 5853762), (35.10250077245876, 4212490), (35.1014438164342, 2112755)]}, {'query_id': '258062', 'scores': [(50.87216558876175, 8694161), (50.54848376664999, 4159145), (49.44890262963278, 18103), (47.86799790929219, 3683402), (47.37388140869561, 4174313), (47.19518053208396, 2707010), (46.46540797240782, 7918982), (45.96135242167155, 91493), (45.681309269820105, 4174307), (45.681309269820105, 4174306)]}, {'query_id': '26703', 'scores': [(28.076094185804983, 3532417), (26.460097082645007, 3532415), (26.460097082645007, 1485077), (23.40678315382011, 380356), (22.67019684769552, 3733548), (22.47327460058508, 7265225), (22.47327460058508, 1236259), (21.962580662398672, 3921274), (21.913930984445493, 4104854), (21.850336264073505, 4534653)]}, {'query_id': '273695', 'scores': [(43.96524253422694, 8282608), (43.04198966657157, 5542707), (42.20747084356207, 7381998), (42.10712500784136, 5542705), (41.562645652238636, 2714742), (41.17433898103346, 7381994), (40.619253552431694, 5719948), (40.619253552431694, 4171983), (40.619253552431694, 413461), (40.52951378971003, 413460)]}, {'query_id': '302846', 'scores': [(50.2906178297023, 8418433), (48.376540504638335, 8418435), (47.63615560503948, 447099), (47.28605684177461, 8283558), (47.11530595943533, 6263014), (46.95227229415927, 3892531), (46.91530598416731, 3566357), (46.791517662927816, 5696466), (46.47232776249981, 447101), (46.1791976732255, 4234633)]}, {'query_id': '318362', 'scores': [(40.82886165036754, 5654804), (39.53369734389228, 3145979), (39.19760926200794, 429301), (37.95248682932706, 4299889), (37.60551123400124, 1714531), (36.816413521955226, 1714527), (35.9624666360321, 4299887), (35.48855296811274, 543937), (35.06767591121769, 519111), (34.59190793167447, 3996891)]}, {'query_id': '324585', 'scores': [(43.47248321322273, 1051441), (39.63081197508335, 8290314), (37.19505749689351, 8290310), (36.41860192731215, 3608325), (35.904208614471244, 7941125), (35.72108332977777, 7977807), (34.43669185241046, 405282), (34.20307351180261, 8310496), (34.18480922845855, 7359510), (33.770390003369634, 6480421)]}, {'query_id': '330501', 'scores': [(40.01083974703593, 6006326), (39.18963360616565, 3718639), (39.18963360616565, 1750071), (37.27051663272184, 6647777), (37.06638009475658, 7354312), (37.06638009475658, 4397700), (37.06638009475658, 452513), (36.792135547119734, 1899109), (36.792135547119734, 294036), (35.86814911211914, 2169021)]}, {'query_id': '330975', 'scores': [(57.06228995012044, 7908218), (52.73647727104711, 5750875), (52.54669968682783, 233948), (52.54418471412923, 4108178), (52.18164007517288, 8327008), (52.13520810457871, 3297858), (52.05263705070331, 233945), (51.79327067666512, 3297857), (51.46441724548689, 1097861), (51.39598011788415, 8541461)]}, {'query_id': '332593', 'scores': [(55.36270948119836, 8434873), (54.529114779849245, 5241323), (53.15141282538388, 5241322), (51.756546679439396, 7073995), (51.4043900780952, 4431502), (51.4043900780952, 1650687), (50.81351007551605, 8434869), (50.81351007551605, 7073996), (49.806629014040425, 8434872), (49.04166676501696, 4614346)]}, {'query_id': '336901', 'scores': [(45.45607766979457, 2909600), (44.93674232245776, 3646550), (44.716729999203324, 8528674), (44.40141607104311, 8130980), (43.90208318477711, 7836261), (43.354773763903665, 8528681), (43.354773763903665, 8528680), (43.354773763903665, 8528679), (43.354773763903665, 8528678), (43.354773763903665, 8528677)]}, {'query_id': '3505', 'scores': [(31.393709656347728, 8285655), (31.28958199026708, 8285658), (31.06911497089078, 4520880), (31.0306423609252, 5469617), (30.890368835281393, 8285654), (30.890368835281393, 8285653), (30.88203336356939, 8285656), (30.804214025917766, 502056), (30.792843327833076, 1030851), (30.70198077841465, 1076196)]}, {'query_id': '360721', 'scores': [(40.800612758655014, 6318492), (37.81614649402439, 101662), (37.47236055269038, 4284999), (36.72574893319656, 7826496), (36.63513467640792, 7043084), (36.44317219974307, 7826493), (35.91525850485403, 101666), (35.71783273139682, 7826491), (35.612291340230016, 6206175), (35.306019892840325, 1750204)]}, {'query_id': '384356', 'scores': [(45.481178989335355, 7565188), (36.52114948520242, 2032126), (36.10153709900196, 2032127), (35.738796708623866, 4648730), (35.738796708623866, 412129), (35.657043939626554, 3705729), (35.562539909156186, 5381456), (35.528263067883515, 6863040), (35.50623271075975, 294098), (35.477688071339486, 6543899)]}, {'query_id': '390360', 'scores': [(41.203146971522436, 604111), (37.77711630179845, 5423359), (37.174791197718285, 2203877), (37.174791197718285, 2203875), (36.540171524797856, 7679050), (35.75800785101159, 6179316), (34.768622873812305, 4683960), (34.768622873812305, 324991), (34.40255777333402, 324994), (34.40255777333402, 324992)]}, {'query_id': '405163', 'scores': [(30.249891636573082, 851536), (29.242118057079622, 6289824), (28.335814311509118, 7622492), (28.03898373846799, 429247), (28.03898373846799, 429246), (28.03898373846799, 429245), (26.124906413404027, 3293026), (26.124906413404027, 2748170), (26.124906413404027, 1518541), (26.124906413404027, 1352548)]}, {'query_id': '42255', 'scores': [(62.71265581192574, 8746197), (58.02202932702443, 8746189), (55.40741118181437, 8746188), (53.618185426029896, 8746194), (52.71356101117375, 3723425), (52.670878276276724, 3063186), (52.35319696051987, 2882385), (52.22546697698448, 7123389), (52.13555038463573, 6784918), (52.11189096496551, 3817242)]}, {'query_id': '425632', 'scores': [(41.54403528825654, 8454642), (41.54403528825654, 8454639), (39.70786671919171, 8454636), (37.653320442476016, 8454635), (37.653320442476016, 650345), (30.1170149173381, 8454641), (24.641194023276626, 8454643), (24.641194023276626, 8454640), (24.641194023276626, 8292459), (24.641194023276626, 6843069)]}, {'query_id': '426175', 'scores': [(28.442527151544894, 330964), (27.701964130164622, 6209130), (27.701964130164622, 4362255), (27.486116156521856, 6758532), (27.486116156521856, 5030738), (26.670690478315855, 6049564), (26.670690478315855, 3017346), (25.92536231483316, 6016624), (25.747971947714326, 3870458), (25.747971947714326, 3562170)]}, {'query_id': '42752', 'scores': [(30.359691334644342, 1254236), (30.04410445345775, 5325520), (29.952280103260765, 3818076), (29.939637149272205, 4821761), (29.714972237751304, 4747962), (29.698806703168287, 1986201), (29.641934040326554, 1635144), (29.64025316269656, 4303156), (29.612502846044926, 5453692), (29.51485506376477, 5932129)]}, {'query_id': '435548', 'scores': [(26.444865915071965, 8547993), (26.444865915071965, 8547992), (26.350937478022377, 7875423), (25.87338008928533, 7875421), (25.356685822048558, 7080768), (25.356685822048558, 235984), (25.3336434760424, 7875428), (25.3336434760424, 6064445), (25.3336434760424, 1394884), (24.33939182006858, 6424374)]}, {'query_id': '436707', 'scores': [(30.17360706161724, 1595287), (29.554544886307255, 2203550), (29.554544886307255, 2101427), (29.554544886307255, 1825031), (29.09231819468951, 5413961), (29.09231819468951, 3370495), (28.394635488668868, 5044105), (28.004847662058516, 8641216), (28.004847662058516, 8200621), (27.79210710570063, 6045618)]}, {'query_id': '444389', 'scores': [(32.306898573207874, 5896071), (31.499613857604203, 8495210), (27.331772122854247, 8044142), (27.331772122854247, 7705876), (27.331772122854247, 5208202), (26.93432920375196, 1722558), (26.672716446079413, 7484162), (26.672716446079413, 7150173), (26.672716446079413, 1048029), (26.2560739060824, 5251228)]}, {'query_id': '449367', 'scores': [(34.839755811796465, 8432230), (34.72954084875602, 635517), (34.17575009842329, 6632652), (33.954344165390225, 6632645), (33.954344165390225, 6632644), (33.22642370680043, 8600273), (32.422871949196974, 5717147), (32.17894437542126, 2596719), (32.13423962855975, 386955), (31.84475142331133, 8309547)]}, {'query_id': '452915', 'scores': [(36.901360826260955, 135840), (35.540990790251115, 2447912), (35.50308164465562, 3332642), (35.22161542571585, 1044828), (34.9332198142618, 953667), (34.76449734925369, 1364570), (34.41958766442083, 7261641), (34.41958766442083, 6785284), (34.400563679781506, 8366600), (34.400563679781506, 3779965)]}, {'query_id': '463271', 'scores': [(41.41651666760867, 6239584), (40.5590433015373, 8604216), (40.5590433015373, 8326637), (40.5590433015373, 6239587), (40.5590433015373, 3914186), (39.74880837869572, 2455683), (39.45062710814101, 8326635), (39.297448405390725, 8435508), (39.297448405390725, 3914192), (38.97802123431321, 6005616)]}, {'query_id': '469589', 'scores': [(48.02535530097419, 8581474), (44.817874356750345, 8581470), (44.817874356750345, 8581468), (43.06591990046404, 2210168), (40.544791858481105, 4871853), (39.968274057396364, 2210175), (37.43671153432966, 8581475), (37.43671153432966, 8581466), (37.43671153432966, 2210172), (37.067242193637384, 8325196)]}, {'query_id': '47210', 'scores': [(55.596190597390205, 2042918), (54.81679484476231, 6180504), (54.15195856579307, 2338385), (52.10083096197888, 5207329), (52.036075685735234, 2545998), (50.9317027658902, 4748997), (49.93270901635394, 3858013), (49.62330695682525, 2546002), (49.62330695682525, 2546001), (49.62050354702038, 7367873)]}, {'query_id': '482726', 'scores': [(19.712996162597342, 8730812), (19.380350595789636, 8572751), (18.886785533211743, 6318274), (18.886785533211743, 4734241), (18.886785533211743, 22062), (18.85431043467798, 1272524), (18.72514018080693, 4734239), (18.599207173700858, 4768911), (18.599207173700858, 3512937), (18.599207173700858, 1985718)]}, {'query_id': '48792', 'scores': [(45.670805111546876, 64048), (45.10085565776885, 64047), (40.472175245268495, 64041), (28.95119271737995, 6435734), (27.919408548504364, 6619302), (27.861829646490545, 5803986), (27.861829646490545, 3820076), (27.629707268805944, 3820082), (27.492844043598893, 6152218), (27.492844043598893, 3820080)]}, {'query_id': '50122', 'scores': [(40.25922327344247, 8273511), (37.62875251702714, 1417366), (36.94365916415418, 8273514), (36.52511544370801, 8273517), (36.52511544370801, 425197), (33.816188081924714, 7341000), (29.915110257717462, 8337928), (29.915110257717462, 5999140), (29.902656543007623, 8361668), (29.30847351021246, 8273519)]}, {'query_id': '514096', 'scores': [(20.39810119149479, 4786295), (20.13304509750421, 6285508), (19.99312129356371, 6286608), (19.99312129356371, 1837337), (19.908056265320276, 6474925), (19.78923232210756, 8460993), (19.76813246137978, 7016672), (19.70274372582639, 7528617), (19.70274372582639, 7528616), (19.60579231387299, 6940541)]}, {'query_id': '519025', 'scores': [(26.146046235539718, 4232478), (26.028939909280624, 288148), (25.4380190379524, 2692126), (25.28220403913174, 6805536), (25.28220403913174, 6526749), (25.034054226195146, 6526750), (25.034054226195146, 3394216), (25.034054226195146, 1697202), (25.0019387115875, 6236703), (25.0019387115875, 5931056)]}, {'query_id': '53233', 'scores': [(44.83552083558355, 8333467), (43.21687052723435, 8257054), (42.865029034337304, 8333470), (42.865029034337304, 8333463), (42.21689996847433, 8257048), (42.21689996847433, 5256809), (40.62603771590158, 8257051), (40.62603771590158, 7355044), (40.62603771590158, 5516316), (40.62603771590158, 579087)]}, {'query_id': '537060', 'scores': [(35.664775696490516, 8420024), (35.65012597986794, 8420027), (34.96737130127365, 8420032), (34.96737130127365, 8420025), (33.29151890836041, 8420030), (33.29151890836041, 8420029), (33.29151890836041, 8420026), (33.29151890836041, 7386519), (33.29151890836041, 1086305), (31.87494578946776, 8420031)]}, {'query_id': '537817', 'scores': [(39.96921545731283, 1956211), (39.82873098356568, 6665873), (39.736878196373766, 8527917), (39.55846275072693, 540370), (39.40593098153124, 1956207), (38.90677137673582, 5264609), (38.75926058054469, 3759425), (38.71552555250104, 540368), (38.488992347705945, 1095538), (38.47775401397064, 6144729)]}, {'query_id': '543273', 'scores': [(43.52152564227019, 8507214), (42.364406274111104, 8507211), (39.903328637607736, 8507209), (39.541946765433636, 4308075), (38.401611508741894, 5990522), (37.46142939639505, 8507212), (36.9233491675829, 8507208), (36.9233491675829, 4308073), (36.9233491675829, 3143117), (35.602606787771265, 4067764)]}, {'query_id': '545355', 'scores': [(51.25656221406264, 4290924), (49.29468859041543, 4290920), (48.04017243740547, 8547218), (48.04017243740547, 8547215), (47.74807174176459, 8547219), (47.74807174176459, 4290921), (47.20999151295244, 4290922), (42.093007777361464, 4290923), (37.52454739433383, 4290918), (37.52454739433383, 3294315)]}, {'query_id': '555530', 'scores': [(38.60344717486983, 1897716), (37.7672825528333, 7475084), (37.616496380144916, 4296807), (37.05417004541149, 4137963), (36.91182510482561, 1754575), (36.87608728614484, 6485976), (36.341588019214676, 6150835), (36.28004175937061, 3948935), (35.99472191155034, 4238674), (35.730655004129865, 1483513)]}, {'query_id': '583468', 'scores': [(28.514090511063774, 7491704), (28.408972396013453, 8326078), (28.1665814236315, 7491700), (28.1665814236315, 1675562), (28.048449526231913, 7706119), (28.048449526231913, 2267054), (28.048449526231913, 2267052), (28.048449526231913, 1675564), (27.979953463013015, 6654310), (27.979953463013015, 2080306)]}, {'query_id': '586148', 'scores': [(32.91498060452156, 5056079), (31.68137553149753, 960743), (31.554160545535595, 8271038), (31.4867817190244, 6148926), (30.820002360514195, 7779366), (30.660951837843584, 6854043), (30.660951837843584, 1658943), (30.625408548041065, 2811037), (30.56790560817164, 8567688), (30.461224004253594, 5678812)]}, {'query_id': '590019', 'scores': [(31.228178544559015, 4408763), (31.108443379500493, 2831848), (31.102351039069184, 2831847), (31.025128483795722, 632727), (30.54278889001379, 5075460), (30.30040225278356, 3453506), (30.248568900681814, 3266922), (30.19566684046434, 1248322), (30.191859079613174, 6066327), (30.182679046315187, 8369826)]}, {'query_id': '605127', 'scores': [(41.768687805723346, 1137979), (41.31056106765814, 8642036), (39.53087512662216, 8594907), (39.53087512662216, 1137978), (38.98780273638009, 5121398), (37.403983450164475, 3679424), (36.680802309174894, 8547782), (36.25506866673828, 8642038), (36.25506866673828, 1137982), (34.94846474787376, 6888324)]}, {'query_id': '610265', 'scores': [(45.144573950635944, 474853), (44.59373402219729, 222769), (44.58253032314208, 2877322), (44.58253032314208, 683818), (44.40291042836736, 1148168), (44.39559343728107, 2877320), (44.292059955120024, 1148169), (44.286098138723816, 4758657), (44.2230279028543, 7009719), (44.168881417481316, 2039693)]}, {'query_id': '611953', 'scores': [(58.16833374098377, 484756), (50.891873445951276, 7197690), (46.415221663867484, 3562872), (46.415221663867484, 484758), (46.05455645523074, 456354), (44.13379443040905, 8062950), (44.114027644534346, 8371935), (44.048662278409054, 456353), (43.580585885161355, 456359), (43.46926968090544, 8062949)]}, {'query_id': '640502', 'scores': [(33.971868179544074, 3551380), (33.69146016259947, 5827712), (33.264410627769294, 5827713), (32.454477136256415, 5150987), (32.4276877509327, 6730887), (32.4276877509327, 3271456), (32.4276877509327, 1861075), (32.379393187169576, 6985038), (32.293055524424034, 3678130), (32.13337060863623, 77134)]}, {'query_id': '64647', 'scores': [(37.61050945221011, 8293649), (37.069074887592016, 8293652), (34.38432887743604, 4161653), (33.59310280022653, 8293648), (28.321125454764037, 8599633), (27.203887296948693, 1422031), (27.098659406566654, 6508277), (26.831055458993475, 7509908), (26.831055458993475, 5692182), (26.831055458993475, 1310940)]}, {'query_id': '653399', 'scores': [(31.38953158871495, 1969533), (30.388930255433998, 7133996), (29.781959380440117, 8458007), (29.65502929546632, 7485466), (29.65502929546632, 6343750), (29.65502929546632, 3111946), (29.65502929546632, 2007733), (29.127010457803983, 1674561), (28.892542130906776, 2399252), (28.87215750125762, 7092040)]}, {'query_id': '655526', 'scores': [(34.41026657853838, 6040076), (33.166272371472125, 8425101), (31.906318756106657, 206999), (28.643598866271383, 6707899), (28.643598866271383, 3864910), (28.643598866271383, 3021665), (28.643598866271383, 2105608), (26.430560347890435, 1826238), (25.977465027640882, 5883282), (25.255868776873083, 7135528)]}, {'query_id': '655914', 'scores': [(27.45964287584716, 8613490), (26.44520023745343, 1270195), (23.955204670487014, 8613495), (23.955204670487014, 8058173), (23.955204670487014, 5866957), (23.955204670487014, 5235329), (23.955204670487014, 2789189), (20.712798945113676, 3209412), (20.58114979927609, 6248270), (20.58114979927609, 2519335)]}, {'query_id': '660198', 'scores': [(26.51066806553647, 2845619), (25.108810190203695, 523901), (25.056712466272764, 2410610), (24.819483315822723, 4434042), (24.73686806015949, 7327517), (24.73686806015949, 4264632), (24.73686806015949, 3556727), (24.315986176162102, 7327515), (24.315986176162102, 4264630), (24.315986176162102, 3604202)]}, {'query_id': '67316', 'scores': [(52.504610531665385, 6680964), (47.335330547837955, 7630885), (46.987049766182544, 6764671), (45.82027813327868, 6179107), (45.67286828442547, 4163705), (45.10524689880114, 4252546), (45.10524689880114, 3810719), (44.216251766353416, 7112302), (44.19238860158017, 8431637), (44.04045920084956, 1974375)]}, {'query_id': '673670', 'scores': [(24.657790359140392, 3607501), (24.37107186659225, 7257303), (24.37107186659225, 2240359), (23.953282063164952, 8008345), (23.953282063164952, 3607497), (23.953282063164952, 1905068), (23.953282063164952, 1398756), (23.287913116965928, 2240358), (23.287913116965928, 2240357), (23.287913116965928, 2240355)]}, {'query_id': '701453', 'scores': [(34.564866491544194, 4355647), (34.564866491544194, 4330679), (33.930721605663464, 4355649), (33.778788654100225, 8626149), (33.44784521980503, 6999087), (33.25543624637759, 4330677), (32.889279522255734, 2036081), (32.805308800121125, 4355645), (32.698566356729685, 2036076), (32.55833608796054, 4330673)]}, {'query_id': '703782', 'scores': [(30.835093644229072, 4061595), (30.18069269716108, 4061598), (29.51800017880644, 185599), (29.440186362320986, 4061597), (29.440186362320986, 344218), (29.033699956618843, 4647484), (28.937600854728387, 4948640), (28.811353014989947, 3490915), (28.811353014989947, 611402), (28.638129234883717, 7687244)]}, {'query_id': '708979', 'scores': [(29.11748941154012, 6157147), (29.048140188598786, 4805197), (28.966140817402678, 279265), (28.898910739325622, 3811546), (28.861904328594065, 2889574), (28.75071910463386, 6313188), (28.724966196237656, 1447346), (28.695021054412774, 8088373), (28.64648261582525, 6409763), (28.64648261582525, 3422810)]}, {'query_id': '716113', 'scores': [(32.220785080639715, 8520612), (32.220785080639715, 8520611), (31.668428764971605, 8520617), (29.168289651947532, 8520618), (29.168289651947532, 8520614), (29.168289651947532, 8520613), (25.19079560850014, 8520616), (25.19079560850014, 8520610)]}, {'query_id': '730539', 'scores': [(39.71232600523837, 8577877), (37.67906842889246, 8276218), (36.85824180590517, 2666444), (36.48802295552731, 2666436), (35.140260972508855, 8577880), (31.832117923281743, 8577876), (31.832117923281743, 5428552), (31.832117923281743, 4605022), (25.607477677350623, 8276217), (25.607477677350623, 7916064)]}, {'query_id': '735482', 'scores': [(29.751432883533013, 8405801), (29.305878806675473, 8405802), (28.824995357368444, 4823368), (28.51440472620353, 8405807), (28.51440472620353, 338960), (28.13997035548153, 8405806), (27.364810484925282, 8405805), (25.535910555618976, 4117288), (25.462145348105413, 8405804), (25.462145348105413, 8405803)]}, {'query_id': '735922', 'scores': [(29.20544154088144, 5537112), (29.20544154088144, 5537109), (27.930185613508975, 5854095), (27.930185613508975, 281701), (27.930185613508975, 281697), (27.930185613508975, 180247), (27.01768596928546, 8626887), (26.498137258133713, 7371194), (26.498137258133713, 5861444), (26.498137258133713, 1432224)]}, {'query_id': '75198', 'scores': [(33.790610760799936, 7797928), (33.43968095039932, 2579716), (32.81059179799164, 8256960), (31.235934504236127, 6862216), (30.374561333252796, 6862217), (30.374561333252796, 3916717), (30.374561333252796, 2140526), (30.374561333252796, 2140522), (29.558974827927067, 7088445), (29.558974827927067, 2932859)]}, {'query_id': '768208', 'scores': [(29.32700810424553, 52162), (28.82425939388703, 52155), (28.023585521834615, 8525681), (28.023585521834615, 52159), (26.548659968053844, 3515884), (26.548659968053844, 3515882), (26.548659968053844, 813102), (26.548659968053844, 52160), (26.548659968053844, 52158), (26.548659968053844, 52157)]}, {'query_id': '779302', 'scores': [(36.22574208270805, 1583173), (35.26009321902595, 8768560), (35.26009321902595, 8768554), (32.88986418998803, 8768563), (32.88986418998803, 8768562), (32.88986418998803, 8768561), (32.88986418998803, 8768558), (32.88986418998803, 8768555), (28.283004568901966, 2411546), (27.76007424474713, 4638389)]}, {'query_id': '792635', 'scores': [(29.601900219432935, 4294317), (28.043905471041725, 8682263), (28.043905471041725, 8682259), (28.043905471041725, 8682258), (28.043905471041725, 8682254), (28.043905471041725, 6306494), (28.043905471041725, 6306491), (28.043905471041725, 4294318), (28.043905471041725, 4294312), (28.043905471041725, 4294311)]}, {'query_id': '794223', 'scores': [(27.176092128181352, 7790213), (26.777529935567017, 2519053), (25.50104031895248, 8445687), (24.34578519465881, 471681), (24.06377004680211, 5946388), (24.06377004680211, 892194), (23.470261383429353, 6209396), (22.78728043018757, 4226039), (22.78728043018757, 3798578), (22.78728043018757, 3293492)]}, {'query_id': '794429', 'scores': [(35.434661688737165, 1208450), (33.55262138406291, 1208449), (33.257949645880466, 64014), (31.382765857446742, 8618468), (31.382765857446742, 4652685), (31.382765857446742, 719934), (28.071804470496566, 1246185), (27.96000778303745, 6098420), (27.95517354893356, 3926405), (27.720060608528705, 4627633)]}, {'query_id': '801118', 'scores': [(36.32152675953597, 2932991), (35.48955736645999, 4799238), (35.373684713646554, 7615528), (35.373684713646554, 3975963), (34.05967730842322, 1930307), (33.8602779759597, 3263703), (33.313001309402296, 7486725), (33.196602590092894, 5210818), (32.99282775513629, 1930313), (32.99282775513629, 1930312)]}, {'query_id': '804066', 'scores': [(22.271407377418456, 73387), (21.97318784630375, 6152070), (20.56031395719204, 8567803), (20.56031395719204, 7922526), (20.56031395719204, 7621407), (20.56031395719204, 5655169), (20.56031395719204, 1504069), (20.56031395719204, 1259677), (19.980335827150626, 7427197), (19.980335827150626, 3298496)]}, {'query_id': '808400', 'scores': [(30.8278632352039, 3691917), (29.547092978827077, 3691923), (28.497795267127994, 3377142), (27.13052855188374, 7282136), (27.13052855188374, 7252539), (27.13052855188374, 4576228), (27.13052855188374, 1995351), (26.278739980854198, 5834423), (26.108540230651833, 5598346), (25.54877498138603, 5834421)]}, {'query_id': '809525', 'scores': [(37.95754421275758, 3793929), (34.535327764976046, 2077416), (33.589287917627985, 1724922), (32.79063261735054, 1428570), (32.27706812879017, 3793922), (32.27706812879017, 1428575), (31.331028281442116, 7059360), (31.331028281442116, 1428574), (31.331028281442116, 1428573), (31.26719011050095, 2077420)]}, {'query_id': '814183', 'scores': [(43.57401269181394, 8679359), (33.89959706629996, 8444060), (30.9959656737901, 8679357), (29.9221182495295, 7274881), (28.401076689577092, 510865), (28.401076689577092, 510863), (27.612157892644397, 510861), (26.15888642461048, 8552189), (26.15888642461048, 7013314), (26.15888642461048, 878335)]}, {'query_id': '819983', 'scores': [(22.31048364359605, 8145644), (22.31048364359605, 1338142), (22.215254433346793, 1617043), (22.152774821234424, 4580581), (22.149039413832305, 8312879), (22.145477689974328, 8328822), (22.09575100160457, 8439123), (22.085276390874636, 1221184), (22.08459109835363, 8831812), (22.08459109835363, 8045345)]}, {'query_id': '849550', 'scores': [(31.659557211570814, 1373164), (31.556777317264405, 7274031), (31.20654397676975, 6758594), (30.576568723072256, 8582102), (30.501276087371004, 7767168), (30.501276087371004, 4061418), (30.18431263075878, 5690724), (30.119450646610105, 8000555), (30.119450646610105, 7767169), (30.119450646610105, 1419091)]}, {'query_id': '85020', 'scores': [(43.90286836572077, 3152840), (43.55985734235737, 198481), (43.11838930943593, 198476), (42.68521776383425, 6290170), (42.15704960675594, 6974021), (41.94988654841006, 1770218), (40.67296992469999, 603541), (40.5533506604239, 147291), (40.362845906206424, 1640375), (40.35311621198764, 1777604)]}, {'query_id': '850358', 'scores': [(41.122171374602004, 2852825), (41.122171374602004, 2852824), (40.06736038328324, 2852830), (39.12358212789276, 6427506), (38.28747970147697, 2852827), (38.2204691734686, 2852826), (33.78854820136193, 8037013), (32.30969232217995, 389081), (32.253555715439916, 2278756), (32.22809288394713, 6427505)]}, {'query_id': '86606', 'scores': [(37.760840476159984, 5013458), (37.61331426617076, 8422274), (37.611418959768756, 6253490), (37.611418959768756, 6253489), (37.611418959768756, 677277), (37.4376906817844, 3077883), (37.248592980755674, 747160), (36.69879419214115, 6897895), (36.5634276545884, 1238485), (36.51448420697308, 677274)]}, {'query_id': '877809', 'scores': [(43.10122076907557, 4888926), (42.678852495170084, 5940394), (42.678852495170084, 5940393), (42.29057155925346, 6704838), (41.978972890622416, 741714), (40.639551260566556, 4888929), (40.452294575187125, 7040022), (40.38780733427178, 7040017), (40.31766758009004, 1550610), (39.9144694575354, 7346771)]}, {'query_id': '883915', 'scores': [(45.41994571456387, 4042980), (44.04515224870913, 6172403), (43.40439077542048, 4042985), (43.37073043130947, 3535079), (43.0991052306733, 5406348), (43.0413609817852, 6172404), (42.19863320559796, 4857055), (41.905505653941404, 5559530), (41.84770339519734, 5406347), (41.78828559415798, 1845958)]}, {'query_id': '88495', 'scores': [(21.43419959194241, 1091557), (21.37582122262146, 2875829), (21.32819211237795, 6579243), (21.284308314952924, 6846565), (21.284308314952924, 1667678), (21.25620195834537, 7950301), (21.25620195834537, 5897696), (21.246177127420992, 5915611), (21.164689050676834, 3668359), (21.164085475466813, 5459872)]}, {'query_id': '911232', 'scores': [(67.08848104970969, 8816622), (65.13153522260225, 2999930), (63.66352406687726, 2999933), (61.33777181366048, 8816620), (58.58685368947388, 6928655), (56.75683881444649, 1879470), (55.689330599289654, 2999925), (53.020660697865054, 8816626), (52.324663449844486, 2999926), (51.35992665190655, 2999929)]}, {'query_id': '914916', 'scores': [(33.374566817336294, 6042350), (33.374566817336294, 2631739), (33.012396001720006, 2631743), (32.728433439856886, 7040507), (32.47107827301439, 8520449), (32.47107827301439, 8481901), (32.47107827301439, 5177082), (32.47107827301439, 2001628), (32.47107827301439, 2001626), (32.417289468063075, 6071696)]}, {'query_id': '91576', 'scores': [(29.864010382246573, 8279891), (29.227657172919223, 3780281), (29.11965489474307, 1382984), (27.665699295479364, 4161753), (23.66665907062331, 3540074), (23.32121018555989, 6805821), (23.32121018555989, 6137131), (23.32121018555989, 3255380), (22.68485697623254, 4066736), (22.68485697623254, 3880194)]}, {'query_id': '918162', 'scores': [(52.180964145998715, 2692389), (52.180964145998715, 2692384), (52.091341482541594, 2692388), (50.6146679003117, 267612), (49.31058176713398, 8217238), (48.26541447403687, 4658366), (48.26541447403687, 1290157), (48.26541447403687, 672942), (48.15066858044259, 2334496), (45.1393326341546, 1223048)]}, {'query_id': '938400', 'scores': [(36.540754338981586, 7239123), (34.39985311832476, 6499450), (34.39985311832476, 2969902), (31.2522634997064, 2870510), (30.80551892410942, 3074064), (29.8910138425656, 6499448), (29.708964056735017, 7029656), (29.708964056735017, 3424110), (29.708964056735017, 2371820), (29.708964056735017, 790219)]}, {'query_id': '940547', 'scores': [(44.507181543879014, 4481817), (43.515081581004466, 6404591), (42.327766450730515, 4664999), (41.34965066408335, 3822464), (41.332468907818324, 4820847), (40.494777197130176, 7793152), (40.494777197130176, 4100051), (40.494777197130176, 3408094), (40.24533337698908, 1976277), (39.01515369736653, 2947470)]}, {'query_id': '945835', 'scores': [(40.514563058581274, 4431195), (39.11115272635702, 4539379), (38.9651846151264, 5548718), (38.9651846151264, 4431193), (38.560877961072435, 4425412), (38.560877961072435, 61200), (38.560877961072435, 61192), (38.075033840223774, 5548713), (38.075033840223774, 4539378), (37.52787557887137, 61193)]}, {'query_id': '978031', 'scores': [(27.73993980407252, 8744912), (27.230245671637064, 8744911), (26.48783224406383, 4755047), (26.459702067856902, 8744914), (25.572784782711306, 261672), (25.45779067000688, 8802560), (25.306719972924597, 3698979), (25.099436923439605, 5287819), (25.099436923439605, 4543384), (25.099436923439605, 2398979)]}, {'query_id': '985594', 'scores': [(27.986489717613424, 1657406), (27.506721322454332, 8677959), (27.506721322454332, 8677953), (27.506721322454332, 7740126), (27.506721322454332, 4286031), (27.506721322454332, 1657408), (27.506721322454332, 1657405), (27.506721322454332, 655890), (26.742645730163936, 7740128), (26.742645730163936, 7740125)]}, {'query_id': '99005', 'scores': [(63.83621136609024, 8257322), (62.428058477338496, 6493343), (60.64921021656026, 6493344), (60.34237366937607, 2875400), (60.34237366937607, 1375045), (58.22734696934739, 297028), (58.22734696934739, 297023), (55.756319362139045, 8257320), (55.728214141469216, 6327640), (54.839973279908506, 8476970)]}, {'query_id': '997622', 'scores': [(39.08610995414616, 4543865), (37.93900272063209, 73465), (35.98364199131113, 4518222), (35.589443322474736, 73459), (35.12337587473392, 4558331), (34.5573504004568, 4643397), (34.176016779134606, 5430569), (34.02715110476255, 5430574), (33.168015145412966, 8533344), (33.168015145412966, 3913148)]}, {'query_id': '999466', 'scores': [(31.414198741862524, 8748919), (31.414198741862524, 8748914), (28.934130420136533, 8748922), (28.934130420136533, 8748918), (24.98856718102701, 8748921), (24.98856718102701, 8748920), (24.98856718102701, 8748916), (24.98856718102701, 8748915), (24.98856718102701, 8748913)]}, {'query_id': '132622', 'scores': [(32.176789087973575, 5901873), (31.71300587225336, 962815), (31.18480805546499, 2979805), (30.577122497015512, 2459821), (30.577122497015512, 821354), (29.669624925929558, 5656719), (29.476685699203617, 3162996), (29.388711712389778, 7122663), (29.01673061612898, 6358747), (28.400108212428442, 2979812)]}]\n"
     ]
    }
   ],
   "source": [
    "print(query_processing(trec_dl_2020.queries_iter(), daat_bm25))"
   ]
  },
  {
   "cell_type": "code",
   "execution_count": 16,
   "metadata": {
    "colab": {
     "base_uri": "https://localhost:8080/"
    },
    "executionInfo": {
     "elapsed": 2638,
     "status": "ok",
     "timestamp": 1729868599720,
     "user": {
      "displayName": "DANIEL NAMAKI GHANEH",
      "userId": "00865735165124121752"
     },
     "user_tz": -120
    },
    "id": "UIn-FsL5Hcdo",
    "outputId": "67721fdd-d506-42d1-e831-019385d56f93"
   },
   "outputs": [
    {
     "name": "stdout",
     "output_type": "stream",
     "text": [
      "query_processing (134128.037 ms)\n",
      "[{'query_id': '1030303', 'scores': [(52.67510724707057, 8726436), (45.396526627551914, 8726435), (45.396526627551914, 8726433), (45.396526627551914, 8726429), (41.90065349198796, 8726437), (41.90065349198796, 8726434), (41.90065349198796, 8726430), (41.90065349198796, 7156982), (28.65245040521046, 1305521), (28.65245040521046, 1305520)]}, {'query_id': '1037496', 'scores': [(37.653476406482234, 7766587), (37.653476406482234, 7766585), (37.653476406482234, 5927420), (37.653476406482234, 4760912), (34.31780748978049, 4905511), (34.31780748978049, 4760914), (34.31780748978049, 4174377), (34.31780748978049, 3725937), (26.558278232025287, 4174376), (25.820548281135697, 3725932)]}, {'query_id': '1043135', 'scores': [(51.323680145983545, 8696961), (49.76126512062235, 650642), (48.1854453169104, 3378240), (47.92558720707534, 8696958), (47.08041688425733, 4994428), (46.7362248086448, 650641), (45.60189862377017, 4355523), (45.60189862377017, 2514458), (44.40242485977417, 2664995), (43.34413939726818, 4721484)]}, {'query_id': '1045109', 'scores': [(46.660009626843, 8838896), (42.162907924783475, 8838890), (39.9843159707582, 8838893), (39.75557641248765, 8838892), (38.818491568949064, 8838891), (36.518374225718006, 8838899), (36.518374225718006, 8838898), (36.518374225718006, 8838897), (36.518374225718006, 8838895), (29.547558281167248, 7620329)]}, {'query_id': '1049519', 'scores': [(38.92328362057082, 7105), (38.850771322707814, 5355123), (35.67306486376653, 1316185), (35.31078093791132, 7106), (33.74302029350547, 7668125), (31.997752377201238, 5355121), (31.051791035621505, 5355126), (30.5853668896483, 5355117), (30.56531383456418, 6080565), (29.78885826498282, 6950445)]}, {'query_id': '1051399', 'scores': [(42.10757047767052, 2845499), (41.3434707870476, 7848674), (41.342406578609555, 4426188), (41.342406578609555, 69818), (41.342406578609555, 69813), (41.28022693098491, 3773237), (40.74996148591968, 8712317), (40.40685588507113, 2866972), (39.99974715264694, 3446937), (39.592915614819354, 7848669)]}, {'query_id': '1056416', 'scores': [(59.92865197565817, 8739209), (55.865767079644115, 2308626), (52.17496823849983, 8757245), (52.17496823849983, 2059786), (48.74191591546419, 3790242), (48.57585219226779, 895432), (46.85546831306432, 7321435), (46.68940458986792, 2348501), (46.68940458986792, 1367298), (45.28368772378185, 2348504)]}, {'query_id': '1064670', 'scores': [(46.20822287891298, 8680901), (44.82310894661139, 8680903), (44.18727929689358, 8680905), (43.137645810094455, 8680897), (41.021543511572276, 8680904), (39.00059992955288, 8680902), (34.763289183992356, 7734392), (32.74234560197296, 3807086), (32.368964260811524, 129462), (31.69271211517383, 8337453)]}, {'query_id': '1065636', 'scores': [(45.14857772533488, 4371749), (43.69554135871174, 1062134), (43.500098497809496, 8490752), (37.823324499297186, 7411479), (36.96874822855255, 436583), (36.75811357305094, 3822992), (36.75811357305094, 597867), (36.46666324277047, 6307138), (36.059937059776225, 7411495), (35.93244933639826, 444919)]}, {'query_id': '1071750', 'scores': [(74.14957756211176, 3928913), (71.30340320022496, 8698268), (67.69176157327229, 8698276), (65.68660180248918, 8698274), (65.68660180248918, 8698269), (65.68660180248918, 3575934), (63.32426723684185, 8378390), (56.59889821448215, 8378386), (54.23656364883481, 8378389), (54.23656364883481, 8378385)]}, {'query_id': '1103153', 'scores': [(36.033550526386264, 8226438), (35.53367490762536, 8226436), (34.933873841599336, 8226445), (34.81648804897863, 7570096), (34.27318278243519, 6113506), (33.056120305027555, 8226444), (33.056120305027555, 8226440), (33.056120305027555, 8226439), (31.82915287715988, 8226443), (31.82915287715988, 8226441)]}, {'query_id': '1103791', 'scores': [(24.488043710013066, 8384424), (24.01395393457511, 8384416), (23.811300973607253, 4034845), (23.56620247999482, 8220282), (23.418103017755975, 4034852), (23.21852270997826, 8384417), (23.21852270997826, 8146212), (23.18000281168612, 1512326), (22.937376447799934, 8220278), (22.937376447799934, 8214165)]}, {'query_id': '1104501', 'scores': [(51.22435940131854, 6871582), (50.76604972388639, 6067096), (50.74993924820366, 5286080), (50.014967436517345, 2204057), (49.93528091182409, 2204054), (49.8382068028863, 2090898), (49.720019600594256, 5594847), (49.6036563480898, 7431269), (49.57608749405145, 2283306), (49.57413875451596, 1247973)]}, {'query_id': '1105792', 'scores': [(30.64609242965094, 8201616), (30.64609242965094, 8201611), (30.289742517678253, 8201618), (30.289742517678253, 8201612), (29.770489788803765, 8201613), (28.943531739114775, 8201615), (28.943531739114775, 8201610), (28.943531739114775, 6977017), (27.420187963371887, 8201614), (27.420187963371887, 7102720)]}, {'query_id': '1105860', 'scores': [(40.33084624730899, 3593906), (40.33084624730899, 3593905), (40.33084624730899, 3593904), (39.89625644393996, 8200940), (39.83214215436016, 8282567), (39.83214215436016, 8282566), (39.83214215436016, 8282565), (39.474544312042, 7237676), (39.454669967125525, 3593907), (39.24782415637286, 4866505)]}, {'query_id': '1106928', 'scores': [(45.754381809698984, 4285175), (42.956320860322755, 2168463), (42.26195199927206, 5186636), (41.66521596836259, 7744803), (41.131294256496204, 8190627), (41.131294256496204, 8190624), (40.27190856381118, 2866124), (40.12614349604358, 8190620), (39.880734534845054, 1392371), (38.69642902999614, 6949062)]}, {'query_id': '1106979', 'scores': [(46.40906242826452, 8190140), (46.40906242826452, 8190137), (46.22342136612552, 7674419), (41.95353038081134, 7674423), (40.78025589170834, 5383176), (40.78025589170834, 4219185), (40.78025589170834, 1589841), (39.25144367863475, 8190135), (38.85368068448165, 8190134), (38.18326067752514, 348057)]}, {'query_id': '1107315', 'scores': [(30.36534132347737, 4598318), (28.463057713661602, 8187302), (27.49790378553049, 8817722), (27.49790378553049, 2696421), (27.49790378553049, 2696417), (27.49790378553049, 2696416), (26.77454992130142, 2687026), (26.77454992130142, 2687024), (26.77454992130142, 1708353), (25.43669742531833, 3430125)]}, {'query_id': '1107440', 'scores': [(46.65292960288883, 8186231), (43.44435466080379, 8186223), (34.59166781250444, 789989), (33.25531712905283, 1409567), (29.532580167254554, 3971063), (28.296084775507165, 1879424), (27.70462116771592, 8186227), (27.70462116771592, 5177729), (27.70462116771592, 5177724), (27.005210429537442, 5479288)]}, {'query_id': '1108450', 'scores': [(43.76559717433977, 1629571), (39.815444480183295, 4400204), (25.182926875762128, 1629577), (24.68094162242468, 6285212), (24.68094162242468, 6285210), (24.257839766040252, 8177145), (24.257839766040252, 4747082), (24.257839766040252, 4400207), (24.257839766040252, 4400205), (24.257839766040252, 1629573)]}, {'query_id': '1108466', 'scores': [(45.868545704143884, 8177012), (42.46684128774052, 4944265), (42.46684128774052, 3267306), (42.46684128774052, 753377), (42.079572319585424, 2702004), (41.793318805099524, 841054), (41.441292032321215, 5380573), (41.441292032321215, 3482588), (41.441292032321215, 3267303), (41.39123655779552, 2002688)]}, {'query_id': '1108473', 'scores': [(54.92127748189719, 8176948), (52.21530637024118, 1188068), (51.327632768686776, 1188069), (47.86899816137919, 8176949), (43.457111493773766, 1970473), (43.078999954958846, 3978700), (42.04435413261494, 1188063), (42.023114493022206, 8176947), (40.91051808438279, 609120), (40.85689575313235, 357762)]}, {'query_id': '1108651', 'scores': [(39.5701850167887, 6348741), (39.28020339494553, 8175412), (36.650738680390525, 1371583), (35.0709159416392, 5027435), (33.39823538102992, 6985088), (33.39823538102992, 5997928), (33.04367375206251, 1325612), (32.72805051241106, 6663873), (32.659404363148106, 488271), (32.58633125757085, 6985085)]}, {'query_id': '1108729', 'scores': [(48.6040566231369, 3405694), (43.194115837396055, 7789132), (39.984812220829376, 5449883), (37.24192288742792, 3405688), (34.63765143755876, 8174842), (34.36203324695763, 8322380), (34.10291834454666, 334958), (33.81504719024358, 7993178), (33.76200823090449, 4917651), (33.76200823090449, 2426801)]}, {'query_id': '1109699', 'scores': [(25.47460049312229, 2769074), (25.458148308439768, 4872045), (25.37273623634811, 8394502), (25.260528220070842, 7722707), (25.260528220070842, 7722706), (25.260528220070842, 7471054), (25.260528220070842, 2341119), (25.260528220070842, 737337), (25.120760984031858, 7744060), (25.120760984031858, 178437)]}, {'query_id': '1109707', 'scores': [(49.722107789515846, 1911564), (48.02280664700437, 1719374), (47.819108168686824, 5947139), (47.79842342952465, 4122615), (46.99549708094883, 771002), (46.88843348995837, 4122618), (46.85934083389107, 1719371), (46.541279265135714, 5740304), (46.131559776795505, 4285843), (45.9431933105349, 2510185)]}, {'query_id': '1109850', 'scores': [(45.526385132288716, 8164028), (43.64468342060261, 8164035), (43.64468342060261, 8164030), (42.25534816555877, 8164033), (35.33792659530058, 3633621), (35.33792659530058, 3633617), (33.46295083372313, 8164032), (31.414198741862524, 8164036), (24.98856718102701, 8164029), (21.706810380554224, 5382247)]}, {'query_id': '1110678', 'scores': [(36.46635778828554, 7139329), (34.64542451426846, 8155914), (34.64542451426846, 6632692), (34.64542451426846, 2342590), (34.64542451426846, 2342589), (33.864464633233084, 8155909), (33.864464633233084, 5719597), (31.74848521469584, 2714688), (31.74848521469584, 2126363), (31.74848521469584, 2096160)]}, {'query_id': '1112142', 'scores': [(61.840210241465336, 2542782), (61.03027213689771, 3651292), (61.03027213689771, 3651291), (61.03027213689771, 3651290), (60.60480379759744, 7866090), (54.10776740368307, 2238202), (53.48357394134076, 1946438), (52.291558384937694, 8240097), (52.291558384937694, 7844243), (52.291558384937694, 5670185)]}, {'query_id': '1113042', 'scores': [(39.2250093707903, 7072957), (38.87991792778778, 2410652), (37.83537476554747, 355186), (36.96693929952687, 2499270), (36.5256501044324, 3521102), (35.71274895557416, 7834150), (35.71274895557416, 4931496), (35.71274895557416, 4243566), (35.30257235688116, 2326525), (35.30257235688116, 2326519)]}, {'query_id': '1113256', 'scores': [(71.39956965145197, 7561115), (70.79825055829859, 8130535), (70.79825055829859, 7561120), (68.6300940581209, 7561117), (66.77797290107321, 7561116), (66.28553766269468, 7561114), (65.62808551662538, 8130530), (65.62808551662538, 7561113), (63.17464526642429, 7561111), (57.1525646522944, 8130528)]}, {'query_id': '1114166', 'scores': [(33.312717050794554, 6019023), (32.94501278997479, 3594677), (32.94501278997479, 3142379), (32.94501278997479, 2463783), (31.874277236829997, 8478109), (31.446446443835455, 5989751), (31.24264550949559, 1816877), (31.196970344997894, 5193359), (30.764481682031096, 5005484), (30.764481682031096, 3951381)]}, {'query_id': '1114286', 'scores': [(20.801191617163518, 6846966), (20.801191617163518, 4956824), (20.63780777489588, 2589532), (20.540892633124784, 4956825), (20.115510194073988, 8720406), (20.115510194073988, 3960437), (20.115510194073988, 2177460), (20.04141181629427, 8413644), (20.04141181629427, 6040011), (19.963176841964216, 6269131)]}, {'query_id': '1114993', 'scores': [(24.556063741594386, 4104358), (23.770087920608336, 8113957), (23.240708833285723, 6612208), (23.240708833285723, 6203023), (23.240708833285723, 6011208), (23.240708833285723, 4956693), (23.240708833285723, 3271410), (23.240708833285723, 2086636), (23.240708833285723, 1881796), (23.240708833285723, 1724571)]}, {'query_id': '1115210', 'scores': [(43.679979446659544, 8111887), (39.541876130660214, 8111878), (34.14980211284292, 8111885), (34.14980211284292, 8111884), (34.14980211284292, 8111882), (25.68637601317948, 8390254), (25.68637601317948, 7440361), (24.952479555660066, 7440364), (24.952479555660066, 7440363), (24.2593551235584, 7440366)]}, {'query_id': '1116380', 'scores': [(38.90386491508228, 8100548), (38.79359776022508, 8100546), (38.79359776022508, 8100543), (31.137036800459246, 521341), (26.891077236760257, 4118339), (26.891077236760257, 1422757), (23.473808067398874, 8371014), (23.473808067398874, 5104772), (23.473808067398874, 1645711), (23.473808067398874, 444969)]}, {'query_id': '1117817', 'scores': [(33.82183908447076, 5310910), (33.82183908447076, 3516296), (31.429790982731866, 4486487), (30.241343164835406, 7531176), (28.18588262499199, 6537918), (27.95152351540742, 1005145), (27.211344509468738, 1035058), (26.942742886411786, 109686), (26.59009622410671, 6337358), (26.447950422885828, 5970406)]}, {'query_id': '1117886', 'scores': [(34.85976257009375, 2921720), (33.624027830388926, 556178), (33.32283924867555, 8456607), (31.72935039731931, 7460949), (31.72935039731931, 7460948), (31.72935039731931, 7024723), (31.72935039731931, 5376945), (31.619877592767956, 5094343), (31.442520119624803, 5301093), (30.62372358814505, 8407176)]}, {'query_id': '1118370', 'scores': [(21.870304820863975, 8656398), (21.504239720385684, 7476349), (21.504239720385684, 2951456), (21.248552841898086, 2224024), (21.20741291367391, 8081645), (21.20741291367391, 2224022), (20.84134781319562, 6211291), (20.84134781319562, 3608410), (20.84134781319562, 1284328), (20.45729838711673, 861060)]}, {'query_id': '1118426', 'scores': [(31.9896625105089, 8081194), (31.9896625105089, 8081193), (27.76262273663336, 8081199), (27.76262273663336, 8081196), (27.76262273663336, 2424347), (26.299014130346386, 6622100), (26.299014130346386, 5598458), (26.299014130346386, 2424353), (25.339944391236997, 6208983), (24.884907391238862, 2469356)]}, {'query_id': '1119118', 'scores': [(36.479990131093956, 8074735), (35.64968962213605, 8074733), (29.467435682139005, 6026130), (29.467435682139005, 5472178), (29.467435682139005, 3609036), (29.060517813526825, 8074741), (29.060517813526825, 8074734), (23.77678730197649, 5451461), (23.77678730197649, 5185340), (23.77678730197649, 4246892)]}, {'query_id': '1119543', 'scores': [(55.44129198864542, 8070706), (51.96327930612354, 8070713), (48.69364379941097, 1603603), (48.489345813852765, 405831), (47.79284555442736, 405832), (47.0567622755332, 5052354), (47.04351846999753, 8070707), (43.87638288475312, 4770699), (43.28421923131276, 3612262), (39.02231977912503, 3612261)]}, {'query_id': '1120588', 'scores': [(39.18750720600012, 8060866), (38.56683553452466, 8060864), (37.618989291891936, 8060867), (36.601966569514026, 8060861), (35.66918054270612, 8060862), (35.419927774072555, 8060868), (33.172852042323996, 8060859), (32.54357533684275, 8060863), (32.54357533684275, 8060860), (31.610789310034846, 2313348)]}, {'query_id': '1121353', 'scores': [(44.19818910480587, 8053113), (43.03538594404189, 8053117), (37.1179553467464, 1854970), (34.08452384100804, 4872676), (33.100778161181374, 4210422), (33.100778161181374, 623601), (31.984382163165343, 5606064), (31.27082447840002, 6379159), (31.20903947508451, 5277905), (31.20903947508451, 937044)]}, {'query_id': '1121879', 'scores': [(47.856954470102686, 2603303), (47.81195914366185, 3024534), (46.66278538262643, 1307737), (46.34875386095082, 8048097), (46.34875386095082, 2603307), (46.34875386095082, 1406295), (43.99527512785516, 2193862), (43.79809254447744, 8048100), (43.69083886017258, 4995632), (42.630208343354546, 1025282)]}, {'query_id': '1122138', 'scores': [(21.679909545881927, 4342247), (21.601976154979603, 4342246), (21.55561015518552, 5871298), (20.633961404824458, 5463811), (20.3598211867096, 6283517), (20.111671373773003, 7067825), (20.111671373773003, 6963235), (19.654553297310848, 3967084), (19.654553297310848, 3647404), (19.654553297310848, 3345300)]}, {'query_id': '1122767', 'scores': [(42.02747304795916, 7544609), (42.02747304795916, 1575377), (40.776105853591744, 8039590), (40.776105853591744, 5877496), (39.4947390823005, 5877500), (38.70846042747058, 2019371), (37.7045681946899, 6851717), (37.7045681946899, 6179207), (37.7045681946899, 2859907), (36.90389653545874, 4550504)]}, {'query_id': '1122843', 'scores': [(59.672420769733044, 2332417), (59.65713488668516, 2332424), (57.8889107364359, 225969), (57.52492103193985, 8772747), (55.76157121164017, 4947308), (55.37356113568929, 7998359), (55.107593065815344, 2332416), (54.68083258075163, 3312892), (54.63457222955145, 3880592), (54.63295390737511, 2332425)]}, {'query_id': '1123657', 'scores': [(46.95497722765454, 8032346), (38.16743565888726, 8032342), (35.884539353943, 8032349), (35.26665710529412, 7221025), (34.71406213343246, 5571459), (34.16542570470595, 7988749), (34.11648828438284, 5572500), (33.58539136829921, 6031432), (33.45952468194752, 1979098), (33.17121492750213, 5587952)]}, {'query_id': '1124552', 'scores': [(41.88186087320842, 5782491), (35.76708564261957, 3442729), (33.61382294229751, 4743535), (33.61382294229751, 3442725), (32.466929502356265, 7082651), (32.329937139657055, 8214271), (32.279077472968424, 2601066), (31.99512812614107, 2601070), (31.99512812614107, 1797406), (31.47206353988014, 6263843)]}, {'query_id': '1125632', 'scores': [(49.40246641459344, 7011199), (49.260438290332495, 6721396), (49.021261304640376, 1278069), (48.77131985995806, 7191566), (48.77131985995806, 1475286), (48.77131985995806, 1243662), (48.64788857588212, 6934400), (48.64788857588212, 6543904), (48.04601553895328, 7011204), (48.04601553895328, 5847127)]}, {'query_id': '1125755', 'scores': [(24.883852691598488, 1744931), (23.807275204823313, 7420642), (23.807275204823313, 2206347), (23.095542047186502, 7856574), (23.095542047186502, 3808440), (22.86344458693921, 7254544), (22.018964560411327, 7387332), (22.018964560411327, 7254547), (22.018964560411327, 2938068), (22.018964560411327, 482655)]}, {'query_id': '1126523', 'scores': [(33.113050469514015, 8805840), (32.036472982738836, 8805844), (32.036472982738836, 8805841), (28.597634496398467, 8805837), (25.218148899829387, 8805846), (25.218148899829387, 8556233), (25.218148899829387, 3214173), (25.218148899829387, 3025043), (25.218148899829387, 2841635), (21.779310413489018, 2774244)]}, {'query_id': '1126738', 'scores': [(56.47319228042412, 8790091), (56.47319228042412, 1091656), (55.14332131442351, 1091662), (55.14332131442351, 1091658), (49.76526155185374, 8790089), (49.76526155185374, 1091654), (48.52029970897432, 8790093), (48.52029970897432, 8790090), (48.52029970897432, 8790088), (46.648629460529015, 8790087)]}, {'query_id': '1127004', 'scores': [(39.55002063325449, 6481277), (39.294047420072005, 6531608), (39.14605582149724, 695631), (39.138232421251345, 5224906), (38.89008260831475, 1756214), (38.78701336130328, 3961675), (38.68893774503509, 6011954), (38.53886354836668, 860288), (38.4329645318526, 8033385), (38.4329645318526, 4222667)]}, {'query_id': '1127233', 'scores': [(25.863193466432147, 8100081), (25.55547667698057, 8100077), (25.388545346755212, 8527129), (25.192741165946774, 5400207), (25.098718567620427, 6611628), (24.98880261997901, 124809), (24.903170428211858, 6438836), (24.903170428211858, 3842712), (24.903170428211858, 124808), (24.82574829056685, 7619778)]}, {'query_id': '1127540', 'scores': [(27.25398872821523, 8726963), (27.25398872821523, 8726962), (27.25398872821523, 186476), (27.108199294694842, 8726961), (27.108199294694842, 8726956), (27.108199294694842, 8726954), (24.96807829774525, 2574460), (24.96807829774525, 2044372), (24.96807829774525, 2044369), (24.96807829774525, 2044368)]}, {'query_id': '1128456', 'scores': [(51.59059154483219, 8649622), (43.01716759009071, 1459777), (38.62170365143521, 7526299), (37.3259517059912, 4084616), (36.35637755618825, 8649615), (36.35637755618825, 3721820), (34.63606801002228, 6716075), (34.14546965808316, 3121928), (34.14546965808316, 3121927), (34.14546965808316, 2534794)]}, {'query_id': '1129081', 'scores': [(28.356368639711775, 8599986), (24.489591097932898, 7871513), (24.489591097932898, 6962228), (24.489591097932898, 6794362), (24.489591097932898, 4178203), (24.489591097932898, 3762080), (24.489591097932898, 2770798), (24.489591097932898, 2156392), (24.489591097932898, 1044198), (24.489591097932898, 687772)]}, {'query_id': '1130705', 'scores': [(23.03299738733539, 1468216), (22.89159039042333, 8442374), (22.89159039042333, 1621163), (22.792126146832654, 6762105), (22.792126146832654, 6762102), (22.661457434664506, 6628960), (22.661457434664506, 6233460), (22.661457434664506, 5379660), (22.661457434664506, 3570934), (22.48216780634077, 1910013)]}, {'query_id': '1130734', 'scores': [(49.33236439364671, 2546803), (47.836610178956924, 7212169), (46.9401641613206, 8460898), (46.83390809156418, 8460901), (46.49557623490281, 8460902), (42.13498351462856, 4311761), (42.13498351462856, 2810717), (42.13498351462856, 1081476), (42.106583056358275, 7427232), (41.708888520319746, 3823605)]}, {'query_id': '1130847', 'scores': [(50.7648587633876, 5474954), (49.342979652624706, 4201753), (47.49006638082918, 7332266), (47.49006638082918, 7332262), (46.77254462728955, 6209899), (46.728507612870324, 7332261), (46.29914648501033, 8299223), (45.90849821933756, 8299227), (45.81675625123142, 1458056), (44.9815629300152, 6149589)]}, {'query_id': '1131069', 'scores': [(42.02785615981349, 8432048), (41.25548546142625, 8432050), (39.28236342083819, 8191743), (39.28236342083819, 1780971), (39.28236342083819, 1780963), (35.70512719409017, 6907802), (35.168218186713815, 1780966), (34.34697547221458, 6809701), (34.34697547221458, 6809698), (33.98993434106055, 6809699)]}, {'query_id': '1132044', 'scores': [(40.30089974876542, 5858455), (39.42740196254646, 1014774), (38.81289681951086, 5858453), (38.76080550203648, 2121532), (36.47648979344044, 7645045), (36.19960770977388, 1691946), (36.128410313290146, 1818480), (35.96422305678777, 6166188), (35.81532512438072, 1650397), (35.53434692884508, 6546113)]}, {'query_id': '1132247', 'scores': [(54.67532772062296, 6246993), (53.04939398989154, 1210363), (53.04939398989154, 1210358), (53.04939398989154, 1210357), (51.155201478599324, 7390343), (49.90490916574818, 7390342), (49.90490916574818, 6525827), (49.90001879471892, 8238483), (49.18766596620693, 4623273), (48.60218317580393, 7390347)]}, {'query_id': '1132532', 'scores': [(44.88157540918355, 23966), (42.16191076120166, 6994907), (40.654822461383645, 4893092), (39.75837522398643, 6832793), (39.60298319705512, 8374347), (39.596234578586596, 3299150), (39.596234578586596, 2762578), (39.30218625223827, 5989422), (38.5147193588128, 1976995), (38.12782076098921, 6832795)]}, {'query_id': '1132842', 'scores': [(46.54609364132644, 3158781), (44.215674121585636, 7364932), (43.819953455366246, 834533), (43.256508602749676, 6536692), (43.214249094805396, 6570513), (42.8356030291269, 4874198), (42.768054599194286, 4132635), (42.56588586786578, 2324752), (42.34183803665635, 2941398), (40.703224268917644, 8240962)]}, {'query_id': '1132943', 'scores': [(37.289829539683836, 423711), (36.759089321558406, 5552077), (36.69946962732328, 6253953), (34.584079118124784, 622662), (34.314484990709154, 3437105), (31.753093259442267, 6469809), (31.343174164557155, 5782177), (31.215687316276274, 2107961), (31.20988394907985, 2248898), (31.20988394907985, 2107962)]}, {'query_id': '1132950', 'scores': [(31.076341318161624, 8274826), (29.972185764669153, 8619165), (29.530444639108286, 5867940), (28.704213360232956, 5845390), (28.47768051749102, 8274822), (28.47768051749102, 2303442), (28.110269682525132, 2132514), (28.110269682525132, 261777), (28.033751306910087, 6590922), (27.73360342683185, 6625752)]}, {'query_id': '1133485', 'scores': [(30.11076796276395, 5221748), (29.973213665925357, 8330714), (29.962687771939894, 3156351), (29.92689404856728, 3183897), (29.889124149071137, 2418248), (29.858793583996444, 6195711), (29.842674915950315, 8692792), (29.786737159729995, 5630061), (29.77229438131649, 4090344), (29.592659834716258, 3089617)]}, {'query_id': '1133579', 'scores': [(35.71303380104724, 8220878), (35.22488090333925, 4931644), (34.10968566034692, 1817055), (33.210456638253255, 4931642), (33.210456638253255, 4931641), (31.003258129477906, 670206), (29.983566594009197, 8220879), (29.983566594009197, 5335041), (29.983566594009197, 3691486), (29.983566594009197, 2448461)]}, {'query_id': '1134094', 'scores': [(33.82725764175514, 8172161), (31.508095746864257, 8172166), (31.508095746864257, 7182375), (30.253157005846532, 6426847), (30.253157005846532, 6426846), (30.253157005846532, 3445457), (29.143662452141292, 8172159), (27.172852823348492, 7182378), (27.172852823348492, 6426844), (27.172852823348492, 5357491)]}, {'query_id': '1134207', 'scores': [(21.5116490786156, 1698802), (21.460635843683896, 374550), (21.073043435855343, 7155676), (20.706983939572826, 5592724), (20.586532002789305, 8817805), (20.586532002789305, 853685), (20.499022206688373, 7049025), (20.471269457602123, 3225711), (20.226317260699425, 8246744), (20.032663814841865, 3362951)]}, {'query_id': '1134431', 'scores': [(45.918975491887444, 3128065), (44.64622451342436, 8141222), (43.7273750055023, 8141223), (42.511025350297516, 8141221), (42.44970081946489, 7974008), (40.64045497356164, 8141220), (39.026038816850615, 5010274), (38.77478806482817, 6720464), (38.77478806482817, 3243219), (38.6679570035725, 2444833)]}, {'query_id': '1134680', 'scores': [(62.36835742028786, 8118937), (54.13279238477187, 8118936), (52.28670236674493, 8118930), (44.69419862263125, 8796589), (43.91814829245601, 8307236), (43.6062627174474, 2456858), (43.6062627174474, 2200409), (43.6062627174474, 1865327), (43.6062627174474, 1865324), (43.6062627174474, 237951)]}, {'query_id': '1134939', 'scores': [(32.991414606577024, 322652), (32.90474362563364, 8093333), (31.58843614900474, 8093330), (27.280922128685912, 6204714), (27.280922128685912, 2090588), (25.72440897183327, 8455233), (25.72440897183327, 8455232), (25.72440897183327, 7543137), (25.009842055949015, 8093327), (25.009842055949015, 7543128)]}, {'query_id': '1134988', 'scores': [(61.58843069497082, 8088407), (59.67316591850516, 8088409), (57.54789569290013, 380755), (55.78463334670407, 8088404), (53.493263848107084, 380753), (53.493263848107084, 380752), (53.386202470648314, 7296294), (53.124278245215436, 380748), (52.62495409907537, 6432242), (51.57799907164143, 380749)]}, {'query_id': '1135268', 'scores': [(33.59722371176314, 8386270), (33.332408586718174, 2966472), (33.07164125151075, 5717144), (33.041895618813506, 6259848), (33.041895618813506, 6087160), (32.66078437902651, 4260), (32.5450231145954, 5225950), (32.5450231145954, 1683963), (32.396013694944685, 8371436), (32.2266478513142, 3622462)]}, {'query_id': '1135283', 'scores': [(27.025614215368932, 8061944), (25.302891179465195, 2582837), (24.19762199789183, 3368379), (24.184223894620942, 4502908), (23.77818972337802, 4361255), (23.6134010286546, 7043720), (23.6134010286546, 6979076), (23.6134010286546, 5959072), (23.6134010286546, 5834915), (23.6134010286546, 3989820)]}, {'query_id': '1135413', 'scores': [(53.529867848236684, 8050662), (50.887130904306474, 8050667), (46.84900315442325, 8050665), (46.55123406657734, 2115732), (45.134206296008884, 6672865), (44.841188733519395, 7522683), (44.49295706104121, 6039815), (44.49295706104121, 5287000), (44.49295706104121, 2061136), (44.41493432467851, 5118096)]}, {'query_id': '1135626', 'scores': [(39.428669094505, 2003615), (39.16784651012496, 4035834), (39.16166802259405, 7676917), (39.12481824791135, 6532689), (38.88566310307544, 2902886), (37.95459038193327, 4619335), (37.15684219188936, 4892864), (36.55629160528607, 7714006), (36.485020628315766, 4079092), (36.275053463457525, 4035841)]}, {'query_id': '1136043', 'scores': [(37.45022182894152, 8728069), (37.39168260192403, 8728071), (35.6367288638877, 8728070), (35.58000940102556, 8728072), (34.76379312531732, 1056540), (33.569151042846244, 8728076), (33.439853945515104, 1056534), (32.88078815703604, 7018326), (32.88078815703604, 5326197), (32.333306528882204, 8728077)]}, {'query_id': '1136047', 'scores': [(45.072404380778835, 8724031), (42.95120433599662, 8724032), (41.698580587229245, 3988779), (41.207909405165275, 7009393), (40.90684887151292, 3597758), (40.90684887151292, 3006066), (40.12768671616482, 8328670), (39.87313656187618, 512482), (39.609820641008056, 2815435), (39.2682088437778, 8724036)]}, {'query_id': '1136769', 'scores': [(58.079182999603475, 8082043), (56.92327180691629, 189017), (55.312473135106885, 129247), (54.34536299964816, 189019), (53.273150464181256, 8082050), (53.265767486312996, 4713242), (52.37084714913304, 189016), (50.61585122630849, 8082046), (50.61585122630849, 5718075), (47.524308243323205, 5508127)]}, {'query_id': '1136962', 'scores': [(86.20772795152511, 7631079), (86.12337407207804, 6185710), (85.3801212413105, 6185711), (84.76616579682037, 6185717), (84.13201279541575, 8336574), (83.3612492603896, 6185714), (83.3612492603896, 6185712), (77.69478130366787, 596001), (76.42476602120436, 6185716), (75.55078361219005, 4601613)]}, {'query_id': '118440', 'scores': [(28.85939321387113, 7035722), (28.85939321387113, 1569786), (27.20642008126417, 8319567), (26.911550857588427, 4737856), (26.911550857588427, 1569787), (25.845071642871503, 8412702), (25.074356550802875, 6750552), (25.074356550802875, 6750548), (24.41834140848536, 6750547), (24.41834140848536, 2975214)]}, {'query_id': '119821', 'scores': [(31.961735246733618, 7093228), (29.99143442645363, 7172227), (29.99143442645363, 6527223), (28.710005458306284, 8012784), (28.710005458306284, 6267963), (28.710005458306284, 3365586), (28.710005458306284, 259724), (25.889962886907128, 8012780), (25.170797251159712, 2212944), (23.846018448467092, 2212940)]}, {'query_id': '121171', 'scores': [(30.6412865060053, 8260192), (25.726616751589567, 7165126), (25.726616751589567, 6930941), (25.726616751589567, 2337570), (23.13073426705116, 451171), (22.983716888235158, 8643275), (22.983716888235158, 451173), (22.52556970773878, 2550811), (22.52556970773878, 451172), (22.52556970773878, 259437)]}, {'query_id': '125659', 'scores': [(33.0395077478765, 6976559), (33.0395077478765, 4522348), (33.0395077478765, 1335471), (31.73797220181112, 829647), (31.47259975055706, 5881859), (30.94234452808598, 8290885), (30.94234452808598, 6635625), (30.94234452808598, 2745708), (30.94234452808598, 1106134), (29.640808982020598, 5693282)]}, {'query_id': '135802', 'scores': [(34.046390465025006, 8692623), (32.969812978249834, 8692626), (32.669996312638666, 8692628), (31.59341882586349, 8692619), (31.59341882586349, 6037338), (31.59341882586349, 6037331), (28.21499681546067, 8731214), (28.21499681546067, 7327478), (28.21499681546067, 5394718), (27.924471193329556, 8692624)]}, {'query_id': '141630', 'scores': [(55.49923685797568, 2473236), (54.28777398794748, 8319991), (54.233552677599796, 6290795), (52.750271419601724, 8319989), (52.055957253594144, 2366121), (52.04344864436681, 7985119), (51.90696060208612, 8319987), (51.689971457086834, 3500851), (51.42065886518571, 3500859), (51.10490130358099, 6496223)]}, {'query_id': '144862', 'scores': [(36.39183362430971, 92239), (36.21874496037, 92237), (35.818856608216244, 92238), (35.71203527285133, 2865950), (35.27006680883899, 92233), (34.528550889113475, 5292762), (34.44033229003897, 6150954), (34.08373040543744, 8320087), (34.08373040543744, 7245936), (34.08373040543744, 92241)]}, {'query_id': '156498', 'scores': [(46.81578976538954, 4273410), (41.32050068779894, 5606985), (40.48043374734077, 8823842), (39.793100805578106, 3288004), (39.50700250196288, 5043014), (39.33748577217251, 7075146), (39.33748577217251, 3397582), (39.18227159385583, 3397578), (39.03531262036184, 3301559), (38.84843796839484, 3288005)]}, {'query_id': '166046', 'scores': [(43.25500162850712, 7947463), (43.25500162850712, 1076792), (43.25500162850712, 1076791), (42.035405481789965, 1076793), (38.57618846224603, 1076795), (38.57618846224603, 1076794), (35.67511887162415, 96920), (35.20034036920742, 7947466), (34.31129655258134, 96927), (34.0153417824937, 96926)]}, {'query_id': '169208', 'scores': [(35.82955169592394, 4859433), (34.99909671615148, 4859432), (34.91990220663036, 4580137), (34.79592353248071, 4762140), (34.44898676108748, 7251639), (34.23450350664965, 4202275), (34.13266649901443, 1395417), (33.96395413940473, 85987), (33.73954814366214, 2888366), (33.73557237123432, 4762142)]}, {'query_id': '174463', 'scores': [(33.663386585840115, 8304456), (33.129059494027096, 4501665), (31.758009742166546, 102528), (30.39174691431399, 6294949), (30.18326052442572, 7089630), (30.18326052442572, 7089629), (29.481162910925995, 8304458), (29.17846684764954, 7402420), (27.436011026100935, 7611683), (27.436011026100935, 5793989)]}, {'query_id': '175920', 'scores': [(70.04107674256923, 8234235), (61.64200289162088, 101345), (55.335171547519536, 8537849), (55.16644565263163, 7615731), (55.16644565263163, 5673665), (54.33654159237453, 8537850), (53.72214576426677, 7348559), (53.72214576426677, 5717845), (53.667756113259564, 7360509), (53.667756113259564, 6815325)]}, {'query_id': '177604', 'scores': [(37.85032373504131, 8451995), (36.548582392922306, 8451992), (32.48041968662462, 5627757), (32.46790297494712, 2226834), (32.26106883252777, 5034647), (31.013947375683415, 3444466), (31.013947375683415, 1308162), (30.575741696667023, 8451989), (30.372092053486483, 8451987), (30.053290340913534, 8451991)]}, {'query_id': '181626', 'scores': [(31.34279739876765, 43641), (30.665365162943207, 436351), (30.299300062464916, 7795335), (30.299300062464916, 4798089), (30.299300062464916, 2183331), (30.078208869842648, 71074), (29.616184730443525, 8069297), (29.41746367589817, 71073), (29.400776634018204, 5427354), (29.400776634018204, 4091013)]}, {'query_id': '197312', 'scores': [(31.97842368999269, 2317108), (31.97842368999269, 2317106), (31.543814788977965, 5823013), (30.89760796711487, 5823008), (30.837342163073057, 1179432), (30.489123614319986, 5823015), (30.489123614319986, 1179433), (30.442403842788465, 1665689), (30.246518646145166, 2317100), (30.246518646145166, 1239571)]}, {'query_id': '206106', 'scores': [(45.50774411728848, 6479522), (44.253211331646554, 75400), (43.693185231582625, 7079997), (43.09458570404778, 1390597), (42.89314794577702, 5093731), (42.55400181043722, 8427974), (42.26631621279307, 8737574), (42.137557175849494, 3217609), (42.137557175849494, 2947646), (41.70270796997077, 7118029)]}, {'query_id': '227873', 'scores': [(44.85345229667833, 7276796), (43.605325931450636, 8453473), (42.544940244596994, 7276798), (42.544940244596994, 3250369), (42.544940244596994, 2054488), (39.5741419390518, 7019128), (38.96000311452724, 3324178), (36.377447227442005, 1900788), (34.09747022290085, 8453475), (33.88813253719913, 8453476)]}, {'query_id': '23849', 'scores': [(31.739964174445806, 4834498), (30.729965256296627, 2674124), (30.60320667556359, 6728787), (30.521893203339715, 4348282), (30.41032355540463, 5888570), (29.559284692078258, 641196), (29.511894285190536, 8246990), (29.511894285190536, 2017213), (29.291671843610054, 5363400), (28.34121372097217, 3425523)]}, {'query_id': '240158', 'scores': [(44.17921636076029, 2043788), (42.63119352516304, 6536692), (42.63091599961278, 991184), (42.069171027415166, 1567595), (41.64656557337344, 4874198), (39.24890088492748, 2819779), (39.23328208263946, 2819781), (38.41134485388214, 3542898), (37.97158040828223, 2819784), (37.84762247571531, 6239283)]}, {'query_id': '245052', 'scores': [(41.05203432100101, 3828386), (37.744686588846534, 5023796), (37.016572593414466, 4205737), (37.016572593414466, 66616), (36.58667293337389, 5666135), (36.42423899966115, 5143412), (36.402382360974855, 5878365), (36.195747402551646, 2839746), (36.08417775461656, 5143409), (36.08417775461656, 4302284)]}, {'query_id': '246883', 'scores': [(44.362489927308616, 3050794), (43.53184092987933, 8699192), (42.17527524344044, 5050393), (40.654035401788505, 4959448), (39.9666871252723, 8699195), (39.37221084480736, 6242496), (39.25243047667959, 6083923), (39.013984948211515, 5683913), (39.013984948211515, 2413876), (38.9287066818586, 3835935)]}, {'query_id': '253749', 'scores': [(34.540235263805464, 6190136), (33.62448657610085, 3516374), (33.25450153760369, 4070966), (30.45516960347757, 3516370), (29.908704931011073, 3516368), (29.377596210116668, 8254833), (27.81742228282939, 8254894), (27.308864927691715, 8521273), (26.865047641784727, 2544493), (26.715324111586867, 6447304)]}, {'query_id': '256942', 'scores': [(46.59655835816896, 2602557), (39.163973707178386, 2364119), (38.53131077729558, 7213042), (38.464208235971725, 4890686), (38.35702441078027, 8327014), (38.087297609794554, 5297913), (38.047263548715215, 3262199), (37.58408795525366, 5717767), (37.26146622936216, 5083782), (37.26146622936216, 4604331)]}, {'query_id': '257119', 'scores': [(41.71941465860647, 4363515), (41.52383366792492, 8499023), (37.78339803987589, 4363509), (36.710740144530995, 8032136), (35.74252503978325, 3818024), (35.63026725358812, 889398), (35.259749110201554, 8276379), (35.13281322595624, 5853762), (35.10250077245876, 4212490), (35.1014438164342, 2112755)]}, {'query_id': '258062', 'scores': [(50.87216558876175, 8694161), (50.54848376664999, 4159145), (49.44890262963278, 18103), (47.86799790929219, 3683402), (47.37388140869561, 4174313), (47.19518053208396, 2707010), (46.46540797240782, 7918982), (45.96135242167155, 91493), (45.681309269820105, 4174307), (45.681309269820105, 4174306)]}, {'query_id': '26703', 'scores': [(28.076094185804983, 3532417), (26.460097082645007, 3532415), (26.460097082645007, 1485077), (23.40678315382011, 380356), (22.67019684769552, 3733548), (22.47327460058508, 7265225), (22.47327460058508, 1236259), (21.962580662398672, 3921274), (21.913930984445493, 4104854), (21.850336264073505, 4534653)]}, {'query_id': '273695', 'scores': [(43.96524253422694, 8282608), (43.04198966657157, 5542707), (42.20747084356207, 7381998), (42.10712500784136, 5542705), (41.562645652238636, 2714742), (41.17433898103346, 7381994), (40.619253552431694, 5719948), (40.619253552431694, 4171983), (40.619253552431694, 413461), (40.52951378971003, 413460)]}, {'query_id': '302846', 'scores': [(50.2906178297023, 8418433), (48.376540504638335, 8418435), (47.63615560503948, 447099), (47.28605684177461, 8283558), (47.11530595943533, 6263014), (46.95227229415927, 3892531), (46.91530598416731, 3566357), (46.791517662927816, 5696466), (46.47232776249981, 447101), (46.1791976732255, 4234633)]}, {'query_id': '318362', 'scores': [(40.82886165036754, 5654804), (39.53369734389228, 3145979), (39.19760926200794, 429301), (37.95248682932706, 4299889), (37.60551123400124, 1714531), (36.816413521955226, 1714527), (35.9624666360321, 4299887), (35.48855296811274, 543937), (35.06767591121769, 519111), (34.59190793167447, 3996891)]}, {'query_id': '324585', 'scores': [(43.47248321322273, 1051441), (39.63081197508335, 8290314), (37.19505749689351, 8290310), (36.41860192731215, 3608325), (35.904208614471244, 7941125), (35.72108332977777, 7977807), (34.43669185241046, 405282), (34.20307351180261, 8310496), (34.18480922845855, 7359510), (33.770390003369634, 6480421)]}, {'query_id': '330501', 'scores': [(40.01083974703593, 6006326), (39.18963360616565, 3718639), (39.18963360616565, 1750071), (37.27051663272184, 6647777), (37.06638009475658, 7354312), (37.06638009475658, 4397700), (37.06638009475658, 452513), (36.792135547119734, 1899109), (36.792135547119734, 294036), (35.86814911211914, 2169021)]}, {'query_id': '330975', 'scores': [(57.06228995012044, 7908218), (52.73647727104711, 5750875), (52.54669968682783, 233948), (52.54418471412923, 4108178), (52.18164007517288, 8327008), (52.13520810457871, 3297858), (52.05263705070331, 233945), (51.79327067666512, 3297857), (51.46441724548689, 1097861), (51.39598011788415, 8541461)]}, {'query_id': '332593', 'scores': [(55.36270948119836, 8434873), (54.529114779849245, 5241323), (53.15141282538388, 5241322), (51.756546679439396, 7073995), (51.4043900780952, 4431502), (51.4043900780952, 1650687), (50.81351007551605, 8434869), (50.81351007551605, 7073996), (49.806629014040425, 8434872), (49.04166676501696, 4614346)]}, {'query_id': '336901', 'scores': [(45.45607766979457, 2909600), (44.93674232245776, 3646550), (44.716729999203324, 8528674), (44.40141607104311, 8130980), (43.90208318477711, 7836261), (43.354773763903665, 8528681), (43.354773763903665, 8528680), (43.354773763903665, 8528679), (43.354773763903665, 8528678), (43.354773763903665, 8528677)]}, {'query_id': '3505', 'scores': [(31.393709656347728, 8285655), (31.28958199026708, 8285658), (31.06911497089078, 4520880), (31.0306423609252, 5469617), (30.890368835281393, 8285654), (30.890368835281393, 8285653), (30.88203336356939, 8285656), (30.804214025917766, 502056), (30.792843327833076, 1030851), (30.70198077841465, 1076196)]}, {'query_id': '360721', 'scores': [(40.800612758655014, 6318492), (37.81614649402439, 101662), (37.47236055269038, 4284999), (36.72574893319656, 7826496), (36.63513467640792, 7043084), (36.44317219974307, 7826493), (35.91525850485403, 101666), (35.71783273139682, 7826491), (35.612291340230016, 6206175), (35.306019892840325, 1750204)]}, {'query_id': '384356', 'scores': [(45.481178989335355, 7565188), (36.52114948520242, 2032126), (36.10153709900196, 2032127), (35.738796708623866, 4648730), (35.738796708623866, 412129), (35.657043939626554, 3705729), (35.562539909156186, 5381456), (35.528263067883515, 6863040), (35.50623271075975, 294098), (35.477688071339486, 6543899)]}, {'query_id': '390360', 'scores': [(41.203146971522436, 604111), (37.77711630179845, 5423359), (37.174791197718285, 2203877), (37.174791197718285, 2203875), (36.540171524797856, 7679050), (35.75800785101159, 6179316), (34.768622873812305, 4683960), (34.768622873812305, 324991), (34.40255777333402, 324994), (34.40255777333402, 324992)]}, {'query_id': '405163', 'scores': [(30.249891636573082, 851536), (29.242118057079622, 6289824), (28.335814311509118, 7622492), (28.03898373846799, 429247), (28.03898373846799, 429246), (28.03898373846799, 429245), (26.124906413404027, 3293026), (26.124906413404027, 2748170), (26.124906413404027, 1518541), (26.124906413404027, 1352548)]}, {'query_id': '42255', 'scores': [(62.71265581192574, 8746197), (58.02202932702443, 8746189), (55.40741118181437, 8746188), (53.618185426029896, 8746194), (52.71356101117375, 3723425), (52.670878276276724, 3063186), (52.35319696051987, 2882385), (52.22546697698448, 7123389), (52.13555038463573, 6784918), (52.11189096496551, 3817242)]}, {'query_id': '425632', 'scores': [(41.54403528825654, 8454642), (41.54403528825654, 8454639), (39.70786671919171, 8454636), (37.653320442476016, 8454635), (37.653320442476016, 650345), (30.1170149173381, 8454641), (24.641194023276626, 8454643), (24.641194023276626, 8454640), (24.641194023276626, 8292459), (24.641194023276626, 6843069)]}, {'query_id': '426175', 'scores': [(28.442527151544894, 330964), (27.701964130164622, 6209130), (27.701964130164622, 4362255), (27.486116156521856, 6758532), (27.486116156521856, 5030738), (26.670690478315855, 6049564), (26.670690478315855, 3017346), (25.92536231483316, 6016624), (25.747971947714326, 3870458), (25.747971947714326, 3562170)]}, {'query_id': '42752', 'scores': [(30.359691334644342, 1254236), (30.04410445345775, 5325520), (29.952280103260765, 3818076), (29.939637149272205, 4821761), (29.714972237751304, 4747962), (29.698806703168287, 1986201), (29.641934040326554, 1635144), (29.64025316269656, 4303156), (29.612502846044926, 5453692), (29.51485506376477, 5932129)]}, {'query_id': '435548', 'scores': [(26.444865915071965, 8547993), (26.444865915071965, 8547992), (26.350937478022377, 7875423), (25.87338008928533, 7875421), (25.356685822048558, 7080768), (25.356685822048558, 235984), (25.3336434760424, 7875428), (25.3336434760424, 6064445), (25.3336434760424, 1394884), (24.33939182006858, 6424374)]}, {'query_id': '436707', 'scores': [(30.17360706161724, 1595287), (29.554544886307255, 2203550), (29.554544886307255, 2101427), (29.554544886307255, 1825031), (29.09231819468951, 5413961), (29.09231819468951, 3370495), (28.394635488668868, 5044105), (28.004847662058516, 8641216), (28.004847662058516, 8200621), (27.79210710570063, 6045618)]}, {'query_id': '444389', 'scores': [(32.306898573207874, 5896071), (31.499613857604203, 8495210), (27.331772122854247, 8044142), (27.331772122854247, 7705876), (27.331772122854247, 5208202), (26.93432920375196, 1722558), (26.672716446079413, 7484162), (26.672716446079413, 7150173), (26.672716446079413, 1048029), (26.2560739060824, 5251228)]}, {'query_id': '449367', 'scores': [(34.839755811796465, 8432230), (34.72954084875602, 635517), (34.17575009842329, 6632652), (33.954344165390225, 6632645), (33.954344165390225, 6632644), (33.22642370680043, 8600273), (32.422871949196974, 5717147), (32.17894437542126, 2596719), (32.13423962855975, 386955), (31.84475142331133, 8309547)]}, {'query_id': '452915', 'scores': [(36.901360826260955, 135840), (35.540990790251115, 2447912), (35.50308164465562, 3332642), (35.22161542571585, 1044828), (34.9332198142618, 953667), (34.76449734925369, 1364570), (34.41958766442083, 7261641), (34.41958766442083, 6785284), (34.400563679781506, 8366600), (34.400563679781506, 3779965)]}, {'query_id': '463271', 'scores': [(41.41651666760867, 6239584), (40.5590433015373, 8604216), (40.5590433015373, 8326637), (40.5590433015373, 6239587), (40.5590433015373, 3914186), (39.74880837869572, 2455683), (39.45062710814101, 8326635), (39.297448405390725, 8435508), (39.297448405390725, 3914192), (38.97802123431321, 6005616)]}, {'query_id': '469589', 'scores': [(48.02535530097419, 8581474), (44.817874356750345, 8581470), (44.817874356750345, 8581468), (43.06591990046404, 2210168), (40.544791858481105, 4871853), (39.968274057396364, 2210175), (37.43671153432966, 8581475), (37.43671153432966, 8581466), (37.43671153432966, 2210172), (37.067242193637384, 8325196)]}, {'query_id': '47210', 'scores': [(55.596190597390205, 2042918), (54.81679484476231, 6180504), (54.15195856579307, 2338385), (52.10083096197888, 5207329), (52.036075685735234, 2545998), (50.9317027658902, 4748997), (49.93270901635394, 3858013), (49.62330695682525, 2546002), (49.62330695682525, 2546001), (49.62050354702038, 7367873)]}, {'query_id': '482726', 'scores': [(19.712996162597342, 8730812), (19.380350595789636, 8572751), (18.886785533211743, 6318274), (18.886785533211743, 4734241), (18.886785533211743, 22062), (18.85431043467798, 1272524), (18.72514018080693, 4734239), (18.599207173700858, 4768911), (18.599207173700858, 3512937), (18.599207173700858, 1985718)]}, {'query_id': '48792', 'scores': [(45.670805111546876, 64048), (45.10085565776885, 64047), (40.472175245268495, 64041), (28.95119271737995, 6435734), (27.919408548504364, 6619302), (27.861829646490545, 5803986), (27.861829646490545, 3820076), (27.629707268805944, 3820082), (27.492844043598893, 6152218), (27.492844043598893, 3820080)]}, {'query_id': '50122', 'scores': [(40.25922327344247, 8273511), (37.62875251702714, 1417366), (36.94365916415418, 8273514), (36.52511544370801, 8273517), (36.52511544370801, 425197), (33.816188081924714, 7341000), (29.915110257717462, 8337928), (29.915110257717462, 5999140), (29.902656543007623, 8361668), (29.30847351021246, 8273519)]}, {'query_id': '514096', 'scores': [(20.39810119149479, 4786295), (20.13304509750421, 6285508), (19.99312129356371, 6286608), (19.99312129356371, 1837337), (19.908056265320276, 6474925), (19.78923232210756, 8460993), (19.76813246137978, 7016672), (19.70274372582639, 7528617), (19.70274372582639, 7528616), (19.60579231387299, 6940541)]}, {'query_id': '519025', 'scores': [(26.146046235539718, 4232478), (26.028939909280624, 288148), (25.4380190379524, 2692126), (25.28220403913174, 6805536), (25.28220403913174, 6526749), (25.034054226195146, 6526750), (25.034054226195146, 3394216), (25.034054226195146, 1697202), (25.0019387115875, 6236703), (25.0019387115875, 5931056)]}, {'query_id': '53233', 'scores': [(44.83552083558355, 8333467), (43.21687052723435, 8257054), (42.865029034337304, 8333470), (42.865029034337304, 8333463), (42.21689996847433, 8257048), (42.21689996847433, 5256809), (40.62603771590158, 8257051), (40.62603771590158, 7355044), (40.62603771590158, 5516316), (40.62603771590158, 579087)]}, {'query_id': '537060', 'scores': [(35.664775696490516, 8420024), (35.65012597986794, 8420027), (34.96737130127365, 8420032), (34.96737130127365, 8420025), (33.29151890836041, 8420030), (33.29151890836041, 8420029), (33.29151890836041, 8420026), (33.29151890836041, 7386519), (33.29151890836041, 1086305), (31.87494578946776, 8420031)]}, {'query_id': '537817', 'scores': [(39.96921545731283, 1956211), (39.82873098356568, 6665873), (39.736878196373766, 8527917), (39.55846275072693, 540370), (39.40593098153124, 1956207), (38.90677137673582, 5264609), (38.75926058054469, 3759425), (38.71552555250104, 540368), (38.488992347705945, 1095538), (38.47775401397064, 6144729)]}, {'query_id': '543273', 'scores': [(43.52152564227019, 8507214), (42.364406274111104, 8507211), (39.903328637607736, 8507209), (39.541946765433636, 4308075), (38.401611508741894, 5990522), (37.46142939639505, 8507212), (36.9233491675829, 8507208), (36.9233491675829, 4308073), (36.9233491675829, 3143117), (35.602606787771265, 4067764)]}, {'query_id': '545355', 'scores': [(51.25656221406264, 4290924), (49.29468859041543, 4290920), (48.04017243740547, 8547218), (48.04017243740547, 8547215), (47.74807174176459, 8547219), (47.74807174176459, 4290921), (47.20999151295244, 4290922), (42.093007777361464, 4290923), (37.52454739433383, 4290918), (37.52454739433383, 3294315)]}, {'query_id': '555530', 'scores': [(38.60344717486983, 1897716), (37.7672825528333, 7475084), (37.616496380144916, 4296807), (37.05417004541149, 4137963), (36.91182510482561, 1754575), (36.87608728614484, 6485976), (36.341588019214676, 6150835), (36.28004175937061, 3948935), (35.99472191155034, 4238674), (35.730655004129865, 1483513)]}, {'query_id': '583468', 'scores': [(28.514090511063774, 7491704), (28.408972396013453, 8326078), (28.1665814236315, 7491700), (28.1665814236315, 1675562), (28.048449526231913, 7706119), (28.048449526231913, 2267054), (28.048449526231913, 2267052), (28.048449526231913, 1675564), (27.979953463013015, 6654310), (27.979953463013015, 2080306)]}, {'query_id': '586148', 'scores': [(32.91498060452156, 5056079), (31.68137553149753, 960743), (31.554160545535595, 8271038), (31.4867817190244, 6148926), (30.820002360514195, 7779366), (30.660951837843584, 6854043), (30.660951837843584, 1658943), (30.625408548041065, 2811037), (30.56790560817164, 8567688), (30.461224004253594, 5678812)]}, {'query_id': '590019', 'scores': [(31.228178544559015, 4408763), (31.108443379500493, 2831848), (31.102351039069184, 2831847), (31.025128483795722, 632727), (30.54278889001379, 5075460), (30.30040225278356, 3453506), (30.248568900681814, 3266922), (30.19566684046434, 1248322), (30.191859079613174, 6066327), (30.182679046315187, 8369826)]}, {'query_id': '605127', 'scores': [(41.768687805723346, 1137979), (41.31056106765814, 8642036), (39.53087512662216, 8594907), (39.53087512662216, 1137978), (38.98780273638009, 5121398), (37.403983450164475, 3679424), (36.680802309174894, 8547782), (36.25506866673828, 8642038), (36.25506866673828, 1137982), (34.94846474787376, 6888324)]}, {'query_id': '610265', 'scores': [(45.144573950635944, 474853), (44.59373402219729, 222769), (44.58253032314208, 2877322), (44.58253032314208, 683818), (44.40291042836736, 1148168), (44.39559343728107, 2877320), (44.292059955120024, 1148169), (44.286098138723816, 4758657), (44.2230279028543, 7009719), (44.168881417481316, 2039693)]}, {'query_id': '611953', 'scores': [(58.16833374098377, 484756), (50.891873445951276, 7197690), (46.415221663867484, 3562872), (46.415221663867484, 484758), (46.05455645523074, 456354), (44.13379443040905, 8062950), (44.114027644534346, 8371935), (44.048662278409054, 456353), (43.580585885161355, 456359), (43.46926968090544, 8062949)]}, {'query_id': '640502', 'scores': [(33.971868179544074, 3551380), (33.69146016259947, 5827712), (33.264410627769294, 5827713), (32.454477136256415, 5150987), (32.4276877509327, 6730887), (32.4276877509327, 3271456), (32.4276877509327, 1861075), (32.379393187169576, 6985038), (32.293055524424034, 3678130), (32.13337060863623, 77134)]}, {'query_id': '64647', 'scores': [(37.61050945221011, 8293649), (37.069074887592016, 8293652), (34.38432887743604, 4161653), (33.59310280022653, 8293648), (28.321125454764037, 8599633), (27.203887296948693, 1422031), (27.098659406566654, 6508277), (26.831055458993475, 7509908), (26.831055458993475, 5692182), (26.831055458993475, 1310940)]}, {'query_id': '653399', 'scores': [(31.38953158871495, 1969533), (30.388930255433998, 7133996), (29.781959380440117, 8458007), (29.65502929546632, 7485466), (29.65502929546632, 6343750), (29.65502929546632, 3111946), (29.65502929546632, 2007733), (29.127010457803983, 1674561), (28.892542130906776, 2399252), (28.87215750125762, 7092040)]}, {'query_id': '655526', 'scores': [(34.41026657853838, 6040076), (33.166272371472125, 8425101), (31.906318756106657, 206999), (28.643598866271383, 6707899), (28.643598866271383, 3864910), (28.643598866271383, 3021665), (28.643598866271383, 2105608), (26.430560347890435, 1826238), (25.977465027640882, 5883282), (25.255868776873083, 7135528)]}, {'query_id': '655914', 'scores': [(27.45964287584716, 8613490), (26.44520023745343, 1270195), (23.955204670487014, 8613495), (23.955204670487014, 8058173), (23.955204670487014, 5866957), (23.955204670487014, 5235329), (23.955204670487014, 2789189), (20.712798945113676, 3209412), (20.58114979927609, 6248270), (20.58114979927609, 2519335)]}, {'query_id': '660198', 'scores': [(26.51066806553647, 2845619), (25.108810190203695, 523901), (25.056712466272764, 2410610), (24.819483315822723, 4434042), (24.73686806015949, 7327517), (24.73686806015949, 4264632), (24.73686806015949, 3556727), (24.315986176162102, 7327515), (24.315986176162102, 4264630), (24.315986176162102, 3604202)]}, {'query_id': '67316', 'scores': [(52.504610531665385, 6680964), (47.335330547837955, 7630885), (46.987049766182544, 6764671), (45.82027813327868, 6179107), (45.67286828442547, 4163705), (45.10524689880114, 4252546), (45.10524689880114, 3810719), (44.216251766353416, 7112302), (44.19238860158017, 8431637), (44.04045920084956, 1974375)]}, {'query_id': '673670', 'scores': [(24.657790359140392, 3607501), (24.37107186659225, 7257303), (24.37107186659225, 2240359), (23.953282063164952, 8008345), (23.953282063164952, 3607497), (23.953282063164952, 1905068), (23.953282063164952, 1398756), (23.287913116965928, 2240358), (23.287913116965928, 2240357), (23.287913116965928, 2240355)]}, {'query_id': '701453', 'scores': [(34.564866491544194, 4355647), (34.564866491544194, 4330679), (33.930721605663464, 4355649), (33.778788654100225, 8626149), (33.44784521980503, 6999087), (33.25543624637759, 4330677), (32.889279522255734, 2036081), (32.805308800121125, 4355645), (32.698566356729685, 2036076), (32.55833608796054, 4330673)]}, {'query_id': '703782', 'scores': [(30.835093644229072, 4061595), (30.18069269716108, 4061598), (29.51800017880644, 185599), (29.440186362320986, 4061597), (29.440186362320986, 344218), (29.033699956618843, 4647484), (28.937600854728387, 4948640), (28.811353014989947, 3490915), (28.811353014989947, 611402), (28.638129234883717, 7687244)]}, {'query_id': '708979', 'scores': [(29.11748941154012, 6157147), (29.048140188598786, 4805197), (28.966140817402678, 279265), (28.898910739325622, 3811546), (28.861904328594065, 2889574), (28.75071910463386, 6313188), (28.724966196237656, 1447346), (28.695021054412774, 8088373), (28.64648261582525, 6409763), (28.64648261582525, 3422810)]}, {'query_id': '716113', 'scores': [(32.220785080639715, 8520612), (32.220785080639715, 8520611), (31.668428764971605, 8520617), (29.168289651947532, 8520618), (29.168289651947532, 8520614), (29.168289651947532, 8520613), (25.19079560850014, 8520616), (25.19079560850014, 8520610)]}, {'query_id': '730539', 'scores': [(39.71232600523837, 8577877), (37.67906842889246, 8276218), (36.85824180590517, 2666444), (36.48802295552731, 2666436), (35.140260972508855, 8577880), (31.832117923281743, 8577876), (31.832117923281743, 5428552), (31.832117923281743, 4605022), (25.607477677350623, 8276217), (25.607477677350623, 7916064)]}, {'query_id': '735482', 'scores': [(29.751432883533013, 8405801), (29.305878806675473, 8405802), (28.824995357368444, 4823368), (28.51440472620353, 8405807), (28.51440472620353, 338960), (28.13997035548153, 8405806), (27.364810484925282, 8405805), (25.535910555618976, 4117288), (25.462145348105413, 8405804), (25.462145348105413, 8405803)]}, {'query_id': '735922', 'scores': [(29.20544154088144, 5537112), (29.20544154088144, 5537109), (27.930185613508975, 5854095), (27.930185613508975, 281701), (27.930185613508975, 281697), (27.930185613508975, 180247), (27.01768596928546, 8626887), (26.498137258133713, 7371194), (26.498137258133713, 5861444), (26.498137258133713, 1432224)]}, {'query_id': '75198', 'scores': [(33.790610760799936, 7797928), (33.43968095039932, 2579716), (32.81059179799164, 8256960), (31.235934504236127, 6862216), (30.374561333252796, 6862217), (30.374561333252796, 3916717), (30.374561333252796, 2140526), (30.374561333252796, 2140522), (29.558974827927067, 7088445), (29.558974827927067, 2932859)]}, {'query_id': '768208', 'scores': [(29.32700810424553, 52162), (28.82425939388703, 52155), (28.023585521834615, 8525681), (28.023585521834615, 52159), (26.548659968053844, 3515884), (26.548659968053844, 3515882), (26.548659968053844, 813102), (26.548659968053844, 52160), (26.548659968053844, 52158), (26.548659968053844, 52157)]}, {'query_id': '779302', 'scores': [(36.22574208270805, 1583173), (35.26009321902595, 8768560), (35.26009321902595, 8768554), (32.88986418998803, 8768563), (32.88986418998803, 8768562), (32.88986418998803, 8768561), (32.88986418998803, 8768558), (32.88986418998803, 8768555), (28.283004568901966, 2411546), (27.76007424474713, 4638389)]}, {'query_id': '792635', 'scores': [(29.601900219432935, 4294317), (28.043905471041725, 8682263), (28.043905471041725, 8682259), (28.043905471041725, 8682258), (28.043905471041725, 8682254), (28.043905471041725, 6306494), (28.043905471041725, 6306491), (28.043905471041725, 4294318), (28.043905471041725, 4294312), (28.043905471041725, 4294311)]}, {'query_id': '794223', 'scores': [(27.176092128181352, 7790213), (26.777529935567017, 2519053), (25.50104031895248, 8445687), (24.34578519465881, 471681), (24.06377004680211, 5946388), (24.06377004680211, 892194), (23.470261383429353, 6209396), (22.78728043018757, 843980), (22.78728043018757, 843973), (22.78728043018757, 520630)]}, {'query_id': '794429', 'scores': [(35.434661688737165, 1208450), (33.55262138406291, 1208449), (33.257949645880466, 64014), (31.382765857446742, 8618468), (31.382765857446742, 4652685), (31.382765857446742, 719934), (28.071804470496566, 1246185), (27.96000778303745, 6098420), (27.95517354893356, 3926405), (27.720060608528705, 4627633)]}, {'query_id': '801118', 'scores': [(36.32152675953597, 2932991), (35.48955736645999, 4799238), (35.373684713646554, 7615528), (35.373684713646554, 3975963), (34.05967730842322, 1930307), (33.8602779759597, 3263703), (33.313001309402296, 7486725), (33.196602590092894, 5210818), (32.99282775513629, 1930313), (32.99282775513629, 1930312)]}, {'query_id': '804066', 'scores': [(22.271407377418456, 73387), (21.97318784630375, 6152070), (20.56031395719204, 8567803), (20.56031395719204, 7922526), (20.56031395719204, 7621407), (20.56031395719204, 5655169), (20.56031395719204, 1504069), (20.56031395719204, 1259677), (19.980335827150626, 7427197), (19.980335827150626, 3298496)]}, {'query_id': '808400', 'scores': [(30.8278632352039, 3691917), (29.547092978827077, 3691923), (28.497795267127994, 3377142), (27.13052855188374, 7282136), (27.13052855188374, 7252539), (27.13052855188374, 4576228), (27.13052855188374, 1995351), (26.278739980854198, 5834423), (26.108540230651833, 5598346), (25.54877498138603, 5834421)]}, {'query_id': '809525', 'scores': [(37.95754421275758, 3793929), (34.535327764976046, 2077416), (33.589287917627985, 1724922), (32.79063261735054, 1428570), (32.27706812879017, 3793922), (32.27706812879017, 1428575), (31.331028281442116, 7059360), (31.331028281442116, 1428574), (31.331028281442116, 1428573), (31.26719011050095, 2077420)]}, {'query_id': '814183', 'scores': [(43.57401269181394, 8679359), (33.89959706629996, 8444060), (30.9959656737901, 8679357), (29.9221182495295, 7274881), (28.401076689577092, 510865), (28.401076689577092, 510863), (27.612157892644397, 510861), (26.15888642461048, 7013314), (26.15888642461048, 878335), (26.15888642461048, 510868)]}, {'query_id': '819983', 'scores': [(22.31048364359605, 8145644), (22.31048364359605, 1338142), (22.215254433346793, 1617043), (22.152774821234424, 4580581), (22.149039413832305, 8312879), (22.145477689974328, 8328822), (22.09575100160457, 8439123), (22.085276390874636, 1221184), (22.08459109835363, 8831812), (22.08459109835363, 8045345)]}, {'query_id': '849550', 'scores': [(31.659557211570814, 1373164), (31.556777317264405, 7274031), (31.20654397676975, 6758594), (30.576568723072256, 8582102), (30.501276087371004, 7767168), (30.501276087371004, 4061418), (30.18431263075878, 5690724), (30.119450646610105, 8000555), (30.119450646610105, 7767169), (30.119450646610105, 1419091)]}, {'query_id': '85020', 'scores': [(43.90286836572077, 3152840), (43.55985734235737, 198481), (43.11838930943593, 198476), (42.68521776383425, 6290170), (42.15704960675594, 6974021), (41.94988654841006, 1770218), (40.67296992469999, 603541), (40.5533506604239, 147291), (40.362845906206424, 1640375), (40.35311621198764, 1777604)]}, {'query_id': '850358', 'scores': [(41.122171374602004, 2852825), (41.122171374602004, 2852824), (40.06736038328324, 2852830), (39.12358212789276, 6427506), (38.28747970147697, 2852827), (38.2204691734686, 2852826), (33.78854820136193, 8037013), (32.30969232217995, 389081), (32.253555715439916, 2278756), (32.22809288394713, 6427505)]}, {'query_id': '86606', 'scores': [(37.760840476159984, 5013458), (37.61331426617076, 8422274), (37.611418959768756, 6253490), (37.611418959768756, 6253489), (37.611418959768756, 677277), (37.4376906817844, 3077883), (37.248592980755674, 747160), (36.69879419214115, 6897895), (36.5634276545884, 1238485), (36.51448420697308, 677274)]}, {'query_id': '877809', 'scores': [(43.10122076907557, 4888926), (42.678852495170084, 5940394), (42.678852495170084, 5940393), (42.29057155925346, 6704838), (41.978972890622416, 741714), (40.639551260566556, 4888929), (40.452294575187125, 7040022), (40.38780733427178, 7040017), (40.31766758009004, 1550610), (39.9144694575354, 7346771)]}, {'query_id': '883915', 'scores': [(45.41994571456387, 4042980), (44.04515224870913, 6172403), (43.40439077542048, 4042985), (43.37073043130947, 3535079), (43.0991052306733, 5406348), (43.0413609817852, 6172404), (42.19863320559796, 4857055), (41.905505653941404, 5559530), (41.84770339519734, 5406347), (41.78828559415798, 1845958)]}, {'query_id': '88495', 'scores': [(21.43419959194241, 1091557), (21.37582122262146, 2875829), (21.32819211237795, 6579243), (21.284308314952924, 6846565), (21.284308314952924, 1667678), (21.25620195834537, 7950301), (21.25620195834537, 5897696), (21.246177127420992, 5915611), (21.164689050676834, 3668359), (21.164085475466813, 5459872)]}, {'query_id': '911232', 'scores': [(67.08848104970969, 8816622), (65.13153522260225, 2999930), (63.66352406687726, 2999933), (61.33777181366048, 8816620), (58.58685368947388, 6928655), (56.75683881444649, 1879470), (55.689330599289654, 2999925), (53.020660697865054, 8816626), (52.324663449844486, 2999926), (51.35992665190655, 2999929)]}, {'query_id': '914916', 'scores': [(33.374566817336294, 6042350), (33.374566817336294, 2631739), (33.012396001720006, 2631743), (32.728433439856886, 7040507), (32.47107827301439, 8520449), (32.47107827301439, 8481901), (32.47107827301439, 5177082), (32.47107827301439, 2001628), (32.47107827301439, 2001626), (32.417289468063075, 6071696)]}, {'query_id': '91576', 'scores': [(29.864010382246573, 8279891), (29.227657172919223, 3780281), (29.11965489474307, 1382984), (27.665699295479364, 4161753), (23.66665907062331, 3540074), (23.32121018555989, 6805821), (23.32121018555989, 6137131), (23.32121018555989, 3255380), (22.68485697623254, 4066736), (22.68485697623254, 3880194)]}, {'query_id': '918162', 'scores': [(52.180964145998715, 2692389), (52.180964145998715, 2692384), (52.091341482541594, 2692388), (50.6146679003117, 267612), (49.31058176713398, 8217238), (48.26541447403687, 4658366), (48.26541447403687, 1290157), (48.26541447403687, 672942), (48.15066858044259, 2334496), (45.1393326341546, 1223048)]}, {'query_id': '938400', 'scores': [(36.540754338981586, 7239123), (34.39985311832476, 6499450), (34.39985311832476, 2969902), (31.2522634997064, 2870510), (30.80551892410942, 3074064), (29.8910138425656, 6499448), (29.708964056735017, 7029656), (29.708964056735017, 3424110), (29.708964056735017, 2371820), (29.708964056735017, 790219)]}, {'query_id': '940547', 'scores': [(44.507181543879014, 4481817), (43.515081581004466, 6404591), (42.327766450730515, 4664999), (41.34965066408335, 3822464), (41.332468907818324, 4820847), (40.494777197130176, 7793152), (40.494777197130176, 4100051), (40.494777197130176, 3408094), (40.24533337698908, 1976277), (39.01515369736653, 2947470)]}, {'query_id': '945835', 'scores': [(40.514563058581274, 4431195), (39.11115272635702, 4539379), (38.9651846151264, 5548718), (38.9651846151264, 4431193), (38.560877961072435, 4425412), (38.560877961072435, 61200), (38.560877961072435, 61192), (38.075033840223774, 5548713), (38.075033840223774, 4539378), (37.52787557887137, 61193)]}, {'query_id': '978031', 'scores': [(27.73993980407252, 8744912), (27.230245671637064, 8744911), (26.48783224406383, 4755047), (26.459702067856902, 8744914), (25.572784782711306, 261672), (25.45779067000688, 8802560), (25.306719972924597, 3698979), (25.099436923439605, 5287819), (25.099436923439605, 4543384), (25.099436923439605, 2398979)]}, {'query_id': '985594', 'scores': [(27.986489717613424, 1657406), (27.506721322454332, 8677959), (27.506721322454332, 8677953), (27.506721322454332, 7740126), (27.506721322454332, 4286031), (27.506721322454332, 1657408), (27.506721322454332, 1657405), (27.506721322454332, 655890), (26.742645730163936, 7740128), (26.742645730163936, 7740125)]}, {'query_id': '99005', 'scores': [(63.83621136609024, 8257322), (62.428058477338496, 6493343), (60.64921021656026, 6493344), (60.34237366937607, 2875400), (60.34237366937607, 1375045), (58.22734696934739, 297028), (58.22734696934739, 297023), (55.756319362139045, 8257320), (55.728214141469216, 6327640), (54.839973279908506, 8476970)]}, {'query_id': '997622', 'scores': [(39.08610995414616, 4543865), (37.93900272063209, 73465), (35.98364199131113, 4518222), (35.589443322474736, 73459), (35.12337587473392, 4558331), (34.5573504004568, 4643397), (34.176016779134606, 5430569), (34.02715110476255, 5430574), (33.168015145412966, 8533344), (33.168015145412966, 3913148)]}, {'query_id': '999466', 'scores': [(31.414198741862524, 8748919), (31.414198741862524, 8748914), (28.934130420136533, 8748922), (28.934130420136533, 8748918), (24.98856718102701, 8748921), (24.98856718102701, 8748920), (24.98856718102701, 8748916), (24.98856718102701, 8748915), (24.98856718102701, 8748913)]}, {'query_id': '132622', 'scores': [(32.176789087973575, 5901873), (31.71300587225336, 962815), (31.18480805546499, 2979805), (30.577122497015512, 2459821), (30.577122497015512, 821354), (29.669624925929558, 5656719), (29.476685699203617, 3162996), (29.388711712389778, 7122663), (29.01673061612898, 6358747), (28.400108212428442, 5924218)]}]\n"
     ]
    }
   ],
   "source": [
    "bm25_results = query_processing(trec_dl_2020.queries_iter(), taat_bm25)\n",
    "print(bm25_results)"
   ]
  },
  {
   "cell_type": "code",
   "execution_count": 20,
   "metadata": {},
   "outputs": [
    {
     "name": "stdout",
     "output_type": "stream",
     "text": [
      "query_processing (2586.144 ms)\n",
      "[{'query_id': '1', 'scores': [(30.223860516119117, 3692), (29.691583309945827, 7233), (25.41315778137699, 5501), (24.32090058992211, 9858), (23.273173682113566, 7922), (21.529062765292075, 4570), (20.233390332013307, 7733), (19.616342494992008, 2235), (19.225903771406433, 6823), (19.07435886632644, 4571)]}, {'query_id': '2', 'scores': [(27.31887911071231, 3333), (22.43881142618663, 4570), (20.862578575260166, 8252), (20.723962639433328, 8996), (20.490238869696903, 7777), (18.537348166556495, 10234), (17.67696990561112, 4340), (17.56306188831163, 8380), (17.56306188831163, 4135), (17.098382867181424, 8382)]}, {'query_id': '3', 'scores': [(57.71381165880253, 7085), (55.462490065018585, 6347), (54.61231741908634, 5649), (51.397655071546964, 6973), (48.01943578981415, 6535), (46.66208107908988, 5978), (44.449523170986595, 5249), (40.374052284394494, 8345), (40.10101534683967, 9179), (36.008923306134974, 4708)]}, {'query_id': '4', 'scores': [(62.94518851425234, 7526), (26.066981963602732, 3594), (22.54116523416173, 7345), (20.617767194096363, 7653), (20.242254120455737, 4704), (19.513302452748817, 5436), (18.516551604540908, 4595), (18.417611795342456, 6946), (18.40935123460032, 3445), (17.828135646706325, 396)]}, {'query_id': '5', 'scores': [(37.274212534449525, 4708), (26.56899553328331, 4053), (24.017533543546598, 4306), (22.148987096509114, 2372), (20.73613260950705, 11428), (20.441968683408504, 9666), (17.378455258471103, 139), (16.788675182723576, 1585), (16.375829967317788, 7874), (16.375829967317788, 4307)]}, {'query_id': '6', 'scores': [(21.504709605253296, 5439), (21.262569553248433, 5262), (20.21379929099683, 9666), (18.468590252775154, 5436), (14.942478726279337, 7327), (14.67606936423789, 4593), (13.657280482030814, 11303), (13.036939661996387, 10161), (13.036939661996387, 8642), (13.036939661996387, 5434)]}, {'query_id': '7', 'scores': [(61.57833638931638, 6568), (49.942901642170554, 6924), (47.31562319423365, 6385), (43.038941624777244, 5902), (40.3196785645886, 6564), (38.45060142212087, 6016), (37.6347736521828, 5291), (36.72898312045865, 2095), (36.68690945634068, 7601), (36.14442812687122, 6186)]}, {'query_id': '8', 'scores': [(42.73845380318143, 3773), (37.78789577789901, 5505), (35.81340453257085, 11349), (28.8424663384841, 4752), (28.476312282494547, 6299), (27.190647191893987, 299), (25.498731718245633, 7415), (24.56491650438535, 11129), (24.24350023173521, 707), (23.879523935320268, 9593)]}, {'query_id': '9', 'scores': [(43.263584215158254, 6380), (37.23505655143399, 5505), (34.86367780206128, 4752), (34.13579748956046, 3088), (31.277384534550194, 5682), (29.779091190570618, 7013), (28.189020042485815, 5504), (28.189020042485815, 5070), (26.19092414025993, 6110), (25.24875186839235, 9718)]}, {'query_id': '10', 'scores': [(23.83086860556803, 10616), (23.14570370713085, 7088), (22.10263563030396, 6965), (20.154315654385147, 6704), (19.48455143145985, 7269), (18.896157704301757, 6976), (18.74841884326834, 7458), (18.51147762543095, 7497), (18.352542257712777, 6629), (17.61062310012116, 6988)]}, {'query_id': '11', 'scores': [(28.534944292805186, 9932), (26.41360104772976, 8218), (26.41360104772976, 6725), (25.285818669139207, 1097), (24.132677451516894, 5503), (22.011334206441468, 7655), (22.011334206441468, 7654), (20.063762864456816, 5452), (19.7304106102286, 3472), (19.485605562133212, 4323)]}, {'query_id': '12', 'scores': [(38.38216308888022, 6708), (34.21120268522709, 7099), (32.29157976009621, 6168), (30.891539915692793, 7186), (30.62387184409052, 9428), (29.885275491264782, 3857), (28.340686443336548, 5667), (27.979598343572242, 5048), (25.809052781574245, 5479), (25.004927186904226, 9732)]}, {'query_id': '13', 'scores': [(46.53112338051086, 8345), (36.89643964218835, 5249), (35.45861936192303, 8135), (35.02926922553827, 6973), (30.931203880537907, 5988), (28.325752447088913, 5982), (26.169263072170978, 7110), (25.55395222531442, 8023), (25.25714145648192, 3630), (25.22791239995368, 7571)]}, {'query_id': '14', 'scores': [(35.20165534343912, 5649), (31.900708926755716, 7376), (29.488305717582577, 6627), (28.390843352183722, 3393), (27.39121631965593, 5978), (26.84543389060576, 6165), (26.28490199802664, 7283), (26.240709910546258, 6347), (25.5948641077192, 6535), (25.35923434570121, 7568)]}, {'query_id': '15', 'scores': [(42.16961035812594, 6987), (39.23121197160191, 3732), (32.93198867226964, 4814), (32.26722945655072, 5479), (30.665605582188107, 9800), (28.16749206061904, 8117), (27.307332024094034, 9852), (26.89731712421264, 6762), (26.63856181096839, 7694), (25.87399644006749, 6626)]}, {'query_id': '16', 'scores': [(49.92675704592564, 9860), (41.29865285817099, 4929), (39.14449907573861, 5043), (34.33814884778552, 9696), (34.33814884778552, 5640), (32.61690353521152, 9663), (31.723137419109328, 6143), (31.55189958729386, 6095), (28.886628865709078, 2090), (28.24734383118879, 6766)]}, {'query_id': '17', 'scores': [(49.21448607814496, 11129), (44.26538385136281, 11393), (39.03807527673321, 10980), (38.15358981409619, 495), (37.16613811952898, 4150), (36.282066312736745, 2160), (33.63392071274438, 9485), (33.31435237048512, 4769), (31.967344666875498, 8784), (30.38831084221302, 1432)]}, {'query_id': '18', 'scores': [(32.32676955872279, 3445), (31.504396398665204, 11393), (29.836457790601315, 7636), (26.521762102237144, 9740), (25.32795372358779, 6592), (24.82958346674809, 11269), (23.97600286318139, 8079), (23.947991767535203, 4507), (23.89384695978668, 5504), (23.86565075203702, 3319)]}, {'query_id': '19', 'scores': [(27.43348669333135, 11393), (23.89384695978668, 5504), (23.86565075203702, 3319), (23.45822791863765, 10104), (23.43708076282541, 5100), (21.463549479353386, 2894), (20.893200442196253, 9766), (20.653450319208954, 11126), (19.925307446641867, 980), (19.58605184970977, 7614)]}, {'query_id': '20', 'scores': [(29.184044251561968, 7425), (26.769253663932133, 6585), (22.483406599668317, 6490), (22.30408408512967, 7852), (22.25209231004114, 7058), (21.586299549715957, 6177), (21.273531329355407, 9908), (20.902428681621583, 6217), (20.313129899033775, 6598), (19.861827252710146, 5314)]}, {'query_id': '21', 'scores': [(79.96067740819758, 3333), (71.23239297641884, 7863), (69.37422263161149, 2899), (56.304509799479845, 3917), (46.26565194807714, 3017), (42.19387041179375, 5945), (40.61845260424539, 7150), (40.22114228129549, 7111), (36.55048782645477, 2148), (36.352421699611405, 10714)]}, {'query_id': '22', 'scores': [(48.13881570165542, 3445), (42.74024159019585, 11393), (35.413096245455066, 6220), (29.90217156313156, 5527), (26.6978472512556, 10446), (24.725304584758298, 7144), (24.25697836883297, 8622), (24.23202233310787, 4760), (23.464827386972335, 5942), (23.311459124859002, 751)]}, {'query_id': '23', 'scores': [(43.94983134032671, 5409), (41.28376107274005, 8190), (36.21867048482916, 9734), (35.73096340827175, 7146), (35.315322980046304, 5396), (32.98856435051819, 4881), (31.176731406652376, 5113), (26.577400307548785, 7608), (25.614155494464228, 4403), (25.390117288650625, 4681)]}, {'query_id': '24', 'scores': [(60.82889515569924, 3333), (31.668959990596115, 3560), (22.70621571649737, 6411), (22.1293622092374, 6662), (20.790517156160348, 2899), (20.73941970350634, 3553), (20.436366079308893, 4777), (19.921538302323448, 9734), (19.40057465042929, 5089), (19.35982692448451, 5396)]}, {'query_id': '25', 'scores': [(42.146235116165414, 1432), (35.1253641598565, 4868), (35.10273261247182, 11129), (30.0709555084274, 8385), (27.719334603369287, 707), (27.116905577746657, 7225), (26.43177023307615, 5799), (26.370789899560577, 8178), (25.886979609931508, 9046), (25.68565455489007, 7612)]}, {'query_id': '26', 'scores': [(46.25541578575185, 5799), (44.804337673948346, 7225), (33.58132050277669, 8178), (28.70520485640636, 7612), (27.05704551050739, 6841), (26.929931263663406, 7966), (24.375404825447454, 10015), (21.273293627162243, 5938), (21.021700874240512, 5404), (20.111768263879064, 2899)]}, {'query_id': '27', 'scores': [(29.807907589945348, 8415), (28.480672652542882, 5505), (28.299549811190296, 9847), (27.89773085549998, 7773), (26.428946349730076, 9159), (21.360504489407163, 4752), (20.55686657802653, 2011), (19.48990102794694, 3824), (19.48990102794694, 1124), (19.308778186594353, 4292)]}, {'query_id': '28', 'scores': [(34.52062104848745, 8229), (28.247884852941816, 3615), (27.919114736929043, 9282), (27.47362272545798, 7481), (26.98921835299911, 8053), (26.98921835299911, 4719), (22.86700280341486, 4432), (22.79912882055665, 3965), (22.694008814001798, 7185), (22.629668097236348, 5471)]}, {'query_id': '29', 'scores': [(50.46216737999703, 3333), (33.572410341047025, 5796), (29.403624375335774, 11123), (27.147411310445907, 5393), (26.653705678961597, 9738), (24.053793822663543, 9132), (22.38160689403135, 4270), (22.11009157460407, 3554), (21.595215790954995, 3229), (19.870729362919953, 2113)]}, {'query_id': '30', 'scores': [(57.58700555366929, 3333), (36.303315994301144, 615), (35.70729013565197, 6924), (34.63333034664234, 4868), (32.968784884505375, 9509), (32.93358452727233, 3572), (29.52772753435461, 3821), (28.605992061535904, 9112), (28.112391071880268, 2899), (28.033922317356016, 9510)]}, {'query_id': '31', 'scores': [(72.95313985494806, 3333), (36.776961563516046, 8392), (36.327357420056, 8614), (33.3191563310686, 3103), (29.196879912520842, 2001), (29.07171888008376, 4874), (27.615197002604734, 4868), (26.65351062836524, 2109), (25.87604821415589, 3552), (25.772150669009115, 5392)]}, {'query_id': '32', 'scores': [(41.58929581797769, 9159), (39.506857935948155, 1821), (38.31127096925636, 913), (31.9755623218258, 8415), (28.480672652542882, 5505), (28.299549811190296, 9847), (23.96999825149098, 1702), (23.758163830921664, 5012), (21.360504489407163, 4752), (21.084203160622227, 10455)]}, {'query_id': '33', 'scores': [(46.91704087257916, 3333), (39.778384586960215, 6411), (39.01559617429075, 5114), (37.9218203075319, 6133), (34.81692142324438, 7052), (31.710442775840477, 2622), (30.586097584686552, 336), (28.98650376529453, 6815), (28.845800204238714, 4992), (28.748095514944865, 11261)]}, {'query_id': '34', 'scores': [(49.00862042175376, 5498), (48.003223649865106, 615), (36.05837157892664, 7634), (33.836849395719014, 10927), (33.117314252146016, 5614), (32.92422266026129, 5404), (32.590294104197966, 11262), (30.992056876036017, 9389), (29.99398286956639, 3653), (29.40503027609558, 7958)]}, {'query_id': '35', 'scores': [(31.521572359214733, 615), (29.415272707570768, 7058), (28.864562396110763, 3567), (25.45553094687725, 5939), (24.9907943749505, 2143), (24.19688791054973, 3566), (23.80094046686555, 6325), (23.311217922848407, 4408), (20.921947523831797, 2031), (20.69977233794362, 4509)]}, {'query_id': '36', 'scores': [(32.14981097572804, 4708), (23.443482273496212, 9908), (22.78258481132636, 4308), (21.44459397456182, 4053), (20.313129899033775, 6598), (20.305632239856376, 139), (19.719071386388958, 6515), (19.309196422511008, 6028), (18.76241878565603, 11393), (18.75679554127298, 3042)]}, {'query_id': '37', 'scores': [(61.82616738366198, 3333), (39.59568087380127, 5114), (31.85650293690438, 9483), (29.011178926322845, 9484), (28.95557274341305, 10113), (28.923557027832256, 10270), (28.398491670604024, 8383), (27.40360236815126, 6735), (26.754970662544316, 3797), (26.164199787950068, 4024)]}, {'query_id': '38', 'scores': [(34.68960025135627, 9622), (33.85801690412638, 10827), (30.973000566795257, 9910), (30.83137837199588, 331), (30.332467891720952, 2148), (30.262672129785415, 204), (29.25670182977113, 2743), (26.89615426629723, 3017), (25.77598110566727, 11279), (25.058746482445123, 2647)]}, {'query_id': '39', 'scores': [(19.016152114297427, 908), (18.439587265388727, 3014), (17.359851831808555, 9918), (17.359851831808555, 5533), (17.359851831808555, 5003), (17.359851831808555, 4407), (17.359851831808555, 1700), (16.70780632693416, 9053), (16.589246592209605, 2156), (15.32823466121968, 8294)]}, {'query_id': '40', 'scores': [(36.55535301037302, 2743), (35.095721887166164, 204), (31.72230325299227, 9481), (30.332467891720952, 2148), (28.58899406611932, 476), (24.139186280062027, 10565), (24.139186280062027, 10111), (23.755944308738574, 2253), (23.446039099502084, 11237), (23.194724671221177, 11239)]}, {'query_id': '41', 'scores': [(43.93728722798929, 4708), (30.543407115572876, 9855), (21.44459397456182, 4053), (21.088628161498825, 5732), (17.998888709756027, 8992), (17.998888709756027, 3319), (17.50549281621946, 4185), (17.241254136957618, 4306), (16.10142772429082, 5734), (15.317567124687015, 9666)]}, {'query_id': '42', 'scores': [(30.63513424937403, 4708), (22.713426426829418, 6896), (21.737244640322793, 7788), (21.572741360747187, 6028), (21.44459397456182, 4053), (21.239033428019596, 9789), (20.53967504736701, 11041), (20.534303295603515, 5685), (20.34389963078111, 8331), (20.34389963078111, 7183)]}, {'query_id': '43', 'scores': [(71.73668993439537, 4708), (57.770179492964644, 4053), (45.052795713986214, 4308), (41.41367204704102, 6231), (38.924477183362306, 1307), (36.279082456446254, 140), (32.559685939605984, 139), (32.22633206031311, 3719), (32.10636481032019, 6028), (30.63513424937403, 9666)]}, {'query_id': '44', 'scores': [(34.49424657978097, 4708), (33.021930965782644, 4053), (30.872898643255542, 1307), (22.94471558156419, 6511), (22.788757966527513, 5209), (22.70220845396011, 6421), (21.56347617150258, 5734), (21.56347617150258, 5436), (20.76787726603304, 2293), (20.16816002462445, 5452)]}, {'query_id': '45', 'scores': [(41.35228736265272, 5430), (24.19107148128015, 273), (22.41631489840423, 6708), (22.36575291879805, 10323), (20.298549658239466, 11024), (19.897845645722306, 1160), (19.668534797070492, 6157), (19.11122883061553, 6905), (18.204937813523042, 4807), (18.180991363719865, 6789)]}, {'query_id': '46', 'scores': [(54.35754699341086, 6336), (43.52108067738767, 3598), (43.20990594049672, 4053), (41.85644560091586, 4708), (38.2821495849561, 5236), (37.388687193340246, 6236), (34.64869398605232, 7286), (34.00342763905483, 3142), (30.872898643255542, 1307), (30.70213787415735, 3484)]}, {'query_id': '47', 'scores': [(28.40694688939878, 1625), (25.37648536591215, 6907), (24.943217022860335, 3753), (23.906026904785783, 5678), (23.79142757531934, 6098), (23.2218157540782, 3288), (23.217627152391962, 3640), (21.755484692210196, 6715), (21.48697551238908, 2083), (21.05034621252844, 3754)]}, {'query_id': '48', 'scores': [(26.240251172414737, 6247), (22.60078049822135, 7677), (21.68594197087434, 6629), (20.72620547460282, 4301), (20.067048253268826, 135), (19.5512350879918, 150), (19.488965309612624, 6815), (19.145461282253105, 6098), (19.030217107482933, 5845), (18.68671308012341, 3754)]}, {'query_id': '49', 'scores': [(26.60132212952731, 6884), (24.611910452466567, 4208), (21.0157403964569, 5348), (19.408982017507974, 4413), (17.46471684181455, 5228), (16.898608876325703, 7463), (16.742591416151487, 7073), (16.52988459555221, 3535), (16.066885006638714, 3286), (15.655905623547898, 1328)]}, {'query_id': '50', 'scores': [(35.693173170458806, 2947), (25.094506077716296, 6416), (22.29018276943637, 9939), (21.815960325862218, 7798), (21.63634878942411, 5726), (20.10448560153365, 6989), (19.011637017582288, 5030), (18.393010877205082, 9863), (18.31385784930553, 10033), (16.74678682178002, 6762)]}, {'query_id': '51', 'scores': [(53.86157613934726, 7073), (45.14271841869564, 1328), (42.24182684074105, 6877), (35.80859264186376, 3165), (30.37274666971859, 7055), (28.943459276363708, 7716), (28.48899883578957, 8222), (28.2509842208626, 9297), (27.36007802074065, 7332), (26.951207970652955, 5550)]}, {'query_id': '52', 'scores': [(33.99982277338451, 6627), (33.87041330063292, 3376), (27.639300862426804, 5457), (25.337402533806948, 9315), (23.206274925943266, 3445), (21.157242274375815, 3140), (20.952033277636378, 9277), (20.735101102629404, 7566), (20.108651854438158, 7210), (19.876293873468494, 3319)]}, {'query_id': '53', 'scores': [(25.084398610346746, 6907), (24.83875306774334, 6816), (24.249249127700928, 6715), (23.921639113400687, 9808), (22.857738529927584, 729), (21.964037964838205, 9706), (21.597539186042496, 3319), (19.278640118085434, 9966), (18.593541513260845, 2578), (18.424954340148023, 3445)]}, {'query_id': '54', 'scores': [(26.59857924593555, 6337), (26.11226918784694, 1454), (23.985605781380116, 6247), (20.753118605045014, 6876), (20.72620547460282, 4301), (19.178033614791058, 7678), (19.032874984395306, 6629), (18.59205757707386, 811), (18.546378142860263, 10023), (18.362385823052225, 3484)]}, {'query_id': '55', 'scores': [(30.229967029618958, 9704), (29.56210200149471, 29), (27.91407054533932, 6453), (24.955355680439446, 6710), (23.867815823009174, 2075), (23.644672271694965, 10630), (21.675231625229458, 9301), (21.35382243491934, 6525), (21.032413244609224, 7813), (20.043139026174856, 6102)]}, {'query_id': '56', 'scores': [(26.999084399884236, 11062), (22.475551253135855, 9314), (21.681587314873354, 2090), (21.616148744568648, 1199), (21.498478769640023, 6816), (21.127351146204013, 1496), (19.678112990154716, 3987), (19.258534278433128, 2081), (17.13755713581134, 10201), (16.88119744040702, 6907)]}, {'query_id': '57', 'scores': [(41.52198660950788, 7172), (40.796049606124946, 7694), (38.48042223685675, 9793), (37.50461707050164, 3848), (34.915903338913225, 4073), (34.56923659766353, 6969), (34.01931489554552, 9795), (33.38106363168236, 7279), (31.472799247898543, 10335), (30.427913498848607, 4203)]}, {'query_id': '58', 'scores': [(41.64496804979865, 8197), (25.84431509596844, 8102), (25.607695142295412, 6331), (25.28800136646609, 1296), (24.239485511411324, 3707), (23.76122014521367, 4343), (21.44151935621287, 920), (21.370124381276565, 9557), (21.18138182386892, 7342), (20.576183266707133, 6950)]}, {'query_id': '59', 'scores': [(39.16251716417943, 4708), (35.9217089729798, 4053), (30.872898643255542, 1307), (27.283207771431112, 5440), (26.963195868588045, 5734), (24.191712423398634, 4704), (23.230375226288103, 2293), (23.00163181327151, 3719), (21.94269822224496, 7554), (21.653556604609626, 6421)]}, {'query_id': '60', 'scores': [(45.46973315123546, 9704), (29.790608742319357, 6453), (26.831893877419486, 6710), (26.581407783694317, 6089), (26.123020720313555, 6525), (25.84602734558782, 5568), (25.708147036697078, 2551), (25.151646841812116, 7073), (25.01994502310773, 4929), (24.312537299819216, 29)]}, {'query_id': '61', 'scores': [(24.194003312630038, 8602), (24.194003312630038, 6585), (21.525153594244834, 7604), (20.796228176800113, 4361), (20.22799739139452, 11393), (19.52980277594936, 5533), (19.35446920142229, 4513), (18.35746617128576, 8293), (17.535796715676305, 6557), (17.359851831808555, 5003)]}, {'query_id': '62', 'scores': [(22.498610887195035, 5262), (19.65236986021714, 4000), (19.325297902773688, 8425), (18.060137905124932, 8340), (17.998888709756027, 8112), (17.998888709756027, 4907), (17.294646525263282, 7677), (17.294646525263282, 6803), (16.79497790747618, 10356), (14.764326529965775, 6775)]}, {'query_id': '63', 'scores': [(42.695248022497104, 9950), (35.88202173208905, 7085), (33.68428055314819, 5978), (30.747109988083125, 5249), (30.32568102898595, 6973), (29.90425206988877, 10338), (29.90425206988877, 6347), (29.482823110791593, 7374), (29.273394436379096, 7376), (27.600510748605572, 8345)]}, {'query_id': '64', 'scores': [(33.27343512818519, 4868), (32.40329528261379, 11393), (29.62969201896268, 5694), (28.14781889158949, 7604), (27.50616666854852, 5589), (26.22790489967534, 8385), (25.85775609487634, 7136), (25.7950865148131, 66), (25.553495773091125, 5998), (24.88367258603474, 4659)]}, {'query_id': '65', 'scores': [(31.50113511181391, 6782), (24.91218437492303, 7279), (24.185363979256493, 8117), (23.487262205571867, 7559), (21.801513210946307, 1239), (21.296910507523407, 5146), (21.18265575140573, 5469), (21.101219062477135, 7561), (20.64585471260368, 7172), (20.64163628973661, 6626)]}, {'query_id': '66', 'scores': [(29.16504935658831, 8385), (28.047438163518287, 2717), (25.77252470955951, 8597), (25.51097126813637, 7337), (24.761618001310502, 2221), (21.757738102933658, 9939), (21.701979423333945, 10783), (21.502896096098503, 8589), (21.49618466151052, 6639), (21.48947322692253, 1502)]}, {'query_id': '67', 'scores': [(30.853225817867685, 2988), (30.381973508822956, 5682), (28.116952284132417, 10380), (27.865323578686084, 3319), (24.881075408892375, 6640), (24.390567021932547, 7210), (23.89384695978668, 5504), (23.844784976763748, 8380), (22.90154877462871, 4977), (22.402382087137894, 11072)]}, {'query_id': '68', 'scores': [(24.322286455346767, 4945), (22.659579422022553, 3830), (22.56642906676808, 4189), (21.186136426561312, 6089), (20.35031150574067, 6989), (20.17738506209905, 6763), (19.50709601961515, 6972), (18.909154924345106, 6460), (18.201801031336093, 8003), (17.9816122910585, 1084)]}, {'query_id': '69', 'scores': [(37.854376425028676, 4611), (30.284408787042338, 9182), (29.273394436379096, 7376), (26.53235474029116, 4437), (26.163433940758523, 7085), (26.09211449765886, 6165), (25.455781851774695, 4204), (25.203954357590177, 1953), (24.679332228641407, 3393), (23.885214196942623, 5043)]}, {'query_id': '70', 'scores': [(23.202046756702984, 4340), (22.556664147010135, 5649), (20.644427213061412, 9952), (20.644427213061412, 7377), (19.573822779093568, 6708), (18.923181900487407, 3063), (16.21301684265983, 1743), (15.87319105591547, 5256), (15.87319105591547, 1187), (15.86793278700216, 10757)]}, {'query_id': '71', 'scores': [(24.520311739123564, 4413), (21.453529608622954, 4629), (19.89540966193337, 6894), (17.87794134051913, 8197), (17.25100073819745, 8351), (15.945400012160777, 27), (15.86645354241552, 6103), (15.655905623547898, 6884), (15.655905623547898, 1328), (15.318459409839098, 6816)]}, {'query_id': '72', 'scores': [(20.93903731859342, 7197), (19.687228929030066, 10064), (18.46912531693201, 6816), (18.362387347123843, 2212), (17.378588264413565, 540), (17.11057895756049, 1606), (16.321755989360415, 8135), (16.321755989360415, 6095), (15.785737375654264, 3987), (15.605966213503217, 10327)]}, {'query_id': '73', 'scores': [(23.10605171264549, 8557), (22.061071469634012, 9694), (17.692329492929392, 8425), (17.294646525263282, 7677), (17.294646525263282, 6803), (14.412205437719404, 7678), (14.412205437719404, 6098), (14.310659790026996, 6898), (14.310659790026996, 4597), (13.120496220839959, 6710)]}, {'query_id': '74', 'scores': [(25.48440767353023, 11062), (23.291246003780568, 6816), (19.44619780042784, 9314), (19.44619780042784, 1199), (17.13755713581134, 10201), (17.13755713581134, 2090), (16.365324009931065, 3288), (15.921467949557508, 10762), (15.921467949557508, 4107), (15.272772531568396, 9311)]}, {'query_id': '75', 'scores': [(27.11256799980586, 9800), (24.524259399099243, 8117), (20.89473518199818, 5146), (19.000570325554524, 6789), (18.30642658129156, 3391), (17.612282837028598, 7559), (17.612282837028598, 6626), (17.612282837028598, 5479), (15.371046108453461, 9694), (15.371046108453461, 9541)]}, {'query_id': '76', 'scores': [(24.800799313183436, 7677), (21.828535974288492, 6874), (21.047722919223357, 6803), (20.912455335075713, 9857), (20.04182002865952, 7678), (18.66876748408245, 5649), (18.03001424753183, 7463), (17.159378941115637, 7681), (17.159378941115637, 5168), (16.74678395430583, 10318)]}, {'query_id': '77', 'scores': [(42.10642080713931, 7601), (36.05213385207429, 8266), (35.703408274229524, 6923), (33.95963677883815, 7836), (31.4469636660862, 6189), (30.0851838707299, 6385), (29.480249768832586, 9974), (29.459510602729015, 3317), (28.14508247357309, 6568), (28.14508247357309, 6186)]}, {'query_id': '78', 'scores': [(62.53192418414008, 6973), (62.193209069510715, 5249), (58.74419398897989, 8345), (55.66359588610419, 7085), (54.95445072613771, 5978), (53.23145307039391, 6347), (49.60842364323689, 9179), (49.60842364323689, 6535), (46.00779556816462, 7571), (45.53536769530737, 5855)]}, {'query_id': '79', 'scores': [(32.775081533896895, 5527), (31.687560594170662, 8189), (22.430337039124844, 10723), (22.367019755618365, 2307), (21.240358403097474, 8183), (20.93450057933836, 9683), (20.7181036834471, 5524), (20.589239421260785, 6816), (19.49855667690077, 6884), (18.558117615253014, 6379)]}, {'query_id': '80', 'scores': [(21.13944699222204, 6559), (16.075183883319593, 4750), (15.699033162880204, 8594), (14.972225570827645, 8417), (14.756814955734283, 7809), (14.560507156965587, 8255), (14.560507156965587, 7601), (14.184356436526198, 9114), (13.949733820432202, 7009), (13.7699301311001, 73)]}, {'query_id': '81', 'scores': [(38.30852184951403, 6062), (37.74252736383827, 7684), (35.886373383491005, 2947), (32.127256834378436, 9935), (31.75394601797596, 7712), (25.63600982304431, 3653), (24.769523619300653, 2551), (24.350837704508663, 5379), (24.05190400103374, 11029), (23.886594160899133, 6063)]}, {'query_id': '82', 'scores': [(27.44217422215151, 7379), (27.370558078442535, 6331), (25.695624813746704, 4345), (24.83842349994665, 8197), (24.160618897045524, 5649), (24.08788934650573, 3706), (21.83113331578344, 9787), (21.788086745378457, 7502), (21.073620179141333, 4929), (20.68000897313557, 6987)]}, {'query_id': '83', 'scores': [(47.980344311495735, 1084), (44.838423610528494, 7111), (38.41878145855765, 4089), (37.86552889796984, 6715), (35.97315116137803, 6714), (35.163287435640754, 8843), (34.47055919072695, 3640), (32.554326517507896, 6551), (32.09414458754129, 4628), (31.862630259165282, 9808)]}, {'query_id': '84', 'scores': [(37.61047385471324, 6050), (35.10816965971947, 6946), (33.213890255425724, 8197), (32.53326753985263, 6331), (28.321097489765584, 4413), (27.488337115432884, 9787), (21.18138182386892, 7342), (19.147559821141, 7774), (18.3147994468083, 3707), (18.154615644057348, 9536)]}, {'query_id': '85', 'scores': [(24.82813069714185, 4994), (24.27468788025282, 9981), (21.94269822224496, 7554), (21.60207493474094, 113), (20.506844003555308, 2773), (20.377457488384827, 6129), (19.898609733071257, 7777), (18.876074428278066, 8907), (18.19315328137323, 705), (18.00709124400737, 5331)]}, {'query_id': '86', 'scores': [(34.84854534333001, 8843), (32.936315808359986, 8327), (32.35137682450594, 6095), (28.839699167476468, 8024), (28.285072520643602, 7193), (28.25798282799694, 3529), (27.445711631758794, 3981), (27.26561476998695, 4450), (27.084774429337788, 6713), (26.555242052921756, 9808)]}, {'query_id': '87', 'scores': [(27.19279459768551, 2529), (27.045425752803915, 2476), (26.658033614411732, 3313), (24.366509632751963, 8066), (23.596558143845076, 2355), (22.08024482584908, 5404), (21.85801508612936, 6930), (21.307367968176695, 5240), (21.09726074755503, 7966), (20.32724544304392, 9836)]}, {'query_id': '88', 'scores': [(29.847246728546857, 3547), (28.351828345343996, 7830), (26.505473315099927, 5065), (24.80509250271387, 6481), (24.712907516376628, 3993), (24.109473201701455, 4642), (24.065519014676134, 9939), (23.306893705217334, 9981), (23.19226672097161, 9218), (23.173389103233873, 5998)]}, {'query_id': '89', 'scores': [(26.164913717761934, 1089), (23.59145367063249, 11335), (22.697904792594528, 11177), (20.96413918025587, 10515), (20.96413918025587, 10214), (20.96413918025587, 10046), (20.96413918025587, 9439), (20.287398035083033, 11290), (20.07059030221791, 11205), (20.07059030221791, 10901)]}, {'query_id': '90', 'scores': [(30.734645644395975, 4114), (30.036754667244075, 7010), (28.13018475815661, 5283), (27.811262311144837, 6189), (26.140636303922385, 3910), (24.288739767124753, 9308), (23.729396453961613, 8229), (23.189450581935823, 4044), (22.981945924506064, 5404), (21.47633527241924, 4759)]}, {'query_id': '91', 'scores': [(45.28186140207706, 6580), (33.78888065869275, 4750), (31.999510670334672, 7602), (31.776953451406555, 9863), (28.913175358208328, 6559), (27.2879515895092, 6286), (25.62309172569895, 2853), (25.58581619909165, 7735), (25.258839924970662, 9315), (24.823176569713297, 8384)]}, {'query_id': '92', 'scores': [(66.10042482213987, 8380), (36.4283070922722, 4977), (34.785396020745026, 8873), (32.90962474158534, 11393), (32.506736522380606, 7777), (30.35576119757764, 1378), (30.156891474670587, 8602), (30.04278989493557, 11208), (29.449944453139924, 3568), (28.04106240371389, 8268)]}, {'query_id': '93', 'scores': [(32.64986836324205, 5048), (32.171311339921616, 9428), (32.07261316935622, 6803), (31.74343638168312, 6708), (31.332038514111098, 5667), (29.83040685764498, 5986), (29.28986631535581, 2963), (28.542192260710706, 7487), (28.44554527934865, 5484), (27.830152765891448, 7677)]}]\n"
     ]
    }
   ],
   "source": [
    "print(query_processing(trec_dl_2020.queries_iter(), daat_tfidf))"
   ]
  },
  {
   "cell_type": "code",
   "execution_count": 21,
   "metadata": {},
   "outputs": [
    {
     "name": "stdout",
     "output_type": "stream",
     "text": [
      "query_processing (674.054 ms)\n",
      "[{'query_id': '1', 'scores': [(30.223860516119117, 3692), (29.691583309945827, 7233), (25.41315778137699, 5501), (24.32090058992211, 9858), (23.273173682113566, 7922), (21.529062765292075, 4570), (20.233390332013307, 7733), (19.616342494992008, 2235), (19.225903771406433, 6823), (19.07435886632644, 4571)]}, {'query_id': '2', 'scores': [(27.31887911071231, 3333), (22.43881142618663, 4570), (20.862578575260166, 8252), (20.723962639433328, 8996), (20.490238869696903, 7777), (18.537348166556495, 10234), (17.67696990561112, 4340), (17.56306188831163, 8380), (17.56306188831163, 4135), (17.098382867181424, 8382)]}, {'query_id': '3', 'scores': [(57.71381165880253, 7085), (55.462490065018585, 6347), (54.61231741908634, 5649), (51.397655071546964, 6973), (48.01943578981415, 6535), (46.66208107908988, 5978), (44.449523170986595, 5249), (40.374052284394494, 8345), (40.10101534683967, 9179), (36.008923306134974, 4708)]}, {'query_id': '4', 'scores': [(62.94518851425234, 7526), (26.066981963602732, 3594), (22.54116523416173, 7345), (20.617767194096363, 7653), (20.242254120455737, 4704), (19.513302452748817, 5436), (18.516551604540908, 4595), (18.417611795342456, 6946), (18.40935123460032, 3445), (17.828135646706325, 396)]}, {'query_id': '5', 'scores': [(37.274212534449525, 4708), (26.56899553328331, 4053), (24.017533543546598, 4306), (22.148987096509114, 2372), (20.73613260950705, 11428), (20.441968683408504, 9666), (17.378455258471103, 139), (16.788675182723576, 1585), (16.375829967317788, 7874), (16.375829967317788, 4307)]}, {'query_id': '6', 'scores': [(21.504709605253296, 5439), (21.262569553248433, 5262), (20.21379929099683, 9666), (18.468590252775154, 5436), (14.942478726279337, 7327), (14.67606936423789, 4593), (13.657280482030814, 11303), (13.036939661996387, 10161), (13.036939661996387, 8642), (13.036939661996387, 5434)]}, {'query_id': '7', 'scores': [(61.57833638931638, 6568), (49.942901642170554, 6924), (47.31562319423365, 6385), (43.038941624777244, 5902), (40.3196785645886, 6564), (38.45060142212087, 6016), (37.6347736521828, 5291), (36.72898312045865, 2095), (36.68690945634068, 7601), (36.14442812687122, 6186)]}, {'query_id': '8', 'scores': [(42.73845380318143, 3773), (37.78789577789901, 5505), (35.81340453257085, 11349), (28.8424663384841, 4752), (28.476312282494547, 6299), (27.190647191893987, 299), (25.498731718245633, 7415), (24.56491650438535, 11129), (24.24350023173521, 707), (23.879523935320268, 9593)]}, {'query_id': '9', 'scores': [(43.263584215158254, 6380), (37.23505655143399, 5505), (34.86367780206128, 4752), (34.13579748956046, 3088), (31.277384534550194, 5682), (29.779091190570618, 7013), (28.189020042485815, 5504), (28.189020042485815, 5070), (26.19092414025993, 6110), (25.24875186839235, 9718)]}, {'query_id': '10', 'scores': [(23.83086860556803, 10616), (23.14570370713085, 7088), (22.10263563030396, 6965), (20.154315654385147, 6704), (19.48455143145985, 7269), (18.896157704301757, 6976), (18.74841884326834, 7458), (18.51147762543095, 7497), (18.352542257712777, 6629), (17.61062310012116, 6988)]}, {'query_id': '11', 'scores': [(28.534944292805186, 9932), (26.41360104772976, 8218), (26.41360104772976, 6725), (25.285818669139207, 1097), (24.132677451516894, 5503), (22.011334206441468, 7655), (22.011334206441468, 7654), (20.063762864456816, 5452), (19.7304106102286, 3472), (19.485605562133212, 4323)]}, {'query_id': '12', 'scores': [(38.38216308888022, 6708), (34.21120268522709, 7099), (32.29157976009621, 6168), (30.891539915692793, 7186), (30.62387184409052, 9428), (29.885275491264782, 3857), (28.340686443336548, 5667), (27.979598343572242, 5048), (25.809052781574245, 5479), (25.004927186904226, 9732)]}, {'query_id': '13', 'scores': [(46.53112338051086, 8345), (36.89643964218835, 5249), (35.45861936192303, 8135), (35.02926922553827, 6973), (30.931203880537907, 5988), (28.325752447088913, 5982), (26.169263072170978, 7110), (25.55395222531442, 8023), (25.25714145648192, 3630), (25.22791239995368, 7571)]}, {'query_id': '14', 'scores': [(35.20165534343912, 5649), (31.900708926755716, 7376), (29.488305717582577, 6627), (28.390843352183722, 3393), (27.39121631965593, 5978), (26.84543389060576, 6165), (26.28490199802664, 7283), (26.240709910546258, 6347), (25.5948641077192, 6535), (25.35923434570121, 7568)]}, {'query_id': '15', 'scores': [(42.16961035812594, 6987), (39.23121197160191, 3732), (32.93198867226964, 4814), (32.26722945655072, 5479), (30.665605582188107, 9800), (28.16749206061904, 8117), (27.307332024094034, 9852), (26.89731712421264, 6762), (26.63856181096839, 7694), (25.87399644006749, 6626)]}, {'query_id': '16', 'scores': [(49.92675704592564, 9860), (41.29865285817099, 4929), (39.14449907573861, 5043), (34.33814884778552, 9696), (34.33814884778552, 5640), (32.61690353521152, 9663), (31.723137419109328, 6143), (31.55189958729386, 6095), (28.886628865709078, 2090), (28.24734383118879, 6766)]}, {'query_id': '17', 'scores': [(49.21448607814496, 11129), (44.26538385136281, 11393), (39.03807527673321, 10980), (38.15358981409619, 495), (37.16613811952898, 4150), (36.282066312736745, 2160), (33.63392071274438, 9485), (33.31435237048512, 4769), (31.967344666875498, 8784), (30.38831084221302, 1432)]}, {'query_id': '18', 'scores': [(32.32676955872279, 3445), (31.504396398665204, 11393), (29.836457790601315, 7636), (26.521762102237144, 9740), (25.32795372358779, 6592), (24.82958346674809, 11269), (23.97600286318139, 8079), (23.947991767535203, 4507), (23.89384695978668, 5504), (23.86565075203702, 3319)]}, {'query_id': '19', 'scores': [(27.43348669333135, 11393), (23.89384695978668, 5504), (23.86565075203702, 3319), (23.45822791863765, 10104), (23.43708076282541, 5100), (21.463549479353386, 2894), (20.893200442196253, 9766), (20.653450319208954, 11126), (19.925307446641867, 980), (19.58605184970977, 7614)]}, {'query_id': '20', 'scores': [(29.184044251561968, 7425), (26.769253663932133, 6585), (22.483406599668317, 6490), (22.30408408512967, 7852), (22.25209231004114, 7058), (21.586299549715957, 6177), (21.273531329355407, 9908), (20.902428681621583, 6217), (20.313129899033775, 6598), (19.861827252710146, 5314)]}, {'query_id': '21', 'scores': [(79.96067740819758, 3333), (71.23239297641884, 7863), (69.37422263161149, 2899), (56.304509799479845, 3917), (46.26565194807714, 3017), (42.19387041179375, 5945), (40.61845260424539, 7150), (40.22114228129549, 7111), (36.55048782645477, 2148), (36.352421699611405, 10714)]}, {'query_id': '22', 'scores': [(48.13881570165542, 3445), (42.74024159019585, 11393), (35.413096245455066, 6220), (29.90217156313156, 5527), (26.6978472512556, 10446), (24.725304584758298, 7144), (24.25697836883297, 8622), (24.23202233310787, 4760), (23.464827386972335, 5942), (23.311459124859002, 751)]}, {'query_id': '23', 'scores': [(43.94983134032671, 5409), (41.28376107274005, 8190), (36.21867048482916, 9734), (35.73096340827175, 7146), (35.315322980046304, 5396), (32.98856435051819, 4881), (31.176731406652376, 5113), (26.577400307548785, 7608), (25.614155494464228, 4403), (25.390117288650625, 4681)]}, {'query_id': '24', 'scores': [(60.82889515569924, 3333), (31.668959990596115, 3560), (22.70621571649737, 6411), (22.1293622092374, 6662), (20.790517156160348, 2899), (20.73941970350634, 3553), (20.436366079308893, 4777), (19.921538302323448, 9734), (19.40057465042929, 5089), (19.35982692448451, 5396)]}, {'query_id': '25', 'scores': [(42.146235116165414, 1432), (35.1253641598565, 4868), (35.10273261247182, 11129), (30.0709555084274, 8385), (27.719334603369287, 707), (27.116905577746657, 7225), (26.43177023307615, 5799), (26.370789899560577, 8178), (25.886979609931508, 9046), (25.68565455489007, 7612)]}, {'query_id': '26', 'scores': [(46.25541578575185, 5799), (44.804337673948346, 7225), (33.58132050277669, 8178), (28.70520485640636, 7612), (27.05704551050739, 6841), (26.929931263663406, 7966), (24.375404825447454, 10015), (21.273293627162243, 5938), (21.021700874240512, 5404), (20.111768263879064, 2899)]}, {'query_id': '27', 'scores': [(29.807907589945348, 8415), (28.480672652542882, 5505), (28.299549811190296, 9847), (27.89773085549998, 7773), (26.428946349730076, 9159), (21.360504489407163, 4752), (20.55686657802653, 2011), (19.48990102794694, 3824), (19.48990102794694, 1124), (19.308778186594353, 4292)]}, {'query_id': '28', 'scores': [(34.52062104848745, 8229), (28.247884852941816, 3615), (27.919114736929043, 9282), (27.47362272545798, 7481), (26.98921835299911, 8053), (26.98921835299911, 4719), (22.86700280341486, 4432), (22.79912882055665, 3965), (22.694008814001798, 7185), (22.629668097236348, 5471)]}, {'query_id': '29', 'scores': [(50.46216737999703, 3333), (33.572410341047025, 5796), (29.403624375335774, 11123), (27.147411310445907, 5393), (26.653705678961597, 9738), (24.053793822663543, 9132), (22.38160689403135, 4270), (22.11009157460407, 3554), (21.595215790954995, 3229), (19.870729362919953, 2113)]}, {'query_id': '30', 'scores': [(57.58700555366929, 3333), (36.303315994301144, 615), (35.70729013565197, 6924), (34.63333034664234, 4868), (32.968784884505375, 9509), (32.93358452727233, 3572), (29.52772753435461, 3821), (28.605992061535904, 9112), (28.112391071880268, 2899), (28.033922317356016, 9510)]}, {'query_id': '31', 'scores': [(72.95313985494806, 3333), (36.776961563516046, 8392), (36.327357420056, 8614), (33.3191563310686, 3103), (29.196879912520842, 2001), (29.07171888008376, 4874), (27.615197002604734, 4868), (26.65351062836524, 2109), (25.87604821415589, 3552), (25.772150669009115, 5392)]}, {'query_id': '32', 'scores': [(41.58929581797769, 9159), (39.506857935948155, 1821), (38.31127096925636, 913), (31.9755623218258, 8415), (28.480672652542882, 5505), (28.299549811190296, 9847), (23.96999825149098, 1702), (23.758163830921664, 5012), (21.360504489407163, 4752), (21.084203160622227, 10455)]}, {'query_id': '33', 'scores': [(46.91704087257916, 3333), (39.778384586960215, 6411), (39.01559617429075, 5114), (37.9218203075319, 6133), (34.81692142324438, 7052), (31.710442775840477, 2622), (30.586097584686552, 336), (28.98650376529453, 6815), (28.845800204238714, 4992), (28.748095514944865, 11261)]}, {'query_id': '34', 'scores': [(49.00862042175376, 5498), (48.003223649865106, 615), (36.05837157892664, 7634), (33.836849395719014, 10927), (33.117314252146016, 5614), (32.92422266026129, 5404), (32.590294104197966, 11262), (30.992056876036017, 9389), (29.99398286956639, 3653), (29.40503027609558, 7958)]}, {'query_id': '35', 'scores': [(31.521572359214733, 615), (29.415272707570768, 7058), (28.864562396110763, 3567), (25.45553094687725, 5939), (24.9907943749505, 2143), (24.19688791054973, 3566), (23.80094046686555, 6325), (23.311217922848407, 4408), (20.921947523831797, 2031), (20.69977233794362, 4509)]}, {'query_id': '36', 'scores': [(32.14981097572804, 4708), (23.443482273496212, 9908), (22.78258481132636, 4308), (21.44459397456182, 4053), (20.313129899033775, 6598), (20.305632239856376, 139), (19.719071386388958, 6515), (19.309196422511008, 6028), (18.76241878565603, 11393), (18.75679554127298, 3042)]}, {'query_id': '37', 'scores': [(61.82616738366198, 3333), (39.59568087380127, 5114), (31.85650293690438, 9483), (29.011178926322845, 9484), (28.95557274341305, 10113), (28.923557027832256, 10270), (28.398491670604024, 8383), (27.40360236815126, 6735), (26.754970662544316, 3797), (26.164199787950068, 4024)]}, {'query_id': '38', 'scores': [(34.68960025135627, 9622), (33.85801690412638, 10827), (30.973000566795257, 9910), (30.83137837199588, 331), (30.332467891720952, 2148), (30.262672129785415, 204), (29.25670182977113, 2743), (26.89615426629723, 3017), (25.77598110566727, 11279), (25.058746482445123, 2647)]}, {'query_id': '39', 'scores': [(19.016152114297427, 908), (18.439587265388727, 3014), (17.359851831808555, 9918), (17.359851831808555, 5533), (17.359851831808555, 5003), (17.359851831808555, 4407), (17.359851831808555, 1700), (16.70780632693416, 9053), (16.589246592209605, 2156), (15.32823466121968, 8294)]}, {'query_id': '40', 'scores': [(36.55535301037302, 2743), (35.095721887166164, 204), (31.72230325299227, 9481), (30.332467891720952, 2148), (28.58899406611932, 476), (24.139186280062027, 10565), (24.139186280062027, 10111), (23.755944308738574, 2253), (23.446039099502084, 11237), (23.194724671221177, 11239)]}, {'query_id': '41', 'scores': [(43.93728722798929, 4708), (30.543407115572876, 9855), (21.44459397456182, 4053), (21.088628161498825, 5732), (17.998888709756027, 8992), (17.998888709756027, 3319), (17.50549281621946, 4185), (17.241254136957618, 4306), (16.10142772429082, 5734), (15.317567124687015, 9666)]}, {'query_id': '42', 'scores': [(30.63513424937403, 4708), (22.713426426829418, 6896), (21.737244640322793, 7788), (21.572741360747187, 6028), (21.44459397456182, 4053), (21.239033428019596, 9789), (20.53967504736701, 11041), (20.534303295603515, 5685), (20.34389963078111, 8331), (20.34389963078111, 7183)]}, {'query_id': '43', 'scores': [(71.73668993439537, 4708), (57.770179492964644, 4053), (45.052795713986214, 4308), (41.41367204704102, 6231), (38.924477183362306, 1307), (36.279082456446254, 140), (32.559685939605984, 139), (32.22633206031311, 3719), (32.10636481032019, 6028), (30.63513424937403, 9666)]}, {'query_id': '44', 'scores': [(34.49424657978097, 4708), (33.021930965782644, 4053), (30.872898643255542, 1307), (22.94471558156419, 6511), (22.788757966527513, 5209), (22.70220845396011, 6421), (21.56347617150258, 5734), (21.56347617150258, 5436), (20.76787726603304, 2293), (20.16816002462445, 5452)]}, {'query_id': '45', 'scores': [(41.35228736265272, 5430), (24.19107148128015, 273), (22.41631489840423, 6708), (22.36575291879805, 10323), (20.298549658239466, 11024), (19.897845645722306, 1160), (19.668534797070492, 6157), (19.11122883061553, 6905), (18.204937813523042, 4807), (18.180991363719865, 6789)]}, {'query_id': '46', 'scores': [(54.35754699341086, 6336), (43.52108067738767, 3598), (43.20990594049672, 4053), (41.85644560091586, 4708), (38.2821495849561, 5236), (37.388687193340246, 6236), (34.64869398605232, 7286), (34.00342763905483, 3142), (30.872898643255542, 1307), (30.70213787415735, 3484)]}, {'query_id': '47', 'scores': [(28.40694688939878, 1625), (25.37648536591215, 6907), (24.943217022860335, 3753), (23.906026904785783, 5678), (23.79142757531934, 6098), (23.2218157540782, 3288), (23.217627152391962, 3640), (21.755484692210196, 6715), (21.48697551238908, 2083), (21.05034621252844, 3754)]}, {'query_id': '48', 'scores': [(26.240251172414737, 6247), (22.60078049822135, 7677), (21.68594197087434, 6629), (20.72620547460282, 4301), (20.067048253268826, 135), (19.5512350879918, 150), (19.488965309612624, 6815), (19.145461282253105, 6098), (19.030217107482933, 5845), (18.68671308012341, 3754)]}, {'query_id': '49', 'scores': [(26.60132212952731, 6884), (24.611910452466567, 4208), (21.0157403964569, 5348), (19.408982017507974, 4413), (17.46471684181455, 5228), (16.898608876325703, 7463), (16.742591416151487, 7073), (16.52988459555221, 3535), (16.066885006638714, 3286), (15.655905623547898, 1328)]}, {'query_id': '50', 'scores': [(35.693173170458806, 2947), (25.094506077716296, 6416), (22.29018276943637, 9939), (21.815960325862218, 7798), (21.63634878942411, 5726), (20.10448560153365, 6989), (19.011637017582288, 5030), (18.393010877205082, 9863), (18.31385784930553, 10033), (16.74678682178002, 6762)]}, {'query_id': '51', 'scores': [(53.86157613934726, 7073), (45.14271841869564, 1328), (42.24182684074105, 6877), (35.80859264186376, 3165), (30.37274666971859, 7055), (28.943459276363708, 7716), (28.48899883578957, 8222), (28.2509842208626, 9297), (27.36007802074065, 7332), (26.951207970652955, 5550)]}, {'query_id': '52', 'scores': [(33.99982277338451, 6627), (33.87041330063292, 3376), (27.639300862426804, 5457), (25.337402533806948, 9315), (23.206274925943266, 3445), (21.157242274375815, 3140), (20.952033277636378, 9277), (20.735101102629404, 7566), (20.108651854438158, 7210), (19.876293873468494, 3319)]}, {'query_id': '53', 'scores': [(25.084398610346746, 6907), (24.83875306774334, 6816), (24.249249127700928, 6715), (23.921639113400687, 9808), (22.857738529927584, 729), (21.964037964838205, 9706), (21.597539186042496, 3319), (19.278640118085434, 9966), (18.593541513260845, 2578), (18.424954340148023, 3445)]}, {'query_id': '54', 'scores': [(26.59857924593555, 6337), (26.11226918784694, 1454), (23.985605781380116, 6247), (20.753118605045014, 6876), (20.72620547460282, 4301), (19.178033614791058, 7678), (19.032874984395306, 6629), (18.59205757707386, 811), (18.546378142860263, 10023), (18.362385823052225, 3484)]}, {'query_id': '55', 'scores': [(30.229967029618958, 9704), (29.56210200149471, 29), (27.91407054533932, 6453), (24.955355680439446, 6710), (23.867815823009174, 2075), (23.644672271694965, 10630), (21.675231625229458, 9301), (21.35382243491934, 6525), (21.032413244609224, 7813), (20.043139026174856, 6102)]}, {'query_id': '56', 'scores': [(26.999084399884236, 11062), (22.475551253135855, 9314), (21.681587314873354, 2090), (21.616148744568648, 1199), (21.498478769640023, 6816), (21.127351146204013, 1496), (19.678112990154716, 3987), (19.258534278433128, 2081), (17.13755713581134, 10201), (16.88119744040702, 6907)]}, {'query_id': '57', 'scores': [(41.52198660950788, 7172), (40.796049606124946, 7694), (38.48042223685675, 9793), (37.50461707050164, 3848), (34.915903338913225, 4073), (34.56923659766353, 6969), (34.01931489554552, 9795), (33.38106363168236, 7279), (31.472799247898543, 10335), (30.427913498848607, 4203)]}, {'query_id': '58', 'scores': [(41.64496804979865, 8197), (25.84431509596844, 8102), (25.607695142295412, 6331), (25.28800136646609, 1296), (24.239485511411324, 3707), (23.76122014521367, 4343), (21.44151935621287, 920), (21.370124381276565, 9557), (21.18138182386892, 7342), (20.576183266707133, 6950)]}, {'query_id': '59', 'scores': [(39.16251716417943, 4708), (35.9217089729798, 4053), (30.872898643255542, 1307), (27.283207771431112, 5440), (26.963195868588045, 5734), (24.191712423398634, 4704), (23.230375226288103, 2293), (23.00163181327151, 3719), (21.94269822224496, 7554), (21.653556604609626, 6421)]}, {'query_id': '60', 'scores': [(45.46973315123546, 9704), (29.790608742319357, 6453), (26.831893877419486, 6710), (26.581407783694317, 6089), (26.123020720313555, 6525), (25.84602734558782, 5568), (25.708147036697078, 2551), (25.151646841812116, 7073), (25.01994502310773, 4929), (24.312537299819216, 29)]}, {'query_id': '61', 'scores': [(24.194003312630038, 8602), (24.194003312630038, 6585), (21.525153594244834, 7604), (20.796228176800113, 4361), (20.22799739139452, 11393), (19.52980277594936, 5533), (19.35446920142229, 4513), (18.35746617128576, 8293), (17.535796715676305, 6557), (17.359851831808555, 1700)]}, {'query_id': '62', 'scores': [(22.498610887195035, 5262), (19.65236986021714, 4000), (19.325297902773688, 8425), (18.060137905124932, 8340), (17.998888709756027, 8112), (17.998888709756027, 4907), (17.294646525263282, 7677), (17.294646525263282, 6803), (16.79497790747618, 10356), (14.764326529965775, 9297)]}, {'query_id': '63', 'scores': [(42.695248022497104, 9950), (35.88202173208905, 7085), (33.68428055314819, 5978), (30.747109988083125, 5249), (30.32568102898595, 6973), (29.90425206988877, 10338), (29.90425206988877, 6347), (29.482823110791593, 7374), (29.273394436379096, 7376), (27.600510748605572, 8345)]}, {'query_id': '64', 'scores': [(33.27343512818519, 4868), (32.40329528261379, 11393), (29.62969201896268, 5694), (28.14781889158949, 7604), (27.50616666854852, 5589), (26.22790489967534, 8385), (25.85775609487634, 7136), (25.7950865148131, 66), (25.553495773091125, 5998), (24.88367258603474, 4659)]}, {'query_id': '65', 'scores': [(31.50113511181391, 6782), (24.91218437492303, 7279), (24.185363979256493, 8117), (23.487262205571867, 7559), (21.801513210946307, 1239), (21.296910507523407, 5146), (21.18265575140573, 5469), (21.101219062477135, 7561), (20.64585471260368, 7172), (20.64163628973661, 6626)]}, {'query_id': '66', 'scores': [(29.16504935658831, 8385), (28.047438163518287, 2717), (25.77252470955951, 8597), (25.51097126813637, 7337), (24.761618001310502, 2221), (21.757738102933658, 9939), (21.701979423333945, 10783), (21.502896096098503, 8589), (21.49618466151052, 6639), (21.48947322692253, 1502)]}, {'query_id': '67', 'scores': [(30.853225817867685, 2988), (30.381973508822956, 5682), (28.116952284132417, 10380), (27.865323578686084, 3319), (24.881075408892375, 6640), (24.390567021932547, 7210), (23.89384695978668, 5504), (23.844784976763748, 8380), (22.90154877462871, 4977), (22.402382087137894, 11072)]}, {'query_id': '68', 'scores': [(24.322286455346767, 4945), (22.659579422022553, 3830), (22.56642906676808, 4189), (21.186136426561312, 6089), (20.35031150574067, 6989), (20.17738506209905, 6763), (19.50709601961515, 6972), (18.909154924345106, 6460), (18.201801031336093, 8003), (17.9816122910585, 1084)]}, {'query_id': '69', 'scores': [(37.854376425028676, 4611), (30.284408787042338, 9182), (29.273394436379096, 7376), (26.53235474029116, 4437), (26.163433940758523, 7085), (26.09211449765886, 6165), (25.455781851774695, 4204), (25.203954357590177, 1953), (24.679332228641407, 3393), (23.885214196942623, 5043)]}, {'query_id': '70', 'scores': [(23.202046756702984, 4340), (22.556664147010135, 5649), (20.644427213061412, 9952), (20.644427213061412, 7377), (19.573822779093568, 6708), (18.923181900487407, 3063), (16.21301684265983, 1743), (15.87319105591547, 5256), (15.87319105591547, 1187), (15.86793278700216, 10757)]}, {'query_id': '71', 'scores': [(24.520311739123564, 4413), (21.453529608622954, 4629), (19.89540966193337, 6894), (17.87794134051913, 8197), (17.25100073819745, 8351), (15.945400012160777, 27), (15.86645354241552, 6103), (15.655905623547898, 6884), (15.655905623547898, 1328), (15.318459409839098, 6816)]}, {'query_id': '72', 'scores': [(20.93903731859342, 7197), (19.687228929030066, 10064), (18.46912531693201, 6816), (18.362387347123843, 2212), (17.378588264413565, 540), (17.11057895756049, 1606), (16.321755989360415, 8135), (16.321755989360415, 6095), (15.785737375654264, 3987), (15.605966213503217, 10327)]}, {'query_id': '73', 'scores': [(23.10605171264549, 8557), (22.061071469634012, 9694), (17.692329492929392, 8425), (17.294646525263282, 7677), (17.294646525263282, 6803), (14.412205437719404, 7678), (14.412205437719404, 6098), (14.310659790026996, 6898), (14.310659790026996, 4597), (13.120496220839959, 6453)]}, {'query_id': '74', 'scores': [(25.48440767353023, 11062), (23.291246003780568, 6816), (19.44619780042784, 9314), (19.44619780042784, 1199), (17.13755713581134, 10201), (17.13755713581134, 2090), (16.365324009931065, 3288), (15.921467949557508, 10762), (15.921467949557508, 4107), (15.272772531568396, 9311)]}, {'query_id': '75', 'scores': [(27.11256799980586, 9800), (24.524259399099243, 8117), (20.89473518199818, 5146), (19.000570325554524, 6789), (18.30642658129156, 3391), (17.612282837028598, 7559), (17.612282837028598, 6626), (17.612282837028598, 5479), (15.371046108453461, 9694), (15.371046108453461, 9541)]}, {'query_id': '76', 'scores': [(24.800799313183436, 7677), (21.828535974288492, 6874), (21.047722919223357, 6803), (20.912455335075713, 9857), (20.04182002865952, 7678), (18.66876748408245, 5649), (18.03001424753183, 7463), (17.159378941115637, 7681), (17.159378941115637, 5168), (16.74678395430583, 10318)]}, {'query_id': '77', 'scores': [(42.10642080713931, 7601), (36.05213385207429, 8266), (35.703408274229524, 6923), (33.95963677883815, 7836), (31.4469636660862, 6189), (30.0851838707299, 6385), (29.480249768832586, 9974), (29.459510602729015, 3317), (28.14508247357309, 6568), (28.14508247357309, 6186)]}, {'query_id': '78', 'scores': [(62.53192418414008, 6973), (62.193209069510715, 5249), (58.74419398897989, 8345), (55.66359588610419, 7085), (54.95445072613771, 5978), (53.23145307039391, 6347), (49.60842364323689, 9179), (49.60842364323689, 6535), (46.00779556816462, 7571), (45.53536769530737, 5855)]}, {'query_id': '79', 'scores': [(32.775081533896895, 5527), (31.687560594170662, 8189), (22.430337039124844, 10723), (22.367019755618365, 2307), (21.240358403097474, 8183), (20.93450057933836, 9683), (20.7181036834471, 5524), (20.589239421260785, 6816), (19.49855667690077, 6884), (18.558117615253014, 6379)]}, {'query_id': '80', 'scores': [(21.13944699222204, 6559), (16.075183883319593, 4750), (15.699033162880204, 8594), (14.972225570827645, 8417), (14.756814955734283, 7809), (14.560507156965587, 8255), (14.560507156965587, 7601), (14.184356436526198, 9114), (13.949733820432202, 7009), (13.7699301311001, 73)]}, {'query_id': '81', 'scores': [(38.30852184951403, 6062), (37.74252736383827, 7684), (35.886373383491005, 2947), (32.127256834378436, 9935), (31.75394601797596, 7712), (25.63600982304431, 3653), (24.769523619300653, 2551), (24.350837704508663, 5379), (24.05190400103374, 11029), (23.886594160899133, 6063)]}, {'query_id': '82', 'scores': [(27.44217422215151, 7379), (27.370558078442535, 6331), (25.695624813746704, 4345), (24.83842349994665, 8197), (24.160618897045524, 5649), (24.08788934650573, 3706), (21.83113331578344, 9787), (21.788086745378457, 7502), (21.073620179141333, 4929), (20.68000897313557, 6987)]}, {'query_id': '83', 'scores': [(47.980344311495735, 1084), (44.838423610528494, 7111), (38.41878145855765, 4089), (37.86552889796984, 6715), (35.97315116137803, 6714), (35.163287435640754, 8843), (34.47055919072695, 3640), (32.554326517507896, 6551), (32.09414458754129, 4628), (31.862630259165282, 9808)]}, {'query_id': '84', 'scores': [(37.61047385471324, 6050), (35.10816965971947, 6946), (33.213890255425724, 8197), (32.53326753985263, 6331), (28.321097489765584, 4413), (27.488337115432884, 9787), (21.18138182386892, 7342), (19.147559821141, 7774), (18.3147994468083, 3707), (18.154615644057348, 9536)]}, {'query_id': '85', 'scores': [(24.82813069714185, 4994), (24.27468788025282, 9981), (21.94269822224496, 7554), (21.60207493474094, 113), (20.506844003555308, 2773), (20.377457488384827, 6129), (19.898609733071257, 7777), (18.876074428278066, 8907), (18.19315328137323, 705), (18.00709124400737, 5331)]}, {'query_id': '86', 'scores': [(34.84854534333001, 8843), (32.936315808359986, 8327), (32.35137682450594, 6095), (28.839699167476468, 8024), (28.285072520643602, 7193), (28.25798282799694, 3529), (27.445711631758794, 3981), (27.26561476998695, 4450), (27.084774429337788, 6713), (26.555242052921756, 9808)]}, {'query_id': '87', 'scores': [(27.19279459768551, 2529), (27.045425752803915, 2476), (26.658033614411732, 3313), (24.366509632751963, 8066), (23.596558143845076, 2355), (22.08024482584908, 5404), (21.85801508612936, 6930), (21.307367968176695, 5240), (21.09726074755503, 7966), (20.32724544304392, 9836)]}, {'query_id': '88', 'scores': [(29.847246728546857, 3547), (28.351828345343996, 7830), (26.505473315099927, 5065), (24.80509250271387, 6481), (24.712907516376628, 3993), (24.109473201701455, 4642), (24.065519014676134, 9939), (23.306893705217334, 9981), (23.19226672097161, 9218), (23.173389103233873, 5998)]}, {'query_id': '89', 'scores': [(26.164913717761934, 1089), (23.59145367063249, 11335), (22.697904792594528, 11177), (20.96413918025587, 10515), (20.96413918025587, 10214), (20.96413918025587, 10046), (20.96413918025587, 9439), (20.287398035083033, 11290), (20.07059030221791, 11205), (20.07059030221791, 10901)]}, {'query_id': '90', 'scores': [(30.734645644395975, 4114), (30.036754667244075, 7010), (28.13018475815661, 5283), (27.811262311144837, 6189), (26.140636303922385, 3910), (24.288739767124753, 9308), (23.729396453961613, 8229), (23.189450581935823, 4044), (22.981945924506064, 5404), (21.47633527241924, 4759)]}, {'query_id': '91', 'scores': [(45.28186140207706, 6580), (33.78888065869275, 4750), (31.999510670334672, 7602), (31.776953451406555, 9863), (28.913175358208328, 6559), (27.2879515895092, 6286), (25.62309172569895, 2853), (25.58581619909165, 7735), (25.258839924970662, 9315), (24.823176569713297, 8384)]}, {'query_id': '92', 'scores': [(66.10042482213987, 8380), (36.4283070922722, 4977), (34.785396020745026, 8873), (32.90962474158534, 11393), (32.506736522380606, 7777), (30.35576119757764, 1378), (30.156891474670587, 8602), (30.04278989493557, 11208), (29.449944453139924, 3568), (28.04106240371389, 8268)]}, {'query_id': '93', 'scores': [(32.64986836324205, 5048), (32.171311339921616, 9428), (32.07261316935622, 6803), (31.74343638168312, 6708), (31.332038514111098, 5667), (29.83040685764498, 5986), (29.28986631535581, 2963), (28.542192260710706, 7487), (28.44554527934865, 5484), (27.830152765891448, 7677)]}]\n"
     ]
    }
   ],
   "source": [
    "tfidf_results = query_processing(trec_dl_2020.queries_iter(), taat_tfidf)\n",
    "print(tfidf_results)"
   ]
  },
  {
   "cell_type": "markdown",
   "metadata": {
    "id": "bpb3m8ELHcdo"
   },
   "source": [
    "# 5. Evaluation with TREC-style measures\n",
    "To evaluate retrieval performance, we use the TREC evaluation method with `ir_measures`.\n",
    "\n",
    "This section generates a run file and QRELs for the TREC evaluation tool."
   ]
  },
  {
   "cell_type": "code",
   "execution_count": 17,
   "metadata": {
    "colab": {
     "base_uri": "https://localhost:8080/"
    },
    "executionInfo": {
     "elapsed": 14,
     "status": "ok",
     "timestamp": 1729868599720,
     "user": {
      "displayName": "DANIEL NAMAKI GHANEH",
      "userId": "00865735165124121752"
     },
     "user_tz": -120
    },
    "id": "i_cJcwV1Hcdo",
    "outputId": "99944a67-52d8-4ae2-9a7e-8dfce6280e7a"
   },
   "outputs": [
    {
     "name": "stdout",
     "output_type": "stream",
     "text": [
      "GenericQuery(query_id='1030303', text='who is aziz hashim')\n",
      "GenericQuery(query_id='1037496', text='who is rep scalise?')\n",
      "GenericQuery(query_id='1043135', text='who killed nicholas ii of russia')\n"
     ]
    }
   ],
   "source": [
    "for query in list(trec_dl_2020.queries_iter())[:3]:\n",
    "    print(query)"
   ]
  },
  {
   "cell_type": "code",
   "execution_count": 18,
   "metadata": {
    "colab": {
     "base_uri": "https://localhost:8080/"
    },
    "executionInfo": {
     "elapsed": 10,
     "status": "ok",
     "timestamp": 1729868599720,
     "user": {
      "displayName": "DANIEL NAMAKI GHANEH",
      "userId": "00865735165124121752"
     },
     "user_tz": -120
    },
    "id": "GhrquNSbHcdp",
    "outputId": "3a88f667-f2c1-424f-99cd-796a92e6d75c"
   },
   "outputs": [
    {
     "name": "stderr",
     "output_type": "stream",
     "text": [
      "[INFO] [starting] https://trec.nist.gov/data/deep/2020qrels-pass.txt\n",
      "[INFO] [finished] https://trec.nist.gov/data/deep/2020qrels-pass.txt: [00:00] [219kB] [375kB/s]\n",
      "                                                                             "
     ]
    },
    {
     "name": "stdout",
     "output_type": "stream",
     "text": [
      "TrecQrel(query_id='23849', doc_id='1020327', relevance=2, iteration='0')\n",
      "TrecQrel(query_id='23849', doc_id='1034183', relevance=3, iteration='0')\n",
      "TrecQrel(query_id='23849', doc_id='1120730', relevance=0, iteration='0')\n"
     ]
    },
    {
     "name": "stderr",
     "output_type": "stream",
     "text": [
      "\r"
     ]
    }
   ],
   "source": [
    "for ass in list(trec_dl_2020.qrels_iter())[:3]:\n",
    "  print(ass)"
   ]
  },
  {
   "cell_type": "markdown",
   "metadata": {},
   "source": [
    "## 5.1 Run File generation"
   ]
  },
  {
   "cell_type": "code",
   "execution_count": 19,
   "metadata": {
    "colab": {
     "base_uri": "https://localhost:8080/"
    },
    "executionInfo": {
     "elapsed": 642,
     "status": "ok",
     "timestamp": 1729868790072,
     "user": {
      "displayName": "DANIEL NAMAKI GHANEH",
      "userId": "00865735165124121752"
     },
     "user_tz": -120
    },
    "id": "HT-n8O0aHcdp",
    "outputId": "75f42b92-deab-47c9-fd38-7353d01e5324"
   },
   "outputs": [],
   "source": [
    "def generate_run(results):\n",
    "    trec_run_list = []\n",
    "    for doc_scores in results:\n",
    "        rank = 1\n",
    "        query_id = doc_scores['query_id']\n",
    "        scores = doc_scores['scores']\n",
    "\n",
    "        for score, doc_id in scores:\n",
    "            line = f\"{query_id} Q0 {doc_id} {rank} {score} GOODFELLAS\"\n",
    "            trec_run_list.append(line)\n",
    "            rank += 1\n",
    "    \n",
    "    return trec_run_list\n",
    "\n",
    "trec_bm25_run_list = generate_run(bm25_results)\n",
    "trec_tfidf_run_list = generate_run(tfidf_results)\n",
    "\n",
    "with open(\"trec_eval_bm25_run_file.txt\", \"w\") as f:\n",
    "    for line in trec_bm25_run_list:\n",
    "        f.write(line + \"\\n\")\n",
    "\n",
    "with open(\"trec_eval_tfidf_run_file.txt\", \"w\") as f:\n",
    "    for line in trec_tfidf_run_list:\n",
    "        f.write(line + \"\\n\")"
   ]
  },
  {
   "cell_type": "markdown",
   "metadata": {},
   "source": [
    "## 5.2 Qrels File generation"
   ]
  },
  {
   "cell_type": "code",
   "execution_count": 20,
   "metadata": {
    "executionInfo": {
     "elapsed": 519,
     "status": "ok",
     "timestamp": 1729868804818,
     "user": {
      "displayName": "DANIEL NAMAKI GHANEH",
      "userId": "00865735165124121752"
     },
     "user_tz": -120
    },
    "id": "BbLdcjrCHcdp"
   },
   "outputs": [],
   "source": [
    "# Create format for Trec_Eval\n",
    "qrels_file = []\n",
    "for qrel in trec_dl_2020.qrels_iter():\n",
    "    line = f\"{qrel.query_id} 0 {qrel.doc_id} {qrel.relevance}\"\n",
    "    qrels_file.append(line)\n",
    "\n",
    "with open(\"trec_eval_qrels_file.txt\", \"w\") as f:\n",
    "    for line in qrels_file:\n",
    "        f.write(line + \"\\n\")"
   ]
  },
  {
   "cell_type": "markdown",
   "metadata": {},
   "source": [
    "## 5.3 Results"
   ]
  },
  {
   "cell_type": "code",
   "execution_count": 21,
   "metadata": {
    "colab": {
     "base_uri": "https://localhost:8080/"
    },
    "executionInfo": {
     "elapsed": 3,
     "status": "ok",
     "timestamp": 1729868809424,
     "user": {
      "displayName": "DANIEL NAMAKI GHANEH",
      "userId": "00865735165124121752"
     },
     "user_tz": -120
    },
    "id": "zWWbnIHvHcdp",
    "outputId": "f0371710-d52c-4f93-92b6-dff784e0a672"
   },
   "outputs": [],
   "source": [
    "measures = [P@5, P(rel=2)@5, nDCG@10, AP, AP(rel=2), Bpref, Bpref(rel=2), Judged@10]\n",
    "\n",
    "qrels = ir_measures.read_trec_qrels('trec_eval_qrels_file.txt')\n",
    "bm25_run = ir_measures.read_trec_run(('trec_eval_bm25_run_file.txt'))\n",
    "bm25_results = ir_measures.calc_aggregate(measures, qrels, bm25_run)\n",
    "\n",
    "qrels = ir_measures.read_trec_qrels('trec_eval_qrels_file.txt')\n",
    "tfidf_run = ir_measures.read_trec_run(('trec_eval_tfidf_run_file.txt'))\n",
    "tfidf_results = ir_measures.calc_aggregate(measures, qrels, tfidf_run)"
   ]
  },
  {
   "cell_type": "code",
   "execution_count": 22,
   "metadata": {
    "colab": {
     "base_uri": "https://localhost:8080/"
    },
    "executionInfo": {
     "elapsed": 3,
     "status": "ok",
     "timestamp": 1729868809424,
     "user": {
      "displayName": "DANIEL NAMAKI GHANEH",
      "userId": "00865735165124121752"
     },
     "user_tz": -120
    },
    "id": "zWWbnIHvHcdp",
    "outputId": "f0371710-d52c-4f93-92b6-dff784e0a672"
   },
   "outputs": [
    {
     "name": "stdout",
     "output_type": "stream",
     "text": [
      "{Bpref: 0.15551071928252214, Bpref(rel=2): 0.19547240945651512, P(rel=2)@5: 0.41111111111111115, AP: 0.13939490948142366, Judged@10: 0.9296296296296297, nDCG@10: 0.47375959817250374, P@5: 0.6148148148148148, AP(rel=2): 0.1734506288389633}\n"
     ]
    }
   ],
   "source": [
    "bm25_results = ir_measures.calc_aggregate(measures, qrels, bm25_run)\n",
    "tfidf_results = ir_measures.calc_aggregate(measures, qrels, tfidf_run)"
   ]
  },
  {
   "cell_type": "code",
   "execution_count": null,
   "metadata": {},
   "outputs": [],
   "source": [
    "import pandas as pd\n",
    "\n",
    "# Create DataFrame for comparison\n",
    "df = pd.DataFrame({\n",
    "    \"BM25\": bm25_results,\n",
    "    \"TF-IDF\": tfidf_results\n",
    "})\n",
    "\n",
    "print(df)"
   ]
  }
 ],
 "metadata": {
  "colab": {
   "provenance": []
  },
  "kernelspec": {
   "display_name": "mircv_env",
   "language": "python",
   "name": "python3"
  },
  "language_info": {
   "codemirror_mode": {
    "name": "ipython",
    "version": 3
   },
   "file_extension": ".py",
   "mimetype": "text/x-python",
   "name": "python",
   "nbconvert_exporter": "python",
   "pygments_lexer": "ipython3",
   "version": "3.12.2"
  }
 },
 "nbformat": 4,
 "nbformat_minor": 0
}
